{
  "cells": [
    {
      "cell_type": "markdown",
      "metadata": {
        "id": "386jgs8vEg4y"
      },
      "source": [
        "# Description\n",
        "\n",
        "## This aim of this notbook to show and compare Contextual Retrieval implementation of RAG vs. simple/traditional implemintation\n",
        "### Steps:\n",
        "- Chucking\n",
        "- Summarization\n",
        "- BM25 embedding\n",
        "- BM25 model saving to file\n",
        "- Model embedding\n",
        "- Storage of dense and sparse vectors\n",
        "- Retrieval of sparse and dense vectors\n",
        "- Fusion of Ranking\n",
        "- Simple Retrieval\n"
      ]
    },
    {
      "cell_type": "code",
      "execution_count": null,
      "metadata": {
        "id": "i0rQp-2yE9tj"
      },
      "outputs": [],
      "source": [
        "# !pip install sentence_transformers -qU\n",
        "!pip install rank_bm25 -qU\n",
        "!pip install datasets -qU\n",
        "# !pip install -U FlagEmbedding\n",
        "# !pip install pinecone-plugin-inference -qU\n",
        "!pip install pinecone[grpc] -qU\n",
        "# !pip install pinecone-client  -qU\n",
        "!pip install langchain -qU\n",
        "!pip install langchain_core -qU\n",
        "!pip install langchain_groq -qU\n",
        "!pip install langchain-google-genai -qU\n",
        "!pip install langchain-openai -qU\n",
        "!pip install rouge-score  -qU\n"
      ]
    },
    {
      "cell_type": "code",
      "execution_count": null,
      "metadata": {
        "id": "kLvPphUjI1yb"
      },
      "outputs": [],
      "source": []
    },
    {
      "cell_type": "markdown",
      "metadata": {
        "id": "w7pHvMtoEg41"
      },
      "source": [
        "# Importing libraries"
      ]
    },
    {
      "cell_type": "code",
      "execution_count": null,
      "metadata": {
        "id": "oTin1IoFEg42"
      },
      "outputs": [],
      "source": [
        "import numpy as np\n",
        "import nltk\n",
        "from sklearn.feature_extraction.text import TfidfVectorizer\n",
        "from sentence_transformers import SentenceTransformer\n",
        "from rank_bm25 import BM25Okapi\n",
        "from sklearn.metrics.pairwise import cosine_similarity\n",
        "from nltk.translate.bleu_score import sentence_bleu\n",
        "# from rouge import Rouge\n",
        "from datasets import load_dataset\n",
        "from langchain.docstore.document import Document\n",
        "from langchain.text_splitter import RecursiveCharacterTextSplitter\n",
        "import pinecone\n",
        "import pandas as pd # for dataframe\n",
        "import getpass\n",
        "from google.colab import userdata\n",
        "import os"
      ]
    },
    {
      "cell_type": "code",
      "execution_count": null,
      "metadata": {
        "id": "6Bv35qGcEg43"
      },
      "outputs": [],
      "source": []
    },
    {
      "cell_type": "code",
      "execution_count": null,
      "metadata": {
        "colab": {
          "base_uri": "https://localhost:8080/"
        },
        "id": "RWVfN2cBE6rT",
        "outputId": "f94c21ac-e024-47a4-8b1d-b205c02685d8"
      },
      "outputs": [
        {
          "name": "stderr",
          "output_type": "stream",
          "text": [
            "[nltk_data] Downloading package punkt_tab to /root/nltk_data...\n",
            "[nltk_data]   Package punkt_tab is already up-to-date!\n"
          ]
        },
        {
          "data": {
            "text/plain": [
              "True"
            ]
          },
          "execution_count": 5,
          "metadata": {},
          "output_type": "execute_result"
        }
      ],
      "source": [
        "# nltk.download('punkt')\n",
        "nltk.download('punkt_tab')"
      ]
    },
    {
      "cell_type": "markdown",
      "metadata": {
        "id": "Vw1FTzkTEg44"
      },
      "source": [
        "# Loading dataset"
      ]
    },
    {
      "cell_type": "code",
      "execution_count": null,
      "metadata": {
        "colab": {
          "base_uri": "https://localhost:8080/"
        },
        "id": "plaURsn2eFlM",
        "outputId": "6800ec8c-7c0f-4834-f9ca-41ff9471dea7"
      },
      "outputs": [
        {
          "name": "stderr",
          "output_type": "stream",
          "text": [
            "/usr/local/lib/python3.10/dist-packages/huggingface_hub/utils/_auth.py:94: UserWarning: \n",
            "The secret `HF_TOKEN` does not exist in your Colab secrets.\n",
            "To authenticate with the Hugging Face Hub, create a token in your settings tab (https://huggingface.co/settings/tokens), set it as secret in your Google Colab and restart your session.\n",
            "You will be able to reuse this secret in all of your notebooks.\n",
            "Please note that authentication is recommended but still optional to access public models or datasets.\n",
            "  warnings.warn(\n"
          ]
        }
      ],
      "source": [
        "# Step 1: Load and Chunk the Knowledge Base\n",
        "# Load dataset from Hugging Face\n",
        "\n",
        "dataset = load_dataset(\"m-ric/huggingface_doc_qa_eval\")"
      ]
    },
    {
      "cell_type": "code",
      "execution_count": null,
      "metadata": {
        "colab": {
          "base_uri": "https://localhost:8080/"
        },
        "id": "kbXt0DzrEg44",
        "outputId": "2176cd04-9784-4e4e-c889-0fb5fd652aff"
      },
      "outputs": [
        {
          "name": "stdout",
          "output_type": "stream",
          "text": [
            "                                             context  \\\n",
            "0   `tokenizers-linux-x64-musl`\\n\\nThis is the **...   \n",
            "1  !--Copyright 2023 The HuggingFace Team. All ri...   \n",
            "2   Paper Pages\\n\\nPaper pages allow people to fi...   \n",
            "3   Datasets server API\\n\\n> API on 🤗 datasets\\n\\...   \n",
            "4  !--Copyright 2022 The HuggingFace Team. All ri...   \n",
            "\n",
            "                                            question  \\\n",
            "0  What architecture is the `tokenizers-linux-x64...   \n",
            "1  What is the purpose of the BLIP-Diffusion mode...   \n",
            "2  How can a user claim authorship of a paper on ...   \n",
            "3  What is the purpose of the /healthcheck endpoi...   \n",
            "4  What is the default context window size for Lo...   \n",
            "\n",
            "                                              answer  \\\n",
            "0                          x86_64-unknown-linux-musl   \n",
            "1  The BLIP-Diffusion model is designed for contr...   \n",
            "2  By clicking their name on the corresponding Pa...   \n",
            "3                          Ensure the app is running   \n",
            "4                                         127 tokens   \n",
            "\n",
            "                                          source_doc  standalone_score  \\\n",
            "0  huggingface/tokenizers/blob/main/bindings/node...                 5   \n",
            "1  huggingface/diffusers/blob/main/docs/source/en...                 5   \n",
            "2  huggingface/hub-docs/blob/main/docs/hub/paper-...                 5   \n",
            "3  huggingface/datasets-server/blob/main/services...                 5   \n",
            "4  huggingface/transformers/blob/main/docs/source...                 5   \n",
            "\n",
            "                                     standalone_eval  relatedness_score  \\\n",
            "0  The question is asking about the specific arch...                  5   \n",
            "1  The question is asking for the purpose of a sp...                  5   \n",
            "2  The question is clear and does not depend on a...                  5   \n",
            "3  The question is asking for the purpose of a sp...                  5   \n",
            "4  The question is asking for a specific paramete...                  5   \n",
            "\n",
            "                                    relatedness_eval  relevance_score  \\\n",
            "0  The context directly specifies the architectur...                3   \n",
            "1  The context provides a detailed description of...                3   \n",
            "2  The context provides a clear explanation of ho...                3   \n",
            "3  The context directly states the purpose of the...                4   \n",
            "4  The context provides a specific detail about t...                3   \n",
            "\n",
            "                                      relevance_eval  \n",
            "0  The question is asking for specific technical ...  \n",
            "1  The question asks about the purpose of the BLI...  \n",
            "2  The question is specific to the Hugging Face H...  \n",
            "3  The question is specific and technical, asking...  \n",
            "4  This question is specific and technical, askin...  \n"
          ]
        }
      ],
      "source": [
        "df = pd.DataFrame(dataset['train'])\n",
        "print(df.head())"
      ]
    },
    {
      "cell_type": "markdown",
      "metadata": {
        "id": "DYMDunUnRZVF"
      },
      "source": [
        "Taking only best question/answer pairs"
      ]
    },
    {
      "cell_type": "code",
      "execution_count": null,
      "metadata": {
        "colab": {
          "base_uri": "https://localhost:8080/"
        },
        "id": "tjRiBI5tEg45",
        "outputId": "de4b4e6e-5ea8-4dcd-ab5f-aea0a7503d58"
      },
      "outputs": [
        {
          "name": "stdout",
          "output_type": "stream",
          "text": [
            "                                             context  \\\n",
            "0   `tokenizers-linux-x64-musl`\\n\\nThis is the **...   \n",
            "1  !--Copyright 2023 The HuggingFace Team. All ri...   \n",
            "2   Paper Pages\\n\\nPaper pages allow people to fi...   \n",
            "3   Datasets server API\\n\\n> API on 🤗 datasets\\n\\...   \n",
            "4  !--Copyright 2022 The HuggingFace Team. All ri...   \n",
            "\n",
            "                                            question  \\\n",
            "0  What architecture is the `tokenizers-linux-x64...   \n",
            "1  What is the purpose of the BLIP-Diffusion mode...   \n",
            "2  How can a user claim authorship of a paper on ...   \n",
            "3  What is the purpose of the /healthcheck endpoi...   \n",
            "4  What is the default context window size for Lo...   \n",
            "\n",
            "                                              answer  \\\n",
            "0                          x86_64-unknown-linux-musl   \n",
            "1  The BLIP-Diffusion model is designed for contr...   \n",
            "2  By clicking their name on the corresponding Pa...   \n",
            "3                          Ensure the app is running   \n",
            "4                                         127 tokens   \n",
            "\n",
            "                                          source_doc  standalone_score  \\\n",
            "0  huggingface/tokenizers/blob/main/bindings/node...                 5   \n",
            "1  huggingface/diffusers/blob/main/docs/source/en...                 5   \n",
            "2  huggingface/hub-docs/blob/main/docs/hub/paper-...                 5   \n",
            "3  huggingface/datasets-server/blob/main/services...                 5   \n",
            "4  huggingface/transformers/blob/main/docs/source...                 5   \n",
            "\n",
            "                                     standalone_eval  relatedness_score  \\\n",
            "0  The question is asking about the specific arch...                  5   \n",
            "1  The question is asking for the purpose of a sp...                  5   \n",
            "2  The question is clear and does not depend on a...                  5   \n",
            "3  The question is asking for the purpose of a sp...                  5   \n",
            "4  The question is asking for a specific paramete...                  5   \n",
            "\n",
            "                                    relatedness_eval  relevance_score  \\\n",
            "0  The context directly specifies the architectur...                3   \n",
            "1  The context provides a detailed description of...                3   \n",
            "2  The context provides a clear explanation of ho...                3   \n",
            "3  The context directly states the purpose of the...                4   \n",
            "4  The context provides a specific detail about t...                3   \n",
            "\n",
            "                                      relevance_eval  \n",
            "0  The question is asking for specific technical ...  \n",
            "1  The question asks about the purpose of the BLI...  \n",
            "2  The question is specific to the Hugging Face H...  \n",
            "3  The question is specific and technical, asking...  \n",
            "4  This question is specific and technical, askin...  \n"
          ]
        }
      ],
      "source": [
        "best_answers_df = df[df['standalone_score'] >= 4]\n",
        "print(best_answers_df.head())"
      ]
    },
    {
      "cell_type": "code",
      "execution_count": null,
      "metadata": {
        "colab": {
          "base_uri": "https://localhost:8080/"
        },
        "id": "ZsJFVK-WEg45",
        "outputId": "338b54fa-2a2f-470f-9554-b65736a859b5"
      },
      "outputs": [
        {
          "name": "stdout",
          "output_type": "stream",
          "text": [
            "<class 'pandas.core.frame.DataFrame'>\n",
            "RangeIndex: 65 entries, 0 to 64\n",
            "Data columns (total 10 columns):\n",
            " #   Column             Non-Null Count  Dtype \n",
            "---  ------             --------------  ----- \n",
            " 0   context            65 non-null     object\n",
            " 1   question           65 non-null     object\n",
            " 2   answer             65 non-null     object\n",
            " 3   source_doc         65 non-null     object\n",
            " 4   standalone_score   65 non-null     int64 \n",
            " 5   standalone_eval    65 non-null     object\n",
            " 6   relatedness_score  65 non-null     int64 \n",
            " 7   relatedness_eval   65 non-null     object\n",
            " 8   relevance_score    65 non-null     int64 \n",
            " 9   relevance_eval     65 non-null     object\n",
            "dtypes: int64(3), object(7)\n",
            "memory usage: 5.2+ KB\n"
          ]
        }
      ],
      "source": [
        "best_answers_df.info()"
      ]
    },
    {
      "cell_type": "markdown",
      "metadata": {
        "id": "6AU0Loz2Eg45"
      },
      "source": [
        "# Extract contexts from the dataset and create Langchain documents"
      ]
    },
    {
      "cell_type": "code",
      "execution_count": null,
      "metadata": {
        "id": "83Szf9dyEg46"
      },
      "outputs": [],
      "source": [
        "# Extract contexts from the dataset and create Langchain documents\n",
        "# documents = [Document(page_content=context) for context in best_answers_df['context']]  # Assuming we're using the 'train' split\n",
        "# print(documents)\n",
        "\n",
        "texts = best_answers_df['context'].tolist()"
      ]
    },
    {
      "cell_type": "markdown",
      "metadata": {
        "id": "rZIDZI_PBYRV"
      },
      "source": [
        "# **Setting up Embedding model**"
      ]
    },
    {
      "cell_type": "markdown",
      "metadata": {
        "id": "IMTkBRPrB2ce"
      },
      "source": [
        "## **sentence-transformers**"
      ]
    },
    {
      "cell_type": "code",
      "execution_count": null,
      "metadata": {
        "colab": {
          "base_uri": "https://localhost:8080/",
          "height": 49,
          "referenced_widgets": [
            "7610eb823dcb447b83c1f07d4e922c9b",
            "95ea3550d20f45b7a2402f59fd581e34",
            "ee9778ad21a14bfa92223cb6de4741b5",
            "b81a5e87e001431a926539b99bfab218",
            "df87fa25688b4ad0b72118ce661eac05",
            "76a99c20f17841fab64199faa2002154",
            "bb4c39c9a41c496498865e7f68924b77",
            "fee0a3d7436d4e7190213edbdb9c897f",
            "ed39c1c722d64fec8d89adadc72f6567",
            "50fd9a4eea954b5d9c75ed91ad4a89d6",
            "70584dbd70df495cb79be133338b14ba"
          ]
        },
        "id": "yK1mnOMPEg46",
        "outputId": "a3ebdcee-46e3-44e6-8ce2-7fc54fd065f1"
      },
      "outputs": [
        {
          "data": {
            "application/vnd.jupyter.widget-view+json": {
              "model_id": "7610eb823dcb447b83c1f07d4e922c9b",
              "version_major": 2,
              "version_minor": 0
            },
            "text/plain": [
              "model.safetensors:   0%|          | 0.00/90.9M [00:00<?, ?B/s]"
            ]
          },
          "metadata": {},
          "output_type": "display_data"
        }
      ],
      "source": [
        "# # load ' sentence-transformers/all-MiniLM-L6-v2' embedding model from Hugging Face\n",
        "# from transformers import AutoTokenizer, AutoModel\n",
        "# model_name = 'sentence-transformers/all-MiniLM-L6-v2'\n",
        "# tokenizer = AutoTokenizer.from_pretrained(model_name)\n",
        "# max_seq_length = tokenizer.model_max_length\n",
        "# embedding_model = AutoModel.from_pretrained(model_name)"
      ]
    },
    {
      "cell_type": "markdown",
      "metadata": {
        "id": "k0aFEsYBYWT3"
      },
      "source": [
        "## **openai**"
      ]
    },
    {
      "cell_type": "code",
      "execution_count": null,
      "metadata": {
        "id": "ICKWl98grnHR"
      },
      "outputs": [],
      "source": [
        "openai_api_key = userdata.get(\"OPENAI_API_KEY\")\n",
        "if not openai_api_key:\n",
        "  openai_api_key = getpass(\"Please enter your OPENAI API KEY: \")\n",
        "\n",
        "os.environ[\"OPENAI_API_KEY\"] = openai_api_key"
      ]
    },
    {
      "cell_type": "code",
      "execution_count": null,
      "metadata": {
        "colab": {
          "base_uri": "https://localhost:8080/"
        },
        "id": "5HWee4hGYWBS",
        "outputId": "6af70e2b-4f0b-4cac-b285-98b2a0e43b95"
      },
      "outputs": [
        {
          "name": "stdout",
          "output_type": "stream",
          "text": [
            "max_seq_length:8191, index_dimensions:1536\n"
          ]
        }
      ],
      "source": [
        "from langchain_openai import OpenAIEmbeddings\n",
        "\n",
        "embedding_model = OpenAIEmbeddings(model=\"text-embedding-3-small\")\n",
        "\n",
        "max_seq_length = embedding_model.embedding_ctx_length\n",
        "# index_dimensions = embedding_model.dimensions\n",
        "index_dimensions = 1536 # default setting of text-embedding-3-small\n",
        "print(f'max_seq_length:{max_seq_length}, index_dimensions:{index_dimensions}')"
      ]
    },
    {
      "cell_type": "markdown",
      "metadata": {
        "id": "5DsTq5PfB65i"
      },
      "source": [
        "## **Google**"
      ]
    },
    {
      "cell_type": "code",
      "execution_count": null,
      "metadata": {
        "id": "RSyMWq7SByOX"
      },
      "outputs": [],
      "source": [
        "# from langchain_google_genai import GoogleGenerativeAIEmbeddings\n",
        "\n",
        "# MODEL_GEMINI_EMBED = \"text-embedding-004\"\n",
        "# embedding_model = GoogleGenerativeAIEmbeddings(model=MODEL_GEMINI_EMBED)\n"
      ]
    },
    {
      "cell_type": "code",
      "execution_count": null,
      "metadata": {
        "id": "VmnVzxrxXFLF"
      },
      "outputs": [],
      "source": [
        "# print(f'max_seq_length:{max_seq_length}, index_dimensions:{index_dimensions}')"
      ]
    },
    {
      "cell_type": "markdown",
      "metadata": {
        "id": "GPrfhPe5Eg46"
      },
      "source": [
        "# Defining text splitter"
      ]
    },
    {
      "cell_type": "markdown",
      "metadata": {
        "id": "4qoOMzEgntW1"
      },
      "source": [
        "###openai"
      ]
    },
    {
      "cell_type": "code",
      "execution_count": null,
      "metadata": {
        "colab": {
          "base_uri": "https://localhost:8080/"
        },
        "id": "FwvXDlyQinuA",
        "outputId": "e45a4c5c-ac48-48ca-a324-abb196268937"
      },
      "outputs": [
        {
          "name": "stdout",
          "output_type": "stream",
          "text": [
            "chunk_size 800\n"
          ]
        }
      ],
      "source": [
        "MARKDOWN_SEPARATORS = [\n",
        "    \"\\n#{1,6} \",\n",
        "    \"```\\n\",\n",
        "    \"\\n\\\\*\\\\*\\\\*+\\n\",\n",
        "    \"\\n---+\\n\",\n",
        "    \"\\n___+\\n\",\n",
        "    \"\\n\\n\",\n",
        "    \"\\n\",\n",
        "    \" \",\n",
        "    \"\",\n",
        "]\n",
        "# Use RecursiveCharacterTextSplitter to split documents into chunks\n",
        "chunk_overlap = 200\n",
        "chunk_size = 1000 - chunk_overlap\n",
        "print('chunk_size',chunk_size)\n",
        "text_splitter = RecursiveCharacterTextSplitter(\n",
        "    chunk_size=chunk_size,\n",
        "    chunk_overlap=chunk_overlap,\n",
        "    separators=MARKDOWN_SEPARATORS,\n",
        ")"
      ]
    },
    {
      "cell_type": "markdown",
      "metadata": {
        "id": "-VTES-HCnx5m"
      },
      "source": [
        "####Other"
      ]
    },
    {
      "cell_type": "code",
      "execution_count": null,
      "metadata": {
        "id": "w_Xs4cIPEg46"
      },
      "outputs": [],
      "source": [
        "# def get_seq_length(text: str):\n",
        "#     tokens = tokenizer.encode(text, add_special_tokens=True)\n",
        "#     return len(tokens)\n"
      ]
    },
    {
      "cell_type": "code",
      "execution_count": null,
      "metadata": {
        "colab": {
          "base_uri": "https://localhost:8080/"
        },
        "id": "9B3qr_EKEg47",
        "outputId": "792c2df8-2c88-414d-f3c3-a50a053693da"
      },
      "outputs": [
        {
          "name": "stdout",
          "output_type": "stream",
          "text": [
            "chunk_size 462\n"
          ]
        }
      ],
      "source": [
        "# MARKDOWN_SEPARATORS = [\n",
        "#     \"\\n#{1,6} \",\n",
        "#     \"```\\n\",\n",
        "#     \"\\n\\\\*\\\\*\\\\*+\\n\",\n",
        "#     \"\\n---+\\n\",\n",
        "#     \"\\n___+\\n\",\n",
        "#     \"\\n\\n\",\n",
        "#     \"\\n\",\n",
        "#     \" \",\n",
        "#     \"\",\n",
        "# ]\n",
        "# # Use RecursiveCharacterTextSplitter to split documents into chunks\n",
        "# chunk_overlap = 50\n",
        "# chunk_size = max_seq_length - chunk_overlap\n",
        "# print('chunk_size',chunk_size)\n",
        "# text_splitter = RecursiveCharacterTextSplitter(\n",
        "#     chunk_size=chunk_size,\n",
        "#     chunk_overlap=chunk_overlap,\n",
        "#     length_function=get_seq_length,\n",
        "#     add_start_index=True,\n",
        "#     separators=MARKDOWN_SEPARATORS,\n",
        "# )"
      ]
    },
    {
      "cell_type": "markdown",
      "metadata": {
        "id": "tWieWvZNSpZM"
      },
      "source": [
        "# **Definining ProcessedDocument & Chunk**"
      ]
    },
    {
      "cell_type": "code",
      "execution_count": null,
      "metadata": {
        "id": "flfZ4zNyEg47"
      },
      "outputs": [],
      "source": [
        "class Chunk:\n",
        "    def __init__(self, text: str):\n",
        "        self.text = text\n",
        "        self.context = None\n",
        "\n",
        "class ProcessedDocument:\n",
        "    def __init__(self, text: str, chunks: list[Chunk]):\n",
        "        self.text = text\n",
        "        self.chunks = chunks\n"
      ]
    },
    {
      "cell_type": "code",
      "execution_count": null,
      "metadata": {
        "colab": {
          "base_uri": "https://localhost:8080/"
        },
        "id": "8x5T6XzSEg47",
        "outputId": "2c2d1e79-11aa-42ac-c4ab-7cbc5c6fef5d"
      },
      "outputs": [
        {
          "name": "stdout",
          "output_type": "stream",
          "text": [
            "Number of chunks for document #0: 1\n",
            "Number of chunks for document #1: 6\n",
            "Number of chunks for document #2: 5\n",
            "Number of chunks for document #3: 2\n",
            "Number of chunks for document #4: 12\n",
            "Number of chunks for document #5: 5\n",
            "Number of chunks for document #6: 29\n",
            "Number of chunks for document #7: 2\n",
            "Number of chunks for document #8: 40\n",
            "Number of chunks for document #9: 26\n",
            "Number of chunks for document #10: 5\n",
            "Number of chunks for document #11: 3\n",
            "Number of chunks for document #12: 16\n",
            "Number of chunks for document #13: 3\n",
            "Number of chunks for document #14: 7\n",
            "Number of chunks for document #15: 1\n",
            "Number of chunks for document #16: 22\n",
            "Number of chunks for document #17: 2\n",
            "Number of chunks for document #18: 20\n",
            "Number of chunks for document #19: 27\n",
            "Number of chunks for document #20: 24\n",
            "Number of chunks for document #21: 20\n",
            "Number of chunks for document #22: 40\n",
            "Number of chunks for document #23: 16\n",
            "Number of chunks for document #24: 1\n",
            "Number of chunks for document #25: 2\n",
            "Number of chunks for document #26: 12\n",
            "Number of chunks for document #27: 19\n",
            "Number of chunks for document #28: 5\n",
            "Number of chunks for document #29: 14\n",
            "Number of chunks for document #30: 2\n",
            "Number of chunks for document #31: 2\n",
            "Number of chunks for document #32: 8\n",
            "Number of chunks for document #33: 23\n",
            "Number of chunks for document #34: 5\n",
            "Number of chunks for document #35: 14\n",
            "Number of chunks for document #36: 7\n",
            "Number of chunks for document #37: 30\n",
            "Number of chunks for document #38: 3\n",
            "Number of chunks for document #39: 10\n",
            "Number of chunks for document #40: 1\n",
            "Number of chunks for document #41: 7\n",
            "Number of chunks for document #42: 12\n",
            "Number of chunks for document #43: 22\n",
            "Number of chunks for document #44: 28\n",
            "Number of chunks for document #45: 10\n",
            "Number of chunks for document #46: 11\n",
            "Number of chunks for document #47: 16\n",
            "Number of chunks for document #48: 2\n",
            "Number of chunks for document #49: 57\n",
            "Number of chunks for document #50: 12\n",
            "Number of chunks for document #51: 7\n",
            "Number of chunks for document #52: 50\n",
            "Number of chunks for document #53: 7\n",
            "Number of chunks for document #54: 24\n",
            "Number of chunks for document #55: 31\n",
            "Number of chunks for document #56: 6\n",
            "Number of chunks for document #57: 6\n",
            "Number of chunks for document #58: 3\n",
            "Number of chunks for document #59: 9\n",
            "Number of chunks for document #60: 11\n",
            "Number of chunks for document #61: 23\n",
            "Number of chunks for document #62: 24\n",
            "Number of chunks for document #63: 6\n",
            "Number of chunks for document #64: 6\n",
            "Number of Processed document: 65\n"
          ]
        }
      ],
      "source": [
        "docs_processed: list[ProcessedDocument] = []\n",
        "for text in texts:\n",
        "    # text = doc.page_content  # Extract the text content from the Document\n",
        "    chunks = text_splitter.split_text(text)  # Split the text into chunks (strings)\n",
        "    print(f\"Number of chunks for document #{len(docs_processed)}: {len(chunks)}\")\n",
        "    processed_doc = ProcessedDocument(\n",
        "        text,\n",
        "        [Chunk(chunk_text) for chunk_text in chunks]\n",
        "    )\n",
        "    docs_processed.append(processed_doc)\n",
        "print(f\"Number of Processed document: {len(docs_processed)}\")"
      ]
    },
    {
      "cell_type": "code",
      "execution_count": null,
      "metadata": {
        "id": "uGPIkqc2hJGn"
      },
      "outputs": [],
      "source": [
        "# for doc in docs_processed:\n",
        "#     for chunk in doc.chunks:\n",
        "#         try:\n",
        "#           chunk_length = get_seq_length(chunk.text)\n",
        "#           if chunk_length > max_seq_length:\n",
        "#               print(f\"Chunk exceeds max length: {chunk_length} tokens\")\n",
        "#         except Exception as e:\n",
        "#           print(f\"Error processing chunk: {e}\")\n",
        "#           print(\"===========================\")\n",
        "#           print(f\"Chunk: {chunk.text}\")\n",
        "\n"
      ]
    },
    {
      "cell_type": "code",
      "execution_count": null,
      "metadata": {
        "colab": {
          "base_uri": "https://localhost:8080/"
        },
        "id": "TqD1CrhoEg47",
        "outputId": "3d561f57-348c-4638-ee0a-aee0919fa8e5"
      },
      "outputs": [
        {
          "name": "stdout",
          "output_type": "stream",
          "text": [
            "Total number of chunks across all documents: 882\n"
          ]
        }
      ],
      "source": [
        "# Count total chunks\n",
        "total_chunks = sum(len(doc.chunks) for doc in docs_processed)\n",
        "print(f\"Total number of chunks across all documents: {total_chunks}\")"
      ]
    },
    {
      "cell_type": "markdown",
      "metadata": {
        "id": "1xbm1paDEg47"
      },
      "source": [
        "# **Define summary chain**"
      ]
    },
    {
      "cell_type": "code",
      "execution_count": null,
      "metadata": {
        "id": "luOsyyoyEg47"
      },
      "outputs": [],
      "source": [
        "from langchain.prompts import PromptTemplate\n",
        "from google.colab import userdata"
      ]
    },
    {
      "cell_type": "markdown",
      "metadata": {
        "id": "w3GPArSFTk-t"
      },
      "source": [
        "### **OPENAI**"
      ]
    },
    {
      "cell_type": "code",
      "execution_count": null,
      "metadata": {
        "id": "6tG8KcGJfTn-"
      },
      "outputs": [],
      "source": [
        "from langchain_openai import ChatOpenAI\n",
        "\n",
        "\n",
        "model_chat_name = \"gpt-3.5-turbo\"\n",
        "llm = ChatOpenAI(model=model_chat_name)\n",
        "sum_provider = 'OPENAI'"
      ]
    },
    {
      "cell_type": "code",
      "execution_count": null,
      "metadata": {
        "id": "ZZMKgGuo6-Xj"
      },
      "outputs": [],
      "source": [
        "from langchain_core.prompts import ChatPromptTemplate\n",
        "\n",
        "prompt_template = ChatPromptTemplate.from_messages([\n",
        "    (\"system\",\n",
        "            \"\"\"You are an AI assistant specializing in document summarization and contextualization. Your task is to provide brief, relevant context for a specific chunk of text based on a larger document. Here's how to proceed:\n",
        "\n",
        "First, carefully read and analyze the following document:\n",
        "\n",
        "<document>\n",
        "{document}\n",
        "</document>\n",
        "\n",
        "Now, consider this specific chunk of text from the document:\n",
        "\n",
        "<chunk>\n",
        "{chunk}\n",
        "</chunk>\n",
        "\n",
        "Your goal is to provide a concise context for this chunk, situating it within the whole document. Follow these guidelines:\n",
        "\n",
        "1. Analyze how the chunk relates to the overall document's themes, arguments, or narrative.\n",
        "2. Identify the chunk's role or significance within the broader context of the document.\n",
        "3. Determine what information from the rest of the document is most relevant to understanding this chunk.\n",
        "\n",
        "Compose your response as follows:\n",
        "- Provide 3-4 sentences maximum of context.\n",
        "- Begin directly with the context, without any introductory phrases.\n",
        "- Use language like \"Focuses on...\" or \"Addresses...\" to describe the chunk's content.\n",
        "- Ensure the context would be helpful for improving search retrieval of the chunk.\n",
        "\n",
        "Important notes:\n",
        "- Do not use phrases like \"this chunk\" or \"this section\" in your response.\n",
        "- Do not repeat the chunk's content verbatim; provide context from the rest of the document.\n",
        "- Avoid unnecessary details; be succinct and relevant.\n",
        "- Do not include any additional commentary or meta-discussion about the task itself.\n",
        "\n",
        " Remember, your goal is to provide clear, concise, and relevant context that situates the given chunk within the larger document.\n",
        "            \"\"\"\n",
        "\n",
        "     )\n",
        "])\n"
      ]
    },
    {
      "cell_type": "code",
      "execution_count": null,
      "metadata": {
        "id": "jYWgK3T5sumI"
      },
      "outputs": [],
      "source": [
        "def create_context_chain(llm):\n",
        "    return prompt_template | llm\n",
        "\n",
        "context_chain = create_context_chain(llm)"
      ]
    },
    {
      "cell_type": "code",
      "execution_count": null,
      "metadata": {
        "id": "8nNSuI3vtJjY"
      },
      "outputs": [],
      "source": [
        "def get_context(text: str, chunk: str) -> str:\n",
        "    if len(chunk.strip()) <= 0 or len(text.strip()) <= 0:\n",
        "        print(f\"Chunk or text is empty\")\n",
        "        raise Exception(\"Chunk or text is empty\")\n",
        "    context= context_chain.invoke({\"document\": text, \"chunk\": chunk})\n",
        "    return context.content"
      ]
    },
    {
      "cell_type": "code",
      "execution_count": null,
      "metadata": {
        "id": "NVzI3sOHty8p"
      },
      "outputs": [],
      "source": [
        "def generate_context(docs_processed: list[ProcessedDocument]):\n",
        "    for i, doc in enumerate(docs_processed):\n",
        "        print(f'processing document index {i}')\n",
        "        for chunk in doc.chunks:\n",
        "            # print(chunk.text)\n",
        "            context: str = get_context(text= doc.text, chunk= chunk.text)\n",
        "            chunk.context = context\n",
        "            # print(f\"chunk with context: Context: \\n\\n {chunk.context} \\n\\n Chunk: {chunk.text}\")"
      ]
    },
    {
      "cell_type": "markdown",
      "metadata": {
        "id": "3Zu6dnWfiejY"
      },
      "source": [
        "# **Testing chain**"
      ]
    },
    {
      "cell_type": "code",
      "execution_count": null,
      "metadata": {
        "id": "WYcumeIViZVI"
      },
      "outputs": [],
      "source": [
        "page = \"\"\"\n",
        " Convert weights to safetensors\n",
        "\n",
        "PyTorch model weights are commonly saved and stored as `.bin` files with Python's [`pickle`](https://docs.python.org/3/library/pickle.html) utility. To save and store your model weights in the more secure `safetensor` format, we recommend converting your weights to `.safetensors`.\n",
        "The easiest way to convert your model weights is to use the [Convert Space](https://huggingface.co/spaces/diffusers/convert), given your model weights are already stored on the Hub. The Convert Space downloads the pickled weights, converts them, and opens a Pull Request to upload the newly converted `.safetensors` file to your repository.\n",
        "<Tip warning={true}>\n",
        "For larger models, the Space may be a bit slower because its resources are tied up in converting other models. You can also try running the [convert.py](https://github.com/huggingface/safetensors/blob/main/bindings/python/convert.py) script (this is what the Space is running) locally to convert your weights.\n",
        "Feel free to ping [@Narsil](https://huggingface.co/Narsil) for any issues with the Space.\n",
        "</Tip>\n",
        "\"\"\"\n",
        "chunk = \"\"\"\n",
        "Convert weights to safetensors\n",
        "PyTorch model weights are commonly saved and stored as `.bin` files with Python's [`pickle`](https://docs.python.org/3/library/pickle.html) utility. To save and store your model weights in the more secure `safetensor` format, we recommend converting your weights to `.safetensors`.\n",
        "The easiest way to convert your model weights is to use the [Convert Space](https://huggingface.co/spaces/diffusers/convert), given your model weights are already stored on the Hub. The Convert Space downloads the pickled weights, converts them, and opens a Pull Request to upload the newly converted `.safetensors` file to your repository.\n",
        "<Tip warning={true}>\n",
        "For larger models, the Space may be a bit slower because its resources are tied up in converting other models. You can also try running the [convert.py](https://github.com/huggingface/safetensors/blob/main/bindings/python/convert.py) script (this is what the Space is running) locally to convert your weights.\n",
        "Feel free to ping [@Narsil](https://huggingface.co/Narsil) for any issues with the Space.\n",
        "</Tip>\n",
        "\"\"\""
      ]
    },
    {
      "cell_type": "code",
      "execution_count": null,
      "metadata": {
        "id": "fdfaYjOPiiCg"
      },
      "outputs": [],
      "source": [
        "test_context = get_context(text = page, chunk=chunk)"
      ]
    },
    {
      "cell_type": "code",
      "execution_count": null,
      "metadata": {
        "colab": {
          "base_uri": "https://localhost:8080/"
        },
        "id": "ilSpE3zdj5ni",
        "outputId": "70de0aaf-6dfb-40e0-d468-3532faa03cad"
      },
      "outputs": [
        {
          "name": "stdout",
          "output_type": "stream",
          "text": [
            "The document discusses converting PyTorch model weights saved as `.bin` files with `pickle` to a more secure `safetensor` format by using the Convert Space tool or running a conversion script locally. It emphasizes the importance of converting weights to `.safetensors` for security reasons. Additionally, the document provides a tip about potential delays in using the Convert Space tool due to resource constraints and offers an alternative method for conversion.\n"
          ]
        }
      ],
      "source": [
        "print(test_context)"
      ]
    },
    {
      "cell_type": "code",
      "execution_count": null,
      "metadata": {
        "colab": {
          "base_uri": "https://localhost:8080/"
        },
        "id": "Gp70kmKdwWae",
        "outputId": "f6584a79-5e82-43fe-9efe-3481ae69cdad"
      },
      "outputs": [
        {
          "name": "stdout",
          "output_type": "stream",
          "text": [
            "processing document index 0\n",
            "processing document index 1\n",
            "processing document index 2\n",
            "processing document index 3\n",
            "processing document index 4\n",
            "processing document index 5\n",
            "processing document index 6\n",
            "processing document index 7\n",
            "processing document index 8\n",
            "processing document index 9\n",
            "processing document index 10\n",
            "processing document index 11\n",
            "processing document index 12\n",
            "processing document index 13\n",
            "processing document index 14\n",
            "processing document index 15\n",
            "processing document index 16\n",
            "processing document index 17\n",
            "processing document index 18\n",
            "processing document index 19\n",
            "processing document index 20\n",
            "processing document index 21\n",
            "processing document index 22\n",
            "processing document index 23\n",
            "processing document index 24\n",
            "processing document index 25\n",
            "processing document index 26\n",
            "processing document index 27\n",
            "processing document index 28\n",
            "processing document index 29\n",
            "processing document index 30\n",
            "processing document index 31\n",
            "processing document index 32\n",
            "processing document index 33\n",
            "processing document index 34\n",
            "processing document index 35\n",
            "processing document index 36\n",
            "processing document index 37\n",
            "processing document index 38\n",
            "processing document index 39\n",
            "processing document index 40\n",
            "processing document index 41\n",
            "processing document index 42\n",
            "processing document index 43\n",
            "processing document index 44\n",
            "processing document index 45\n",
            "processing document index 46\n",
            "processing document index 47\n",
            "processing document index 48\n",
            "processing document index 49\n",
            "processing document index 50\n",
            "processing document index 51\n",
            "processing document index 52\n",
            "processing document index 53\n",
            "processing document index 54\n",
            "processing document index 55\n",
            "processing document index 56\n",
            "processing document index 57\n",
            "processing document index 58\n",
            "processing document index 59\n",
            "processing document index 60\n",
            "processing document index 61\n",
            "processing document index 62\n",
            "processing document index 63\n",
            "processing document index 64\n"
          ]
        }
      ],
      "source": [
        "# temp_docs = docs_processed[1:2]\n",
        "# generate_context(temp_docs)\n",
        "generate_context(docs_processed)"
      ]
    },
    {
      "cell_type": "code",
      "execution_count": null,
      "metadata": {
        "colab": {
          "base_uri": "https://localhost:8080/"
        },
        "id": "c3nF5jzIr-1p",
        "outputId": "3fd6b3e8-54cd-4f04-a753-8c1f49d5d430"
      },
      "outputs": [
        {
          "name": "stdout",
          "output_type": "stream",
          "text": [
            "None\n"
          ]
        }
      ],
      "source": [
        "# print(temp_docs[0].chunks[0].context)"
      ]
    },
    {
      "cell_type": "markdown",
      "metadata": {
        "id": "NZPBwmbjThSx"
      },
      "source": [
        "### **GROQ**"
      ]
    },
    {
      "cell_type": "code",
      "execution_count": null,
      "metadata": {
        "id": "uZw6QTXGEg47"
      },
      "outputs": [],
      "source": [
        "# from pydantic import BaseModel, Field\n",
        "# from typing import Optional\n",
        "# class Context(BaseModel):\n",
        "#     context: Optional[str] = Field(description=\"Summary of the chunk in the context of the document\")"
      ]
    },
    {
      "cell_type": "code",
      "execution_count": null,
      "metadata": {
        "id": "-4cmkTG6Eg48"
      },
      "outputs": [],
      "source": [
        "#It hits the limit even thoug lower than daily\n",
        "# from langchain_groq import ChatGroq\n",
        "\n",
        "# # MODEL_GROQ = \"llama-3.1-8b-instant\"\n",
        "# MODEL_GROQ = \"llama-3.2-90b-text-preview\"\n",
        "# groq_api_key = userdata.get(\"GROQ_API_KEY\")\n",
        "# if not groq_api_key:\n",
        "#   groq_api_key = getpass(\"Please enter your GROQ API KEY: \")\n",
        "\n",
        "# llm = ChatGroq(api_key=groq_api_key, model=MODEL_GROQ,\n",
        "#                         temperature=0,\n",
        "#                         max_tokens=None,\n",
        "#                         timeout=None,\n",
        "#                         max_retries=2,)\n",
        "# sum_provider = 'GROQ'"
      ]
    },
    {
      "cell_type": "markdown",
      "metadata": {
        "id": "mQXquYWATr5Z"
      },
      "source": [
        "### **GOOGLE**"
      ]
    },
    {
      "cell_type": "code",
      "execution_count": null,
      "metadata": {
        "id": "MJwYKKvVJhX-"
      },
      "outputs": [],
      "source": [
        "# MODEL_GEMINI_CHAT = \"gemini-1.5-flash\"\n",
        "\n",
        "# gemini_api_key = userdata.get(\"GEMINI_API_KEY\")\n",
        "# if not gemini_api_key:\n",
        "#   gemini_api_key = getpass(\"Please enter your GEMINI API KEY: \")\n",
        "\n",
        "# os.environ[\"GOOGLE_API_KEY\"] = gemini_api_key"
      ]
    },
    {
      "cell_type": "code",
      "execution_count": null,
      "metadata": {
        "id": "cGaEATOoTvaI"
      },
      "outputs": [],
      "source": [
        "# from langchain_google_genai import GoogleGenerativeAI\n",
        "# llm = GoogleGenerativeAI(model=MODEL_GEMINI_CHAT)\n",
        "# sum_provider = 'GOOGLE'"
      ]
    },
    {
      "cell_type": "code",
      "execution_count": null,
      "metadata": {
        "id": "C0ZaOjQlEg48"
      },
      "outputs": [],
      "source": [
        "# prompt_template = PromptTemplate(\n",
        "#     input_variables=[\"document\", \"chunk\"],\n",
        "#     template=\n",
        "#        \"\"\"You are an AI assistant specializing in document summarization and contextualization. Your task is to provide brief, relevant context for a specific chunk of text based on a larger document. Here's how to proceed:\n",
        "\n",
        "# First, carefully read and analyze the following document:\n",
        "\n",
        "# <document>\n",
        "# {{DOCUMENT}}\n",
        "# </document>\n",
        "\n",
        "# Now, consider this specific chunk of text from the document:\n",
        "\n",
        "# <chunk>\n",
        "# {{CHUNK}}\n",
        "# </chunk>\n",
        "\n",
        "# Your goal is to provide a concise context for this chunk, situating it within the whole document. Follow these guidelines:\n",
        "\n",
        "# 1. Analyze how the chunk relates to the overall document's themes, arguments, or narrative.\n",
        "# 2. Identify the chunk's role or significance within the broader context of the document.\n",
        "# 3. Determine what information from the rest of the document is most relevant to understanding this chunk.\n",
        "\n",
        "# Compose your response as follows:\n",
        "# - Provide 3-4 sentences maximum of context.\n",
        "# - Begin directly with the context, without any introductory phrases.\n",
        "# - Use language like \"Focuses on...\" or \"Addresses...\" to describe the chunk's content.\n",
        "# - Ensure the context would be helpful for improving search retrieval of the chunk.\n",
        "\n",
        "# Important notes:\n",
        "# - Do not use phrases like \"this chunk\" or \"this section\" in your response.\n",
        "# - Do not repeat the chunk's content verbatim; provide context from the rest of the document.\n",
        "# - Avoid unnecessary details; be succinct and relevant.\n",
        "# - Do not include any additional commentary or meta-discussion about the task itself.\n",
        "\n",
        "#  Remember, your goal is to provide clear, concise, and relevant context that situates the given chunk within the larger document.)"
      ]
    },
    {
      "cell_type": "code",
      "execution_count": null,
      "metadata": {
        "id": "P3AbgK_z7RM-"
      },
      "outputs": [],
      "source": [
        "# def create_context_chain(llm, structure: bool = True):\n",
        "#     # Configure the LLM to produce structured output\n",
        "#     if structure:\n",
        "#         l_llm = llm.with_structured_output(Context)\n",
        "#     else:\n",
        "#         l_llm = llm\n",
        "#     # Create the chain using the pipe operator\n",
        "#     chain = prompt_template | l_llm\n",
        "#     return chain\n",
        "\n",
        "# context_chain = create_context_chain(llm, structure = False)"
      ]
    },
    {
      "cell_type": "code",
      "execution_count": null,
      "metadata": {
        "colab": {
          "base_uri": "https://localhost:8080/"
        },
        "id": "iHIhi0RWWq0z",
        "outputId": "84d6317e-9d01-4a2f-c311-958cc028b0c1"
      },
      "outputs": [
        {
          "name": "stdout",
          "output_type": "stream",
          "text": [
            "page:\n",
            "  Convert weights to safetensors\n",
            "\n",
            "PyTorch model weights are commonly saved and stored as `.bin` files with Python's [`pickle`](https://docs.python.org/3/library/pickle.html) utility. To save and store your model weights in the more secure `safetensor` format, we recommend converting your weights to `.safetensors`.\n",
            "\n",
            "The easiest way to convert your model weights is to use the [Convert Space](https://huggingface.co/spaces/diffusers/convert), given your model weights are already stored on the Hub. The Convert Space downloads the pickled weights, converts them, and opens a Pull Request to upload the newly converted `.safetensors` file to your repository.\n",
            "\n",
            "<Tip warning={true}>\n",
            "\n",
            "For larger models, the Space may be a bit slower because its resources are tied up in converting other models. You can also try running the [convert.py](https://github.com/huggingface/safetensors/blob/main/bindings/python/convert.py) script (this is what the Space is running) locally to convert your weights.\n",
            "\n",
            "Feel free to ping [@Narsil](https://huggingface.co/Narsil) for any issues with the Space.\n",
            "\n",
            "</Tip>\n",
            "\n",
            "chunk:\n",
            " Convert weights to safetensors\n",
            "\n",
            "PyTorch model weights are commonly saved and stored as `.bin` files with Python's [`pickle`](https://docs.python.org/3/library/pickle.html) utility. To save and store your model weights in the more secure `safetensor` format, we recommend converting your weights to `.safetensors`.\n",
            "\n",
            "The easiest way to convert your model weights is to use the [Convert Space](https://huggingface.co/spaces/diffusers/convert), given your model weights are already stored on the Hub. The Convert Space downloads the pickled weights, converts them, and opens a Pull Request to upload the newly converted `.safetensors` file to your repository.\n",
            "\n",
            "<Tip warning={true}>\n",
            "\n",
            "For larger models, the Space may be a bit slower because its resources are tied up in converting other models. You can also try running the [convert.py](https://github.com/huggingface/safetensors/blob/main/bindings/python/convert.py) script (this is what the Space is running) locally to convert your weights.\n",
            "\n",
            "Feel free to ping [@Narsil](https://huggingface.co/Narsil) for any issues with the Space.\n",
            "\n",
            "</Tip>\n"
          ]
        }
      ],
      "source": [
        "# doc = docs_processed[30]\n",
        "# print(\"page:\\n\",doc.document.page_content)\n",
        "# # for chunk in doc.chunks:\n",
        "# chunk = doc.chunks[0]\n",
        "# print('chunk:\\n', chunk.text)"
      ]
    },
    {
      "cell_type": "code",
      "execution_count": null,
      "metadata": {
        "id": "1poXgNkCWMxL"
      },
      "outputs": [],
      "source": [
        "# def get_context(doc: ProcessedDocument, chunk: Chunk, provider: str):\n",
        "#   if (provider == 'OPEMAI')\n",
        "#     context= context_chain.invoke({\"document\": doc.document.page_content, \"chunk\": chunk})\n",
        "#     return context.content\n",
        "#   else:\n",
        "#     context: Context = context_chain.invoke({\"document\": doc.document.page_content, \"chunk\": chunk})\n",
        "#     return context.context"
      ]
    },
    {
      "cell_type": "code",
      "execution_count": null,
      "metadata": {
        "id": "nLtidzjsaMU5"
      },
      "outputs": [],
      "source": [
        "# print(f\"chunk with context: Context: \\n\\n {context.context} \\n\\n Chunk: {chunk.text}\")"
      ]
    },
    {
      "cell_type": "code",
      "execution_count": null,
      "metadata": {
        "id": "TdEg5IDqJoWe"
      },
      "outputs": [],
      "source": [
        "# import time\n",
        "# from datetime import datetime\n",
        "\n",
        "# def generate_context(docs_processed: list[ProcessedDocument]):\n",
        "#     # Initialize counters\n",
        "#     calls_per_minute = 0\n",
        "#     last_reset_time = time.time()\n",
        "\n",
        "#     for doc in docs_processed:\n",
        "#         for chunk in doc.chunks:\n",
        "#             current_time = time.time()\n",
        "\n",
        "#             # Check if a minute has passed since last reset\n",
        "#             if current_time - last_reset_time >= 60:\n",
        "#                 print(f\"Made {calls_per_minute} calls in the last minute\")\n",
        "#                 calls_per_minute = 0\n",
        "#                 last_reset_time = current_time\n",
        "#             else:\n",
        "#                 # If we're still within the same minute and hit rate limit\n",
        "#                 if calls_per_minute >= 15:  # Assuming 30 calls per minute limit\n",
        "#                     wait_time = 60 - (current_time - last_reset_time)\n",
        "#                     print(f\"Rate limit reached. Waiting {wait_time:.2f} seconds...\")\n",
        "#                     time.sleep(wait_time)\n",
        "#                     calls_per_minute = 0\n",
        "#                     last_reset_time = time.time()\n",
        "\n",
        "#             # Make the API call\n",
        "#             context: str = get_context(doc= doc.document.page_content, chunk= chunk, provider=???)\n",
        "#             doc.context = context.context\n",
        "\n",
        "#             # Increment counter\n",
        "#             calls_per_minute += 1\n",
        "\n",
        "#             # Optional: print progress\n",
        "#             print(f\"Processed chunk {calls_per_minute} in current minute. Total chunks processed: {sum(len(d.chunks) for d in docs_processed[:docs_processed.index(doc)]) + len(doc.chunks[:doc.chunks.index(chunk) + 1])}\")\n"
      ]
    },
    {
      "cell_type": "markdown",
      "metadata": {
        "id": "xdmYQMFReFlR"
      },
      "source": [
        "## Save processed documents to file\n",
        "## Downloading processed documents in case notebook times out\n"
      ]
    },
    {
      "cell_type": "code",
      "execution_count": null,
      "metadata": {
        "id": "ivDZpzZMeFlR"
      },
      "outputs": [],
      "source": [
        "import joblib\n",
        "from datetime import datetime\n",
        "from google.colab import files\n",
        "import glob\n",
        "import os\n",
        "\n",
        "def save_download_object(object, filename):\n",
        "    joblib.dump(object, filename)\n",
        "    print(f\"Saved object to {filename}\")\n",
        "    files.download(filename)\n",
        "    print(f\"Downloaded {filename}\")\n",
        "\n",
        "def create_timestamp() -> str:\n",
        "    return datetime.now().strftime(\"%Y%m%d_%H%M%S\")\n",
        "\n",
        "\n",
        "def create_filename_timestamp(filename, extension = \"joblib\") -> str:\n",
        "    timestamp = create_timestamp()\n",
        "    return f\"{filename}_{timestamp}.{extension}\"\n",
        "\n",
        "# def load_bm25_model(filename):\n",
        "#     try:\n",
        "#         return joblib.load(filename)\n",
        "#     except (FileNotFoundError, OSError):\n",
        "#         return None\n",
        "\n",
        "# def get_latest_bm25_file():\n",
        "#     # Look for files matching the pattern bm25_*.joblib\n",
        "#     files = glob.glob(\"bm25_*.joblib\")\n",
        "#     if not files:\n",
        "#         return None\n",
        "#     # Return the most recent file\n",
        "#     return max(files, key=os.path.getctime)"
      ]
    },
    {
      "cell_type": "code",
      "execution_count": null,
      "metadata": {
        "colab": {
          "base_uri": "https://localhost:8080/",
          "height": 53
        },
        "id": "T-GbvORIeFlR",
        "outputId": "9e3fd2ed-3b07-44bf-956d-7919208e21bc"
      },
      "outputs": [
        {
          "name": "stdout",
          "output_type": "stream",
          "text": [
            "Saved object to docs_processed_20241203_134704.joblib\n"
          ]
        },
        {
          "data": {
            "application/javascript": "\n    async function download(id, filename, size) {\n      if (!google.colab.kernel.accessAllowed) {\n        return;\n      }\n      const div = document.createElement('div');\n      const label = document.createElement('label');\n      label.textContent = `Downloading \"${filename}\": `;\n      div.appendChild(label);\n      const progress = document.createElement('progress');\n      progress.max = size;\n      div.appendChild(progress);\n      document.body.appendChild(div);\n\n      const buffers = [];\n      let downloaded = 0;\n\n      const channel = await google.colab.kernel.comms.open(id);\n      // Send a message to notify the kernel that we're ready.\n      channel.send({})\n\n      for await (const message of channel.messages) {\n        // Send a message to notify the kernel that we're ready.\n        channel.send({})\n        if (message.buffers) {\n          for (const buffer of message.buffers) {\n            buffers.push(buffer);\n            downloaded += buffer.byteLength;\n            progress.value = downloaded;\n          }\n        }\n      }\n      const blob = new Blob(buffers, {type: 'application/binary'});\n      const a = document.createElement('a');\n      a.href = window.URL.createObjectURL(blob);\n      a.download = filename;\n      div.appendChild(a);\n      a.click();\n      div.remove();\n    }\n  ",
            "text/plain": [
              "<IPython.core.display.Javascript object>"
            ]
          },
          "metadata": {},
          "output_type": "display_data"
        },
        {
          "data": {
            "application/javascript": "download(\"download_24d8ec34-2168-45ea-8943-551dc14ea4d6\", \"docs_processed_20241203_134704.joblib\", 1516267)",
            "text/plain": [
              "<IPython.core.display.Javascript object>"
            ]
          },
          "metadata": {},
          "output_type": "display_data"
        },
        {
          "name": "stdout",
          "output_type": "stream",
          "text": [
            "Downloaded docs_processed_20241203_134704.joblib\n"
          ]
        }
      ],
      "source": [
        "# Create filename with timestamp\n",
        "docs_processed_filename = create_filename_timestamp(\"docs_processed\")\n",
        "\n",
        "# Save the processed documents\n",
        "save_download_object(docs_processed, docs_processed_filename)"
      ]
    },
    {
      "cell_type": "code",
      "execution_count": null,
      "metadata": {
        "id": "hUg5zY3egqtg"
      },
      "outputs": [],
      "source": [
        "chunk_texts = []\n",
        "document_texts = []\n",
        "contexts = []\n",
        "\n",
        "# Extract data from docs_processed\n",
        "for doc in docs_processed:\n",
        "    for chunk in doc.chunks:\n",
        "        chunk_texts.append(chunk.text)\n",
        "        contexts.append(chunk.context)\n",
        "        document_texts.append(doc.text)\n",
        "\n",
        "# Create dictionary for dataset\n",
        "dataset_dict = {\n",
        "    'chunk': chunk_texts,\n",
        "    'document': document_texts,\n",
        "    'context': contexts\n",
        "}"
      ]
    },
    {
      "cell_type": "code",
      "execution_count": null,
      "metadata": {
        "colab": {
          "base_uri": "https://localhost:8080/"
        },
        "id": "bG-24TTRp04r",
        "outputId": "c8bc838f-87b3-42cb-f8f6-98ddde7471f6"
      },
      "outputs": [
        {
          "name": "stdout",
          "output_type": "stream",
          "text": [
            "len(doc.chuncks) 5\n",
            "Focuses on the process of claiming authorship to a paper within the Hugging Face Hub, where the system tries to match papers to users based on their email addresses. Users can manually claim authorship by clicking on their name on the corresponding Paper page and following the steps to validate the request. Once approved by the admin team, the Paper page will be marked as verified.\n"
          ]
        }
      ],
      "source": [
        "index_doc = 2\n",
        "doc = docs_processed[index_doc]\n",
        "print('len(doc.chuncks)',len(doc.chunks))\n",
        "chunk = doc.chunks[index_doc]\n",
        "print(chunk.context)\n",
        "# print('len(doc.chunks)',len(doc.chunks))\n",
        "# print(doc.chunks)"
      ]
    },
    {
      "cell_type": "code",
      "execution_count": null,
      "metadata": {
        "colab": {
          "base_uri": "https://localhost:8080/"
        },
        "id": "Da3vayJcg2HA",
        "outputId": "fd9b13b1-e751-42bc-ccea-c3c0407defb2"
      },
      "outputs": [
        {
          "name": "stdout",
          "output_type": "stream",
          "text": [
            "len(contexts) 882\n",
            "None\n",
            "len(chunk_texts) 882\n",
            "*Subject-driven text-to-image generation models create novel renditions of an input subject based on text prompts. Existing models suffer from lengthy fine-tuning and difficulties preserving the subject fidelity. To overcome these limitations, we introduce BLIP-Diffusion, a new subject-driven image generation model that supports multimodal control which consumes inputs of subject images and text prompts. Unlike other subject-driven generation models, BLIP-Diffusion introduces a new multimodal encoder which is pre-trained to provide subject representation. We first pre-train the multimodal encoder following BLIP-2 to produce visual representation aligned with the text. Then we design a subject representation learning task which enables a diffusion model to leverage such visual\n"
          ]
        }
      ],
      "source": [
        "index = 3\n",
        "print('len(contexts)',len(contexts))\n",
        "print(contexts[index])\n",
        "print('len(chunk_texts)',len(chunk_texts))\n",
        "print(chunk_texts[index])"
      ]
    },
    {
      "cell_type": "markdown",
      "metadata": {
        "id": "RPLQLJzxvv3C"
      },
      "source": [
        "# **Saving Context + Chunks to dataset**"
      ]
    },
    {
      "cell_type": "code",
      "execution_count": null,
      "metadata": {
        "colab": {
          "base_uri": "https://localhost:8080/",
          "height": 135,
          "referenced_widgets": [
            "9241444d88c844e2a97676d935765b49",
            "14071b0512b94c3181e53db7b3a35202",
            "88582e22f86944e8a9d2e7dc853faf04",
            "a12cc0c4e5884849b2e444a6d0b4406b",
            "bf8c9017c3184fb2866cc648214ed5ca",
            "af9fc53cbd414753a7fa4043889b70d9",
            "54f70b15dbef48ee965499b73b3ab6e6",
            "1a17c06c44aa47968f7a53b27c6629c3",
            "e8c018602232414f8b11f582f0f521d6",
            "9a81a45162774028a2f354c7dc01db9c",
            "591704ad35224966b086db29df777f07",
            "0bbfc32869ed4774a7f6ccc10b27c5cc",
            "f38a0ff551b24dfc8ebc98ec9b0666eb",
            "81773f9406fa4975ad238e82357e1b89",
            "86ddfc36ed5b4999a8c908eee6096754",
            "3e5a5f41c3144d36853ed4d1b68544c5",
            "6ed6f3b38503478e9cf614c8a17702c5",
            "1cbb00e355c94d5a976b27a138cba919",
            "dd3b0e6739024d639b47428237c7db24",
            "788b2295dbe540728fa17fd58b6725dc",
            "cad2f57aab3c456f8e83ca4a7c619787",
            "e4d679ad02d9456badd82efe18b50f57"
          ]
        },
        "id": "fiCoPuZOEg48",
        "outputId": "b65b3508-b6ad-45ad-8aa0-1bbdbe8e06c5"
      },
      "outputs": [
        {
          "data": {
            "application/vnd.jupyter.widget-view+json": {
              "model_id": "9241444d88c844e2a97676d935765b49",
              "version_major": 2,
              "version_minor": 0
            },
            "text/plain": [
              "Uploading the dataset shards:   0%|          | 0/1 [00:00<?, ?it/s]"
            ]
          },
          "metadata": {},
          "output_type": "display_data"
        },
        {
          "data": {
            "application/vnd.jupyter.widget-view+json": {
              "model_id": "0bbfc32869ed4774a7f6ccc10b27c5cc",
              "version_major": 2,
              "version_minor": 0
            },
            "text/plain": [
              "Creating parquet from Arrow format:   0%|          | 0/1 [00:00<?, ?ba/s]"
            ]
          },
          "metadata": {},
          "output_type": "display_data"
        },
        {
          "data": {
            "application/vnd.google.colaboratory.intrinsic+json": {
              "type": "string"
            },
            "text/plain": [
              "CommitInfo(commit_url='https://huggingface.co/datasets/AIEnthusiast369/hf_doc_qa_eval_chunk_size_800_open_ai/commit/7be3854af236da891ed8ecbd7299e0c9f0a3299a', commit_message='Upload dataset', commit_description='', oid='7be3854af236da891ed8ecbd7299e0c9f0a3299a', pr_url=None, repo_url=RepoUrl('https://huggingface.co/datasets/AIEnthusiast369/hf_doc_qa_eval_chunk_size_800_open_ai', endpoint='https://huggingface.co', repo_type='dataset', repo_id='AIEnthusiast369/hf_doc_qa_eval_chunk_size_800_open_ai'), pr_revision=None, pr_num=None)"
            ]
          },
          "execution_count": 104,
          "metadata": {},
          "output_type": "execute_result"
        }
      ],
      "source": [
        "from datasets import Dataset\n",
        "from huggingface_hub import login\n",
        "\n",
        "# Create lists to store the data\n",
        "\n",
        "\n",
        "# Convert to Hugging Face Dataset\n",
        "dataset = Dataset.from_dict(dataset_dict)\n",
        "\n",
        "hf_token = userdata.get(\"HuggingFace\")\n",
        "if not hf_token:\n",
        "  # Login to Hugging Face (you'll need your token)\n",
        "  hf_token = input(\"Please enter your Hugging Face token: \")\n",
        "login(hf_token)\n",
        "\n",
        "# Push to Hugging Face Hub\n",
        "dataset.push_to_hub(\n",
        "    f\"AIEnthusiast369/hf_doc_qa_eval_chunk_size_{chunk_size}_open_ai\",  # Replace with your username and desired dataset name\n",
        "    private=False  # Set to False if you want it public\n",
        ")"
      ]
    },
    {
      "cell_type": "code",
      "execution_count": null,
      "metadata": {
        "id": "7IsJEauoKkxp"
      },
      "outputs": [],
      "source": [
        "# prompt: print chunks from docs_processed where context has value\n",
        "\n",
        "# for doc in docs_processed:\n",
        "#   for chunk in doc.chunks:\n",
        "#     if chunk.context:\n",
        "#       print(f\"chunk with context: Context: \\n\\n {chunk.context} \\n\\n Chunk: {chunk.text}\")\n"
      ]
    },
    {
      "cell_type": "markdown",
      "metadata": {
        "id": "AA6NpBJByPd7"
      },
      "source": [
        "# **Loading chunks with context dataset**\n",
        "*Yuu need to run it only in case of notebook timing out and you loose state*"
      ]
    },
    {
      "cell_type": "code",
      "execution_count": null,
      "metadata": {
        "id": "uPpFs15VyH0i"
      },
      "outputs": [],
      "source": [
        "chunked_dataset = load_dataset(\"AIEnthusiast369/hf_doc_qa_eval_chunk_size_800_open_ai\")\n",
        "chunks_from_ds=True"
      ]
    },
    {
      "cell_type": "markdown",
      "metadata": {
        "id": "6e7x0MetgiFb"
      },
      "source": [
        "# **Creating contextualized chunks**"
      ]
    },
    {
      "cell_type": "code",
      "execution_count": null,
      "metadata": {
        "colab": {
          "base_uri": "https://localhost:8080/"
        },
        "id": "sX2BlkTsytEc",
        "outputId": "2cb154a3-e6a5-42ab-a420-a87cda592a0c"
      },
      "outputs": [
        {
          "name": "stdout",
          "output_type": "stream",
          "text": [
            "Len of regular chunks: 882\n",
            "Len of chunks with context: 882\n"
          ]
        }
      ],
      "source": [
        "# from multiprocessing import context\n",
        "# prompt: from chunked_dataset populate docs_processed\n",
        "\n",
        "# Assuming 'chunked_dataset' is already loaded as in your provided code\n",
        "chunks_with_context = []\n",
        "chunks_regular=[]\n",
        "\n",
        "if chunks_from_ds:\n",
        "  chuncked_ds = chunked_dataset['train']\n",
        "  for i in range(len(chuncked_ds)):\n",
        "      row = chuncked_ds[i]\n",
        "      chunk = row['chunk']\n",
        "      chunks_regular.append(chunk)\n",
        "      context = row['context']\n",
        "      if context:\n",
        "              chunks_with_context.append(\n",
        "                f\"{context} \\n\\n {chunk}\"\n",
        "              )\n",
        "else:\n",
        "  for doc in docs_processed:\n",
        "      for chunk in doc.chunks:\n",
        "          chunks_regular.append(chunk.text)\n",
        "          if chunk.context:  # Only include chunks that have a context\n",
        "              chunks_with_context.append(\n",
        "                f\"{chunk.context} \\n\\n {chunk.text}\"\n",
        "              )\n",
        "print(f'Len of regular chunks: {len(chunks_regular)}')\n",
        "print(f'Len of chunks with context: {len(chunks_with_context)}')\n",
        "\n",
        "\n",
        "# Now docs_processed is populated from the chunked_dataset\n",
        "# You can proceed with the rest of your code using the loaded data"
      ]
    },
    {
      "cell_type": "markdown",
      "metadata": {
        "id": "MZNA7MGba06b"
      },
      "source": [
        "# **Setiing up Indeses**"
      ]
    },
    {
      "cell_type": "code",
      "execution_count": null,
      "metadata": {
        "id": "_DDJMPBIziVy"
      },
      "outputs": [],
      "source": [
        "def create_bm25(chunks: list[str]):\n",
        "    # # Try to load existing BM25 model\n",
        "    # latest_bm25_file = get_latest_bm25_file()\n",
        "    # if latest_bm25_file:\n",
        "    #     bm25 = load_bm25_model(latest_bm25_file)\n",
        "    #     if bm25 is not None:\n",
        "    #         print(f\"Loaded existing BM25 model from {latest_bm25_file}\")\n",
        "    #         return bm25\n",
        "\n",
        "    # If no existing model found or loading failed, create a new one\n",
        "    print(\"Creating BM25 model...\")\n",
        "    tokenized_chunks = [nltk.word_tokenize(chunk) for chunk in chunks]\n",
        "    bm25 = BM25Okapi(tokenized_chunks)\n",
        "\n",
        "    # # Save the new model\n",
        "    # bm25_filename = create_filename_timestamp(\"bm25\")\n",
        "    # save_download_object(bm25, bm25_filename)\n",
        "\n",
        "    return bm25"
      ]
    },
    {
      "cell_type": "code",
      "execution_count": null,
      "metadata": {
        "id": "-OO6j8dxz0ej"
      },
      "outputs": [],
      "source": [
        "# from pinecone.grpc import PineconeGRPC as Pinecone\n",
        "# from pinecone import ServerlessSpec\n",
        "\n",
        "from pinecone import Pinecone, ServerlessSpec\n",
        "\n",
        "pinecone_api_key = userdata.get(\"PINECONE_API_KEY\")\n",
        "if not pinecone_api_key:\n",
        "  pinecone_api_key = input(\"Please enter your PINECONE API KEY: \")\n",
        "\n",
        "spec=ServerlessSpec(\n",
        "    cloud=\"aws\",\n",
        "    region=\"us-east-1\"\n",
        "  )\n",
        "\n",
        "EMBEDDING_INDEX_CONTEXTUAL: str = \"test-rag-openai-contextual\"\n",
        "EMBEDDING_INDEX_REGULAR: str = \"test-rag-openai-regular\"\n",
        "\n",
        "pc = Pinecone(api_key=pinecone_api_key)\n",
        "\n",
        "def get_index_names(index_data):\n",
        "  \"\"\"\n",
        "  Extracts the names of indices from a list of index data.\n",
        "\n",
        "  Args:\n",
        "    index_data: A list of strings, where each string is a JSON representation of an index.\n",
        "\n",
        "  Returns:\n",
        "    A list of index names.\n",
        "  \"\"\"\n",
        "  index_names = []\n",
        "  for index_item in index_data:\n",
        "    try:\n",
        "      # index_json = json.loads(index_str)\n",
        "      index_names.append(index_item['name'])\n",
        "    except (json.JSONDecodeError, KeyError):\n",
        "      print(f\"Skipping invalid index data: {index_item}\")\n",
        "  return index_names"
      ]
    },
    {
      "cell_type": "code",
      "execution_count": null,
      "metadata": {
        "id": "-i-taFomMI7W"
      },
      "outputs": [],
      "source": [
        "from typing import Any, List\n",
        "from time import sleep\n",
        "\n",
        "def wait_for_index(index_name):\n",
        "    while True:\n",
        "        desc = pc.describe_index(index_name)\n",
        "        if desc['ready']:\n",
        "            print(\"Index is ready!\")\n",
        "            break\n",
        "        sleep(5)\n",
        "\n",
        "def create_pinecone_indexes(pinecone, embedding_model, index_name: str, chunks: list[str], specs: ServerlessSpec, dimensions, index_names: List[str]) -> Any:\n",
        "\n",
        "    if index_name not in index_names:\n",
        "        pc.create_index(index_name, dimension=dimensions, metric=\"cosine\", spec=specs)\n",
        "        wait_for_index(index_name)\n",
        "\n",
        "    # Connect to Pinecone indexes\n",
        "    embedding_index = pc.Index(index_name)\n",
        "\n",
        "\n",
        "    # Semantic Embeddings using a Pre-trained Transformer Model\n",
        "    embeddings = embedding_model.embed_documents(chunks)\n",
        "    # Store embeddings in Pinecone\n",
        "    for i, (chunk, embedding) in enumerate(zip(chunks, embeddings)):\n",
        "        embedding_index.upsert([(str(i), embedding, {\"text\": chunk})])\n",
        "\n",
        "    print(f'len(embeddings)={len(embeddings)}, len(embeddings[0])={len(embeddings[0])}')\n",
        "    return embedding_index\n"
      ]
    },
    {
      "cell_type": "code",
      "execution_count": null,
      "metadata": {
        "colab": {
          "base_uri": "https://localhost:8080/"
        },
        "id": "vJwZUlQv9q0S",
        "outputId": "9f47f1b6-568b-4846-df9c-6b4c8e9c583b"
      },
      "outputs": [
        {
          "name": "stdout",
          "output_type": "stream",
          "text": [
            "{'indexes': [{'deletion_protection': 'disabled',\n",
            "              'dimension': 1536,\n",
            "              'host': 'test-rag-openai-regular-g8hsdn4.svc.aped-4627-b74a.pinecone.io',\n",
            "              'metric': 'cosine',\n",
            "              'name': 'test-rag-openai-regular',\n",
            "              'spec': {'serverless': {'cloud': 'aws', 'region': 'us-east-1'}},\n",
            "              'status': {'ready': True, 'state': 'Ready'}},\n",
            "             {'deletion_protection': 'disabled',\n",
            "              'dimension': 1536,\n",
            "              'host': 'test-rag-openai-contextual-g8hsdn4.svc.aped-4627-b74a.pinecone.io',\n",
            "              'metric': 'cosine',\n",
            "              'name': 'test-rag-openai-contextual',\n",
            "              'spec': {'serverless': {'cloud': 'aws', 'region': 'us-east-1'}},\n",
            "              'status': {'ready': True, 'state': 'Ready'}}]}\n"
          ]
        }
      ],
      "source": [
        "indeces =pc.list_indexes()\n",
        "print(indeces)"
      ]
    },
    {
      "cell_type": "markdown",
      "metadata": {
        "id": "DYJD_AQ83vr0"
      },
      "source": [
        "# **Creating Indeses**"
      ]
    },
    {
      "cell_type": "code",
      "execution_count": null,
      "metadata": {
        "colab": {
          "base_uri": "https://localhost:8080/"
        },
        "id": "8e7073j13uVL",
        "outputId": "ac057c10-3f63-4f6f-9efc-3a6e2011b5c8"
      },
      "outputs": [
        {
          "name": "stdout",
          "output_type": "stream",
          "text": [
            "['test-rag-openai-regular', 'test-rag-openai-contextual']\n",
            "Creating BM25 model...\n",
            "Creating BM25 model...\n"
          ]
        }
      ],
      "source": [
        "index_names = get_index_names(indeces)\n",
        "print(index_names)\n",
        "if EMBEDDING_INDEX_CONTEXTUAL not in index_names:\n",
        "   create_pinecone_indexes(pc, embedding_model, EMBEDDING_INDEX_CONTEXTUAL, chunks_with_context, spec, 1536, index_names)\n",
        "if EMBEDDING_INDEX_REGULAR not in index_names:\n",
        "   create_pinecone_indexes(pc, embedding_model, EMBEDDING_INDEX_REGULAR, chunks_regular, spec, 1536, index_names)\n",
        "bm25_regular = create_bm25(chunks_regular)\n",
        "bm25_contextual = create_bm25(chunks_with_context)"
      ]
    },
    {
      "cell_type": "markdown",
      "metadata": {
        "id": "iU6ya_SUZcKV"
      },
      "source": [
        "# **Definining Reranker**"
      ]
    },
    {
      "cell_type": "markdown",
      "metadata": {
        "id": "V21JxTGuzFch"
      },
      "source": [
        "### **Hugging Face**"
      ]
    },
    {
      "cell_type": "code",
      "execution_count": null,
      "metadata": {
        "colab": {
          "base_uri": "https://localhost:8080/",
          "height": 209,
          "referenced_widgets": [
            "624007fca6fc4859be912a9a0b6a8ee3",
            "77d599ebad874111858f71828e2ae1b6",
            "ac8be4e0cd274f16b6bb2c5a779d5390",
            "91b0ab45bcdf4b4e82f9dfc031392723",
            "06b87d760fc64851bd5bc8911a03a955",
            "9efd40492cbb4ea2b4e2a3b0907283e3",
            "696b74a79fc44ef6bc22bbb22c152453",
            "05ddd35133134cc5953d2793eb5fbe3e",
            "a6339d9568c84bfcb02a624dd9e6497b",
            "94244c0b2b2343509a3e23b88a42c15b",
            "26a2f6db7418417399e89aec0304874d",
            "bc08089b11de49d69afff10a0fd14a5e",
            "955c558204c745ae8869802a7e4d99aa",
            "f814eeb4715a4afa92cacd32a3d56ad3",
            "e0f7e404652d409cab0833321895ad6f",
            "ea49ca98fbad4fd2aa0fa529a3416f30",
            "0b08090986f248eea423919c4e6ef77c",
            "74445dd1678a4ac2b3093f22a8879c9e",
            "94b7974a0c4040b2bad91cd305a5b569",
            "56d2c2fa1f214205a7a0fa9bcc5ccf31",
            "48d1f18d95874fc1904ca98232595481",
            "a25b768276ac4fab8c79a627e0be18e5",
            "6a1a3bfc7af4415aadc5cc87d33c916a",
            "0e08aecbc47b4ee5b87bd3d3158bf3ee",
            "19b59b368b61494daf408b97dc377f0f",
            "32085a1ad93e4c088db0d236fe860dac",
            "54635d847e1f4e6fadd69f14c0695eab",
            "2bfb89180bc84b94bd993ce2c5e8a34c",
            "982145567f854556b27d2312160a0a93",
            "ed494b9ae9044cd5925762de0a60b0c5",
            "f70ed97874274c0c91cf59c0da1af841",
            "87d64ae52c024c119d00dbb83e5f41ef",
            "fa39fc7705f94d5aa3fae2a794f9fb9f",
            "701ad4ee0fc64ed9ab40783234ff801b",
            "05fe831ef6d449e3857a1dc876c90a7c",
            "04f08ecbc462489189a482ac92fbbfed",
            "df28802e9c3b40a19f8accb150da3c48",
            "79a9eab5298a4e89b9f35b53f6b18fa8",
            "8b47ff9657b340209a3706f97843375b",
            "07928caaac954282977ac4503cddba11",
            "307b51b9403b485aa81c098a644f50f0",
            "fae820606ef041f497f43891324ebcf3",
            "5360e1055d364a348b8e32eb8bbacff3",
            "16a8421160964e40b9ede191e77df80c",
            "1d02a72cc2c54413b10a1ac3fa2ec5e5",
            "baf30f53dab94a93bc83abf450b05ea6",
            "445fc9399b484a9e91323f921c1b0102",
            "99a15f7ee88d46119ce7b2bb1300b04b",
            "588668013bf842d1b7296d69164bdc59",
            "b605602cba3e4c3caf2587654831c8cf",
            "f60f70b1a12e43d5b891976f2aa4cbf2",
            "317b7e9d979446a8b063e32fed3c228a",
            "6a3ebe434c5748e68452551977b8a99d",
            "b67d4598c98d4ff9b60208b1c0888878",
            "71bf7d9ec9764088b237b086b97e9c33",
            "ff5c34f42dfe4645a72ea33a0e693ce1",
            "f9262937bd8d45698543f21079990171",
            "335287a22b5242c2b58e22334f976633",
            "db646459530e41d79ecf0a093c5351c4",
            "6d1ff09658de4c47b998fd39ab5a8d96",
            "d29def8f35d340b7b605447a1b33ffe0",
            "aeba42b3ed34470896a010bd0ad6d3ae",
            "06becd01a3784253b6a909cd2abee2a0",
            "ebcfefa969cb4aa5a62926a5e4ff2998",
            "a64451abad7c4f3f9375af64e89fa83d",
            "1d65be4e31c441ab9165801d6c54df53"
          ]
        },
        "id": "GsB0hxSuZc6u",
        "outputId": "124a3809-bc35-461a-fb0b-eb0bb890a6e7"
      },
      "outputs": [
        {
          "data": {
            "application/vnd.jupyter.widget-view+json": {
              "model_id": "624007fca6fc4859be912a9a0b6a8ee3",
              "version_major": 2,
              "version_minor": 0
            },
            "text/plain": [
              "tokenizer_config.json:   0%|          | 0.00/1.17k [00:00<?, ?B/s]"
            ]
          },
          "metadata": {},
          "output_type": "display_data"
        },
        {
          "data": {
            "application/vnd.jupyter.widget-view+json": {
              "model_id": "bc08089b11de49d69afff10a0fd14a5e",
              "version_major": 2,
              "version_minor": 0
            },
            "text/plain": [
              "sentencepiece.bpe.model:   0%|          | 0.00/5.07M [00:00<?, ?B/s]"
            ]
          },
          "metadata": {},
          "output_type": "display_data"
        },
        {
          "data": {
            "application/vnd.jupyter.widget-view+json": {
              "model_id": "6a1a3bfc7af4415aadc5cc87d33c916a",
              "version_major": 2,
              "version_minor": 0
            },
            "text/plain": [
              "tokenizer.json:   0%|          | 0.00/17.1M [00:00<?, ?B/s]"
            ]
          },
          "metadata": {},
          "output_type": "display_data"
        },
        {
          "data": {
            "application/vnd.jupyter.widget-view+json": {
              "model_id": "701ad4ee0fc64ed9ab40783234ff801b",
              "version_major": 2,
              "version_minor": 0
            },
            "text/plain": [
              "special_tokens_map.json:   0%|          | 0.00/964 [00:00<?, ?B/s]"
            ]
          },
          "metadata": {},
          "output_type": "display_data"
        },
        {
          "data": {
            "application/vnd.jupyter.widget-view+json": {
              "model_id": "1d02a72cc2c54413b10a1ac3fa2ec5e5",
              "version_major": 2,
              "version_minor": 0
            },
            "text/plain": [
              "config.json:   0%|          | 0.00/795 [00:00<?, ?B/s]"
            ]
          },
          "metadata": {},
          "output_type": "display_data"
        },
        {
          "data": {
            "application/vnd.jupyter.widget-view+json": {
              "model_id": "ff5c34f42dfe4645a72ea33a0e693ce1",
              "version_major": 2,
              "version_minor": 0
            },
            "text/plain": [
              "model.safetensors:   0%|          | 0.00/2.27G [00:00<?, ?B/s]"
            ]
          },
          "metadata": {},
          "output_type": "display_data"
        }
      ],
      "source": [
        "import torch\n",
        "from transformers import AutoModelForSequenceClassification, AutoTokenizer\n",
        "\n",
        "RERANKER_MODEL = 'BAAI/bge-reranker-v2-m3'\n",
        "tokenizer = AutoTokenizer.from_pretrained(RERANKER_MODEL)\n",
        "model = AutoModelForSequenceClassification.from_pretrained(RERANKER_MODEL)\n",
        "model.eval()\n",
        "\n",
        "def get_reranker_score(pairs):\n",
        "    with torch.no_grad():\n",
        "        inputs = tokenizer(pairs, padding=True, truncation=True, return_tensors='pt', max_length=512)\n",
        "        scores = model(**inputs, return_dict=True).logits.view(-1, ).float()\n",
        "        print(scores)\n"
      ]
    },
    {
      "cell_type": "markdown",
      "metadata": {
        "id": "_yta_ZYVzL9d"
      },
      "source": [
        "### **FlagEmbedding**"
      ]
    },
    {
      "cell_type": "code",
      "execution_count": null,
      "metadata": {
        "id": "NJiUX0T4wlTH"
      },
      "outputs": [],
      "source": [
        "# from FlagEmbedding import FlagReranker\n",
        "\n",
        "# reranker = FlagReranker('BAAI/bge-reranker-v2-m3', use_fp16=True) # Setting use_fp16 to True speeds up computation with a slight performance degradation\n",
        "\n",
        "# score = reranker.compute_score(['query', 'passage'])\n",
        "# print(score) # -5.65234375\n",
        "\n",
        "# # You can map the scores into 0-1 by set \"normalize=True\", which will apply sigmoid function to the score\n",
        "# score = reranker.compute_score(['query', 'passage'], normalize=True)\n",
        "# print(score) # 0.003497010252573502\n",
        "\n",
        "# scores = reranker.compute_score([['what is panda?', 'hi'], ['what is panda?', 'The giant panda (Ailuropoda melanoleuca), sometimes called a panda bear or simply panda, is a bear species endemic to China.']])\n",
        "# print(scores) # [-8.1875, 5.26171875]\n",
        "\n",
        "# # You can map the scores into 0-1 by set \"normalize=True\", which will apply sigmoid function to the score\n",
        "# scores = reranker.compute_score([['what is panda?', 'hi'], ['what is panda?', 'The giant panda (Ailuropoda melanoleuca), sometimes called a panda bear or simply panda, is a bear species endemic to China.']], normalize=True)\n",
        "# print(scores) # [0.00027803096387751553, 0.9948403768236574]\n"
      ]
    },
    {
      "cell_type": "code",
      "execution_count": null,
      "metadata": {
        "id": "NqqB_g9TeFlW"
      },
      "outputs": [],
      "source": [
        "# from sentence_transformers import CrossEncoder\n",
        "from collections import defaultdict\n",
        "def fusion_rank_search(\n",
        "    query: str,\n",
        "    bm25,\n",
        "    chunks: list[str],\n",
        "    model,\n",
        "    embedding_index,\n",
        "    k: int = 5,\n",
        "    weight_sparse: float = 0.5,\n",
        "    reranker_cutoff: int = 20  # Number of top results to rerank\n",
        "):\n",
        "    # Get BM25 results\n",
        "    tokenized_query = nltk.word_tokenize(query)\n",
        "    bm25_scores = bm25.get_scores(tokenized_query)\n",
        "    bm25_top_indices = np.argsort(bm25_scores)[::-1][:reranker_cutoff]\n",
        "\n",
        "    # Normalize BM25 scores using min-max normalization\n",
        "    bm25_scores_norm = (bm25_scores - np.min(bm25_scores)) / (np.max(bm25_scores) - np.min(bm25_scores))\n",
        "    bm25_results = [\n",
        "        {\n",
        "            'id': str(i),\n",
        "            'score': bm25_scores_norm[i]\n",
        "            # 'metadata': {'text': chunks[i]}\n",
        "        }\n",
        "        for i in bm25_top_indices\n",
        "    ]\n",
        "\n",
        "    # Get embedding results\n",
        "    query_embedding = model.encode(query, convert_to_tensor=False).tolist()\n",
        "    embedding_results = embedding_index.query(query_embedding, top_k=reranker_cutoff, include_metadata=True)\n",
        "\n",
        "    # Extract and normalize embedding scores\n",
        "    dense_scores = np.array([match['score'] for match in embedding_results['matches']])\n",
        "    dense_scores_norm = (dense_scores - np.min(dense_scores)) / (np.max(dense_scores) - np.min(dense_scores))\n",
        "\n",
        "    # Create dictionaries to store normalized scores\n",
        "    fusion_scores = defaultdict(lambda: {'sparse': 0.0, 'dense': 0.0, 'text': ''})\n",
        "\n",
        "    # Store normalized BM25 scores\n",
        "    for result in bm25_results:\n",
        "        doc_id = result['id']\n",
        "        fusion_scores[doc_id]['sparse'] = result['score']\n",
        "        fusion_scores[doc_id]['text'] = result['metadata']['text']\n",
        "\n",
        "    # Store normalized embedding scores\n",
        "    for match, norm_score in zip(embedding_results['matches'], dense_scores_norm):\n",
        "        doc_id = match['id']\n",
        "        fusion_scores[doc_id]['dense'] = norm_score\n",
        "        fusion_scores[doc_id]['text'] = match['metadata']['text']\n",
        "\n",
        "    # Combine scores using weighted average\n",
        "    weight_dense = 1.0 - weight_sparse\n",
        "    initial_results = [\n",
        "        {\n",
        "            'id': doc_id,\n",
        "            'score': (\n",
        "                weight_sparse * scores['sparse'] +\n",
        "                weight_dense * scores['dense']\n",
        "            ),\n",
        "            'metadata': {\n",
        "                'text': scores['text'],\n",
        "                'sparse_score': scores['sparse'],\n",
        "                'dense_score': scores['dense']\n",
        "            }\n",
        "        }\n",
        "        for doc_id, scores in fusion_scores.items()\n",
        "    ]\n",
        "\n",
        "    # Sort by combined score\n",
        "    initial_results.sort(key=lambda x: x['score'], reverse=True)\n",
        "    initial_results = initial_results[:reranker_cutoff]\n",
        "\n",
        "    # Apply reranking if reranker model is provided\n",
        "\n",
        "    # Prepare pairs for reranking\n",
        "    pairs = [(query, result['metadata']['text']) for result in initial_results]\n",
        "\n",
        "    # Get reranker scores - use them directly for final ranking\n",
        "    rerank_scores = get_reranker_score(pairs)\n",
        "\n",
        "    # Update results with reranker scores\n",
        "    for result, rerank_score in zip(initial_results, rerank_scores):\n",
        "        result['metadata']['rerank_score'] = float(rerank_score)\n",
        "        # Use reranker score as the final score\n",
        "        result['score'] = float(rerank_score)\n",
        "\n",
        "    # Resort based on reranker scores\n",
        "    initial_results.sort(key=lambda x: x['score'], reverse=True)\n",
        "\n",
        "    return initial_results[:k]"
      ]
    },
    {
      "cell_type": "code",
      "execution_count": null,
      "metadata": {
        "id": "pE0B0-JweFlW"
      },
      "outputs": [],
      "source": [
        "from nltk.translate.bleu_score import sentence_bleu\n",
        "from rouge_score import rouge_scorer\n",
        "from tqdm import tqdm\n",
        "import pandas as pd\n",
        "\n",
        "def evaluate_rag_system(\n",
        "    best_answers_df: pd.DataFrame,\n",
        "    bm25,\n",
        "    chunks: list[str],\n",
        "    embedding_model,\n",
        "    embedding_index,\n",
        "    llm_chain,\n",
        "    n_samples: int = None,  # Optional: limit number of samples for testing\n",
        "    reranker_cutoff: int = 20\n",
        "):\n",
        "    # Initialize ROUGE scorer\n",
        "    rouge_scorer_instance = rouge_scorer.RougeScorer(['rouge1', 'rouge2', 'rougeL'], use_stemmer=True)\n",
        "\n",
        "    # Initialize results storage\n",
        "    results = []\n",
        "\n",
        "    # Get subset of dataframe if n_samples is specified\n",
        "    eval_df = best_answers_df.head(n_samples) if n_samples else best_answers_df\n",
        "\n",
        "    # Iterate through questions and answers\n",
        "    for idx, row in tqdm(eval_df.iterrows(), total=len(eval_df), desc=\"Evaluating Questions\"):\n",
        "        query = row['question']\n",
        "        reference_answer = row['answer']\n",
        "\n",
        "        try:\n",
        "            # Get relevant context using fusion ranking\n",
        "            retrieved_results = fusion_rank_search(\n",
        "                query=query,\n",
        "                bm25=bm25,\n",
        "                chunks=chunks,\n",
        "                model=embedding_model,\n",
        "                embedding_index=embedding_index,\n",
        "                k=5,\n",
        "                weight_sparse=0.5,\n",
        "                reranker_cutoff=reranker_cutoff\n",
        "            )\n",
        "\n",
        "            # Prepare context for LLM\n",
        "            context = \"\\n\".join([res['metadata']['text'] for res in retrieved_results])\n",
        "\n",
        "            # Generate answer using LLM\n",
        "            llm_response = llm_chain.invoke({\n",
        "                \"context\": context,\n",
        "                \"question\": query\n",
        "            })\n",
        "            generated_answer = llm_response.content if hasattr(llm_response, 'content') else llm_response\n",
        "\n",
        "            # Calculate BLEU score\n",
        "            reference_tokens = [reference_answer.split()]\n",
        "            candidate_tokens = generated_answer.split()\n",
        "            bleu_score = sentence_bleu(reference_tokens, candidate_tokens)\n",
        "\n",
        "            # Calculate ROUGE scores\n",
        "            rouge_scores = rouge_scorer_instance.score(reference_answer, generated_answer)\n",
        "\n",
        "            # Store results\n",
        "            result = {\n",
        "                'question': query,\n",
        "                'reference_answer': reference_answer,\n",
        "                'generated_answer': generated_answer,\n",
        "                'bleu_score': bleu_score,\n",
        "                'rouge1_f1': rouge_scores['rouge1'].fmeasure,\n",
        "                'rouge2_f1': rouge_scores['rouge2'].fmeasure,\n",
        "                'rougeL_f1': rouge_scores['rougeL'].fmeasure,\n",
        "                'retrieved_contexts': [res['metadata']['text'] for res in retrieved_results],\n",
        "                'context_scores': [res['score'] for res in retrieved_results]\n",
        "            }\n",
        "            results.append(result)\n",
        "\n",
        "        except Exception as e:\n",
        "            print(f\"Error processing question {idx}: {str(e)}\")\n",
        "            continue\n",
        "\n",
        "    # Convert results to DataFrame\n",
        "    results_df = pd.DataFrame(results)\n",
        "\n",
        "    # Calculate and print average scores\n",
        "    avg_scores = {\n",
        "        'Average BLEU': results_df['bleu_score'].mean(),\n",
        "        'Average ROUGE-1': results_df['rouge1_f1'].mean(),\n",
        "        'Average ROUGE-2': results_df['rouge2_f1'].mean(),\n",
        "        'Average ROUGE-L': results_df['rouge2_f1'].mean()\n",
        "    }\n",
        "\n",
        "    return results_df, avg_scores\n",
        "\n",
        "# Example usage:\n",
        "def print_evaluation_results(results_df, avg_scores):\n",
        "    print(\"\\nAverage Scores:\")\n",
        "    for metric, score in avg_scores.items():\n",
        "        print(f\"{metric}: {score:.4f}\")\n",
        "\n",
        "    print(\"\\nDetailed Results Sample (first 3):\")\n",
        "    for idx, row in results_df.head(3).iterrows():\n",
        "        print(\"\\nQuestion:\", row['question'])\n",
        "        print(\"Reference Answer:\", row['reference_answer'])\n",
        "        print(\"Generated Answer:\", row['generated_answer'])\n",
        "        print(f\"BLEU Score: {row['bleu_score']:.4f}\")\n",
        "        print(f\"ROUGE-1 F1: {row['rouge1_f1']:.4f}\")\n",
        "        print(f\"ROUGE-2 F1: {row['rouge2_f1']:.4f}\")\n",
        "        print(f\"ROUGE-L F1: {row['rougeL_f1']:.4f}\")\n",
        "        print(\"\\nRetrieved Contexts:\")\n",
        "        for context, score in zip(row['retrieved_contexts'], row['context_scores']):\n",
        "            print(f\"Score: {score:.4f}\")\n",
        "            print(f\"Context: {context[:200]}...\")"
      ]
    },
    {
      "cell_type": "code",
      "execution_count": null,
      "metadata": {
        "id": "LHONc1uFeFlX"
      },
      "outputs": [],
      "source": [
        "# Run evaluation\n",
        "results_df, avg_scores = evaluate_rag_system(\n",
        "    best_answers_df=best_answers_df,\n",
        "    bm25=bm25,\n",
        "    chunks=chunks_with_context,\n",
        "    model=embedding_model,\n",
        "    embedding_index=EMBEDDING_INDEX_CONTEXTUAL,\n",
        "    llm_chain=llm_chain,\n",
        "    reranker_cutoff=20,\n",
        "    # n_samples=10  # Optional: start with a small sample for testing\n",
        ")\n",
        "\n",
        "# Print results\n",
        "print_evaluation_results(results_df, avg_scores)\n",
        "\n",
        "# Save results to CSV (optional)\n",
        "results_df.to_csv('rag_evaluation_results.csv', index=False)"
      ]
    }
  ],
  "metadata": {
    "colab": {
      "collapsed_sections": [
        "5DsTq5PfB65i",
        "-VTES-HCnx5m",
        "NZPBwmbjThSx",
        "mQXquYWATr5Z"
      ],
      "provenance": []
    },
    "kernelspec": {
      "display_name": ".venv",
      "language": "python",
      "name": "python3"
    },
    "language_info": {
      "codemirror_mode": {
        "name": "ipython",
        "version": 3
      },
      "file_extension": ".py",
      "mimetype": "text/x-python",
      "name": "python",
      "nbconvert_exporter": "python",
      "pygments_lexer": "ipython3",
      "version": "3.11.0"
    },
    "widgets": {
      "application/vnd.jupyter.widget-state+json": {
        "04f08ecbc462489189a482ac92fbbfed": {
          "model_module": "@jupyter-widgets/controls",
          "model_module_version": "1.5.0",
          "model_name": "FloatProgressModel",
          "state": {
            "_dom_classes": [],
            "_model_module": "@jupyter-widgets/controls",
            "_model_module_version": "1.5.0",
            "_model_name": "FloatProgressModel",
            "_view_count": null,
            "_view_module": "@jupyter-widgets/controls",
            "_view_module_version": "1.5.0",
            "_view_name": "ProgressView",
            "bar_style": "success",
            "description": "",
            "description_tooltip": null,
            "layout": "IPY_MODEL_307b51b9403b485aa81c098a644f50f0",
            "max": 964,
            "min": 0,
            "orientation": "horizontal",
            "style": "IPY_MODEL_fae820606ef041f497f43891324ebcf3",
            "value": 964
          }
        },
        "05ddd35133134cc5953d2793eb5fbe3e": {
          "model_module": "@jupyter-widgets/base",
          "model_module_version": "1.2.0",
          "model_name": "LayoutModel",
          "state": {
            "_model_module": "@jupyter-widgets/base",
            "_model_module_version": "1.2.0",
            "_model_name": "LayoutModel",
            "_view_count": null,
            "_view_module": "@jupyter-widgets/base",
            "_view_module_version": "1.2.0",
            "_view_name": "LayoutView",
            "align_content": null,
            "align_items": null,
            "align_self": null,
            "border": null,
            "bottom": null,
            "display": null,
            "flex": null,
            "flex_flow": null,
            "grid_area": null,
            "grid_auto_columns": null,
            "grid_auto_flow": null,
            "grid_auto_rows": null,
            "grid_column": null,
            "grid_gap": null,
            "grid_row": null,
            "grid_template_areas": null,
            "grid_template_columns": null,
            "grid_template_rows": null,
            "height": null,
            "justify_content": null,
            "justify_items": null,
            "left": null,
            "margin": null,
            "max_height": null,
            "max_width": null,
            "min_height": null,
            "min_width": null,
            "object_fit": null,
            "object_position": null,
            "order": null,
            "overflow": null,
            "overflow_x": null,
            "overflow_y": null,
            "padding": null,
            "right": null,
            "top": null,
            "visibility": null,
            "width": null
          }
        },
        "05fe831ef6d449e3857a1dc876c90a7c": {
          "model_module": "@jupyter-widgets/controls",
          "model_module_version": "1.5.0",
          "model_name": "HTMLModel",
          "state": {
            "_dom_classes": [],
            "_model_module": "@jupyter-widgets/controls",
            "_model_module_version": "1.5.0",
            "_model_name": "HTMLModel",
            "_view_count": null,
            "_view_module": "@jupyter-widgets/controls",
            "_view_module_version": "1.5.0",
            "_view_name": "HTMLView",
            "description": "",
            "description_tooltip": null,
            "layout": "IPY_MODEL_8b47ff9657b340209a3706f97843375b",
            "placeholder": "​",
            "style": "IPY_MODEL_07928caaac954282977ac4503cddba11",
            "value": "special_tokens_map.json: 100%"
          }
        },
        "06b87d760fc64851bd5bc8911a03a955": {
          "model_module": "@jupyter-widgets/base",
          "model_module_version": "1.2.0",
          "model_name": "LayoutModel",
          "state": {
            "_model_module": "@jupyter-widgets/base",
            "_model_module_version": "1.2.0",
            "_model_name": "LayoutModel",
            "_view_count": null,
            "_view_module": "@jupyter-widgets/base",
            "_view_module_version": "1.2.0",
            "_view_name": "LayoutView",
            "align_content": null,
            "align_items": null,
            "align_self": null,
            "border": null,
            "bottom": null,
            "display": null,
            "flex": null,
            "flex_flow": null,
            "grid_area": null,
            "grid_auto_columns": null,
            "grid_auto_flow": null,
            "grid_auto_rows": null,
            "grid_column": null,
            "grid_gap": null,
            "grid_row": null,
            "grid_template_areas": null,
            "grid_template_columns": null,
            "grid_template_rows": null,
            "height": null,
            "justify_content": null,
            "justify_items": null,
            "left": null,
            "margin": null,
            "max_height": null,
            "max_width": null,
            "min_height": null,
            "min_width": null,
            "object_fit": null,
            "object_position": null,
            "order": null,
            "overflow": null,
            "overflow_x": null,
            "overflow_y": null,
            "padding": null,
            "right": null,
            "top": null,
            "visibility": null,
            "width": null
          }
        },
        "06becd01a3784253b6a909cd2abee2a0": {
          "model_module": "@jupyter-widgets/base",
          "model_module_version": "1.2.0",
          "model_name": "LayoutModel",
          "state": {
            "_model_module": "@jupyter-widgets/base",
            "_model_module_version": "1.2.0",
            "_model_name": "LayoutModel",
            "_view_count": null,
            "_view_module": "@jupyter-widgets/base",
            "_view_module_version": "1.2.0",
            "_view_name": "LayoutView",
            "align_content": null,
            "align_items": null,
            "align_self": null,
            "border": null,
            "bottom": null,
            "display": null,
            "flex": null,
            "flex_flow": null,
            "grid_area": null,
            "grid_auto_columns": null,
            "grid_auto_flow": null,
            "grid_auto_rows": null,
            "grid_column": null,
            "grid_gap": null,
            "grid_row": null,
            "grid_template_areas": null,
            "grid_template_columns": null,
            "grid_template_rows": null,
            "height": null,
            "justify_content": null,
            "justify_items": null,
            "left": null,
            "margin": null,
            "max_height": null,
            "max_width": null,
            "min_height": null,
            "min_width": null,
            "object_fit": null,
            "object_position": null,
            "order": null,
            "overflow": null,
            "overflow_x": null,
            "overflow_y": null,
            "padding": null,
            "right": null,
            "top": null,
            "visibility": null,
            "width": null
          }
        },
        "07928caaac954282977ac4503cddba11": {
          "model_module": "@jupyter-widgets/controls",
          "model_module_version": "1.5.0",
          "model_name": "DescriptionStyleModel",
          "state": {
            "_model_module": "@jupyter-widgets/controls",
            "_model_module_version": "1.5.0",
            "_model_name": "DescriptionStyleModel",
            "_view_count": null,
            "_view_module": "@jupyter-widgets/base",
            "_view_module_version": "1.2.0",
            "_view_name": "StyleView",
            "description_width": ""
          }
        },
        "0b08090986f248eea423919c4e6ef77c": {
          "model_module": "@jupyter-widgets/base",
          "model_module_version": "1.2.0",
          "model_name": "LayoutModel",
          "state": {
            "_model_module": "@jupyter-widgets/base",
            "_model_module_version": "1.2.0",
            "_model_name": "LayoutModel",
            "_view_count": null,
            "_view_module": "@jupyter-widgets/base",
            "_view_module_version": "1.2.0",
            "_view_name": "LayoutView",
            "align_content": null,
            "align_items": null,
            "align_self": null,
            "border": null,
            "bottom": null,
            "display": null,
            "flex": null,
            "flex_flow": null,
            "grid_area": null,
            "grid_auto_columns": null,
            "grid_auto_flow": null,
            "grid_auto_rows": null,
            "grid_column": null,
            "grid_gap": null,
            "grid_row": null,
            "grid_template_areas": null,
            "grid_template_columns": null,
            "grid_template_rows": null,
            "height": null,
            "justify_content": null,
            "justify_items": null,
            "left": null,
            "margin": null,
            "max_height": null,
            "max_width": null,
            "min_height": null,
            "min_width": null,
            "object_fit": null,
            "object_position": null,
            "order": null,
            "overflow": null,
            "overflow_x": null,
            "overflow_y": null,
            "padding": null,
            "right": null,
            "top": null,
            "visibility": null,
            "width": null
          }
        },
        "0bbfc32869ed4774a7f6ccc10b27c5cc": {
          "model_module": "@jupyter-widgets/controls",
          "model_module_version": "1.5.0",
          "model_name": "HBoxModel",
          "state": {
            "_dom_classes": [],
            "_model_module": "@jupyter-widgets/controls",
            "_model_module_version": "1.5.0",
            "_model_name": "HBoxModel",
            "_view_count": null,
            "_view_module": "@jupyter-widgets/controls",
            "_view_module_version": "1.5.0",
            "_view_name": "HBoxView",
            "box_style": "",
            "children": [
              "IPY_MODEL_f38a0ff551b24dfc8ebc98ec9b0666eb",
              "IPY_MODEL_81773f9406fa4975ad238e82357e1b89",
              "IPY_MODEL_86ddfc36ed5b4999a8c908eee6096754"
            ],
            "layout": "IPY_MODEL_3e5a5f41c3144d36853ed4d1b68544c5"
          }
        },
        "0e08aecbc47b4ee5b87bd3d3158bf3ee": {
          "model_module": "@jupyter-widgets/controls",
          "model_module_version": "1.5.0",
          "model_name": "HTMLModel",
          "state": {
            "_dom_classes": [],
            "_model_module": "@jupyter-widgets/controls",
            "_model_module_version": "1.5.0",
            "_model_name": "HTMLModel",
            "_view_count": null,
            "_view_module": "@jupyter-widgets/controls",
            "_view_module_version": "1.5.0",
            "_view_name": "HTMLView",
            "description": "",
            "description_tooltip": null,
            "layout": "IPY_MODEL_2bfb89180bc84b94bd993ce2c5e8a34c",
            "placeholder": "​",
            "style": "IPY_MODEL_982145567f854556b27d2312160a0a93",
            "value": "tokenizer.json: 100%"
          }
        },
        "14071b0512b94c3181e53db7b3a35202": {
          "model_module": "@jupyter-widgets/controls",
          "model_module_version": "1.5.0",
          "model_name": "HTMLModel",
          "state": {
            "_dom_classes": [],
            "_model_module": "@jupyter-widgets/controls",
            "_model_module_version": "1.5.0",
            "_model_name": "HTMLModel",
            "_view_count": null,
            "_view_module": "@jupyter-widgets/controls",
            "_view_module_version": "1.5.0",
            "_view_name": "HTMLView",
            "description": "",
            "description_tooltip": null,
            "layout": "IPY_MODEL_af9fc53cbd414753a7fa4043889b70d9",
            "placeholder": "​",
            "style": "IPY_MODEL_54f70b15dbef48ee965499b73b3ab6e6",
            "value": "Uploading the dataset shards: 100%"
          }
        },
        "16a8421160964e40b9ede191e77df80c": {
          "model_module": "@jupyter-widgets/controls",
          "model_module_version": "1.5.0",
          "model_name": "DescriptionStyleModel",
          "state": {
            "_model_module": "@jupyter-widgets/controls",
            "_model_module_version": "1.5.0",
            "_model_name": "DescriptionStyleModel",
            "_view_count": null,
            "_view_module": "@jupyter-widgets/base",
            "_view_module_version": "1.2.0",
            "_view_name": "StyleView",
            "description_width": ""
          }
        },
        "19b59b368b61494daf408b97dc377f0f": {
          "model_module": "@jupyter-widgets/controls",
          "model_module_version": "1.5.0",
          "model_name": "FloatProgressModel",
          "state": {
            "_dom_classes": [],
            "_model_module": "@jupyter-widgets/controls",
            "_model_module_version": "1.5.0",
            "_model_name": "FloatProgressModel",
            "_view_count": null,
            "_view_module": "@jupyter-widgets/controls",
            "_view_module_version": "1.5.0",
            "_view_name": "ProgressView",
            "bar_style": "success",
            "description": "",
            "description_tooltip": null,
            "layout": "IPY_MODEL_ed494b9ae9044cd5925762de0a60b0c5",
            "max": 17098273,
            "min": 0,
            "orientation": "horizontal",
            "style": "IPY_MODEL_f70ed97874274c0c91cf59c0da1af841",
            "value": 17098273
          }
        },
        "1a17c06c44aa47968f7a53b27c6629c3": {
          "model_module": "@jupyter-widgets/base",
          "model_module_version": "1.2.0",
          "model_name": "LayoutModel",
          "state": {
            "_model_module": "@jupyter-widgets/base",
            "_model_module_version": "1.2.0",
            "_model_name": "LayoutModel",
            "_view_count": null,
            "_view_module": "@jupyter-widgets/base",
            "_view_module_version": "1.2.0",
            "_view_name": "LayoutView",
            "align_content": null,
            "align_items": null,
            "align_self": null,
            "border": null,
            "bottom": null,
            "display": null,
            "flex": null,
            "flex_flow": null,
            "grid_area": null,
            "grid_auto_columns": null,
            "grid_auto_flow": null,
            "grid_auto_rows": null,
            "grid_column": null,
            "grid_gap": null,
            "grid_row": null,
            "grid_template_areas": null,
            "grid_template_columns": null,
            "grid_template_rows": null,
            "height": null,
            "justify_content": null,
            "justify_items": null,
            "left": null,
            "margin": null,
            "max_height": null,
            "max_width": null,
            "min_height": null,
            "min_width": null,
            "object_fit": null,
            "object_position": null,
            "order": null,
            "overflow": null,
            "overflow_x": null,
            "overflow_y": null,
            "padding": null,
            "right": null,
            "top": null,
            "visibility": null,
            "width": null
          }
        },
        "1cbb00e355c94d5a976b27a138cba919": {
          "model_module": "@jupyter-widgets/controls",
          "model_module_version": "1.5.0",
          "model_name": "DescriptionStyleModel",
          "state": {
            "_model_module": "@jupyter-widgets/controls",
            "_model_module_version": "1.5.0",
            "_model_name": "DescriptionStyleModel",
            "_view_count": null,
            "_view_module": "@jupyter-widgets/base",
            "_view_module_version": "1.2.0",
            "_view_name": "StyleView",
            "description_width": ""
          }
        },
        "1d02a72cc2c54413b10a1ac3fa2ec5e5": {
          "model_module": "@jupyter-widgets/controls",
          "model_module_version": "1.5.0",
          "model_name": "HBoxModel",
          "state": {
            "_dom_classes": [],
            "_model_module": "@jupyter-widgets/controls",
            "_model_module_version": "1.5.0",
            "_model_name": "HBoxModel",
            "_view_count": null,
            "_view_module": "@jupyter-widgets/controls",
            "_view_module_version": "1.5.0",
            "_view_name": "HBoxView",
            "box_style": "",
            "children": [
              "IPY_MODEL_baf30f53dab94a93bc83abf450b05ea6",
              "IPY_MODEL_445fc9399b484a9e91323f921c1b0102",
              "IPY_MODEL_99a15f7ee88d46119ce7b2bb1300b04b"
            ],
            "layout": "IPY_MODEL_588668013bf842d1b7296d69164bdc59"
          }
        },
        "1d65be4e31c441ab9165801d6c54df53": {
          "model_module": "@jupyter-widgets/controls",
          "model_module_version": "1.5.0",
          "model_name": "DescriptionStyleModel",
          "state": {
            "_model_module": "@jupyter-widgets/controls",
            "_model_module_version": "1.5.0",
            "_model_name": "DescriptionStyleModel",
            "_view_count": null,
            "_view_module": "@jupyter-widgets/base",
            "_view_module_version": "1.2.0",
            "_view_name": "StyleView",
            "description_width": ""
          }
        },
        "26a2f6db7418417399e89aec0304874d": {
          "model_module": "@jupyter-widgets/controls",
          "model_module_version": "1.5.0",
          "model_name": "DescriptionStyleModel",
          "state": {
            "_model_module": "@jupyter-widgets/controls",
            "_model_module_version": "1.5.0",
            "_model_name": "DescriptionStyleModel",
            "_view_count": null,
            "_view_module": "@jupyter-widgets/base",
            "_view_module_version": "1.2.0",
            "_view_name": "StyleView",
            "description_width": ""
          }
        },
        "2bfb89180bc84b94bd993ce2c5e8a34c": {
          "model_module": "@jupyter-widgets/base",
          "model_module_version": "1.2.0",
          "model_name": "LayoutModel",
          "state": {
            "_model_module": "@jupyter-widgets/base",
            "_model_module_version": "1.2.0",
            "_model_name": "LayoutModel",
            "_view_count": null,
            "_view_module": "@jupyter-widgets/base",
            "_view_module_version": "1.2.0",
            "_view_name": "LayoutView",
            "align_content": null,
            "align_items": null,
            "align_self": null,
            "border": null,
            "bottom": null,
            "display": null,
            "flex": null,
            "flex_flow": null,
            "grid_area": null,
            "grid_auto_columns": null,
            "grid_auto_flow": null,
            "grid_auto_rows": null,
            "grid_column": null,
            "grid_gap": null,
            "grid_row": null,
            "grid_template_areas": null,
            "grid_template_columns": null,
            "grid_template_rows": null,
            "height": null,
            "justify_content": null,
            "justify_items": null,
            "left": null,
            "margin": null,
            "max_height": null,
            "max_width": null,
            "min_height": null,
            "min_width": null,
            "object_fit": null,
            "object_position": null,
            "order": null,
            "overflow": null,
            "overflow_x": null,
            "overflow_y": null,
            "padding": null,
            "right": null,
            "top": null,
            "visibility": null,
            "width": null
          }
        },
        "307b51b9403b485aa81c098a644f50f0": {
          "model_module": "@jupyter-widgets/base",
          "model_module_version": "1.2.0",
          "model_name": "LayoutModel",
          "state": {
            "_model_module": "@jupyter-widgets/base",
            "_model_module_version": "1.2.0",
            "_model_name": "LayoutModel",
            "_view_count": null,
            "_view_module": "@jupyter-widgets/base",
            "_view_module_version": "1.2.0",
            "_view_name": "LayoutView",
            "align_content": null,
            "align_items": null,
            "align_self": null,
            "border": null,
            "bottom": null,
            "display": null,
            "flex": null,
            "flex_flow": null,
            "grid_area": null,
            "grid_auto_columns": null,
            "grid_auto_flow": null,
            "grid_auto_rows": null,
            "grid_column": null,
            "grid_gap": null,
            "grid_row": null,
            "grid_template_areas": null,
            "grid_template_columns": null,
            "grid_template_rows": null,
            "height": null,
            "justify_content": null,
            "justify_items": null,
            "left": null,
            "margin": null,
            "max_height": null,
            "max_width": null,
            "min_height": null,
            "min_width": null,
            "object_fit": null,
            "object_position": null,
            "order": null,
            "overflow": null,
            "overflow_x": null,
            "overflow_y": null,
            "padding": null,
            "right": null,
            "top": null,
            "visibility": null,
            "width": null
          }
        },
        "317b7e9d979446a8b063e32fed3c228a": {
          "model_module": "@jupyter-widgets/base",
          "model_module_version": "1.2.0",
          "model_name": "LayoutModel",
          "state": {
            "_model_module": "@jupyter-widgets/base",
            "_model_module_version": "1.2.0",
            "_model_name": "LayoutModel",
            "_view_count": null,
            "_view_module": "@jupyter-widgets/base",
            "_view_module_version": "1.2.0",
            "_view_name": "LayoutView",
            "align_content": null,
            "align_items": null,
            "align_self": null,
            "border": null,
            "bottom": null,
            "display": null,
            "flex": null,
            "flex_flow": null,
            "grid_area": null,
            "grid_auto_columns": null,
            "grid_auto_flow": null,
            "grid_auto_rows": null,
            "grid_column": null,
            "grid_gap": null,
            "grid_row": null,
            "grid_template_areas": null,
            "grid_template_columns": null,
            "grid_template_rows": null,
            "height": null,
            "justify_content": null,
            "justify_items": null,
            "left": null,
            "margin": null,
            "max_height": null,
            "max_width": null,
            "min_height": null,
            "min_width": null,
            "object_fit": null,
            "object_position": null,
            "order": null,
            "overflow": null,
            "overflow_x": null,
            "overflow_y": null,
            "padding": null,
            "right": null,
            "top": null,
            "visibility": null,
            "width": null
          }
        },
        "32085a1ad93e4c088db0d236fe860dac": {
          "model_module": "@jupyter-widgets/controls",
          "model_module_version": "1.5.0",
          "model_name": "HTMLModel",
          "state": {
            "_dom_classes": [],
            "_model_module": "@jupyter-widgets/controls",
            "_model_module_version": "1.5.0",
            "_model_name": "HTMLModel",
            "_view_count": null,
            "_view_module": "@jupyter-widgets/controls",
            "_view_module_version": "1.5.0",
            "_view_name": "HTMLView",
            "description": "",
            "description_tooltip": null,
            "layout": "IPY_MODEL_87d64ae52c024c119d00dbb83e5f41ef",
            "placeholder": "​",
            "style": "IPY_MODEL_fa39fc7705f94d5aa3fae2a794f9fb9f",
            "value": " 17.1M/17.1M [00:00&lt;00:00, 44.3MB/s]"
          }
        },
        "335287a22b5242c2b58e22334f976633": {
          "model_module": "@jupyter-widgets/controls",
          "model_module_version": "1.5.0",
          "model_name": "FloatProgressModel",
          "state": {
            "_dom_classes": [],
            "_model_module": "@jupyter-widgets/controls",
            "_model_module_version": "1.5.0",
            "_model_name": "FloatProgressModel",
            "_view_count": null,
            "_view_module": "@jupyter-widgets/controls",
            "_view_module_version": "1.5.0",
            "_view_name": "ProgressView",
            "bar_style": "success",
            "description": "",
            "description_tooltip": null,
            "layout": "IPY_MODEL_06becd01a3784253b6a909cd2abee2a0",
            "max": 2271071852,
            "min": 0,
            "orientation": "horizontal",
            "style": "IPY_MODEL_ebcfefa969cb4aa5a62926a5e4ff2998",
            "value": 2271071852
          }
        },
        "3e5a5f41c3144d36853ed4d1b68544c5": {
          "model_module": "@jupyter-widgets/base",
          "model_module_version": "1.2.0",
          "model_name": "LayoutModel",
          "state": {
            "_model_module": "@jupyter-widgets/base",
            "_model_module_version": "1.2.0",
            "_model_name": "LayoutModel",
            "_view_count": null,
            "_view_module": "@jupyter-widgets/base",
            "_view_module_version": "1.2.0",
            "_view_name": "LayoutView",
            "align_content": null,
            "align_items": null,
            "align_self": null,
            "border": null,
            "bottom": null,
            "display": null,
            "flex": null,
            "flex_flow": null,
            "grid_area": null,
            "grid_auto_columns": null,
            "grid_auto_flow": null,
            "grid_auto_rows": null,
            "grid_column": null,
            "grid_gap": null,
            "grid_row": null,
            "grid_template_areas": null,
            "grid_template_columns": null,
            "grid_template_rows": null,
            "height": null,
            "justify_content": null,
            "justify_items": null,
            "left": null,
            "margin": null,
            "max_height": null,
            "max_width": null,
            "min_height": null,
            "min_width": null,
            "object_fit": null,
            "object_position": null,
            "order": null,
            "overflow": null,
            "overflow_x": null,
            "overflow_y": null,
            "padding": null,
            "right": null,
            "top": null,
            "visibility": null,
            "width": null
          }
        },
        "445fc9399b484a9e91323f921c1b0102": {
          "model_module": "@jupyter-widgets/controls",
          "model_module_version": "1.5.0",
          "model_name": "FloatProgressModel",
          "state": {
            "_dom_classes": [],
            "_model_module": "@jupyter-widgets/controls",
            "_model_module_version": "1.5.0",
            "_model_name": "FloatProgressModel",
            "_view_count": null,
            "_view_module": "@jupyter-widgets/controls",
            "_view_module_version": "1.5.0",
            "_view_name": "ProgressView",
            "bar_style": "success",
            "description": "",
            "description_tooltip": null,
            "layout": "IPY_MODEL_317b7e9d979446a8b063e32fed3c228a",
            "max": 795,
            "min": 0,
            "orientation": "horizontal",
            "style": "IPY_MODEL_6a3ebe434c5748e68452551977b8a99d",
            "value": 795
          }
        },
        "48d1f18d95874fc1904ca98232595481": {
          "model_module": "@jupyter-widgets/base",
          "model_module_version": "1.2.0",
          "model_name": "LayoutModel",
          "state": {
            "_model_module": "@jupyter-widgets/base",
            "_model_module_version": "1.2.0",
            "_model_name": "LayoutModel",
            "_view_count": null,
            "_view_module": "@jupyter-widgets/base",
            "_view_module_version": "1.2.0",
            "_view_name": "LayoutView",
            "align_content": null,
            "align_items": null,
            "align_self": null,
            "border": null,
            "bottom": null,
            "display": null,
            "flex": null,
            "flex_flow": null,
            "grid_area": null,
            "grid_auto_columns": null,
            "grid_auto_flow": null,
            "grid_auto_rows": null,
            "grid_column": null,
            "grid_gap": null,
            "grid_row": null,
            "grid_template_areas": null,
            "grid_template_columns": null,
            "grid_template_rows": null,
            "height": null,
            "justify_content": null,
            "justify_items": null,
            "left": null,
            "margin": null,
            "max_height": null,
            "max_width": null,
            "min_height": null,
            "min_width": null,
            "object_fit": null,
            "object_position": null,
            "order": null,
            "overflow": null,
            "overflow_x": null,
            "overflow_y": null,
            "padding": null,
            "right": null,
            "top": null,
            "visibility": null,
            "width": null
          }
        },
        "50fd9a4eea954b5d9c75ed91ad4a89d6": {
          "model_module": "@jupyter-widgets/base",
          "model_module_version": "1.2.0",
          "model_name": "LayoutModel",
          "state": {
            "_model_module": "@jupyter-widgets/base",
            "_model_module_version": "1.2.0",
            "_model_name": "LayoutModel",
            "_view_count": null,
            "_view_module": "@jupyter-widgets/base",
            "_view_module_version": "1.2.0",
            "_view_name": "LayoutView",
            "align_content": null,
            "align_items": null,
            "align_self": null,
            "border": null,
            "bottom": null,
            "display": null,
            "flex": null,
            "flex_flow": null,
            "grid_area": null,
            "grid_auto_columns": null,
            "grid_auto_flow": null,
            "grid_auto_rows": null,
            "grid_column": null,
            "grid_gap": null,
            "grid_row": null,
            "grid_template_areas": null,
            "grid_template_columns": null,
            "grid_template_rows": null,
            "height": null,
            "justify_content": null,
            "justify_items": null,
            "left": null,
            "margin": null,
            "max_height": null,
            "max_width": null,
            "min_height": null,
            "min_width": null,
            "object_fit": null,
            "object_position": null,
            "order": null,
            "overflow": null,
            "overflow_x": null,
            "overflow_y": null,
            "padding": null,
            "right": null,
            "top": null,
            "visibility": null,
            "width": null
          }
        },
        "5360e1055d364a348b8e32eb8bbacff3": {
          "model_module": "@jupyter-widgets/base",
          "model_module_version": "1.2.0",
          "model_name": "LayoutModel",
          "state": {
            "_model_module": "@jupyter-widgets/base",
            "_model_module_version": "1.2.0",
            "_model_name": "LayoutModel",
            "_view_count": null,
            "_view_module": "@jupyter-widgets/base",
            "_view_module_version": "1.2.0",
            "_view_name": "LayoutView",
            "align_content": null,
            "align_items": null,
            "align_self": null,
            "border": null,
            "bottom": null,
            "display": null,
            "flex": null,
            "flex_flow": null,
            "grid_area": null,
            "grid_auto_columns": null,
            "grid_auto_flow": null,
            "grid_auto_rows": null,
            "grid_column": null,
            "grid_gap": null,
            "grid_row": null,
            "grid_template_areas": null,
            "grid_template_columns": null,
            "grid_template_rows": null,
            "height": null,
            "justify_content": null,
            "justify_items": null,
            "left": null,
            "margin": null,
            "max_height": null,
            "max_width": null,
            "min_height": null,
            "min_width": null,
            "object_fit": null,
            "object_position": null,
            "order": null,
            "overflow": null,
            "overflow_x": null,
            "overflow_y": null,
            "padding": null,
            "right": null,
            "top": null,
            "visibility": null,
            "width": null
          }
        },
        "54635d847e1f4e6fadd69f14c0695eab": {
          "model_module": "@jupyter-widgets/base",
          "model_module_version": "1.2.0",
          "model_name": "LayoutModel",
          "state": {
            "_model_module": "@jupyter-widgets/base",
            "_model_module_version": "1.2.0",
            "_model_name": "LayoutModel",
            "_view_count": null,
            "_view_module": "@jupyter-widgets/base",
            "_view_module_version": "1.2.0",
            "_view_name": "LayoutView",
            "align_content": null,
            "align_items": null,
            "align_self": null,
            "border": null,
            "bottom": null,
            "display": null,
            "flex": null,
            "flex_flow": null,
            "grid_area": null,
            "grid_auto_columns": null,
            "grid_auto_flow": null,
            "grid_auto_rows": null,
            "grid_column": null,
            "grid_gap": null,
            "grid_row": null,
            "grid_template_areas": null,
            "grid_template_columns": null,
            "grid_template_rows": null,
            "height": null,
            "justify_content": null,
            "justify_items": null,
            "left": null,
            "margin": null,
            "max_height": null,
            "max_width": null,
            "min_height": null,
            "min_width": null,
            "object_fit": null,
            "object_position": null,
            "order": null,
            "overflow": null,
            "overflow_x": null,
            "overflow_y": null,
            "padding": null,
            "right": null,
            "top": null,
            "visibility": null,
            "width": null
          }
        },
        "54f70b15dbef48ee965499b73b3ab6e6": {
          "model_module": "@jupyter-widgets/controls",
          "model_module_version": "1.5.0",
          "model_name": "DescriptionStyleModel",
          "state": {
            "_model_module": "@jupyter-widgets/controls",
            "_model_module_version": "1.5.0",
            "_model_name": "DescriptionStyleModel",
            "_view_count": null,
            "_view_module": "@jupyter-widgets/base",
            "_view_module_version": "1.2.0",
            "_view_name": "StyleView",
            "description_width": ""
          }
        },
        "56d2c2fa1f214205a7a0fa9bcc5ccf31": {
          "model_module": "@jupyter-widgets/controls",
          "model_module_version": "1.5.0",
          "model_name": "ProgressStyleModel",
          "state": {
            "_model_module": "@jupyter-widgets/controls",
            "_model_module_version": "1.5.0",
            "_model_name": "ProgressStyleModel",
            "_view_count": null,
            "_view_module": "@jupyter-widgets/base",
            "_view_module_version": "1.2.0",
            "_view_name": "StyleView",
            "bar_color": null,
            "description_width": ""
          }
        },
        "588668013bf842d1b7296d69164bdc59": {
          "model_module": "@jupyter-widgets/base",
          "model_module_version": "1.2.0",
          "model_name": "LayoutModel",
          "state": {
            "_model_module": "@jupyter-widgets/base",
            "_model_module_version": "1.2.0",
            "_model_name": "LayoutModel",
            "_view_count": null,
            "_view_module": "@jupyter-widgets/base",
            "_view_module_version": "1.2.0",
            "_view_name": "LayoutView",
            "align_content": null,
            "align_items": null,
            "align_self": null,
            "border": null,
            "bottom": null,
            "display": null,
            "flex": null,
            "flex_flow": null,
            "grid_area": null,
            "grid_auto_columns": null,
            "grid_auto_flow": null,
            "grid_auto_rows": null,
            "grid_column": null,
            "grid_gap": null,
            "grid_row": null,
            "grid_template_areas": null,
            "grid_template_columns": null,
            "grid_template_rows": null,
            "height": null,
            "justify_content": null,
            "justify_items": null,
            "left": null,
            "margin": null,
            "max_height": null,
            "max_width": null,
            "min_height": null,
            "min_width": null,
            "object_fit": null,
            "object_position": null,
            "order": null,
            "overflow": null,
            "overflow_x": null,
            "overflow_y": null,
            "padding": null,
            "right": null,
            "top": null,
            "visibility": null,
            "width": null
          }
        },
        "591704ad35224966b086db29df777f07": {
          "model_module": "@jupyter-widgets/controls",
          "model_module_version": "1.5.0",
          "model_name": "DescriptionStyleModel",
          "state": {
            "_model_module": "@jupyter-widgets/controls",
            "_model_module_version": "1.5.0",
            "_model_name": "DescriptionStyleModel",
            "_view_count": null,
            "_view_module": "@jupyter-widgets/base",
            "_view_module_version": "1.2.0",
            "_view_name": "StyleView",
            "description_width": ""
          }
        },
        "624007fca6fc4859be912a9a0b6a8ee3": {
          "model_module": "@jupyter-widgets/controls",
          "model_module_version": "1.5.0",
          "model_name": "HBoxModel",
          "state": {
            "_dom_classes": [],
            "_model_module": "@jupyter-widgets/controls",
            "_model_module_version": "1.5.0",
            "_model_name": "HBoxModel",
            "_view_count": null,
            "_view_module": "@jupyter-widgets/controls",
            "_view_module_version": "1.5.0",
            "_view_name": "HBoxView",
            "box_style": "",
            "children": [
              "IPY_MODEL_77d599ebad874111858f71828e2ae1b6",
              "IPY_MODEL_ac8be4e0cd274f16b6bb2c5a779d5390",
              "IPY_MODEL_91b0ab45bcdf4b4e82f9dfc031392723"
            ],
            "layout": "IPY_MODEL_06b87d760fc64851bd5bc8911a03a955"
          }
        },
        "696b74a79fc44ef6bc22bbb22c152453": {
          "model_module": "@jupyter-widgets/controls",
          "model_module_version": "1.5.0",
          "model_name": "DescriptionStyleModel",
          "state": {
            "_model_module": "@jupyter-widgets/controls",
            "_model_module_version": "1.5.0",
            "_model_name": "DescriptionStyleModel",
            "_view_count": null,
            "_view_module": "@jupyter-widgets/base",
            "_view_module_version": "1.2.0",
            "_view_name": "StyleView",
            "description_width": ""
          }
        },
        "6a1a3bfc7af4415aadc5cc87d33c916a": {
          "model_module": "@jupyter-widgets/controls",
          "model_module_version": "1.5.0",
          "model_name": "HBoxModel",
          "state": {
            "_dom_classes": [],
            "_model_module": "@jupyter-widgets/controls",
            "_model_module_version": "1.5.0",
            "_model_name": "HBoxModel",
            "_view_count": null,
            "_view_module": "@jupyter-widgets/controls",
            "_view_module_version": "1.5.0",
            "_view_name": "HBoxView",
            "box_style": "",
            "children": [
              "IPY_MODEL_0e08aecbc47b4ee5b87bd3d3158bf3ee",
              "IPY_MODEL_19b59b368b61494daf408b97dc377f0f",
              "IPY_MODEL_32085a1ad93e4c088db0d236fe860dac"
            ],
            "layout": "IPY_MODEL_54635d847e1f4e6fadd69f14c0695eab"
          }
        },
        "6a3ebe434c5748e68452551977b8a99d": {
          "model_module": "@jupyter-widgets/controls",
          "model_module_version": "1.5.0",
          "model_name": "ProgressStyleModel",
          "state": {
            "_model_module": "@jupyter-widgets/controls",
            "_model_module_version": "1.5.0",
            "_model_name": "ProgressStyleModel",
            "_view_count": null,
            "_view_module": "@jupyter-widgets/base",
            "_view_module_version": "1.2.0",
            "_view_name": "StyleView",
            "bar_color": null,
            "description_width": ""
          }
        },
        "6d1ff09658de4c47b998fd39ab5a8d96": {
          "model_module": "@jupyter-widgets/base",
          "model_module_version": "1.2.0",
          "model_name": "LayoutModel",
          "state": {
            "_model_module": "@jupyter-widgets/base",
            "_model_module_version": "1.2.0",
            "_model_name": "LayoutModel",
            "_view_count": null,
            "_view_module": "@jupyter-widgets/base",
            "_view_module_version": "1.2.0",
            "_view_name": "LayoutView",
            "align_content": null,
            "align_items": null,
            "align_self": null,
            "border": null,
            "bottom": null,
            "display": null,
            "flex": null,
            "flex_flow": null,
            "grid_area": null,
            "grid_auto_columns": null,
            "grid_auto_flow": null,
            "grid_auto_rows": null,
            "grid_column": null,
            "grid_gap": null,
            "grid_row": null,
            "grid_template_areas": null,
            "grid_template_columns": null,
            "grid_template_rows": null,
            "height": null,
            "justify_content": null,
            "justify_items": null,
            "left": null,
            "margin": null,
            "max_height": null,
            "max_width": null,
            "min_height": null,
            "min_width": null,
            "object_fit": null,
            "object_position": null,
            "order": null,
            "overflow": null,
            "overflow_x": null,
            "overflow_y": null,
            "padding": null,
            "right": null,
            "top": null,
            "visibility": null,
            "width": null
          }
        },
        "6ed6f3b38503478e9cf614c8a17702c5": {
          "model_module": "@jupyter-widgets/base",
          "model_module_version": "1.2.0",
          "model_name": "LayoutModel",
          "state": {
            "_model_module": "@jupyter-widgets/base",
            "_model_module_version": "1.2.0",
            "_model_name": "LayoutModel",
            "_view_count": null,
            "_view_module": "@jupyter-widgets/base",
            "_view_module_version": "1.2.0",
            "_view_name": "LayoutView",
            "align_content": null,
            "align_items": null,
            "align_self": null,
            "border": null,
            "bottom": null,
            "display": null,
            "flex": null,
            "flex_flow": null,
            "grid_area": null,
            "grid_auto_columns": null,
            "grid_auto_flow": null,
            "grid_auto_rows": null,
            "grid_column": null,
            "grid_gap": null,
            "grid_row": null,
            "grid_template_areas": null,
            "grid_template_columns": null,
            "grid_template_rows": null,
            "height": null,
            "justify_content": null,
            "justify_items": null,
            "left": null,
            "margin": null,
            "max_height": null,
            "max_width": null,
            "min_height": null,
            "min_width": null,
            "object_fit": null,
            "object_position": null,
            "order": null,
            "overflow": null,
            "overflow_x": null,
            "overflow_y": null,
            "padding": null,
            "right": null,
            "top": null,
            "visibility": null,
            "width": null
          }
        },
        "701ad4ee0fc64ed9ab40783234ff801b": {
          "model_module": "@jupyter-widgets/controls",
          "model_module_version": "1.5.0",
          "model_name": "HBoxModel",
          "state": {
            "_dom_classes": [],
            "_model_module": "@jupyter-widgets/controls",
            "_model_module_version": "1.5.0",
            "_model_name": "HBoxModel",
            "_view_count": null,
            "_view_module": "@jupyter-widgets/controls",
            "_view_module_version": "1.5.0",
            "_view_name": "HBoxView",
            "box_style": "",
            "children": [
              "IPY_MODEL_05fe831ef6d449e3857a1dc876c90a7c",
              "IPY_MODEL_04f08ecbc462489189a482ac92fbbfed",
              "IPY_MODEL_df28802e9c3b40a19f8accb150da3c48"
            ],
            "layout": "IPY_MODEL_79a9eab5298a4e89b9f35b53f6b18fa8"
          }
        },
        "70584dbd70df495cb79be133338b14ba": {
          "model_module": "@jupyter-widgets/controls",
          "model_module_version": "1.5.0",
          "model_name": "DescriptionStyleModel",
          "state": {
            "_model_module": "@jupyter-widgets/controls",
            "_model_module_version": "1.5.0",
            "_model_name": "DescriptionStyleModel",
            "_view_count": null,
            "_view_module": "@jupyter-widgets/base",
            "_view_module_version": "1.2.0",
            "_view_name": "StyleView",
            "description_width": ""
          }
        },
        "71bf7d9ec9764088b237b086b97e9c33": {
          "model_module": "@jupyter-widgets/controls",
          "model_module_version": "1.5.0",
          "model_name": "DescriptionStyleModel",
          "state": {
            "_model_module": "@jupyter-widgets/controls",
            "_model_module_version": "1.5.0",
            "_model_name": "DescriptionStyleModel",
            "_view_count": null,
            "_view_module": "@jupyter-widgets/base",
            "_view_module_version": "1.2.0",
            "_view_name": "StyleView",
            "description_width": ""
          }
        },
        "74445dd1678a4ac2b3093f22a8879c9e": {
          "model_module": "@jupyter-widgets/controls",
          "model_module_version": "1.5.0",
          "model_name": "DescriptionStyleModel",
          "state": {
            "_model_module": "@jupyter-widgets/controls",
            "_model_module_version": "1.5.0",
            "_model_name": "DescriptionStyleModel",
            "_view_count": null,
            "_view_module": "@jupyter-widgets/base",
            "_view_module_version": "1.2.0",
            "_view_name": "StyleView",
            "description_width": ""
          }
        },
        "7610eb823dcb447b83c1f07d4e922c9b": {
          "model_module": "@jupyter-widgets/controls",
          "model_module_version": "1.5.0",
          "model_name": "HBoxModel",
          "state": {
            "_dom_classes": [],
            "_model_module": "@jupyter-widgets/controls",
            "_model_module_version": "1.5.0",
            "_model_name": "HBoxModel",
            "_view_count": null,
            "_view_module": "@jupyter-widgets/controls",
            "_view_module_version": "1.5.0",
            "_view_name": "HBoxView",
            "box_style": "",
            "children": [
              "IPY_MODEL_95ea3550d20f45b7a2402f59fd581e34",
              "IPY_MODEL_ee9778ad21a14bfa92223cb6de4741b5",
              "IPY_MODEL_b81a5e87e001431a926539b99bfab218"
            ],
            "layout": "IPY_MODEL_df87fa25688b4ad0b72118ce661eac05"
          }
        },
        "76a99c20f17841fab64199faa2002154": {
          "model_module": "@jupyter-widgets/base",
          "model_module_version": "1.2.0",
          "model_name": "LayoutModel",
          "state": {
            "_model_module": "@jupyter-widgets/base",
            "_model_module_version": "1.2.0",
            "_model_name": "LayoutModel",
            "_view_count": null,
            "_view_module": "@jupyter-widgets/base",
            "_view_module_version": "1.2.0",
            "_view_name": "LayoutView",
            "align_content": null,
            "align_items": null,
            "align_self": null,
            "border": null,
            "bottom": null,
            "display": null,
            "flex": null,
            "flex_flow": null,
            "grid_area": null,
            "grid_auto_columns": null,
            "grid_auto_flow": null,
            "grid_auto_rows": null,
            "grid_column": null,
            "grid_gap": null,
            "grid_row": null,
            "grid_template_areas": null,
            "grid_template_columns": null,
            "grid_template_rows": null,
            "height": null,
            "justify_content": null,
            "justify_items": null,
            "left": null,
            "margin": null,
            "max_height": null,
            "max_width": null,
            "min_height": null,
            "min_width": null,
            "object_fit": null,
            "object_position": null,
            "order": null,
            "overflow": null,
            "overflow_x": null,
            "overflow_y": null,
            "padding": null,
            "right": null,
            "top": null,
            "visibility": null,
            "width": null
          }
        },
        "77d599ebad874111858f71828e2ae1b6": {
          "model_module": "@jupyter-widgets/controls",
          "model_module_version": "1.5.0",
          "model_name": "HTMLModel",
          "state": {
            "_dom_classes": [],
            "_model_module": "@jupyter-widgets/controls",
            "_model_module_version": "1.5.0",
            "_model_name": "HTMLModel",
            "_view_count": null,
            "_view_module": "@jupyter-widgets/controls",
            "_view_module_version": "1.5.0",
            "_view_name": "HTMLView",
            "description": "",
            "description_tooltip": null,
            "layout": "IPY_MODEL_9efd40492cbb4ea2b4e2a3b0907283e3",
            "placeholder": "​",
            "style": "IPY_MODEL_696b74a79fc44ef6bc22bbb22c152453",
            "value": "tokenizer_config.json: 100%"
          }
        },
        "788b2295dbe540728fa17fd58b6725dc": {
          "model_module": "@jupyter-widgets/controls",
          "model_module_version": "1.5.0",
          "model_name": "ProgressStyleModel",
          "state": {
            "_model_module": "@jupyter-widgets/controls",
            "_model_module_version": "1.5.0",
            "_model_name": "ProgressStyleModel",
            "_view_count": null,
            "_view_module": "@jupyter-widgets/base",
            "_view_module_version": "1.2.0",
            "_view_name": "StyleView",
            "bar_color": null,
            "description_width": ""
          }
        },
        "79a9eab5298a4e89b9f35b53f6b18fa8": {
          "model_module": "@jupyter-widgets/base",
          "model_module_version": "1.2.0",
          "model_name": "LayoutModel",
          "state": {
            "_model_module": "@jupyter-widgets/base",
            "_model_module_version": "1.2.0",
            "_model_name": "LayoutModel",
            "_view_count": null,
            "_view_module": "@jupyter-widgets/base",
            "_view_module_version": "1.2.0",
            "_view_name": "LayoutView",
            "align_content": null,
            "align_items": null,
            "align_self": null,
            "border": null,
            "bottom": null,
            "display": null,
            "flex": null,
            "flex_flow": null,
            "grid_area": null,
            "grid_auto_columns": null,
            "grid_auto_flow": null,
            "grid_auto_rows": null,
            "grid_column": null,
            "grid_gap": null,
            "grid_row": null,
            "grid_template_areas": null,
            "grid_template_columns": null,
            "grid_template_rows": null,
            "height": null,
            "justify_content": null,
            "justify_items": null,
            "left": null,
            "margin": null,
            "max_height": null,
            "max_width": null,
            "min_height": null,
            "min_width": null,
            "object_fit": null,
            "object_position": null,
            "order": null,
            "overflow": null,
            "overflow_x": null,
            "overflow_y": null,
            "padding": null,
            "right": null,
            "top": null,
            "visibility": null,
            "width": null
          }
        },
        "81773f9406fa4975ad238e82357e1b89": {
          "model_module": "@jupyter-widgets/controls",
          "model_module_version": "1.5.0",
          "model_name": "FloatProgressModel",
          "state": {
            "_dom_classes": [],
            "_model_module": "@jupyter-widgets/controls",
            "_model_module_version": "1.5.0",
            "_model_name": "FloatProgressModel",
            "_view_count": null,
            "_view_module": "@jupyter-widgets/controls",
            "_view_module_version": "1.5.0",
            "_view_name": "ProgressView",
            "bar_style": "success",
            "description": "",
            "description_tooltip": null,
            "layout": "IPY_MODEL_dd3b0e6739024d639b47428237c7db24",
            "max": 1,
            "min": 0,
            "orientation": "horizontal",
            "style": "IPY_MODEL_788b2295dbe540728fa17fd58b6725dc",
            "value": 1
          }
        },
        "86ddfc36ed5b4999a8c908eee6096754": {
          "model_module": "@jupyter-widgets/controls",
          "model_module_version": "1.5.0",
          "model_name": "HTMLModel",
          "state": {
            "_dom_classes": [],
            "_model_module": "@jupyter-widgets/controls",
            "_model_module_version": "1.5.0",
            "_model_name": "HTMLModel",
            "_view_count": null,
            "_view_module": "@jupyter-widgets/controls",
            "_view_module_version": "1.5.0",
            "_view_name": "HTMLView",
            "description": "",
            "description_tooltip": null,
            "layout": "IPY_MODEL_cad2f57aab3c456f8e83ca4a7c619787",
            "placeholder": "​",
            "style": "IPY_MODEL_e4d679ad02d9456badd82efe18b50f57",
            "value": " 1/1 [00:00&lt;00:00, 20.14ba/s]"
          }
        },
        "87d64ae52c024c119d00dbb83e5f41ef": {
          "model_module": "@jupyter-widgets/base",
          "model_module_version": "1.2.0",
          "model_name": "LayoutModel",
          "state": {
            "_model_module": "@jupyter-widgets/base",
            "_model_module_version": "1.2.0",
            "_model_name": "LayoutModel",
            "_view_count": null,
            "_view_module": "@jupyter-widgets/base",
            "_view_module_version": "1.2.0",
            "_view_name": "LayoutView",
            "align_content": null,
            "align_items": null,
            "align_self": null,
            "border": null,
            "bottom": null,
            "display": null,
            "flex": null,
            "flex_flow": null,
            "grid_area": null,
            "grid_auto_columns": null,
            "grid_auto_flow": null,
            "grid_auto_rows": null,
            "grid_column": null,
            "grid_gap": null,
            "grid_row": null,
            "grid_template_areas": null,
            "grid_template_columns": null,
            "grid_template_rows": null,
            "height": null,
            "justify_content": null,
            "justify_items": null,
            "left": null,
            "margin": null,
            "max_height": null,
            "max_width": null,
            "min_height": null,
            "min_width": null,
            "object_fit": null,
            "object_position": null,
            "order": null,
            "overflow": null,
            "overflow_x": null,
            "overflow_y": null,
            "padding": null,
            "right": null,
            "top": null,
            "visibility": null,
            "width": null
          }
        },
        "88582e22f86944e8a9d2e7dc853faf04": {
          "model_module": "@jupyter-widgets/controls",
          "model_module_version": "1.5.0",
          "model_name": "FloatProgressModel",
          "state": {
            "_dom_classes": [],
            "_model_module": "@jupyter-widgets/controls",
            "_model_module_version": "1.5.0",
            "_model_name": "FloatProgressModel",
            "_view_count": null,
            "_view_module": "@jupyter-widgets/controls",
            "_view_module_version": "1.5.0",
            "_view_name": "ProgressView",
            "bar_style": "success",
            "description": "",
            "description_tooltip": null,
            "layout": "IPY_MODEL_1a17c06c44aa47968f7a53b27c6629c3",
            "max": 1,
            "min": 0,
            "orientation": "horizontal",
            "style": "IPY_MODEL_e8c018602232414f8b11f582f0f521d6",
            "value": 1
          }
        },
        "8b47ff9657b340209a3706f97843375b": {
          "model_module": "@jupyter-widgets/base",
          "model_module_version": "1.2.0",
          "model_name": "LayoutModel",
          "state": {
            "_model_module": "@jupyter-widgets/base",
            "_model_module_version": "1.2.0",
            "_model_name": "LayoutModel",
            "_view_count": null,
            "_view_module": "@jupyter-widgets/base",
            "_view_module_version": "1.2.0",
            "_view_name": "LayoutView",
            "align_content": null,
            "align_items": null,
            "align_self": null,
            "border": null,
            "bottom": null,
            "display": null,
            "flex": null,
            "flex_flow": null,
            "grid_area": null,
            "grid_auto_columns": null,
            "grid_auto_flow": null,
            "grid_auto_rows": null,
            "grid_column": null,
            "grid_gap": null,
            "grid_row": null,
            "grid_template_areas": null,
            "grid_template_columns": null,
            "grid_template_rows": null,
            "height": null,
            "justify_content": null,
            "justify_items": null,
            "left": null,
            "margin": null,
            "max_height": null,
            "max_width": null,
            "min_height": null,
            "min_width": null,
            "object_fit": null,
            "object_position": null,
            "order": null,
            "overflow": null,
            "overflow_x": null,
            "overflow_y": null,
            "padding": null,
            "right": null,
            "top": null,
            "visibility": null,
            "width": null
          }
        },
        "91b0ab45bcdf4b4e82f9dfc031392723": {
          "model_module": "@jupyter-widgets/controls",
          "model_module_version": "1.5.0",
          "model_name": "HTMLModel",
          "state": {
            "_dom_classes": [],
            "_model_module": "@jupyter-widgets/controls",
            "_model_module_version": "1.5.0",
            "_model_name": "HTMLModel",
            "_view_count": null,
            "_view_module": "@jupyter-widgets/controls",
            "_view_module_version": "1.5.0",
            "_view_name": "HTMLView",
            "description": "",
            "description_tooltip": null,
            "layout": "IPY_MODEL_94244c0b2b2343509a3e23b88a42c15b",
            "placeholder": "​",
            "style": "IPY_MODEL_26a2f6db7418417399e89aec0304874d",
            "value": " 1.17k/1.17k [00:00&lt;00:00, 50.8kB/s]"
          }
        },
        "9241444d88c844e2a97676d935765b49": {
          "model_module": "@jupyter-widgets/controls",
          "model_module_version": "1.5.0",
          "model_name": "HBoxModel",
          "state": {
            "_dom_classes": [],
            "_model_module": "@jupyter-widgets/controls",
            "_model_module_version": "1.5.0",
            "_model_name": "HBoxModel",
            "_view_count": null,
            "_view_module": "@jupyter-widgets/controls",
            "_view_module_version": "1.5.0",
            "_view_name": "HBoxView",
            "box_style": "",
            "children": [
              "IPY_MODEL_14071b0512b94c3181e53db7b3a35202",
              "IPY_MODEL_88582e22f86944e8a9d2e7dc853faf04",
              "IPY_MODEL_a12cc0c4e5884849b2e444a6d0b4406b"
            ],
            "layout": "IPY_MODEL_bf8c9017c3184fb2866cc648214ed5ca"
          }
        },
        "94244c0b2b2343509a3e23b88a42c15b": {
          "model_module": "@jupyter-widgets/base",
          "model_module_version": "1.2.0",
          "model_name": "LayoutModel",
          "state": {
            "_model_module": "@jupyter-widgets/base",
            "_model_module_version": "1.2.0",
            "_model_name": "LayoutModel",
            "_view_count": null,
            "_view_module": "@jupyter-widgets/base",
            "_view_module_version": "1.2.0",
            "_view_name": "LayoutView",
            "align_content": null,
            "align_items": null,
            "align_self": null,
            "border": null,
            "bottom": null,
            "display": null,
            "flex": null,
            "flex_flow": null,
            "grid_area": null,
            "grid_auto_columns": null,
            "grid_auto_flow": null,
            "grid_auto_rows": null,
            "grid_column": null,
            "grid_gap": null,
            "grid_row": null,
            "grid_template_areas": null,
            "grid_template_columns": null,
            "grid_template_rows": null,
            "height": null,
            "justify_content": null,
            "justify_items": null,
            "left": null,
            "margin": null,
            "max_height": null,
            "max_width": null,
            "min_height": null,
            "min_width": null,
            "object_fit": null,
            "object_position": null,
            "order": null,
            "overflow": null,
            "overflow_x": null,
            "overflow_y": null,
            "padding": null,
            "right": null,
            "top": null,
            "visibility": null,
            "width": null
          }
        },
        "94b7974a0c4040b2bad91cd305a5b569": {
          "model_module": "@jupyter-widgets/base",
          "model_module_version": "1.2.0",
          "model_name": "LayoutModel",
          "state": {
            "_model_module": "@jupyter-widgets/base",
            "_model_module_version": "1.2.0",
            "_model_name": "LayoutModel",
            "_view_count": null,
            "_view_module": "@jupyter-widgets/base",
            "_view_module_version": "1.2.0",
            "_view_name": "LayoutView",
            "align_content": null,
            "align_items": null,
            "align_self": null,
            "border": null,
            "bottom": null,
            "display": null,
            "flex": null,
            "flex_flow": null,
            "grid_area": null,
            "grid_auto_columns": null,
            "grid_auto_flow": null,
            "grid_auto_rows": null,
            "grid_column": null,
            "grid_gap": null,
            "grid_row": null,
            "grid_template_areas": null,
            "grid_template_columns": null,
            "grid_template_rows": null,
            "height": null,
            "justify_content": null,
            "justify_items": null,
            "left": null,
            "margin": null,
            "max_height": null,
            "max_width": null,
            "min_height": null,
            "min_width": null,
            "object_fit": null,
            "object_position": null,
            "order": null,
            "overflow": null,
            "overflow_x": null,
            "overflow_y": null,
            "padding": null,
            "right": null,
            "top": null,
            "visibility": null,
            "width": null
          }
        },
        "955c558204c745ae8869802a7e4d99aa": {
          "model_module": "@jupyter-widgets/controls",
          "model_module_version": "1.5.0",
          "model_name": "HTMLModel",
          "state": {
            "_dom_classes": [],
            "_model_module": "@jupyter-widgets/controls",
            "_model_module_version": "1.5.0",
            "_model_name": "HTMLModel",
            "_view_count": null,
            "_view_module": "@jupyter-widgets/controls",
            "_view_module_version": "1.5.0",
            "_view_name": "HTMLView",
            "description": "",
            "description_tooltip": null,
            "layout": "IPY_MODEL_0b08090986f248eea423919c4e6ef77c",
            "placeholder": "​",
            "style": "IPY_MODEL_74445dd1678a4ac2b3093f22a8879c9e",
            "value": "sentencepiece.bpe.model: 100%"
          }
        },
        "95ea3550d20f45b7a2402f59fd581e34": {
          "model_module": "@jupyter-widgets/controls",
          "model_module_version": "1.5.0",
          "model_name": "HTMLModel",
          "state": {
            "_dom_classes": [],
            "_model_module": "@jupyter-widgets/controls",
            "_model_module_version": "1.5.0",
            "_model_name": "HTMLModel",
            "_view_count": null,
            "_view_module": "@jupyter-widgets/controls",
            "_view_module_version": "1.5.0",
            "_view_name": "HTMLView",
            "description": "",
            "description_tooltip": null,
            "layout": "IPY_MODEL_76a99c20f17841fab64199faa2002154",
            "placeholder": "​",
            "style": "IPY_MODEL_bb4c39c9a41c496498865e7f68924b77",
            "value": "model.safetensors: 100%"
          }
        },
        "982145567f854556b27d2312160a0a93": {
          "model_module": "@jupyter-widgets/controls",
          "model_module_version": "1.5.0",
          "model_name": "DescriptionStyleModel",
          "state": {
            "_model_module": "@jupyter-widgets/controls",
            "_model_module_version": "1.5.0",
            "_model_name": "DescriptionStyleModel",
            "_view_count": null,
            "_view_module": "@jupyter-widgets/base",
            "_view_module_version": "1.2.0",
            "_view_name": "StyleView",
            "description_width": ""
          }
        },
        "99a15f7ee88d46119ce7b2bb1300b04b": {
          "model_module": "@jupyter-widgets/controls",
          "model_module_version": "1.5.0",
          "model_name": "HTMLModel",
          "state": {
            "_dom_classes": [],
            "_model_module": "@jupyter-widgets/controls",
            "_model_module_version": "1.5.0",
            "_model_name": "HTMLModel",
            "_view_count": null,
            "_view_module": "@jupyter-widgets/controls",
            "_view_module_version": "1.5.0",
            "_view_name": "HTMLView",
            "description": "",
            "description_tooltip": null,
            "layout": "IPY_MODEL_b67d4598c98d4ff9b60208b1c0888878",
            "placeholder": "​",
            "style": "IPY_MODEL_71bf7d9ec9764088b237b086b97e9c33",
            "value": " 795/795 [00:00&lt;00:00, 25.2kB/s]"
          }
        },
        "9a81a45162774028a2f354c7dc01db9c": {
          "model_module": "@jupyter-widgets/base",
          "model_module_version": "1.2.0",
          "model_name": "LayoutModel",
          "state": {
            "_model_module": "@jupyter-widgets/base",
            "_model_module_version": "1.2.0",
            "_model_name": "LayoutModel",
            "_view_count": null,
            "_view_module": "@jupyter-widgets/base",
            "_view_module_version": "1.2.0",
            "_view_name": "LayoutView",
            "align_content": null,
            "align_items": null,
            "align_self": null,
            "border": null,
            "bottom": null,
            "display": null,
            "flex": null,
            "flex_flow": null,
            "grid_area": null,
            "grid_auto_columns": null,
            "grid_auto_flow": null,
            "grid_auto_rows": null,
            "grid_column": null,
            "grid_gap": null,
            "grid_row": null,
            "grid_template_areas": null,
            "grid_template_columns": null,
            "grid_template_rows": null,
            "height": null,
            "justify_content": null,
            "justify_items": null,
            "left": null,
            "margin": null,
            "max_height": null,
            "max_width": null,
            "min_height": null,
            "min_width": null,
            "object_fit": null,
            "object_position": null,
            "order": null,
            "overflow": null,
            "overflow_x": null,
            "overflow_y": null,
            "padding": null,
            "right": null,
            "top": null,
            "visibility": null,
            "width": null
          }
        },
        "9efd40492cbb4ea2b4e2a3b0907283e3": {
          "model_module": "@jupyter-widgets/base",
          "model_module_version": "1.2.0",
          "model_name": "LayoutModel",
          "state": {
            "_model_module": "@jupyter-widgets/base",
            "_model_module_version": "1.2.0",
            "_model_name": "LayoutModel",
            "_view_count": null,
            "_view_module": "@jupyter-widgets/base",
            "_view_module_version": "1.2.0",
            "_view_name": "LayoutView",
            "align_content": null,
            "align_items": null,
            "align_self": null,
            "border": null,
            "bottom": null,
            "display": null,
            "flex": null,
            "flex_flow": null,
            "grid_area": null,
            "grid_auto_columns": null,
            "grid_auto_flow": null,
            "grid_auto_rows": null,
            "grid_column": null,
            "grid_gap": null,
            "grid_row": null,
            "grid_template_areas": null,
            "grid_template_columns": null,
            "grid_template_rows": null,
            "height": null,
            "justify_content": null,
            "justify_items": null,
            "left": null,
            "margin": null,
            "max_height": null,
            "max_width": null,
            "min_height": null,
            "min_width": null,
            "object_fit": null,
            "object_position": null,
            "order": null,
            "overflow": null,
            "overflow_x": null,
            "overflow_y": null,
            "padding": null,
            "right": null,
            "top": null,
            "visibility": null,
            "width": null
          }
        },
        "a12cc0c4e5884849b2e444a6d0b4406b": {
          "model_module": "@jupyter-widgets/controls",
          "model_module_version": "1.5.0",
          "model_name": "HTMLModel",
          "state": {
            "_dom_classes": [],
            "_model_module": "@jupyter-widgets/controls",
            "_model_module_version": "1.5.0",
            "_model_name": "HTMLModel",
            "_view_count": null,
            "_view_module": "@jupyter-widgets/controls",
            "_view_module_version": "1.5.0",
            "_view_name": "HTMLView",
            "description": "",
            "description_tooltip": null,
            "layout": "IPY_MODEL_9a81a45162774028a2f354c7dc01db9c",
            "placeholder": "​",
            "style": "IPY_MODEL_591704ad35224966b086db29df777f07",
            "value": " 1/1 [00:00&lt;00:00,  1.78it/s]"
          }
        },
        "a25b768276ac4fab8c79a627e0be18e5": {
          "model_module": "@jupyter-widgets/controls",
          "model_module_version": "1.5.0",
          "model_name": "DescriptionStyleModel",
          "state": {
            "_model_module": "@jupyter-widgets/controls",
            "_model_module_version": "1.5.0",
            "_model_name": "DescriptionStyleModel",
            "_view_count": null,
            "_view_module": "@jupyter-widgets/base",
            "_view_module_version": "1.2.0",
            "_view_name": "StyleView",
            "description_width": ""
          }
        },
        "a6339d9568c84bfcb02a624dd9e6497b": {
          "model_module": "@jupyter-widgets/controls",
          "model_module_version": "1.5.0",
          "model_name": "ProgressStyleModel",
          "state": {
            "_model_module": "@jupyter-widgets/controls",
            "_model_module_version": "1.5.0",
            "_model_name": "ProgressStyleModel",
            "_view_count": null,
            "_view_module": "@jupyter-widgets/base",
            "_view_module_version": "1.2.0",
            "_view_name": "StyleView",
            "bar_color": null,
            "description_width": ""
          }
        },
        "a64451abad7c4f3f9375af64e89fa83d": {
          "model_module": "@jupyter-widgets/base",
          "model_module_version": "1.2.0",
          "model_name": "LayoutModel",
          "state": {
            "_model_module": "@jupyter-widgets/base",
            "_model_module_version": "1.2.0",
            "_model_name": "LayoutModel",
            "_view_count": null,
            "_view_module": "@jupyter-widgets/base",
            "_view_module_version": "1.2.0",
            "_view_name": "LayoutView",
            "align_content": null,
            "align_items": null,
            "align_self": null,
            "border": null,
            "bottom": null,
            "display": null,
            "flex": null,
            "flex_flow": null,
            "grid_area": null,
            "grid_auto_columns": null,
            "grid_auto_flow": null,
            "grid_auto_rows": null,
            "grid_column": null,
            "grid_gap": null,
            "grid_row": null,
            "grid_template_areas": null,
            "grid_template_columns": null,
            "grid_template_rows": null,
            "height": null,
            "justify_content": null,
            "justify_items": null,
            "left": null,
            "margin": null,
            "max_height": null,
            "max_width": null,
            "min_height": null,
            "min_width": null,
            "object_fit": null,
            "object_position": null,
            "order": null,
            "overflow": null,
            "overflow_x": null,
            "overflow_y": null,
            "padding": null,
            "right": null,
            "top": null,
            "visibility": null,
            "width": null
          }
        },
        "ac8be4e0cd274f16b6bb2c5a779d5390": {
          "model_module": "@jupyter-widgets/controls",
          "model_module_version": "1.5.0",
          "model_name": "FloatProgressModel",
          "state": {
            "_dom_classes": [],
            "_model_module": "@jupyter-widgets/controls",
            "_model_module_version": "1.5.0",
            "_model_name": "FloatProgressModel",
            "_view_count": null,
            "_view_module": "@jupyter-widgets/controls",
            "_view_module_version": "1.5.0",
            "_view_name": "ProgressView",
            "bar_style": "success",
            "description": "",
            "description_tooltip": null,
            "layout": "IPY_MODEL_05ddd35133134cc5953d2793eb5fbe3e",
            "max": 1173,
            "min": 0,
            "orientation": "horizontal",
            "style": "IPY_MODEL_a6339d9568c84bfcb02a624dd9e6497b",
            "value": 1173
          }
        },
        "aeba42b3ed34470896a010bd0ad6d3ae": {
          "model_module": "@jupyter-widgets/controls",
          "model_module_version": "1.5.0",
          "model_name": "DescriptionStyleModel",
          "state": {
            "_model_module": "@jupyter-widgets/controls",
            "_model_module_version": "1.5.0",
            "_model_name": "DescriptionStyleModel",
            "_view_count": null,
            "_view_module": "@jupyter-widgets/base",
            "_view_module_version": "1.2.0",
            "_view_name": "StyleView",
            "description_width": ""
          }
        },
        "af9fc53cbd414753a7fa4043889b70d9": {
          "model_module": "@jupyter-widgets/base",
          "model_module_version": "1.2.0",
          "model_name": "LayoutModel",
          "state": {
            "_model_module": "@jupyter-widgets/base",
            "_model_module_version": "1.2.0",
            "_model_name": "LayoutModel",
            "_view_count": null,
            "_view_module": "@jupyter-widgets/base",
            "_view_module_version": "1.2.0",
            "_view_name": "LayoutView",
            "align_content": null,
            "align_items": null,
            "align_self": null,
            "border": null,
            "bottom": null,
            "display": null,
            "flex": null,
            "flex_flow": null,
            "grid_area": null,
            "grid_auto_columns": null,
            "grid_auto_flow": null,
            "grid_auto_rows": null,
            "grid_column": null,
            "grid_gap": null,
            "grid_row": null,
            "grid_template_areas": null,
            "grid_template_columns": null,
            "grid_template_rows": null,
            "height": null,
            "justify_content": null,
            "justify_items": null,
            "left": null,
            "margin": null,
            "max_height": null,
            "max_width": null,
            "min_height": null,
            "min_width": null,
            "object_fit": null,
            "object_position": null,
            "order": null,
            "overflow": null,
            "overflow_x": null,
            "overflow_y": null,
            "padding": null,
            "right": null,
            "top": null,
            "visibility": null,
            "width": null
          }
        },
        "b605602cba3e4c3caf2587654831c8cf": {
          "model_module": "@jupyter-widgets/base",
          "model_module_version": "1.2.0",
          "model_name": "LayoutModel",
          "state": {
            "_model_module": "@jupyter-widgets/base",
            "_model_module_version": "1.2.0",
            "_model_name": "LayoutModel",
            "_view_count": null,
            "_view_module": "@jupyter-widgets/base",
            "_view_module_version": "1.2.0",
            "_view_name": "LayoutView",
            "align_content": null,
            "align_items": null,
            "align_self": null,
            "border": null,
            "bottom": null,
            "display": null,
            "flex": null,
            "flex_flow": null,
            "grid_area": null,
            "grid_auto_columns": null,
            "grid_auto_flow": null,
            "grid_auto_rows": null,
            "grid_column": null,
            "grid_gap": null,
            "grid_row": null,
            "grid_template_areas": null,
            "grid_template_columns": null,
            "grid_template_rows": null,
            "height": null,
            "justify_content": null,
            "justify_items": null,
            "left": null,
            "margin": null,
            "max_height": null,
            "max_width": null,
            "min_height": null,
            "min_width": null,
            "object_fit": null,
            "object_position": null,
            "order": null,
            "overflow": null,
            "overflow_x": null,
            "overflow_y": null,
            "padding": null,
            "right": null,
            "top": null,
            "visibility": null,
            "width": null
          }
        },
        "b67d4598c98d4ff9b60208b1c0888878": {
          "model_module": "@jupyter-widgets/base",
          "model_module_version": "1.2.0",
          "model_name": "LayoutModel",
          "state": {
            "_model_module": "@jupyter-widgets/base",
            "_model_module_version": "1.2.0",
            "_model_name": "LayoutModel",
            "_view_count": null,
            "_view_module": "@jupyter-widgets/base",
            "_view_module_version": "1.2.0",
            "_view_name": "LayoutView",
            "align_content": null,
            "align_items": null,
            "align_self": null,
            "border": null,
            "bottom": null,
            "display": null,
            "flex": null,
            "flex_flow": null,
            "grid_area": null,
            "grid_auto_columns": null,
            "grid_auto_flow": null,
            "grid_auto_rows": null,
            "grid_column": null,
            "grid_gap": null,
            "grid_row": null,
            "grid_template_areas": null,
            "grid_template_columns": null,
            "grid_template_rows": null,
            "height": null,
            "justify_content": null,
            "justify_items": null,
            "left": null,
            "margin": null,
            "max_height": null,
            "max_width": null,
            "min_height": null,
            "min_width": null,
            "object_fit": null,
            "object_position": null,
            "order": null,
            "overflow": null,
            "overflow_x": null,
            "overflow_y": null,
            "padding": null,
            "right": null,
            "top": null,
            "visibility": null,
            "width": null
          }
        },
        "b81a5e87e001431a926539b99bfab218": {
          "model_module": "@jupyter-widgets/controls",
          "model_module_version": "1.5.0",
          "model_name": "HTMLModel",
          "state": {
            "_dom_classes": [],
            "_model_module": "@jupyter-widgets/controls",
            "_model_module_version": "1.5.0",
            "_model_name": "HTMLModel",
            "_view_count": null,
            "_view_module": "@jupyter-widgets/controls",
            "_view_module_version": "1.5.0",
            "_view_name": "HTMLView",
            "description": "",
            "description_tooltip": null,
            "layout": "IPY_MODEL_50fd9a4eea954b5d9c75ed91ad4a89d6",
            "placeholder": "​",
            "style": "IPY_MODEL_70584dbd70df495cb79be133338b14ba",
            "value": " 90.9M/90.9M [00:01&lt;00:00, 90.1MB/s]"
          }
        },
        "baf30f53dab94a93bc83abf450b05ea6": {
          "model_module": "@jupyter-widgets/controls",
          "model_module_version": "1.5.0",
          "model_name": "HTMLModel",
          "state": {
            "_dom_classes": [],
            "_model_module": "@jupyter-widgets/controls",
            "_model_module_version": "1.5.0",
            "_model_name": "HTMLModel",
            "_view_count": null,
            "_view_module": "@jupyter-widgets/controls",
            "_view_module_version": "1.5.0",
            "_view_name": "HTMLView",
            "description": "",
            "description_tooltip": null,
            "layout": "IPY_MODEL_b605602cba3e4c3caf2587654831c8cf",
            "placeholder": "​",
            "style": "IPY_MODEL_f60f70b1a12e43d5b891976f2aa4cbf2",
            "value": "config.json: 100%"
          }
        },
        "bb4c39c9a41c496498865e7f68924b77": {
          "model_module": "@jupyter-widgets/controls",
          "model_module_version": "1.5.0",
          "model_name": "DescriptionStyleModel",
          "state": {
            "_model_module": "@jupyter-widgets/controls",
            "_model_module_version": "1.5.0",
            "_model_name": "DescriptionStyleModel",
            "_view_count": null,
            "_view_module": "@jupyter-widgets/base",
            "_view_module_version": "1.2.0",
            "_view_name": "StyleView",
            "description_width": ""
          }
        },
        "bc08089b11de49d69afff10a0fd14a5e": {
          "model_module": "@jupyter-widgets/controls",
          "model_module_version": "1.5.0",
          "model_name": "HBoxModel",
          "state": {
            "_dom_classes": [],
            "_model_module": "@jupyter-widgets/controls",
            "_model_module_version": "1.5.0",
            "_model_name": "HBoxModel",
            "_view_count": null,
            "_view_module": "@jupyter-widgets/controls",
            "_view_module_version": "1.5.0",
            "_view_name": "HBoxView",
            "box_style": "",
            "children": [
              "IPY_MODEL_955c558204c745ae8869802a7e4d99aa",
              "IPY_MODEL_f814eeb4715a4afa92cacd32a3d56ad3",
              "IPY_MODEL_e0f7e404652d409cab0833321895ad6f"
            ],
            "layout": "IPY_MODEL_ea49ca98fbad4fd2aa0fa529a3416f30"
          }
        },
        "bf8c9017c3184fb2866cc648214ed5ca": {
          "model_module": "@jupyter-widgets/base",
          "model_module_version": "1.2.0",
          "model_name": "LayoutModel",
          "state": {
            "_model_module": "@jupyter-widgets/base",
            "_model_module_version": "1.2.0",
            "_model_name": "LayoutModel",
            "_view_count": null,
            "_view_module": "@jupyter-widgets/base",
            "_view_module_version": "1.2.0",
            "_view_name": "LayoutView",
            "align_content": null,
            "align_items": null,
            "align_self": null,
            "border": null,
            "bottom": null,
            "display": null,
            "flex": null,
            "flex_flow": null,
            "grid_area": null,
            "grid_auto_columns": null,
            "grid_auto_flow": null,
            "grid_auto_rows": null,
            "grid_column": null,
            "grid_gap": null,
            "grid_row": null,
            "grid_template_areas": null,
            "grid_template_columns": null,
            "grid_template_rows": null,
            "height": null,
            "justify_content": null,
            "justify_items": null,
            "left": null,
            "margin": null,
            "max_height": null,
            "max_width": null,
            "min_height": null,
            "min_width": null,
            "object_fit": null,
            "object_position": null,
            "order": null,
            "overflow": null,
            "overflow_x": null,
            "overflow_y": null,
            "padding": null,
            "right": null,
            "top": null,
            "visibility": null,
            "width": null
          }
        },
        "cad2f57aab3c456f8e83ca4a7c619787": {
          "model_module": "@jupyter-widgets/base",
          "model_module_version": "1.2.0",
          "model_name": "LayoutModel",
          "state": {
            "_model_module": "@jupyter-widgets/base",
            "_model_module_version": "1.2.0",
            "_model_name": "LayoutModel",
            "_view_count": null,
            "_view_module": "@jupyter-widgets/base",
            "_view_module_version": "1.2.0",
            "_view_name": "LayoutView",
            "align_content": null,
            "align_items": null,
            "align_self": null,
            "border": null,
            "bottom": null,
            "display": null,
            "flex": null,
            "flex_flow": null,
            "grid_area": null,
            "grid_auto_columns": null,
            "grid_auto_flow": null,
            "grid_auto_rows": null,
            "grid_column": null,
            "grid_gap": null,
            "grid_row": null,
            "grid_template_areas": null,
            "grid_template_columns": null,
            "grid_template_rows": null,
            "height": null,
            "justify_content": null,
            "justify_items": null,
            "left": null,
            "margin": null,
            "max_height": null,
            "max_width": null,
            "min_height": null,
            "min_width": null,
            "object_fit": null,
            "object_position": null,
            "order": null,
            "overflow": null,
            "overflow_x": null,
            "overflow_y": null,
            "padding": null,
            "right": null,
            "top": null,
            "visibility": null,
            "width": null
          }
        },
        "d29def8f35d340b7b605447a1b33ffe0": {
          "model_module": "@jupyter-widgets/base",
          "model_module_version": "1.2.0",
          "model_name": "LayoutModel",
          "state": {
            "_model_module": "@jupyter-widgets/base",
            "_model_module_version": "1.2.0",
            "_model_name": "LayoutModel",
            "_view_count": null,
            "_view_module": "@jupyter-widgets/base",
            "_view_module_version": "1.2.0",
            "_view_name": "LayoutView",
            "align_content": null,
            "align_items": null,
            "align_self": null,
            "border": null,
            "bottom": null,
            "display": null,
            "flex": null,
            "flex_flow": null,
            "grid_area": null,
            "grid_auto_columns": null,
            "grid_auto_flow": null,
            "grid_auto_rows": null,
            "grid_column": null,
            "grid_gap": null,
            "grid_row": null,
            "grid_template_areas": null,
            "grid_template_columns": null,
            "grid_template_rows": null,
            "height": null,
            "justify_content": null,
            "justify_items": null,
            "left": null,
            "margin": null,
            "max_height": null,
            "max_width": null,
            "min_height": null,
            "min_width": null,
            "object_fit": null,
            "object_position": null,
            "order": null,
            "overflow": null,
            "overflow_x": null,
            "overflow_y": null,
            "padding": null,
            "right": null,
            "top": null,
            "visibility": null,
            "width": null
          }
        },
        "db646459530e41d79ecf0a093c5351c4": {
          "model_module": "@jupyter-widgets/controls",
          "model_module_version": "1.5.0",
          "model_name": "HTMLModel",
          "state": {
            "_dom_classes": [],
            "_model_module": "@jupyter-widgets/controls",
            "_model_module_version": "1.5.0",
            "_model_name": "HTMLModel",
            "_view_count": null,
            "_view_module": "@jupyter-widgets/controls",
            "_view_module_version": "1.5.0",
            "_view_name": "HTMLView",
            "description": "",
            "description_tooltip": null,
            "layout": "IPY_MODEL_a64451abad7c4f3f9375af64e89fa83d",
            "placeholder": "​",
            "style": "IPY_MODEL_1d65be4e31c441ab9165801d6c54df53",
            "value": " 2.27G/2.27G [00:56&lt;00:00, 42.8MB/s]"
          }
        },
        "dd3b0e6739024d639b47428237c7db24": {
          "model_module": "@jupyter-widgets/base",
          "model_module_version": "1.2.0",
          "model_name": "LayoutModel",
          "state": {
            "_model_module": "@jupyter-widgets/base",
            "_model_module_version": "1.2.0",
            "_model_name": "LayoutModel",
            "_view_count": null,
            "_view_module": "@jupyter-widgets/base",
            "_view_module_version": "1.2.0",
            "_view_name": "LayoutView",
            "align_content": null,
            "align_items": null,
            "align_self": null,
            "border": null,
            "bottom": null,
            "display": null,
            "flex": null,
            "flex_flow": null,
            "grid_area": null,
            "grid_auto_columns": null,
            "grid_auto_flow": null,
            "grid_auto_rows": null,
            "grid_column": null,
            "grid_gap": null,
            "grid_row": null,
            "grid_template_areas": null,
            "grid_template_columns": null,
            "grid_template_rows": null,
            "height": null,
            "justify_content": null,
            "justify_items": null,
            "left": null,
            "margin": null,
            "max_height": null,
            "max_width": null,
            "min_height": null,
            "min_width": null,
            "object_fit": null,
            "object_position": null,
            "order": null,
            "overflow": null,
            "overflow_x": null,
            "overflow_y": null,
            "padding": null,
            "right": null,
            "top": null,
            "visibility": null,
            "width": null
          }
        },
        "df28802e9c3b40a19f8accb150da3c48": {
          "model_module": "@jupyter-widgets/controls",
          "model_module_version": "1.5.0",
          "model_name": "HTMLModel",
          "state": {
            "_dom_classes": [],
            "_model_module": "@jupyter-widgets/controls",
            "_model_module_version": "1.5.0",
            "_model_name": "HTMLModel",
            "_view_count": null,
            "_view_module": "@jupyter-widgets/controls",
            "_view_module_version": "1.5.0",
            "_view_name": "HTMLView",
            "description": "",
            "description_tooltip": null,
            "layout": "IPY_MODEL_5360e1055d364a348b8e32eb8bbacff3",
            "placeholder": "​",
            "style": "IPY_MODEL_16a8421160964e40b9ede191e77df80c",
            "value": " 964/964 [00:00&lt;00:00, 31.5kB/s]"
          }
        },
        "df87fa25688b4ad0b72118ce661eac05": {
          "model_module": "@jupyter-widgets/base",
          "model_module_version": "1.2.0",
          "model_name": "LayoutModel",
          "state": {
            "_model_module": "@jupyter-widgets/base",
            "_model_module_version": "1.2.0",
            "_model_name": "LayoutModel",
            "_view_count": null,
            "_view_module": "@jupyter-widgets/base",
            "_view_module_version": "1.2.0",
            "_view_name": "LayoutView",
            "align_content": null,
            "align_items": null,
            "align_self": null,
            "border": null,
            "bottom": null,
            "display": null,
            "flex": null,
            "flex_flow": null,
            "grid_area": null,
            "grid_auto_columns": null,
            "grid_auto_flow": null,
            "grid_auto_rows": null,
            "grid_column": null,
            "grid_gap": null,
            "grid_row": null,
            "grid_template_areas": null,
            "grid_template_columns": null,
            "grid_template_rows": null,
            "height": null,
            "justify_content": null,
            "justify_items": null,
            "left": null,
            "margin": null,
            "max_height": null,
            "max_width": null,
            "min_height": null,
            "min_width": null,
            "object_fit": null,
            "object_position": null,
            "order": null,
            "overflow": null,
            "overflow_x": null,
            "overflow_y": null,
            "padding": null,
            "right": null,
            "top": null,
            "visibility": null,
            "width": null
          }
        },
        "e0f7e404652d409cab0833321895ad6f": {
          "model_module": "@jupyter-widgets/controls",
          "model_module_version": "1.5.0",
          "model_name": "HTMLModel",
          "state": {
            "_dom_classes": [],
            "_model_module": "@jupyter-widgets/controls",
            "_model_module_version": "1.5.0",
            "_model_name": "HTMLModel",
            "_view_count": null,
            "_view_module": "@jupyter-widgets/controls",
            "_view_module_version": "1.5.0",
            "_view_name": "HTMLView",
            "description": "",
            "description_tooltip": null,
            "layout": "IPY_MODEL_48d1f18d95874fc1904ca98232595481",
            "placeholder": "​",
            "style": "IPY_MODEL_a25b768276ac4fab8c79a627e0be18e5",
            "value": " 5.07M/5.07M [00:00&lt;00:00, 15.6MB/s]"
          }
        },
        "e4d679ad02d9456badd82efe18b50f57": {
          "model_module": "@jupyter-widgets/controls",
          "model_module_version": "1.5.0",
          "model_name": "DescriptionStyleModel",
          "state": {
            "_model_module": "@jupyter-widgets/controls",
            "_model_module_version": "1.5.0",
            "_model_name": "DescriptionStyleModel",
            "_view_count": null,
            "_view_module": "@jupyter-widgets/base",
            "_view_module_version": "1.2.0",
            "_view_name": "StyleView",
            "description_width": ""
          }
        },
        "e8c018602232414f8b11f582f0f521d6": {
          "model_module": "@jupyter-widgets/controls",
          "model_module_version": "1.5.0",
          "model_name": "ProgressStyleModel",
          "state": {
            "_model_module": "@jupyter-widgets/controls",
            "_model_module_version": "1.5.0",
            "_model_name": "ProgressStyleModel",
            "_view_count": null,
            "_view_module": "@jupyter-widgets/base",
            "_view_module_version": "1.2.0",
            "_view_name": "StyleView",
            "bar_color": null,
            "description_width": ""
          }
        },
        "ea49ca98fbad4fd2aa0fa529a3416f30": {
          "model_module": "@jupyter-widgets/base",
          "model_module_version": "1.2.0",
          "model_name": "LayoutModel",
          "state": {
            "_model_module": "@jupyter-widgets/base",
            "_model_module_version": "1.2.0",
            "_model_name": "LayoutModel",
            "_view_count": null,
            "_view_module": "@jupyter-widgets/base",
            "_view_module_version": "1.2.0",
            "_view_name": "LayoutView",
            "align_content": null,
            "align_items": null,
            "align_self": null,
            "border": null,
            "bottom": null,
            "display": null,
            "flex": null,
            "flex_flow": null,
            "grid_area": null,
            "grid_auto_columns": null,
            "grid_auto_flow": null,
            "grid_auto_rows": null,
            "grid_column": null,
            "grid_gap": null,
            "grid_row": null,
            "grid_template_areas": null,
            "grid_template_columns": null,
            "grid_template_rows": null,
            "height": null,
            "justify_content": null,
            "justify_items": null,
            "left": null,
            "margin": null,
            "max_height": null,
            "max_width": null,
            "min_height": null,
            "min_width": null,
            "object_fit": null,
            "object_position": null,
            "order": null,
            "overflow": null,
            "overflow_x": null,
            "overflow_y": null,
            "padding": null,
            "right": null,
            "top": null,
            "visibility": null,
            "width": null
          }
        },
        "ebcfefa969cb4aa5a62926a5e4ff2998": {
          "model_module": "@jupyter-widgets/controls",
          "model_module_version": "1.5.0",
          "model_name": "ProgressStyleModel",
          "state": {
            "_model_module": "@jupyter-widgets/controls",
            "_model_module_version": "1.5.0",
            "_model_name": "ProgressStyleModel",
            "_view_count": null,
            "_view_module": "@jupyter-widgets/base",
            "_view_module_version": "1.2.0",
            "_view_name": "StyleView",
            "bar_color": null,
            "description_width": ""
          }
        },
        "ed39c1c722d64fec8d89adadc72f6567": {
          "model_module": "@jupyter-widgets/controls",
          "model_module_version": "1.5.0",
          "model_name": "ProgressStyleModel",
          "state": {
            "_model_module": "@jupyter-widgets/controls",
            "_model_module_version": "1.5.0",
            "_model_name": "ProgressStyleModel",
            "_view_count": null,
            "_view_module": "@jupyter-widgets/base",
            "_view_module_version": "1.2.0",
            "_view_name": "StyleView",
            "bar_color": null,
            "description_width": ""
          }
        },
        "ed494b9ae9044cd5925762de0a60b0c5": {
          "model_module": "@jupyter-widgets/base",
          "model_module_version": "1.2.0",
          "model_name": "LayoutModel",
          "state": {
            "_model_module": "@jupyter-widgets/base",
            "_model_module_version": "1.2.0",
            "_model_name": "LayoutModel",
            "_view_count": null,
            "_view_module": "@jupyter-widgets/base",
            "_view_module_version": "1.2.0",
            "_view_name": "LayoutView",
            "align_content": null,
            "align_items": null,
            "align_self": null,
            "border": null,
            "bottom": null,
            "display": null,
            "flex": null,
            "flex_flow": null,
            "grid_area": null,
            "grid_auto_columns": null,
            "grid_auto_flow": null,
            "grid_auto_rows": null,
            "grid_column": null,
            "grid_gap": null,
            "grid_row": null,
            "grid_template_areas": null,
            "grid_template_columns": null,
            "grid_template_rows": null,
            "height": null,
            "justify_content": null,
            "justify_items": null,
            "left": null,
            "margin": null,
            "max_height": null,
            "max_width": null,
            "min_height": null,
            "min_width": null,
            "object_fit": null,
            "object_position": null,
            "order": null,
            "overflow": null,
            "overflow_x": null,
            "overflow_y": null,
            "padding": null,
            "right": null,
            "top": null,
            "visibility": null,
            "width": null
          }
        },
        "ee9778ad21a14bfa92223cb6de4741b5": {
          "model_module": "@jupyter-widgets/controls",
          "model_module_version": "1.5.0",
          "model_name": "FloatProgressModel",
          "state": {
            "_dom_classes": [],
            "_model_module": "@jupyter-widgets/controls",
            "_model_module_version": "1.5.0",
            "_model_name": "FloatProgressModel",
            "_view_count": null,
            "_view_module": "@jupyter-widgets/controls",
            "_view_module_version": "1.5.0",
            "_view_name": "ProgressView",
            "bar_style": "success",
            "description": "",
            "description_tooltip": null,
            "layout": "IPY_MODEL_fee0a3d7436d4e7190213edbdb9c897f",
            "max": 90868376,
            "min": 0,
            "orientation": "horizontal",
            "style": "IPY_MODEL_ed39c1c722d64fec8d89adadc72f6567",
            "value": 90868376
          }
        },
        "f38a0ff551b24dfc8ebc98ec9b0666eb": {
          "model_module": "@jupyter-widgets/controls",
          "model_module_version": "1.5.0",
          "model_name": "HTMLModel",
          "state": {
            "_dom_classes": [],
            "_model_module": "@jupyter-widgets/controls",
            "_model_module_version": "1.5.0",
            "_model_name": "HTMLModel",
            "_view_count": null,
            "_view_module": "@jupyter-widgets/controls",
            "_view_module_version": "1.5.0",
            "_view_name": "HTMLView",
            "description": "",
            "description_tooltip": null,
            "layout": "IPY_MODEL_6ed6f3b38503478e9cf614c8a17702c5",
            "placeholder": "​",
            "style": "IPY_MODEL_1cbb00e355c94d5a976b27a138cba919",
            "value": "Creating parquet from Arrow format: 100%"
          }
        },
        "f60f70b1a12e43d5b891976f2aa4cbf2": {
          "model_module": "@jupyter-widgets/controls",
          "model_module_version": "1.5.0",
          "model_name": "DescriptionStyleModel",
          "state": {
            "_model_module": "@jupyter-widgets/controls",
            "_model_module_version": "1.5.0",
            "_model_name": "DescriptionStyleModel",
            "_view_count": null,
            "_view_module": "@jupyter-widgets/base",
            "_view_module_version": "1.2.0",
            "_view_name": "StyleView",
            "description_width": ""
          }
        },
        "f70ed97874274c0c91cf59c0da1af841": {
          "model_module": "@jupyter-widgets/controls",
          "model_module_version": "1.5.0",
          "model_name": "ProgressStyleModel",
          "state": {
            "_model_module": "@jupyter-widgets/controls",
            "_model_module_version": "1.5.0",
            "_model_name": "ProgressStyleModel",
            "_view_count": null,
            "_view_module": "@jupyter-widgets/base",
            "_view_module_version": "1.2.0",
            "_view_name": "StyleView",
            "bar_color": null,
            "description_width": ""
          }
        },
        "f814eeb4715a4afa92cacd32a3d56ad3": {
          "model_module": "@jupyter-widgets/controls",
          "model_module_version": "1.5.0",
          "model_name": "FloatProgressModel",
          "state": {
            "_dom_classes": [],
            "_model_module": "@jupyter-widgets/controls",
            "_model_module_version": "1.5.0",
            "_model_name": "FloatProgressModel",
            "_view_count": null,
            "_view_module": "@jupyter-widgets/controls",
            "_view_module_version": "1.5.0",
            "_view_name": "ProgressView",
            "bar_style": "success",
            "description": "",
            "description_tooltip": null,
            "layout": "IPY_MODEL_94b7974a0c4040b2bad91cd305a5b569",
            "max": 5069051,
            "min": 0,
            "orientation": "horizontal",
            "style": "IPY_MODEL_56d2c2fa1f214205a7a0fa9bcc5ccf31",
            "value": 5069051
          }
        },
        "f9262937bd8d45698543f21079990171": {
          "model_module": "@jupyter-widgets/controls",
          "model_module_version": "1.5.0",
          "model_name": "HTMLModel",
          "state": {
            "_dom_classes": [],
            "_model_module": "@jupyter-widgets/controls",
            "_model_module_version": "1.5.0",
            "_model_name": "HTMLModel",
            "_view_count": null,
            "_view_module": "@jupyter-widgets/controls",
            "_view_module_version": "1.5.0",
            "_view_name": "HTMLView",
            "description": "",
            "description_tooltip": null,
            "layout": "IPY_MODEL_d29def8f35d340b7b605447a1b33ffe0",
            "placeholder": "​",
            "style": "IPY_MODEL_aeba42b3ed34470896a010bd0ad6d3ae",
            "value": "model.safetensors: 100%"
          }
        },
        "fa39fc7705f94d5aa3fae2a794f9fb9f": {
          "model_module": "@jupyter-widgets/controls",
          "model_module_version": "1.5.0",
          "model_name": "DescriptionStyleModel",
          "state": {
            "_model_module": "@jupyter-widgets/controls",
            "_model_module_version": "1.5.0",
            "_model_name": "DescriptionStyleModel",
            "_view_count": null,
            "_view_module": "@jupyter-widgets/base",
            "_view_module_version": "1.2.0",
            "_view_name": "StyleView",
            "description_width": ""
          }
        },
        "fae820606ef041f497f43891324ebcf3": {
          "model_module": "@jupyter-widgets/controls",
          "model_module_version": "1.5.0",
          "model_name": "ProgressStyleModel",
          "state": {
            "_model_module": "@jupyter-widgets/controls",
            "_model_module_version": "1.5.0",
            "_model_name": "ProgressStyleModel",
            "_view_count": null,
            "_view_module": "@jupyter-widgets/base",
            "_view_module_version": "1.2.0",
            "_view_name": "StyleView",
            "bar_color": null,
            "description_width": ""
          }
        },
        "fee0a3d7436d4e7190213edbdb9c897f": {
          "model_module": "@jupyter-widgets/base",
          "model_module_version": "1.2.0",
          "model_name": "LayoutModel",
          "state": {
            "_model_module": "@jupyter-widgets/base",
            "_model_module_version": "1.2.0",
            "_model_name": "LayoutModel",
            "_view_count": null,
            "_view_module": "@jupyter-widgets/base",
            "_view_module_version": "1.2.0",
            "_view_name": "LayoutView",
            "align_content": null,
            "align_items": null,
            "align_self": null,
            "border": null,
            "bottom": null,
            "display": null,
            "flex": null,
            "flex_flow": null,
            "grid_area": null,
            "grid_auto_columns": null,
            "grid_auto_flow": null,
            "grid_auto_rows": null,
            "grid_column": null,
            "grid_gap": null,
            "grid_row": null,
            "grid_template_areas": null,
            "grid_template_columns": null,
            "grid_template_rows": null,
            "height": null,
            "justify_content": null,
            "justify_items": null,
            "left": null,
            "margin": null,
            "max_height": null,
            "max_width": null,
            "min_height": null,
            "min_width": null,
            "object_fit": null,
            "object_position": null,
            "order": null,
            "overflow": null,
            "overflow_x": null,
            "overflow_y": null,
            "padding": null,
            "right": null,
            "top": null,
            "visibility": null,
            "width": null
          }
        },
        "ff5c34f42dfe4645a72ea33a0e693ce1": {
          "model_module": "@jupyter-widgets/controls",
          "model_module_version": "1.5.0",
          "model_name": "HBoxModel",
          "state": {
            "_dom_classes": [],
            "_model_module": "@jupyter-widgets/controls",
            "_model_module_version": "1.5.0",
            "_model_name": "HBoxModel",
            "_view_count": null,
            "_view_module": "@jupyter-widgets/controls",
            "_view_module_version": "1.5.0",
            "_view_name": "HBoxView",
            "box_style": "",
            "children": [
              "IPY_MODEL_f9262937bd8d45698543f21079990171",
              "IPY_MODEL_335287a22b5242c2b58e22334f976633",
              "IPY_MODEL_db646459530e41d79ecf0a093c5351c4"
            ],
            "layout": "IPY_MODEL_6d1ff09658de4c47b998fd39ab5a8d96"
          }
        }
      }
    }
  },
  "nbformat": 4,
  "nbformat_minor": 0
}
