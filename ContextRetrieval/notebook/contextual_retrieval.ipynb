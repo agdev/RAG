{
  "cells": [
    {
      "cell_type": "markdown",
      "metadata": {
        "id": "386jgs8vEg4y"
      },
      "source": [
        "# Overview\n",
        "\n",
        "This code implements Contextual RAG System that combines vector-based similarity search with keyword-based BM25 retrieval. The approach aims to leverage the strengths of both methods to improve the overall quality and relevance of document retrieval.\n",
        "\n",
        "#Motivation\n",
        "Traditional retrieval methods often rely on either semantic understanding (vector-based) or keyword matching (BM25). Each approach has its strengths and weaknesses. Fusion retrieval aims to combine these methods to create a more robust and accurate retrieval system that can handle a wider range of queries effectively. The aim of this notbook to compare Contextual Retrieval implementation with \"simple/traditional\" implemintation\n",
        "\n",
        "# Key Components\n",
        " - \"m-ric/huggingface_doc_qa_eval\" Hugging face dataset\n",
        " - Pinecone Vector store for embedding storage\n",
        " - OpenAI embeddings\n",
        " - OpenAI summary model and generation model (Can be any other model)\n",
        " - BM25 index creation for keyword-based retrieval\n",
        " - Custom fusion retrieval function that combines both methods\n",
        "\n",
        "# Method Details\n",
        "Based on the code in the notebook/file, I can enhance the Method Details section to more accurately reflect the implementation:\n",
        "\n",
        "# Method Details\n",
        "\n",
        "## Document Preprocessing\n",
        "1. The dataset \"m-ric/huggingface_doc_qa_eval\" is loaded and filtered to keep only high-quality question/answer pairs (standalone_score >= 4)\n",
        "2. Documents are split into chunks using RecursiveCharacterTextSplitter with:\n",
        "   - Chunk size: 800 characters\n",
        "   - Overlap: 200 characters\n",
        "   - Custom markdown separators to maintain document structure\n",
        "\n",
        "## Document Contextualization\n",
        "1. Each chunk is enriched with contextual information using OpenAI GPT model:\n",
        "   - A prompt template guides the model to analyze how each chunk relates to its parent document\n",
        "   - Generated context is concise (3-4 sentences) and captures the chunk's role within the broader document\n",
        "   - The context is prepended to the chunk text for enhanced retrieval\n",
        "\n",
        "## Vector Store Creation\n",
        "1. OpenAI embeddings (text-embedding-3-small model) are used to create vector representations of:\n",
        "   - Regular chunks (without context)\n",
        "   - Contextualized chunks (with prepended context)\n",
        "2. Two separate Pinecone vector stores (ServerlessSpec) are created:\n",
        "   - One for regular chunks\n",
        "   - One for contextualized chunks\n",
        "   - Both use cosine similarity metric and 1536 dimensions\n",
        "\n",
        "## BM25 Index Creation\n",
        "1. Two BM25Okapi indexes are created using NLTK word tokenization:\n",
        "   - One for regular chunks\n",
        "   - One for contextualized chunks\n",
        "2. This enables keyword-based retrieval alongside vector-based methods\n",
        "\n",
        "## Fusion Retrieval Function\n",
        "The fusion_rank_search function combines multiple retrieval approaches:\n",
        "\n",
        "1. Initial Retrieval:\n",
        "   - Performs both vector-based (Pinecone) and BM25-based retrieval\n",
        "   - Gets top-k (default 20) results from each method\n",
        "   - Normalizes scores from both methods to a common scale (0-1)\n",
        "\n",
        "2. Score Combination:\n",
        "   - Weighted combination using the weight_sparse (alpha) parameter\n",
        "   - Aggregates scores for documents appearing in both result sets\n",
        "   - Normalizes combined scores by the number of methods that retrieved each document\n",
        "\n",
        "3. Reranking:\n",
        "   - Uses BAAI/bge-reranker-v2-m3 model to rerank the combined results\n",
        "   - Query-document pairs are scored by the reranker\n",
        "   - Final ranking is based on reranker scores\n",
        "\n",
        "4. Returns the top-k (default 5) documents after reranking\n",
        "\n",
        "## Evaluation\n",
        " Using BERTScore metrics to compare the effectiveness of regular vs. contextualized retrieval approaches.\n",
        "\n",
        "# Benefits of this Approach\n",
        "1. Improved Retrieval Quality: By combining semantic and keyword-based search, the system can capture both conceptual similarity and exact keyword matches.\n",
        "2. Flexibility: The alpha parameter allows for adjusting the balance between vector and keyword search based on specific use cases or query types.\n",
        "3. Robustness: The combined approach can handle a wider range of queries effectively, mitigating weaknesses of individual methods.\n",
        "4. Customizability: The system can be easily adapted to use different vector stores or keyword-based retrieval methods.\n",
        "\n",
        "# Conclusion\n",
        "Fusion retrieval represents a powerful approach to document search that combines the strengths of semantic understanding and keyword matching. By leveraging both vector-based and BM25 retrieval methods, it offers a more comprehensive and flexible solution for information retrieval tasks. This approach has potential applications in various fields where both conceptual similarity and keyword relevance are important, such as academic research, legal document search, or general-purpose search engines.\n",
        "Averaged results show slightly better performance contextual retrivale vs. regular. There are several parameters that can be played with (chunking size, chunk ovelap, alpha for fusion score calculations) and have impact on final result.\n"
      ]
    },
    {
      "cell_type": "code",
      "execution_count": null,
      "metadata": {
        "id": "i0rQp-2yE9tj"
      },
      "outputs": [],
      "source": [
        "# !pip install sentence_transformers -qU\n",
        "!pip install rank_bm25 -qU\n",
        "!pip install datasets -qU\n",
        "!pip install pinecone[grpc] -qU\n",
        "!pip install langchain_core -qU\n",
        "!pip install langchain -qU\n",
        "!pip install langchain_groq -qU\n",
        "!pip install langchain-google-genai -qU\n",
        "!pip install langchain-openai  -qU\n",
        "# ==0.2.9\n",
        "!pip install bert-score  -qU"
      ]
    },
    {
      "cell_type": "markdown",
      "metadata": {
        "id": "w7pHvMtoEg41"
      },
      "source": [
        "# Importing libraries"
      ]
    },
    {
      "cell_type": "code",
      "execution_count": null,
      "metadata": {
        "id": "oTin1IoFEg42"
      },
      "outputs": [],
      "source": [
        "import numpy as np\n",
        "import nltk\n",
        "from rank_bm25 import BM25Okapi\n",
        "from sklearn.metrics.pairwise import cosine_similarity\n",
        "from datasets import load_dataset\n",
        "from langchain.docstore.document import Document\n",
        "from langchain.text_splitter import RecursiveCharacterTextSplitter\n",
        "from langchain_core.prompts import ChatPromptTemplate\n",
        "import pinecone\n",
        "import pandas as pd # for dataframe\n",
        "import getpass\n",
        "from google.colab import userdata\n",
        "import os"
      ]
    },
    {
      "cell_type": "code",
      "source": [
        "nltk.download('punkt_tab')"
      ],
      "metadata": {
        "colab": {
          "base_uri": "https://localhost:8080/"
        },
        "id": "RWVfN2cBE6rT",
        "outputId": "a8eefe32-4bc8-4c47-d20c-ae5e4b8bea09"
      },
      "execution_count": null,
      "outputs": [
        {
          "output_type": "stream",
          "name": "stderr",
          "text": [
            "[nltk_data] Downloading package punkt_tab to /root/nltk_data...\n",
            "[nltk_data]   Unzipping tokenizers/punkt_tab.zip.\n"
          ]
        },
        {
          "output_type": "execute_result",
          "data": {
            "text/plain": [
              "True"
            ]
          },
          "metadata": {},
          "execution_count": 3
        }
      ]
    },
    {
      "cell_type": "markdown",
      "metadata": {
        "id": "Vw1FTzkTEg44"
      },
      "source": [
        "# Loading dataset"
      ]
    },
    {
      "cell_type": "code",
      "execution_count": null,
      "metadata": {
        "id": "plaURsn2eFlM"
      },
      "outputs": [],
      "source": [
        "# Load dataset from Hugging Face\n",
        "dataset = load_dataset(\"m-ric/huggingface_doc_qa_eval\")"
      ]
    },
    {
      "cell_type": "code",
      "execution_count": null,
      "metadata": {
        "colab": {
          "base_uri": "https://localhost:8080/"
        },
        "id": "kbXt0DzrEg44",
        "outputId": "961879db-ebd5-4eaa-932f-28f460b63c21"
      },
      "outputs": [
        {
          "output_type": "stream",
          "name": "stdout",
          "text": [
            "                                             context  \\\n",
            "0   `tokenizers-linux-x64-musl`\\n\\nThis is the **...   \n",
            "1  !--Copyright 2023 The HuggingFace Team. All ri...   \n",
            "2   Paper Pages\\n\\nPaper pages allow people to fi...   \n",
            "3   Datasets server API\\n\\n> API on 🤗 datasets\\n\\...   \n",
            "4  !--Copyright 2022 The HuggingFace Team. All ri...   \n",
            "\n",
            "                                            question  \\\n",
            "0  What architecture is the `tokenizers-linux-x64...   \n",
            "1  What is the purpose of the BLIP-Diffusion mode...   \n",
            "2  How can a user claim authorship of a paper on ...   \n",
            "3  What is the purpose of the /healthcheck endpoi...   \n",
            "4  What is the default context window size for Lo...   \n",
            "\n",
            "                                              answer  \\\n",
            "0                          x86_64-unknown-linux-musl   \n",
            "1  The BLIP-Diffusion model is designed for contr...   \n",
            "2  By clicking their name on the corresponding Pa...   \n",
            "3                          Ensure the app is running   \n",
            "4                                         127 tokens   \n",
            "\n",
            "                                          source_doc  standalone_score  \\\n",
            "0  huggingface/tokenizers/blob/main/bindings/node...                 5   \n",
            "1  huggingface/diffusers/blob/main/docs/source/en...                 5   \n",
            "2  huggingface/hub-docs/blob/main/docs/hub/paper-...                 5   \n",
            "3  huggingface/datasets-server/blob/main/services...                 5   \n",
            "4  huggingface/transformers/blob/main/docs/source...                 5   \n",
            "\n",
            "                                     standalone_eval  relatedness_score  \\\n",
            "0  The question is asking about the specific arch...                  5   \n",
            "1  The question is asking for the purpose of a sp...                  5   \n",
            "2  The question is clear and does not depend on a...                  5   \n",
            "3  The question is asking for the purpose of a sp...                  5   \n",
            "4  The question is asking for a specific paramete...                  5   \n",
            "\n",
            "                                    relatedness_eval  relevance_score  \\\n",
            "0  The context directly specifies the architectur...                3   \n",
            "1  The context provides a detailed description of...                3   \n",
            "2  The context provides a clear explanation of ho...                3   \n",
            "3  The context directly states the purpose of the...                4   \n",
            "4  The context provides a specific detail about t...                3   \n",
            "\n",
            "                                      relevance_eval  \n",
            "0  The question is asking for specific technical ...  \n",
            "1  The question asks about the purpose of the BLI...  \n",
            "2  The question is specific to the Hugging Face H...  \n",
            "3  The question is specific and technical, asking...  \n",
            "4  This question is specific and technical, askin...  \n"
          ]
        }
      ],
      "source": [
        "df = pd.DataFrame(dataset['train'])\n",
        "print(df.head())"
      ]
    },
    {
      "cell_type": "markdown",
      "source": [
        "## **Taking only best question/answer pairs**"
      ],
      "metadata": {
        "id": "DYMDunUnRZVF"
      }
    },
    {
      "cell_type": "code",
      "execution_count": null,
      "metadata": {
        "colab": {
          "base_uri": "https://localhost:8080/"
        },
        "id": "tjRiBI5tEg45",
        "outputId": "351b99dd-c46e-4db5-de39-fa81ef0d2da3"
      },
      "outputs": [
        {
          "output_type": "stream",
          "name": "stdout",
          "text": [
            "                                             context  \\\n",
            "0   `tokenizers-linux-x64-musl`\\n\\nThis is the **...   \n",
            "1  !--Copyright 2023 The HuggingFace Team. All ri...   \n",
            "2   Paper Pages\\n\\nPaper pages allow people to fi...   \n",
            "3   Datasets server API\\n\\n> API on 🤗 datasets\\n\\...   \n",
            "4  !--Copyright 2022 The HuggingFace Team. All ri...   \n",
            "\n",
            "                                            question  \\\n",
            "0  What architecture is the `tokenizers-linux-x64...   \n",
            "1  What is the purpose of the BLIP-Diffusion mode...   \n",
            "2  How can a user claim authorship of a paper on ...   \n",
            "3  What is the purpose of the /healthcheck endpoi...   \n",
            "4  What is the default context window size for Lo...   \n",
            "\n",
            "                                              answer  \\\n",
            "0                          x86_64-unknown-linux-musl   \n",
            "1  The BLIP-Diffusion model is designed for contr...   \n",
            "2  By clicking their name on the corresponding Pa...   \n",
            "3                          Ensure the app is running   \n",
            "4                                         127 tokens   \n",
            "\n",
            "                                          source_doc  standalone_score  \\\n",
            "0  huggingface/tokenizers/blob/main/bindings/node...                 5   \n",
            "1  huggingface/diffusers/blob/main/docs/source/en...                 5   \n",
            "2  huggingface/hub-docs/blob/main/docs/hub/paper-...                 5   \n",
            "3  huggingface/datasets-server/blob/main/services...                 5   \n",
            "4  huggingface/transformers/blob/main/docs/source...                 5   \n",
            "\n",
            "                                     standalone_eval  relatedness_score  \\\n",
            "0  The question is asking about the specific arch...                  5   \n",
            "1  The question is asking for the purpose of a sp...                  5   \n",
            "2  The question is clear and does not depend on a...                  5   \n",
            "3  The question is asking for the purpose of a sp...                  5   \n",
            "4  The question is asking for a specific paramete...                  5   \n",
            "\n",
            "                                    relatedness_eval  relevance_score  \\\n",
            "0  The context directly specifies the architectur...                3   \n",
            "1  The context provides a detailed description of...                3   \n",
            "2  The context provides a clear explanation of ho...                3   \n",
            "3  The context directly states the purpose of the...                4   \n",
            "4  The context provides a specific detail about t...                3   \n",
            "\n",
            "                                      relevance_eval  \n",
            "0  The question is asking for specific technical ...  \n",
            "1  The question asks about the purpose of the BLI...  \n",
            "2  The question is specific to the Hugging Face H...  \n",
            "3  The question is specific and technical, asking...  \n",
            "4  This question is specific and technical, askin...  \n"
          ]
        }
      ],
      "source": [
        "best_answers_df = df[df['standalone_score'] >= 4]\n",
        "print(best_answers_df.head())"
      ]
    },
    {
      "cell_type": "code",
      "execution_count": null,
      "metadata": {
        "colab": {
          "base_uri": "https://localhost:8080/"
        },
        "id": "ZsJFVK-WEg45",
        "outputId": "d6319b62-c8d8-441b-e9c1-bb01bb52bcad"
      },
      "outputs": [
        {
          "output_type": "stream",
          "name": "stdout",
          "text": [
            "<class 'pandas.core.frame.DataFrame'>\n",
            "RangeIndex: 65 entries, 0 to 64\n",
            "Data columns (total 10 columns):\n",
            " #   Column             Non-Null Count  Dtype \n",
            "---  ------             --------------  ----- \n",
            " 0   context            65 non-null     object\n",
            " 1   question           65 non-null     object\n",
            " 2   answer             65 non-null     object\n",
            " 3   source_doc         65 non-null     object\n",
            " 4   standalone_score   65 non-null     int64 \n",
            " 5   standalone_eval    65 non-null     object\n",
            " 6   relatedness_score  65 non-null     int64 \n",
            " 7   relatedness_eval   65 non-null     object\n",
            " 8   relevance_score    65 non-null     int64 \n",
            " 9   relevance_eval     65 non-null     object\n",
            "dtypes: int64(3), object(7)\n",
            "memory usage: 5.2+ KB\n"
          ]
        }
      ],
      "source": [
        "best_answers_df.info()"
      ]
    },
    {
      "cell_type": "markdown",
      "source": [
        "# **Logging into Huggng Face**"
      ],
      "metadata": {
        "id": "SVw_SYAng1lj"
      }
    },
    {
      "cell_type": "code",
      "source": [
        "from datasets import Dataset\n",
        "from huggingface_hub import login\n",
        "\n",
        "\n",
        "hf_token = userdata.get(\"HuggingFace\")\n",
        "if not hf_token:\n",
        "  # Login to Hugging Face (you'll need your token)\n",
        "  hf_token = input(\"Please enter your Hugging Face token: \")\n",
        "login(hf_token)\n"
      ],
      "metadata": {
        "id": "MD0J8-FegjMT"
      },
      "execution_count": null,
      "outputs": []
    },
    {
      "cell_type": "markdown",
      "source": [
        "# **Saving best_answers_df to Hugging face to prevent change**"
      ],
      "metadata": {
        "id": "De-pwRPug77N"
      }
    },
    {
      "cell_type": "code",
      "source": [
        "best_answers_ds = Dataset.from_pandas(best_answers_df)\n",
        "# Push to Hugging Face Hub\n",
        "best_answers_ds.push_to_hub(\n",
        "    \"AIEnthusiast369/hf_doc_qa_eval_best_answers\",\n",
        "    private=False\n",
        ")"
      ],
      "metadata": {
        "colab": {
          "base_uri": "https://localhost:8080/",
          "height": 150,
          "referenced_widgets": [
            "4bed86cdb7d5472aaac502f799aa6cd3",
            "af900ec4302a4fa0b7c5df176a5ce012",
            "0640f5ba066544e7a2d9eadf9f344f63",
            "ae3010bb60214a5babd9b403f2d80140",
            "be652c18fc8d4342a1f37dafad4fdec8",
            "33dab7937de345f4bbc1d5234ca4f850",
            "4ec24f366bb9406696b7964a4d2a011f",
            "b5b0c2635ca54f9485fec54257d47f3f",
            "a514fe466b08401e9191a252893e1272",
            "b1d692b51eba4e6dbd696991a06bb708",
            "7bb8ee628e424a6aaaad27eaa57696d6",
            "7af2284726d4446b946442d6f6294d55",
            "c1c514e1dc5a41a29cd941f27b5d775f",
            "84d7d7862a8845038d05dc1f33154991",
            "d61cc03947204dcfb6928e728cac90d8",
            "6f35d8aab090499c8f0cd1343c9f8a09",
            "3c07cba66d55496f9acc9fe0feea38ba",
            "249e66c034d446b2adff4d309a536793",
            "81bf54c7da914afbb681cb50fe4c8b73",
            "0a2dea7158d74cf3986f14e6e1a46849",
            "9a97849bd90d44038073578fd36740e7",
            "aa8de2907ee240b39c3b738932cf14cd"
          ]
        },
        "id": "MviO-QI-g7sI",
        "outputId": "0580d82d-0b45-4572-8aa8-c6f1ebdaf7e8"
      },
      "execution_count": null,
      "outputs": [
        {
          "output_type": "display_data",
          "data": {
            "text/plain": [
              "Uploading the dataset shards:   0%|          | 0/1 [00:00<?, ?it/s]"
            ],
            "application/vnd.jupyter.widget-view+json": {
              "version_major": 2,
              "version_minor": 0,
              "model_id": "4bed86cdb7d5472aaac502f799aa6cd3"
            }
          },
          "metadata": {}
        },
        {
          "output_type": "display_data",
          "data": {
            "text/plain": [
              "Creating parquet from Arrow format:   0%|          | 0/1 [00:00<?, ?ba/s]"
            ],
            "application/vnd.jupyter.widget-view+json": {
              "version_major": 2,
              "version_minor": 0,
              "model_id": "7af2284726d4446b946442d6f6294d55"
            }
          },
          "metadata": {}
        },
        {
          "output_type": "execute_result",
          "data": {
            "text/plain": [
              "CommitInfo(commit_url='https://huggingface.co/datasets/AIEnthusiast369/hf_doc_qa_eval_best_answers/commit/a392db43b5c76874b43811b2b4e75b39f47be7d3', commit_message='Upload dataset', commit_description='', oid='a392db43b5c76874b43811b2b4e75b39f47be7d3', pr_url=None, repo_url=RepoUrl('https://huggingface.co/datasets/AIEnthusiast369/hf_doc_qa_eval_best_answers', endpoint='https://huggingface.co', repo_type='dataset', repo_id='AIEnthusiast369/hf_doc_qa_eval_best_answers'), pr_revision=None, pr_num=None)"
            ],
            "application/vnd.google.colaboratory.intrinsic+json": {
              "type": "string"
            }
          },
          "metadata": {},
          "execution_count": 49
        }
      ]
    },
    {
      "cell_type": "markdown",
      "metadata": {
        "id": "6AU0Loz2Eg45"
      },
      "source": [
        "# Extract contexts from the dataset"
      ]
    },
    {
      "cell_type": "code",
      "execution_count": null,
      "metadata": {
        "id": "83Szf9dyEg46"
      },
      "outputs": [],
      "source": [
        "texts = best_answers_df['context'].tolist()"
      ]
    },
    {
      "cell_type": "markdown",
      "source": [
        "# **Setting up Embedding model**"
      ],
      "metadata": {
        "id": "rZIDZI_PBYRV"
      }
    },
    {
      "cell_type": "markdown",
      "source": [
        "## **sentence-transformers**"
      ],
      "metadata": {
        "id": "IMTkBRPrB2ce"
      }
    },
    {
      "cell_type": "code",
      "execution_count": null,
      "metadata": {
        "id": "yK1mnOMPEg46",
        "colab": {
          "base_uri": "https://localhost:8080/",
          "height": 49,
          "referenced_widgets": [
            "7610eb823dcb447b83c1f07d4e922c9b",
            "95ea3550d20f45b7a2402f59fd581e34",
            "ee9778ad21a14bfa92223cb6de4741b5",
            "b81a5e87e001431a926539b99bfab218",
            "df87fa25688b4ad0b72118ce661eac05",
            "76a99c20f17841fab64199faa2002154",
            "bb4c39c9a41c496498865e7f68924b77",
            "fee0a3d7436d4e7190213edbdb9c897f",
            "ed39c1c722d64fec8d89adadc72f6567",
            "50fd9a4eea954b5d9c75ed91ad4a89d6",
            "70584dbd70df495cb79be133338b14ba"
          ]
        },
        "outputId": "a3ebdcee-46e3-44e6-8ce2-7fc54fd065f1"
      },
      "outputs": [
        {
          "output_type": "display_data",
          "data": {
            "text/plain": [
              "model.safetensors:   0%|          | 0.00/90.9M [00:00<?, ?B/s]"
            ],
            "application/vnd.jupyter.widget-view+json": {
              "version_major": 2,
              "version_minor": 0,
              "model_id": "7610eb823dcb447b83c1f07d4e922c9b"
            }
          },
          "metadata": {}
        }
      ],
      "source": [
        "# # load ' sentence-transformers/all-MiniLM-L6-v2' embedding model from Hugging Face\n",
        "# from transformers import AutoTokenizer, AutoModel\n",
        "# model_name = 'sentence-transformers/all-MiniLM-L6-v2'\n",
        "# tokenizer = AutoTokenizer.from_pretrained(model_name)\n",
        "# max_seq_length = tokenizer.model_max_length\n",
        "# embedding_model = AutoModel.from_pretrained(model_name)"
      ]
    },
    {
      "cell_type": "markdown",
      "source": [
        "## **openai**"
      ],
      "metadata": {
        "id": "k0aFEsYBYWT3"
      }
    },
    {
      "cell_type": "code",
      "source": [
        "openai_api_key = userdata.get(\"OPENAI_API_KEY\")\n",
        "if not openai_api_key:\n",
        "  openai_api_key = getpass(\"Please enter your OPENAI API KEY: \")\n",
        "\n",
        "os.environ[\"OPENAI_API_KEY\"] = openai_api_key"
      ],
      "metadata": {
        "id": "ICKWl98grnHR"
      },
      "execution_count": null,
      "outputs": []
    },
    {
      "cell_type": "code",
      "source": [
        "from langchain_openai import OpenAIEmbeddings\n",
        "\n",
        "embedding_model = OpenAIEmbeddings(model=\"text-embedding-3-small\")\n",
        "\n",
        "max_seq_length = embedding_model.embedding_ctx_length\n",
        "# index_dimensions = embedding_model.dimensions\n",
        "index_dimensions = 1536 # default setting of text-embedding-3-small\n",
        "print(f'max_seq_length:{max_seq_length}, index_dimensions:{index_dimensions}')"
      ],
      "metadata": {
        "id": "5HWee4hGYWBS",
        "colab": {
          "base_uri": "https://localhost:8080/"
        },
        "outputId": "69d74dd6-4ca0-4939-b046-9cfc39690cf4"
      },
      "execution_count": null,
      "outputs": [
        {
          "output_type": "stream",
          "name": "stdout",
          "text": [
            "max_seq_length:8191, index_dimensions:1536\n"
          ]
        }
      ]
    },
    {
      "cell_type": "markdown",
      "metadata": {
        "id": "GPrfhPe5Eg46"
      },
      "source": [
        "# Defining text splitter"
      ]
    },
    {
      "cell_type": "markdown",
      "source": [
        "###openai"
      ],
      "metadata": {
        "id": "4qoOMzEgntW1"
      }
    },
    {
      "cell_type": "code",
      "source": [
        "MARKDOWN_SEPARATORS = [\n",
        "    \"\\n#{1,6} \",\n",
        "    \"```\\n\",\n",
        "    \"\\n\\\\*\\\\*\\\\*+\\n\",\n",
        "    \"\\n---+\\n\",\n",
        "    \"\\n___+\\n\",\n",
        "    \"\\n\\n\",\n",
        "    \"\\n\",\n",
        "    \" \",\n",
        "    \"\",\n",
        "]\n",
        "# Use RecursiveCharacterTextSplitter to split documents into chunks\n",
        "chunk_overlap = 200\n",
        "chunk_size = 800\n",
        "print('chunk_size',chunk_size)\n",
        "text_splitter = RecursiveCharacterTextSplitter(\n",
        "    chunk_size=chunk_size,\n",
        "    chunk_overlap=chunk_overlap,\n",
        "    separators=MARKDOWN_SEPARATORS,\n",
        ")"
      ],
      "metadata": {
        "colab": {
          "base_uri": "https://localhost:8080/"
        },
        "id": "FwvXDlyQinuA",
        "outputId": "e45a4c5c-ac48-48ca-a324-abb196268937"
      },
      "execution_count": null,
      "outputs": [
        {
          "output_type": "stream",
          "name": "stdout",
          "text": [
            "chunk_size 800\n"
          ]
        }
      ]
    },
    {
      "cell_type": "markdown",
      "source": [
        "# **Definining ProcessedDocument & Chunk**"
      ],
      "metadata": {
        "id": "tWieWvZNSpZM"
      }
    },
    {
      "cell_type": "code",
      "execution_count": null,
      "metadata": {
        "id": "flfZ4zNyEg47"
      },
      "outputs": [],
      "source": [
        "class Chunk:\n",
        "    def __init__(self, text: str):\n",
        "        self.text = text\n",
        "        self.context = None\n",
        "\n",
        "class ProcessedDocument:\n",
        "    def __init__(self, text: str, chunks: list[Chunk]):\n",
        "        self.text = text\n",
        "        self.chunks = chunks\n"
      ]
    },
    {
      "cell_type": "code",
      "execution_count": null,
      "metadata": {
        "id": "8x5T6XzSEg47",
        "colab": {
          "base_uri": "https://localhost:8080/"
        },
        "outputId": "2c2d1e79-11aa-42ac-c4ab-7cbc5c6fef5d"
      },
      "outputs": [
        {
          "output_type": "stream",
          "name": "stdout",
          "text": [
            "Number of chunks for document #0: 1\n",
            "Number of chunks for document #1: 6\n",
            "Number of chunks for document #2: 5\n",
            "Number of chunks for document #3: 2\n",
            "Number of chunks for document #4: 12\n",
            "Number of chunks for document #5: 5\n",
            "Number of chunks for document #6: 29\n",
            "Number of chunks for document #7: 2\n",
            "Number of chunks for document #8: 40\n",
            "Number of chunks for document #9: 26\n",
            "Number of chunks for document #10: 5\n",
            "Number of chunks for document #11: 3\n",
            "Number of chunks for document #12: 16\n",
            "Number of chunks for document #13: 3\n",
            "Number of chunks for document #14: 7\n",
            "Number of chunks for document #15: 1\n",
            "Number of chunks for document #16: 22\n",
            "Number of chunks for document #17: 2\n",
            "Number of chunks for document #18: 20\n",
            "Number of chunks for document #19: 27\n",
            "Number of chunks for document #20: 24\n",
            "Number of chunks for document #21: 20\n",
            "Number of chunks for document #22: 40\n",
            "Number of chunks for document #23: 16\n",
            "Number of chunks for document #24: 1\n",
            "Number of chunks for document #25: 2\n",
            "Number of chunks for document #26: 12\n",
            "Number of chunks for document #27: 19\n",
            "Number of chunks for document #28: 5\n",
            "Number of chunks for document #29: 14\n",
            "Number of chunks for document #30: 2\n",
            "Number of chunks for document #31: 2\n",
            "Number of chunks for document #32: 8\n",
            "Number of chunks for document #33: 23\n",
            "Number of chunks for document #34: 5\n",
            "Number of chunks for document #35: 14\n",
            "Number of chunks for document #36: 7\n",
            "Number of chunks for document #37: 30\n",
            "Number of chunks for document #38: 3\n",
            "Number of chunks for document #39: 10\n",
            "Number of chunks for document #40: 1\n",
            "Number of chunks for document #41: 7\n",
            "Number of chunks for document #42: 12\n",
            "Number of chunks for document #43: 22\n",
            "Number of chunks for document #44: 28\n",
            "Number of chunks for document #45: 10\n",
            "Number of chunks for document #46: 11\n",
            "Number of chunks for document #47: 16\n",
            "Number of chunks for document #48: 2\n",
            "Number of chunks for document #49: 57\n",
            "Number of chunks for document #50: 12\n",
            "Number of chunks for document #51: 7\n",
            "Number of chunks for document #52: 50\n",
            "Number of chunks for document #53: 7\n",
            "Number of chunks for document #54: 24\n",
            "Number of chunks for document #55: 31\n",
            "Number of chunks for document #56: 6\n",
            "Number of chunks for document #57: 6\n",
            "Number of chunks for document #58: 3\n",
            "Number of chunks for document #59: 9\n",
            "Number of chunks for document #60: 11\n",
            "Number of chunks for document #61: 23\n",
            "Number of chunks for document #62: 24\n",
            "Number of chunks for document #63: 6\n",
            "Number of chunks for document #64: 6\n",
            "Number of Processed document: 65\n"
          ]
        }
      ],
      "source": [
        "docs_processed: list[ProcessedDocument] = []\n",
        "for text in texts:\n",
        "    # text = doc.page_content  # Extract the text content from the Document\n",
        "    chunks = text_splitter.split_text(text)  # Split the text into chunks (strings)\n",
        "    print(f\"Number of chunks for document #{len(docs_processed)}: {len(chunks)}\")\n",
        "    processed_doc = ProcessedDocument(\n",
        "        text,\n",
        "        [Chunk(chunk_text) for chunk_text in chunks]\n",
        "    )\n",
        "    docs_processed.append(processed_doc)\n",
        "print(f\"Number of Processed document: {len(docs_processed)}\")"
      ]
    },
    {
      "cell_type": "code",
      "execution_count": null,
      "metadata": {
        "colab": {
          "base_uri": "https://localhost:8080/"
        },
        "id": "TqD1CrhoEg47",
        "outputId": "3d561f57-348c-4638-ee0a-aee0919fa8e5"
      },
      "outputs": [
        {
          "output_type": "stream",
          "name": "stdout",
          "text": [
            "Total number of chunks across all documents: 882\n"
          ]
        }
      ],
      "source": [
        "# Count total chunks\n",
        "total_chunks = sum(len(doc.chunks) for doc in docs_processed)\n",
        "print(f\"Total number of chunks across all documents: {total_chunks}\")"
      ]
    },
    {
      "cell_type": "markdown",
      "metadata": {
        "id": "1xbm1paDEg47"
      },
      "source": [
        "# **Define summary chain**"
      ]
    },
    {
      "cell_type": "code",
      "execution_count": null,
      "metadata": {
        "id": "luOsyyoyEg47"
      },
      "outputs": [],
      "source": [
        "from langchain.prompts import PromptTemplate\n",
        "from google.colab import userdata"
      ]
    },
    {
      "cell_type": "markdown",
      "source": [
        "### **OpenAI**"
      ],
      "metadata": {
        "id": "w3GPArSFTk-t"
      }
    },
    {
      "cell_type": "code",
      "source": [
        "from langchain_openai import ChatOpenAI\n",
        "\n",
        "\n",
        "model_chat_name = \"gpt-3.5-turbo\"\n",
        "llm = ChatOpenAI(model=model_chat_name)\n",
        "sum_provider = 'OPENAI'"
      ],
      "metadata": {
        "id": "6tG8KcGJfTn-"
      },
      "execution_count": null,
      "outputs": []
    },
    {
      "cell_type": "code",
      "source": [
        "prompt_template = ChatPromptTemplate.from_messages([\n",
        "    (\"system\",\n",
        "            \"\"\"You are an AI assistant specializing in document summarization and contextualization. Your task is to provide brief, relevant context for a specific chunk of text based on a larger document. Here's how to proceed:\n",
        "\"\"\"),\n",
        "    (\"human\", \"\"\"\n",
        "First, carefully read and analyze the following document:\n",
        "\n",
        "<document>\n",
        "{document}\n",
        "</document>\n",
        "\n",
        "Now, consider this specific chunk of text from the document:\n",
        "\n",
        "<chunk>\n",
        "{chunk}\n",
        "</chunk>\n",
        "\n",
        "Your goal is to provide a concise context for this chunk, situating it within the whole document. Follow these guidelines:\n",
        "\n",
        "1. Analyze how the chunk relates to the overall document's themes, arguments, or narrative.\n",
        "2. Identify the chunk's role or significance within the broader context of the document.\n",
        "3. Determine what information from the rest of the document is most relevant to understanding this chunk.\n",
        "\n",
        "Compose your response as follows:\n",
        "- Provide 3-4 sentences maximum of context.\n",
        "- Begin directly with the context, without any introductory phrases.\n",
        "- Use language like \"Focuses on...\" or \"Addresses...\" to describe the chunk's content.\n",
        "- Ensure the context would be helpful for improving search retrieval of the chunk.\n",
        "\n",
        "Important notes:\n",
        "- Do not use phrases like \"this chunk\" or \"this section\" in your response.\n",
        "- Do not repeat the chunk's content verbatim; provide context from the rest of the document.\n",
        "- Avoid unnecessary details; be succinct and relevant.\n",
        "- Do not include any additional commentary or meta-discussion about the task itself.\n",
        "\n",
        " Remember, your goal is to provide clear, concise, and relevant context that situates the given chunk within the larger document.\n",
        "            \"\"\"\n",
        "     )\n",
        "])\n"
      ],
      "metadata": {
        "id": "ZZMKgGuo6-Xj"
      },
      "execution_count": null,
      "outputs": []
    },
    {
      "cell_type": "code",
      "source": [
        "def create_context_chain(llm):\n",
        "    return prompt_template | llm\n",
        "\n",
        "context_chain = create_context_chain(llm)"
      ],
      "metadata": {
        "id": "jYWgK3T5sumI"
      },
      "execution_count": null,
      "outputs": []
    },
    {
      "cell_type": "code",
      "source": [
        "def get_context(text: str, chunk: str) -> str:\n",
        "    if len(chunk.strip()) <= 0 or len(text.strip()) <= 0:\n",
        "        print(f\"Chunk or text is empty\")\n",
        "        raise Exception(\"Chunk or text is empty\")\n",
        "    context= context_chain.invoke({\"document\": text, \"chunk\": chunk})\n",
        "    return context.content"
      ],
      "metadata": {
        "id": "8nNSuI3vtJjY"
      },
      "execution_count": null,
      "outputs": []
    },
    {
      "cell_type": "code",
      "source": [
        "def generate_context(docs_processed: list[ProcessedDocument]):\n",
        "    for i, doc in enumerate(docs_processed):\n",
        "        print(f'processing document index {i}')\n",
        "        for chunk in doc.chunks:\n",
        "            # print(chunk.text)\n",
        "            context: str = get_context(text= doc.text, chunk= chunk.text)\n",
        "            chunk.context = context\n",
        "            # print(f\"chunk with context: Context: \\n\\n {chunk.context} \\n\\n Chunk: {chunk.text}\")"
      ],
      "metadata": {
        "id": "NVzI3sOHty8p"
      },
      "execution_count": null,
      "outputs": []
    },
    {
      "cell_type": "markdown",
      "source": [
        "# **Testing chain**"
      ],
      "metadata": {
        "id": "3Zu6dnWfiejY"
      }
    },
    {
      "cell_type": "code",
      "source": [
        "page = \"\"\"\n",
        " Convert weights to safetensors\n",
        "\n",
        "PyTorch model weights are commonly saved and stored as `.bin` files with Python's [`pickle`](https://docs.python.org/3/library/pickle.html) utility. To save and store your model weights in the more secure `safetensor` format, we recommend converting your weights to `.safetensors`.\n",
        "The easiest way to convert your model weights is to use the [Convert Space](https://huggingface.co/spaces/diffusers/convert), given your model weights are already stored on the Hub. The Convert Space downloads the pickled weights, converts them, and opens a Pull Request to upload the newly converted `.safetensors` file to your repository.\n",
        "<Tip warning={true}>\n",
        "For larger models, the Space may be a bit slower because its resources are tied up in converting other models. You can also try running the [convert.py](https://github.com/huggingface/safetensors/blob/main/bindings/python/convert.py) script (this is what the Space is running) locally to convert your weights.\n",
        "Feel free to ping [@Narsil](https://huggingface.co/Narsil) for any issues with the Space.\n",
        "</Tip>\n",
        "\"\"\"\n",
        "chunk = \"\"\"\n",
        "Convert weights to safetensors\n",
        "PyTorch model weights are commonly saved and stored as `.bin` files with Python's [`pickle`](https://docs.python.org/3/library/pickle.html) utility. To save and store your model weights in the more secure `safetensor` format, we recommend converting your weights to `.safetensors`.\n",
        "The easiest way to convert your model weights is to use the [Convert Space](https://huggingface.co/spaces/diffusers/convert), given your model weights are already stored on the Hub. The Convert Space downloads the pickled weights, converts them, and opens a Pull Request to upload the newly converted `.safetensors` file to your repository.\n",
        "<Tip warning={true}>\n",
        "For larger models, the Space may be a bit slower because its resources are tied up in converting other models. You can also try running the [convert.py](https://github.com/huggingface/safetensors/blob/main/bindings/python/convert.py) script (this is what the Space is running) locally to convert your weights.\n",
        "Feel free to ping [@Narsil](https://huggingface.co/Narsil) for any issues with the Space.\n",
        "</Tip>\n",
        "\"\"\""
      ],
      "metadata": {
        "id": "WYcumeIViZVI"
      },
      "execution_count": null,
      "outputs": []
    },
    {
      "cell_type": "code",
      "source": [
        "test_context = get_context(text = page, chunk=chunk)"
      ],
      "metadata": {
        "id": "fdfaYjOPiiCg"
      },
      "execution_count": null,
      "outputs": []
    },
    {
      "cell_type": "code",
      "source": [
        "print(test_context)"
      ],
      "metadata": {
        "colab": {
          "base_uri": "https://localhost:8080/"
        },
        "id": "ilSpE3zdj5ni",
        "outputId": "70de0aaf-6dfb-40e0-d468-3532faa03cad"
      },
      "execution_count": null,
      "outputs": [
        {
          "output_type": "stream",
          "name": "stdout",
          "text": [
            "The document discusses converting PyTorch model weights saved as `.bin` files with `pickle` to a more secure `safetensor` format by using the Convert Space tool or running a conversion script locally. It emphasizes the importance of converting weights to `.safetensors` for security reasons. Additionally, the document provides a tip about potential delays in using the Convert Space tool due to resource constraints and offers an alternative method for conversion.\n"
          ]
        }
      ]
    },
    {
      "cell_type": "code",
      "source": [
        "# temp_docs = docs_processed[1:2]\n",
        "# generate_context(temp_docs)\n",
        "generate_context(docs_processed)"
      ],
      "metadata": {
        "id": "Gp70kmKdwWae",
        "colab": {
          "base_uri": "https://localhost:8080/"
        },
        "outputId": "f6584a79-5e82-43fe-9efe-3481ae69cdad"
      },
      "execution_count": null,
      "outputs": [
        {
          "output_type": "stream",
          "name": "stdout",
          "text": [
            "processing document index 0\n",
            "processing document index 1\n",
            "processing document index 2\n",
            "processing document index 3\n",
            "processing document index 4\n",
            "processing document index 5\n",
            "processing document index 6\n",
            "processing document index 7\n",
            "processing document index 8\n",
            "processing document index 9\n",
            "processing document index 10\n",
            "processing document index 11\n",
            "processing document index 12\n",
            "processing document index 13\n",
            "processing document index 14\n",
            "processing document index 15\n",
            "processing document index 16\n",
            "processing document index 17\n",
            "processing document index 18\n",
            "processing document index 19\n",
            "processing document index 20\n",
            "processing document index 21\n",
            "processing document index 22\n",
            "processing document index 23\n",
            "processing document index 24\n",
            "processing document index 25\n",
            "processing document index 26\n",
            "processing document index 27\n",
            "processing document index 28\n",
            "processing document index 29\n",
            "processing document index 30\n",
            "processing document index 31\n",
            "processing document index 32\n",
            "processing document index 33\n",
            "processing document index 34\n",
            "processing document index 35\n",
            "processing document index 36\n",
            "processing document index 37\n",
            "processing document index 38\n",
            "processing document index 39\n",
            "processing document index 40\n",
            "processing document index 41\n",
            "processing document index 42\n",
            "processing document index 43\n",
            "processing document index 44\n",
            "processing document index 45\n",
            "processing document index 46\n",
            "processing document index 47\n",
            "processing document index 48\n",
            "processing document index 49\n",
            "processing document index 50\n",
            "processing document index 51\n",
            "processing document index 52\n",
            "processing document index 53\n",
            "processing document index 54\n",
            "processing document index 55\n",
            "processing document index 56\n",
            "processing document index 57\n",
            "processing document index 58\n",
            "processing document index 59\n",
            "processing document index 60\n",
            "processing document index 61\n",
            "processing document index 62\n",
            "processing document index 63\n",
            "processing document index 64\n"
          ]
        }
      ]
    },
    {
      "cell_type": "markdown",
      "metadata": {
        "id": "xdmYQMFReFlR"
      },
      "source": [
        "## Save processed documents to file"
      ]
    },
    {
      "cell_type": "code",
      "execution_count": null,
      "metadata": {
        "id": "ivDZpzZMeFlR"
      },
      "outputs": [],
      "source": [
        "import joblib\n",
        "from datetime import datetime\n",
        "from google.colab import files\n",
        "import glob\n",
        "import os\n",
        "\n",
        "def save_download_object(object, filename):\n",
        "    joblib.dump(object, filename)\n",
        "    print(f\"Saved object to {filename}\")\n",
        "    files.download(filename)\n",
        "    print(f\"Downloaded {filename}\")\n",
        "\n",
        "def create_timestamp() -> str:\n",
        "    return datetime.now().strftime(\"%Y%m%d_%H%M%S\")\n",
        "\n",
        "\n",
        "def create_filename_timestamp(filename, extension = \"joblib\") -> str:\n",
        "    timestamp = create_timestamp()\n",
        "    return f\"{filename}_{timestamp}.{extension}\""
      ]
    },
    {
      "cell_type": "code",
      "source": [
        "chunk_texts = []\n",
        "document_texts = []\n",
        "contexts = []\n",
        "\n",
        "# Extract data from docs_processed\n",
        "for doc in docs_processed:\n",
        "    for chunk in doc.chunks:\n",
        "        chunk_texts.append(chunk.text)\n",
        "        contexts.append(chunk.context)\n",
        "        document_texts.append(doc.text)\n",
        "\n",
        "# Create dictionary for dataset\n",
        "dataset_dict = {\n",
        "    'chunk': chunk_texts,\n",
        "    'document': document_texts,\n",
        "    'context': contexts\n",
        "}"
      ],
      "metadata": {
        "id": "hUg5zY3egqtg"
      },
      "execution_count": null,
      "outputs": []
    },
    {
      "cell_type": "markdown",
      "source": [
        "# **Saving Context + Chunks to dataset**"
      ],
      "metadata": {
        "id": "RPLQLJzxvv3C"
      }
    },
    {
      "cell_type": "code",
      "execution_count": null,
      "metadata": {
        "id": "fiCoPuZOEg48",
        "colab": {
          "base_uri": "https://localhost:8080/",
          "height": 135,
          "referenced_widgets": [
            "9241444d88c844e2a97676d935765b49",
            "14071b0512b94c3181e53db7b3a35202",
            "88582e22f86944e8a9d2e7dc853faf04",
            "a12cc0c4e5884849b2e444a6d0b4406b",
            "bf8c9017c3184fb2866cc648214ed5ca",
            "af9fc53cbd414753a7fa4043889b70d9",
            "54f70b15dbef48ee965499b73b3ab6e6",
            "1a17c06c44aa47968f7a53b27c6629c3",
            "e8c018602232414f8b11f582f0f521d6",
            "9a81a45162774028a2f354c7dc01db9c",
            "591704ad35224966b086db29df777f07",
            "0bbfc32869ed4774a7f6ccc10b27c5cc",
            "f38a0ff551b24dfc8ebc98ec9b0666eb",
            "81773f9406fa4975ad238e82357e1b89",
            "86ddfc36ed5b4999a8c908eee6096754",
            "3e5a5f41c3144d36853ed4d1b68544c5",
            "6ed6f3b38503478e9cf614c8a17702c5",
            "1cbb00e355c94d5a976b27a138cba919",
            "dd3b0e6739024d639b47428237c7db24",
            "788b2295dbe540728fa17fd58b6725dc",
            "cad2f57aab3c456f8e83ca4a7c619787",
            "e4d679ad02d9456badd82efe18b50f57"
          ]
        },
        "outputId": "b65b3508-b6ad-45ad-8aa0-1bbdbe8e06c5"
      },
      "outputs": [
        {
          "output_type": "display_data",
          "data": {
            "text/plain": [
              "Uploading the dataset shards:   0%|          | 0/1 [00:00<?, ?it/s]"
            ],
            "application/vnd.jupyter.widget-view+json": {
              "version_major": 2,
              "version_minor": 0,
              "model_id": "9241444d88c844e2a97676d935765b49"
            }
          },
          "metadata": {}
        },
        {
          "output_type": "display_data",
          "data": {
            "text/plain": [
              "Creating parquet from Arrow format:   0%|          | 0/1 [00:00<?, ?ba/s]"
            ],
            "application/vnd.jupyter.widget-view+json": {
              "version_major": 2,
              "version_minor": 0,
              "model_id": "0bbfc32869ed4774a7f6ccc10b27c5cc"
            }
          },
          "metadata": {}
        },
        {
          "output_type": "execute_result",
          "data": {
            "text/plain": [
              "CommitInfo(commit_url='https://huggingface.co/datasets/AIEnthusiast369/hf_doc_qa_eval_chunk_size_800_open_ai/commit/7be3854af236da891ed8ecbd7299e0c9f0a3299a', commit_message='Upload dataset', commit_description='', oid='7be3854af236da891ed8ecbd7299e0c9f0a3299a', pr_url=None, repo_url=RepoUrl('https://huggingface.co/datasets/AIEnthusiast369/hf_doc_qa_eval_chunk_size_800_open_ai', endpoint='https://huggingface.co', repo_type='dataset', repo_id='AIEnthusiast369/hf_doc_qa_eval_chunk_size_800_open_ai'), pr_revision=None, pr_num=None)"
            ],
            "application/vnd.google.colaboratory.intrinsic+json": {
              "type": "string"
            }
          },
          "metadata": {},
          "execution_count": 104
        }
      ],
      "source": [
        "# Convert to Hugging Face Dataset\n",
        "dataset = Dataset.from_dict(dataset_dict)\n",
        "\n",
        "# Push to Hugging Face Hub\n",
        "dataset.push_to_hub(\n",
        "    f\"AIEnthusiast369/hf_doc_qa_eval_chunk_size_{chunk_size}_open_ai\",  # Replace with your username and desired dataset name\n",
        "    private=False  # Set to False if you want it public\n",
        ")"
      ]
    },
    {
      "cell_type": "markdown",
      "source": [
        "# **Loading chunks with context dataset**\n",
        "*Yuu need to run it only in case of notebook timing out and you loose state*"
      ],
      "metadata": {
        "id": "AA6NpBJByPd7"
      }
    },
    {
      "cell_type": "code",
      "source": [
        "chunked_dataset = load_dataset(\"AIEnthusiast369/hf_doc_qa_eval_chunk_size_800_open_ai\")\n",
        "chunks_from_ds=True"
      ],
      "metadata": {
        "id": "uPpFs15VyH0i",
        "colab": {
          "base_uri": "https://localhost:8080/",
          "height": 237,
          "referenced_widgets": [
            "8cb05c43dec247989256d80de1b20cf9",
            "dfac5b3e39a040a0afc987eee1bd76bb",
            "c1403f041ed9464695ea2a5c92c14a26",
            "bc5769492b184bc393a38e5d4e95e0b1",
            "1e19050869734ff0981abfbf6b8018b7",
            "ab44deaed41e4f44bfb7450289bd16de",
            "e63f4908452b48b98db1cd66bfd33fed",
            "efb6e2346c134848abe6013edd4e1ffa",
            "cf38b2163c954d9497ace04a18435425",
            "94171c36255a446eaa6d3ab071bcea3e",
            "3a32d6a4bcb84df28272785ffc885a86",
            "a56992c198ca494387647c351dd9e07d",
            "5226990d08924e2e95f0c5485ed8b43a",
            "a621e826dd8c4d36932a56ef856b0e09",
            "50a2a239e65349ebb2ea1f56bc023235",
            "4c3e807d6ba843a7b6883b576f38dd71",
            "37b3343fb68d4f4caf2c4a93142e1e32",
            "b0161cbe87de422b92154a133ed041ff",
            "ffef61b6f88c41c3bf965d2d815e556e",
            "5e202d3571fa4a2fbfa0f3fbdf0369d5",
            "5f92f3162d4342429b50e48e7f2dd05b",
            "0145667470cc4bcd923fb8d759b3ad3f",
            "f6a807c7d59d43188ca1c4d85aad4987",
            "ccaf2066d080444c83ea6344240ef95c",
            "b1a1a38c95054afb9f7b0d1595fa59fa",
            "0e4b2def61724743910f4369c5a72449",
            "e925604d85c6487aa69faff5778fdb45",
            "8784affef9d244c88607a1734784e7d2",
            "7f24b430635c4863b99593b976c43f1a",
            "d426cbd37f64433882e522fb12d949b4",
            "799a65142f06494bb5489296ffcd5c62",
            "0c565325d6144786af1ab24758f0adbb",
            "a0635ddc4ed64c368901ebc14abcc8c3"
          ]
        },
        "outputId": "123fb65e-dcfa-4e36-eedf-9b27d70daefe"
      },
      "execution_count": null,
      "outputs": [
        {
          "output_type": "stream",
          "name": "stderr",
          "text": [
            "/usr/local/lib/python3.10/dist-packages/huggingface_hub/utils/_auth.py:94: UserWarning: \n",
            "The secret `HF_TOKEN` does not exist in your Colab secrets.\n",
            "To authenticate with the Hugging Face Hub, create a token in your settings tab (https://huggingface.co/settings/tokens), set it as secret in your Google Colab and restart your session.\n",
            "You will be able to reuse this secret in all of your notebooks.\n",
            "Please note that authentication is recommended but still optional to access public models or datasets.\n",
            "  warnings.warn(\n"
          ]
        },
        {
          "output_type": "display_data",
          "data": {
            "text/plain": [
              "README.md:   0%|          | 0.00/348 [00:00<?, ?B/s]"
            ],
            "application/vnd.jupyter.widget-view+json": {
              "version_major": 2,
              "version_minor": 0,
              "model_id": "8cb05c43dec247989256d80de1b20cf9"
            }
          },
          "metadata": {}
        },
        {
          "output_type": "display_data",
          "data": {
            "text/plain": [
              "train-00000-of-00001.parquet:   0%|          | 0.00/659k [00:00<?, ?B/s]"
            ],
            "application/vnd.jupyter.widget-view+json": {
              "version_major": 2,
              "version_minor": 0,
              "model_id": "a56992c198ca494387647c351dd9e07d"
            }
          },
          "metadata": {}
        },
        {
          "output_type": "display_data",
          "data": {
            "text/plain": [
              "Generating train split:   0%|          | 0/882 [00:00<?, ? examples/s]"
            ],
            "application/vnd.jupyter.widget-view+json": {
              "version_major": 2,
              "version_minor": 0,
              "model_id": "f6a807c7d59d43188ca1c4d85aad4987"
            }
          },
          "metadata": {}
        }
      ]
    },
    {
      "cell_type": "code",
      "source": [
        "if chunks_from_ds:\n",
        "   best_answers_ds = load_dataset(\"AIEnthusiast369/hf_doc_qa_eval_best_answers\", split=\"train\")\n",
        "   best_answers_df = best_answers_ds.to_pandas()\n"
      ],
      "metadata": {
        "id": "sP3hUVqGCCvO",
        "colab": {
          "base_uri": "https://localhost:8080/",
          "height": 113,
          "referenced_widgets": [
            "112bbc08710f49cbbc4899fc4b1d2437",
            "f351ed8e2a684d52839cd06312998248",
            "e5cfcee7977f484f88557cf22e48e44f",
            "e2d5f9d33cfc4d3c8e40f1fd7eedc7cc",
            "3a043f18cc86483da2942786e687dcbb",
            "9dd5ff88c8374dc2b5e3b0f7032c7576",
            "fef14292d1f3448593d3662b90b7844a",
            "0215210269e94ced96efe8de7b4cad75",
            "02692e587a5d4c9dbb3e4fec9a5d1909",
            "158bfc7c1a59411d824629d974683865",
            "ff9b5534495e466eb39d82815433dd38",
            "12ff3c6a586a41f7b3333b98b3045a05",
            "ae1d6cf53b8c446fa802b58456fcaeee",
            "92586f223081433881fcb65ed66c27e2",
            "6264535a3153415ca5e49227a115d457",
            "47d86f1c5fa34dac8823208b5a04e017",
            "cb5338ecc720460a915421e734578732",
            "19e625a711174495876f01dde0aa3565",
            "cee7ddc7a11646aa91041baf11639de2",
            "9a0a14a110ab4b008c164388e58dfc64",
            "539082d4c1764b68ab768a8ee2e195a9",
            "f8d6e24a36ad44a6a6313800971c3092",
            "c01f3472bbed4402b7897a80bfc3e733",
            "e85db085f7ef4727b015cb36bd296b42",
            "4e7c57c2c70e4469b895fd3aebc3c100",
            "f70a928ffe174cc49e52293e13722776",
            "7baaea4551a8404da11a455d6766aa5c",
            "15789ce7878d43d2a8b71ea35f26ce1f",
            "6a9d7726c2244483b19c8fdfcad6c8d5",
            "8b98b0d7eb87405fa9b8d5b05dc33103",
            "55d9df8a02da489ead2fb7ee35edc005",
            "3d7d4874940249ce9dd9fea093c4c639",
            "98c461a8dfc34143b766aceb9e4a2fdf"
          ]
        },
        "outputId": "1501b707-4f99-4f4f-c50d-1bca7ef378ed"
      },
      "execution_count": null,
      "outputs": [
        {
          "output_type": "display_data",
          "data": {
            "text/plain": [
              "README.md:   0%|          | 0.00/647 [00:00<?, ?B/s]"
            ],
            "application/vnd.jupyter.widget-view+json": {
              "version_major": 2,
              "version_minor": 0,
              "model_id": "112bbc08710f49cbbc4899fc4b1d2437"
            }
          },
          "metadata": {}
        },
        {
          "output_type": "display_data",
          "data": {
            "text/plain": [
              "train-00000-of-00001.parquet:   0%|          | 0.00/289k [00:00<?, ?B/s]"
            ],
            "application/vnd.jupyter.widget-view+json": {
              "version_major": 2,
              "version_minor": 0,
              "model_id": "12ff3c6a586a41f7b3333b98b3045a05"
            }
          },
          "metadata": {}
        },
        {
          "output_type": "display_data",
          "data": {
            "text/plain": [
              "Generating train split:   0%|          | 0/65 [00:00<?, ? examples/s]"
            ],
            "application/vnd.jupyter.widget-view+json": {
              "version_major": 2,
              "version_minor": 0,
              "model_id": "c01f3472bbed4402b7897a80bfc3e733"
            }
          },
          "metadata": {}
        }
      ]
    },
    {
      "cell_type": "markdown",
      "source": [
        "# **Creating contextualized chunks**"
      ],
      "metadata": {
        "id": "6e7x0MetgiFb"
      }
    },
    {
      "cell_type": "code",
      "source": [
        "chunks_with_context = []\n",
        "chunks_regular=[]\n",
        "\n",
        "if chunks_from_ds:\n",
        "  chuncked_ds = chunked_dataset['train']\n",
        "  for i in range(len(chuncked_ds)):\n",
        "      row = chuncked_ds[i]\n",
        "      chunk = row['chunk']\n",
        "      chunks_regular.append(chunk)\n",
        "      context = row['context']\n",
        "      if context:\n",
        "              chunks_with_context.append(\n",
        "                f\"{context} \\n\\n {chunk}\"\n",
        "              )\n",
        "else:\n",
        "  for doc in docs_processed:\n",
        "      for chunk in doc.chunks:\n",
        "          chunks_regular.append(chunk.text)\n",
        "          if chunk.context:  # Only include chunks that have a context\n",
        "              chunks_with_context.append(\n",
        "                f\"{chunk.context} \\n\\n {chunk.text}\"\n",
        "              )\n",
        "print(f'Len of regular chunks: {len(chunks_regular)}')\n",
        "print(f'Len of chunks with context: {len(chunks_with_context)}')"
      ],
      "metadata": {
        "colab": {
          "base_uri": "https://localhost:8080/"
        },
        "id": "sX2BlkTsytEc",
        "outputId": "d96b681d-b254-4e93-d4ab-cc1038b3f284"
      },
      "execution_count": null,
      "outputs": [
        {
          "output_type": "stream",
          "name": "stdout",
          "text": [
            "Len of regular chunks: 882\n",
            "Len of chunks with context: 882\n"
          ]
        }
      ]
    },
    {
      "cell_type": "markdown",
      "source": [
        "# **Setting up Indeses**"
      ],
      "metadata": {
        "id": "MZNA7MGba06b"
      }
    },
    {
      "cell_type": "code",
      "source": [
        "def create_bm25(chunks: list[str]):\n",
        "    print(\"Creating BM25 model...\")\n",
        "    tokenized_chunks = [nltk.word_tokenize(chunk) for chunk in chunks]\n",
        "    bm25 = BM25Okapi(tokenized_chunks)\n",
        "\n",
        "    return bm25"
      ],
      "metadata": {
        "id": "_DDJMPBIziVy"
      },
      "execution_count": null,
      "outputs": []
    },
    {
      "cell_type": "code",
      "source": [
        "from pinecone import Pinecone, ServerlessSpec\n",
        "\n",
        "pinecone_api_key = userdata.get(\"PINECONE_API_KEY\")\n",
        "if not pinecone_api_key:\n",
        "  pinecone_api_key = input(\"Please enter your PINECONE API KEY: \")\n",
        "\n",
        "spec=ServerlessSpec(\n",
        "    cloud=\"aws\",\n",
        "    region=\"us-east-1\"\n",
        "  )\n",
        "\n",
        "EMBEDDING_INDEX_CONTEXTUAL: str = \"test-rag-openai-contextual\"\n",
        "EMBEDDING_INDEX_REGULAR: str = \"test-rag-openai-regular\"\n",
        "\n",
        "pc = Pinecone(api_key=pinecone_api_key)"
      ],
      "metadata": {
        "id": "-OO6j8dxz0ej"
      },
      "execution_count": null,
      "outputs": []
    },
    {
      "cell_type": "code",
      "execution_count": null,
      "metadata": {
        "id": "-i-taFomMI7W"
      },
      "outputs": [],
      "source": [
        "from typing import Any, List\n",
        "from time import sleep\n",
        "\n",
        "def wait_for_index(index_name):\n",
        "    while True:\n",
        "        desc = pc.describe_index(index_name)\n",
        "        if desc['ready']:\n",
        "            print(\"Index is ready!\")\n",
        "            break\n",
        "        sleep(5)\n",
        "\n",
        "def create_pinecone_indexes(pinecone, embedding_model, index_name: str, chunks: list[str], specs: ServerlessSpec, dimensions, index_names: List[str]) -> Any:\n",
        "\n",
        "    if index_name not in index_names:\n",
        "        pc.create_index(index_name, dimension=dimensions, metric=\"cosine\", spec=specs)\n",
        "        wait_for_index(index_name)\n",
        "\n",
        "    # Connect to Pinecone indexes\n",
        "    embedding_index = pc.Index(index_name)\n",
        "\n",
        "\n",
        "    # Semantic Embeddings using a Pre-trained Transformer Model\n",
        "    embeddings = embedding_model.embed_documents(chunks)\n",
        "    # Store embeddings in Pinecone\n",
        "    for i, (chunk, embedding) in enumerate(zip(chunks, embeddings)):\n",
        "        embedding_index.upsert([(str(i), embedding, {\"text\": chunk})])\n",
        "\n",
        "    print(f'len(embeddings)={len(embeddings)}, len(embeddings[0])={len(embeddings[0])}')\n",
        "    return embedding_index\n"
      ]
    },
    {
      "cell_type": "markdown",
      "source": [
        "# **Creating Indeses**"
      ],
      "metadata": {
        "id": "DYJD_AQ83vr0"
      }
    },
    {
      "cell_type": "code",
      "source": [
        "if not pc.has_index(EMBEDDING_INDEX_CONTEXTUAL):\n",
        "   create_pinecone_indexes(pc, embedding_model, EMBEDDING_INDEX_CONTEXTUAL, chunks_with_context, spec, 1536, index_names)\n",
        "if not pc.has_index(EMBEDDING_INDEX_REGULAR):\n",
        "   create_pinecone_indexes(pc, embedding_model, EMBEDDING_INDEX_REGULAR, chunks_regular, spec, 1536, index_names)\n",
        "bm25_regular = create_bm25(chunks_regular)\n",
        "bm25_contextual = create_bm25(chunks_with_context)"
      ],
      "metadata": {
        "id": "8e7073j13uVL",
        "colab": {
          "base_uri": "https://localhost:8080/"
        },
        "outputId": "8a518253-7369-470e-f71f-8d170d41e236"
      },
      "execution_count": null,
      "outputs": [
        {
          "output_type": "stream",
          "name": "stdout",
          "text": [
            "Creating BM25 model...\n",
            "Creating BM25 model...\n"
          ]
        }
      ]
    },
    {
      "cell_type": "markdown",
      "source": [
        "# **Definining Reranker**"
      ],
      "metadata": {
        "id": "iU6ya_SUZcKV"
      }
    },
    {
      "cell_type": "markdown",
      "source": [
        "### **Hugging Face**"
      ],
      "metadata": {
        "id": "V21JxTGuzFch"
      }
    },
    {
      "cell_type": "code",
      "source": [
        "import torch\n",
        "from transformers import AutoModelForSequenceClassification, AutoTokenizer\n",
        "\n",
        "RERANKER_MODEL = 'BAAI/bge-reranker-v2-m3'\n",
        "tokenizer = AutoTokenizer.from_pretrained(RERANKER_MODEL)\n",
        "model = AutoModelForSequenceClassification.from_pretrained(RERANKER_MODEL)\n",
        "model.eval()\n",
        "\n",
        "def get_reranker_score(pairs):\n",
        "    with torch.no_grad():\n",
        "        inputs = tokenizer(pairs, padding=True, truncation=True, return_tensors='pt', max_length=512)\n",
        "        scores = model(**inputs, return_dict=True).logits.view(-1, ).float()\n",
        "        print(f'reranker scores {scores}')\n",
        "        return scores\n"
      ],
      "metadata": {
        "id": "GsB0hxSuZc6u",
        "colab": {
          "base_uri": "https://localhost:8080/",
          "height": 278,
          "referenced_widgets": [
            "671dc41e297b4c3c898b1775cadd21d8",
            "214a4a4749c94cd08206ca92dda2fa88",
            "7326edfe7f174edd868074501036216a",
            "04df7f685be04b0a89b6d2452a793281",
            "e9f5c979ef0540d4b27a855929c64839",
            "6337f6af97864d758ae8a20d56f8cca5",
            "e9418b18a02a4bb8ac7303b11c1bf979",
            "776513e806ed4b6b95ff1b3b49de2199",
            "b8cbc6ab9fe644ffa2bb77c9e4b23644",
            "a5e14b34af84411482851c315464d6fe",
            "8226e07d36db4e9ea4c702f679d75db4",
            "862b503405aa47d29e689925dbd2a69f",
            "7ff6cdfbd0c14a40a972920ffa6d778b",
            "6e033e4f29aa48d589a3bf99c7bc82ef",
            "15897e9d3308408aa68a1ddb4a3143ad",
            "af7cb7eb977a45609644c9ecb98ca987",
            "c85f0e2fa0da45c88b66f3599b6c3413",
            "896ade8424414afd8661707ad7887b9f",
            "5ced8d3195a34bb0ade9fea6204ec556",
            "2a11cf872b3c4d07938da26ee1911bd9",
            "068ce9ec768649cf870cdc238ce02464",
            "fbbe0f71920b4d7e9a96bebb3c48acb8",
            "f0dbe83e48aa45749bf15250da5b3a7e",
            "248dd87d4557490a802aaa3b37b964cc",
            "5590414364444d75a89a194404aae08c",
            "4e74c14873204bfa8c621bc45bd0bb51",
            "5d1e74683d9a4707a20096f50a51c881",
            "120efc43f4a04d7ba961b414c84fe2e2",
            "3704b892cae94f1a8eba6292257eb024",
            "6c6ed2974aac492aa85e5052d93e91d7",
            "3d33b2a7940c4f06aeaf11c08027b0bf",
            "2c4b110e7b364304b64d1990919de03b",
            "aea486a5371e4d148903b1c9e1137a1a",
            "53cb7b3bb111473ea08faf798b5f5947",
            "c3dd38b4ef784abead03b925a1fcd94c",
            "36607e4e4ae14c8da5a2cb41d54ae4c0",
            "c7dd9fdb2d744583aa5858ba9ec55c65",
            "30b39e70031b4afda70eaff6e6285039",
            "f2f870de72ae4ef5b6dcf2f5ef32cd2a",
            "ce729aa40ee64983b5c2ada12f357a1c",
            "aefe077629444dc3bd83e2507b9083d1",
            "78036dac050942b7b52e5f67cf2273cd",
            "fa6ad4e999a241aa9f4103a15821f024",
            "f790c8d993c74fd18edbf7c0281ac6f0",
            "4697c4749e50439089bb931f061e08be",
            "390ca10fbaf7445e971e668ab4a4e6e9",
            "91a08e6a623e44cd92deea06ac9d8192",
            "53da9a9f793e449e88fc5abdbaa65c7e",
            "25af318cf7244b1a915c2ea2dd620f2b",
            "bd69eb8577df46c099bfbfb6cbc3dc6e",
            "aa0e6918e319443d94da913e8fd2ff9c",
            "71ef1caa016346a9be3292b98499117f",
            "b1560b3db05245f6847aef9900162c67",
            "297306cf1d96460895d4a42949b4ffa9",
            "24b47832e6d64e94beaf8b8481589c8a",
            "95527806fd7d4ec6a9072ae0b3aea855",
            "263f2b231eb64a598a66f9f15de7a26d",
            "2a555dcbc72949889c9191d02ac83bfc",
            "22f757b9f4c64047b9f501a45d4844c1",
            "773a8db8ac2249899c5ba462f18b3374",
            "dd1f694a308844a8a5470125995d8f5b",
            "5c5d20efa52b4cd8a4b8b355e4f9b087",
            "5a16e3e08c0148d6bf3ce15082ef6ec5",
            "8df45839aa844f0aab579b82eddc0f4a",
            "c845a95aca5a47ffae612f3bb821137f",
            "94dc57e5f1ee4656a8edfba095f2bde4",
            "19dd913296d6479b83161badd63dff2b",
            "7635ee6ca698496096bf468f753d3f78",
            "88b8cc6396c944b6bc70ce4bf5a5de98",
            "2ab3b1fd79b54612a396989dc5b035fd",
            "41eab9682b71482ab22df2760790a26b",
            "5d0b0f3fc2c6429080063a29eeae1dc6",
            "6c5c6c0d064c4aada321dccdbe3051fc",
            "22bf3fee84a3409f9019140279bb6ee2",
            "3ac3eec627944ac8adb8117f15e1ac03",
            "bbd1b77dd1104570a44c41bd46fc93e9",
            "b00bb5e3e0f948a6aa9a0b65f61a951c"
          ]
        },
        "outputId": "4ff4b265-d4db-4dfa-8ad7-ca3bf98cf83d"
      },
      "execution_count": null,
      "outputs": [
        {
          "output_type": "stream",
          "name": "stderr",
          "text": [
            "The cache for model files in Transformers v4.22.0 has been updated. Migrating your old cache. This is a one-time only operation. You can interrupt this and resume the migration later on by calling `transformers.utils.move_cache()`.\n"
          ]
        },
        {
          "output_type": "display_data",
          "data": {
            "text/plain": [
              "0it [00:00, ?it/s]"
            ],
            "application/vnd.jupyter.widget-view+json": {
              "version_major": 2,
              "version_minor": 0,
              "model_id": "671dc41e297b4c3c898b1775cadd21d8"
            }
          },
          "metadata": {}
        },
        {
          "output_type": "display_data",
          "data": {
            "text/plain": [
              "tokenizer_config.json:   0%|          | 0.00/1.17k [00:00<?, ?B/s]"
            ],
            "application/vnd.jupyter.widget-view+json": {
              "version_major": 2,
              "version_minor": 0,
              "model_id": "862b503405aa47d29e689925dbd2a69f"
            }
          },
          "metadata": {}
        },
        {
          "output_type": "display_data",
          "data": {
            "text/plain": [
              "sentencepiece.bpe.model:   0%|          | 0.00/5.07M [00:00<?, ?B/s]"
            ],
            "application/vnd.jupyter.widget-view+json": {
              "version_major": 2,
              "version_minor": 0,
              "model_id": "f0dbe83e48aa45749bf15250da5b3a7e"
            }
          },
          "metadata": {}
        },
        {
          "output_type": "display_data",
          "data": {
            "text/plain": [
              "tokenizer.json:   0%|          | 0.00/17.1M [00:00<?, ?B/s]"
            ],
            "application/vnd.jupyter.widget-view+json": {
              "version_major": 2,
              "version_minor": 0,
              "model_id": "53cb7b3bb111473ea08faf798b5f5947"
            }
          },
          "metadata": {}
        },
        {
          "output_type": "display_data",
          "data": {
            "text/plain": [
              "special_tokens_map.json:   0%|          | 0.00/964 [00:00<?, ?B/s]"
            ],
            "application/vnd.jupyter.widget-view+json": {
              "version_major": 2,
              "version_minor": 0,
              "model_id": "4697c4749e50439089bb931f061e08be"
            }
          },
          "metadata": {}
        },
        {
          "output_type": "display_data",
          "data": {
            "text/plain": [
              "config.json:   0%|          | 0.00/795 [00:00<?, ?B/s]"
            ],
            "application/vnd.jupyter.widget-view+json": {
              "version_major": 2,
              "version_minor": 0,
              "model_id": "95527806fd7d4ec6a9072ae0b3aea855"
            }
          },
          "metadata": {}
        },
        {
          "output_type": "display_data",
          "data": {
            "text/plain": [
              "model.safetensors:   0%|          | 0.00/2.27G [00:00<?, ?B/s]"
            ],
            "application/vnd.jupyter.widget-view+json": {
              "version_major": 2,
              "version_minor": 0,
              "model_id": "19dd913296d6479b83161badd63dff2b"
            }
          },
          "metadata": {}
        }
      ]
    },
    {
      "cell_type": "markdown",
      "source": [
        "# **Fusion Rank Search**"
      ],
      "metadata": {
        "id": "UFsvIRujXm8_"
      }
    },
    {
      "cell_type": "code",
      "execution_count": null,
      "metadata": {
        "id": "NqqB_g9TeFlW"
      },
      "outputs": [],
      "source": [
        "from collections import defaultdict\n",
        "def fusion_rank_search(\n",
        "    query: str,\n",
        "    bm25,\n",
        "    chunks: list[str],\n",
        "    model,\n",
        "    embedding_index,\n",
        "    weight_sparse: float,\n",
        "    k: int = 5,\n",
        "    reranker_cutoff: int = 20  # Number of top results to rerank\n",
        "):\n",
        "    # Get BM25 results\n",
        "    tokenized_query = nltk.word_tokenize(query)\n",
        "    bm25_scores = np.array(bm25.get_scores(tokenized_query))  # Already numpy array\n",
        "    bm25_top_indices = np.argsort(bm25_scores)[::-1][:reranker_cutoff]\n",
        "\n",
        "    # Get dense results using OpenAI embeddings\n",
        "    query_embedding = model.embed_query(query)\n",
        "\n",
        "    # Query Pinecone index\n",
        "    dense_results = embedding_index.query(\n",
        "        vector=query_embedding,\n",
        "        top_k=reranker_cutoff,\n",
        "        include_values=True\n",
        "    )\n",
        "\n",
        "    # Extract scores and indices from Pinecone results and convert to numpy arrays\n",
        "    dense_scores = np.array([match['score'] for match in dense_results['matches']])\n",
        "    dense_indices = np.array([int(match['id']) for match in dense_results['matches']])\n",
        "\n",
        "    # Normalize scores (now all operations use numpy)\n",
        "    bm25_scores_norm = (bm25_scores[bm25_top_indices] - np.min(bm25_scores)) / (np.max(bm25_scores) - np.min(bm25_scores))\n",
        "    dense_scores_norm = (dense_scores - np.min(dense_scores)) / (np.max(dense_scores) - np.min(dense_scores))\n",
        "\n",
        "    # Create combined results\n",
        "    combined_results = {}\n",
        "\n",
        "    # Add BM25 results\n",
        "    for idx, score in zip(bm25_top_indices, bm25_scores_norm):\n",
        "        combined_results[idx] = {'score': weight_sparse * score, 'count': 1}\n",
        "\n",
        "    # Add dense results\n",
        "    for idx, score in zip(dense_indices, dense_scores_norm):\n",
        "        if idx in combined_results:\n",
        "            combined_results[idx]['score'] += (1 - weight_sparse) * score\n",
        "            combined_results[idx]['count'] += 1\n",
        "        else:\n",
        "            combined_results[idx] = {'score': (1 - weight_sparse) * score, 'count': 1}\n",
        "\n",
        "    # Calculate final scores\n",
        "    for idx in combined_results:\n",
        "        combined_results[idx]['final_score'] = combined_results[idx]['score'] / combined_results[idx]['count']\n",
        "\n",
        "    # Sort by final score\n",
        "    sorted_results = sorted(combined_results.items(), key=lambda x: x[1]['final_score'], reverse=True)\n",
        "\n",
        "    # Return top k results with their chunks\n",
        "    final_results = []\n",
        "    for idx, scores in sorted_results[:k]:\n",
        "        final_results.append({\n",
        "            'id': str(idx),\n",
        "            'score': scores['final_score'],\n",
        "            'metadata': {'text': chunks[idx]}\n",
        "        })\n",
        "\n",
        "    return final_results\n"
      ]
    },
    {
      "cell_type": "markdown",
      "source": [
        "# **Evaluate Rag**"
      ],
      "metadata": {
        "id": "5Vy_TqmcXw68"
      }
    },
    {
      "cell_type": "code",
      "execution_count": null,
      "metadata": {
        "id": "pE0B0-JweFlW"
      },
      "outputs": [],
      "source": [
        "from tqdm import tqdm\n",
        "import pandas as pd\n",
        "import bert_score # Import bert_score\n",
        "\n",
        "def evaluate_rag_system(\n",
        "    best_answers_df: pd.DataFrame,\n",
        "    bm25,\n",
        "    chunks: list[str],\n",
        "    embedding_model,\n",
        "    embedding_index,\n",
        "    generate_amswer,\n",
        "    weight_sparse: float,\n",
        "    n_samples: int = None,  # Optional: limit number of samples for testing\n",
        "    reranker_cutoff: int = 20\n",
        "):\n",
        "\n",
        "\n",
        "    # Initialize results storage\n",
        "    results = []\n",
        "\n",
        "    # Get subset of dataframe if n_samples is specified\n",
        "    eval_df = best_answers_df.head(n_samples) if n_samples else best_answers_df\n",
        "\n",
        "    # Lists to store all references and candidates for batch BERTScore computation\n",
        "    all_references = []\n",
        "    all_candidates = []\n",
        "\n",
        "    # Iterate through questions and answers\n",
        "    for idx, row in tqdm(eval_df.iterrows(), total=len(eval_df), desc=\"Evaluating Questions\"):\n",
        "        query = row['question']\n",
        "        reference_answer = row['answer']\n",
        "\n",
        "        try:\n",
        "            # Get relevant context using fusion ranking\n",
        "            retrieved_results = fusion_rank_search(\n",
        "                query=query,\n",
        "                bm25=bm25,\n",
        "                chunks=chunks,\n",
        "                model=embedding_model,\n",
        "                embedding_index=embedding_index,\n",
        "                k=5,\n",
        "                weight_sparse=0.1,\n",
        "                reranker_cutoff=reranker_cutoff\n",
        "            )\n",
        "\n",
        "            # Prepare pairs for reranking\n",
        "            pairs = [(query, result['metadata']['text']) for result in retrieved_results]\n",
        "\n",
        "            # Get reranker scores - use them directly for final ranking\n",
        "            rerank_scores = get_reranker_score(pairs)\n",
        "\n",
        "            # Update results with reranker scores\n",
        "            for result, rerank_score in zip(retrieved_results, rerank_scores):\n",
        "                result['metadata']['rerank_score'] = float(rerank_score)\n",
        "                # Use reranker score as the final score\n",
        "                result['score'] = float(rerank_score)\n",
        "\n",
        "            # Resort based on reranker scores\n",
        "            retrieved_results.sort(key=lambda x: x['score'], reverse=True)\n",
        "\n",
        "            # Prepare context for LLM\n",
        "            context = \"\\n\".join([res['metadata']['text'] for res in retrieved_results])\n",
        "\n",
        "            # Generate answer using LLM\n",
        "            generated_answer = generate_amswer(context, query)\n",
        "\n",
        "            # Store answers for batch BERTScore computation\n",
        "            all_references.append(reference_answer)\n",
        "            all_candidates.append(generated_answer)\n",
        "\n",
        "            # Store intermediate results\n",
        "            result = {\n",
        "                'question': query,\n",
        "                'reference_answer': reference_answer,\n",
        "                'generated_answer': generated_answer,\n",
        "                'retrieved_contexts': [res['metadata']['text'] for res in retrieved_results],\n",
        "                'context_scores': [res['score'] for res in retrieved_results]\n",
        "            }\n",
        "            results.append(result)\n",
        "\n",
        "        except Exception as e:\n",
        "            print(f\"Error processing question {idx}: {str(e)}\")\n",
        "            continue\n",
        "\n",
        "    # Calculate BERTScore for all pairs at once\n",
        "    P, R, F1 = bert_score.score(\n",
        "        all_candidates,\n",
        "        all_references,\n",
        "        lang=\"en\",\n",
        "        verbose=True,\n",
        "        device='cuda' if torch.cuda.is_available() else 'cpu'\n",
        "    )\n",
        "\n",
        "    # Add BERTScore metrics to results\n",
        "    for idx, (p, r, f1) in enumerate(zip(P, R, F1)):\n",
        "        results[idx].update({\n",
        "            'bertscore_precision': p.item(),\n",
        "            'bertscore_recall': r.item(),\n",
        "            'bertscore_f1': f1.item()\n",
        "        })\n",
        "\n",
        "    # Convert results to DataFrame\n",
        "    results_df = pd.DataFrame(results)\n",
        "\n",
        "    # Calculate and print average scores\n",
        "    avg_scores = {\n",
        "        'Average BERTScore Precision': results_df['bertscore_precision'].mean(),\n",
        "        'Average BERTScore Recall': results_df['bertscore_recall'].mean(),\n",
        "        'Average BERTScore F1': results_df['bertscore_f1'].mean()\n",
        "    }\n",
        "\n",
        "    return results_df, avg_scores"
      ]
    },
    {
      "cell_type": "code",
      "source": [
        "def print_evaluation_results(results_df, avg_scores):\n",
        "    print(\"\\nAverage Scores:\")\n",
        "    for metric, score in avg_scores.items():\n",
        "        print(f\"{metric}: {score:.4f}\")\n",
        "\n",
        "    print(\"\\nDetailed Results Sample (first 3):\")\n",
        "    for idx, row in results_df.head(3).iterrows():\n",
        "        print(\"\\nQuestion:\", row['question'])\n",
        "        print(\"Reference Answer:\", row['reference_answer'])\n",
        "        print(\"Generated Answer:\", row['generated_answer'])\n",
        "        print(f\"BERTScore Precision: {row['bertscore_precision']:.4f}\")\n",
        "        print(f\"BERTScore Recall: {row['bertscore_recall']:.4f}\")\n",
        "        print(f\"BERTScore F1: {row['bertscore_f1']:.4f}\")\n",
        "        # print(\"\\nRetrieved Contexts:\")\n",
        "        # for context, score in zip(row['retrieved_contexts'], row['context_scores']):\n",
        "        #     print(f\"Score: {score:.4f}\")\n",
        "        #     print(f\"Context: {context[:200]}...\")"
      ],
      "metadata": {
        "id": "3s2MJvdRfSIu"
      },
      "execution_count": null,
      "outputs": []
    },
    {
      "cell_type": "markdown",
      "source": [
        "# **Compare Rag Evaluations**"
      ],
      "metadata": {
        "id": "5-blIojLX5p8"
      }
    },
    {
      "cell_type": "code",
      "source": [
        "from typing import Tuple\n",
        "\n",
        "def compare_rag_evaluations(best_answers_df: pd.DataFrame,\n",
        "                          set1_params: dict,\n",
        "                          set2_params: dict,\n",
        "                          generate_amswer,\n",
        "                          weight_sparse: float,\n",
        "                          n_samples: int = None) -> Tuple[pd.DataFrame, pd.DataFrame, pd.DataFrame]:\n",
        "    \"\"\"\n",
        "    Compare RAG evaluation results between two parameter sets.\n",
        "\n",
        "    Args:\n",
        "        best_answers_df: DataFrame with questions and answers\n",
        "        set1_params: Dictionary with parameters for first evaluation\n",
        "        set2_params: Dictionary with parameters for second evaluation\n",
        "        llm_chain: The LLM chain to use for evaluation\n",
        "        n_samples: Optional number of samples to evaluate\n",
        "\n",
        "    Returns:\n",
        "        DataFrame with comparison results\n",
        "    \"\"\"\n",
        "    # Run evaluations for both sets\n",
        "    results1_df, avg_scores1 = evaluate_rag_system(\n",
        "        best_answers_df=best_answers_df,\n",
        "        weight_sparse=weight_sparse,\n",
        "        bm25=set1_params['bm25'],\n",
        "        chunks=set1_params['chunks'],\n",
        "        embedding_model=set1_params['embedding_model'],\n",
        "        embedding_index=set1_params['embedding_index'],\n",
        "        generate_amswer=generate_amswer,\n",
        "        n_samples=n_samples\n",
        "    )\n",
        "\n",
        "    print_evaluation_results(results1_df, avg_scores1)\n",
        "\n",
        "    results2_df, avg_scores2 = evaluate_rag_system(\n",
        "        best_answers_df=best_answers_df,\n",
        "        weight_sparse=weight_sparse,\n",
        "        bm25=set2_params['bm25'],\n",
        "        chunks=set2_params['chunks'],\n",
        "        embedding_model=set2_params['embedding_model'],\n",
        "        embedding_index=set2_params['embedding_index'],\n",
        "        generate_amswer=generate_amswer,\n",
        "        n_samples=n_samples\n",
        "    )\n",
        "\n",
        "    print_evaluation_results(results2_df, avg_scores2)\n",
        "    # Create comparison DataFrame\n",
        "    comparison = pd.DataFrame({\n",
        "        'Metric': ['BERTScore Precision', 'BERTScore Recall', 'BERTScore F1'],\n",
        "        'Contextual': [\n",
        "            avg_scores1['Average BERTScore Precision'],\n",
        "            avg_scores1['Average BERTScore Recall'],\n",
        "            avg_scores1['Average BERTScore F1']\n",
        "        ],\n",
        "        'Regular': [\n",
        "            avg_scores2['Average BERTScore Precision'],\n",
        "            avg_scores2['Average BERTScore Recall'],\n",
        "            avg_scores2['Average BERTScore F1']\n",
        "        ]\n",
        "    })\n",
        "\n",
        "    # Calculate differences\n",
        "    comparison['Difference'] = comparison['Contextual'] - comparison['Regular']\n",
        "\n",
        "        # Calculate differences\n",
        "    comparison['Difference'] = comparison['Contextual'] - comparison['Regular']\n",
        "\n",
        "    # Calculate percentage difference\n",
        "    # Formula: ((new - old) / old) * 100\n",
        "    comparison['Difference %'] = ((comparison['Contextual'] - comparison['Regular']) / comparison['Regular'] * 100).round(2)\n",
        "\n",
        "    # Format numbers to 4 decimal places\n",
        "    for col in ['Contextual', 'Regular', 'Difference', 'Difference %']:\n",
        "        comparison[col] = comparison[col].round(4)\n",
        "\n",
        "    return comparison, results1_df, results2_df"
      ],
      "metadata": {
        "id": "5t6lgeIBfApA"
      },
      "execution_count": null,
      "outputs": []
    },
    {
      "cell_type": "markdown",
      "source": [
        "# **Defining Answer Generation Chain**"
      ],
      "metadata": {
        "id": "PHLL-62sa1ZJ"
      }
    },
    {
      "cell_type": "markdown",
      "source": [
        "## **OpenAi**"
      ],
      "metadata": {
        "id": "qG3UxAHybXrf"
      }
    },
    {
      "cell_type": "code",
      "source": [
        "prompt_template_answer = ChatPromptTemplate.from_messages([\n",
        "    (\"system\",\n",
        "            \"\"\"You are an AI assistant specialized in answering user queries based solely on provided context. Your primary goal is to provide clear, concise, and relevant answers without adding, making up, or hallucinating any information.\n",
        "            \"\"\"\n",
        "     ),\n",
        "    (\"human\",\"\"\"Now, consider the following context carefully:\n",
        "      <context>\n",
        "      {context}\n",
        "      </context>\n",
        "\n",
        "      Here is the user's query:\n",
        "      <query>\n",
        "      {query}\n",
        "      </query>\n",
        "\n",
        "      Before answering, please follow these steps:\n",
        "\n",
        "      1. Analyze the user's query and the provided context:\n",
        "        a. Identify the key elements of the user's query.\n",
        "        b. Find and quote relevant information from the context.\n",
        "        c. Explicitly link the quoted information to the query elements.\n",
        "        d. Formulate a potential answer based only on the context.\n",
        "        e. Explicitly check that your answer doesn't include any information not present in the context.\n",
        "        f. If the context doesn't contain enough information to answer the query, note this.\n",
        "\n",
        "      2. After your analysis process, provide your final answer or response. Do not include your analysis steps in your final answer or response, only the result.\n",
        "\n",
        "      If the context does not contain enough information to answer the user's query confidently and accurately, your final response should be: \"I do not have enough information to answer this question based on the provided context.\"\n",
        "\n",
        "      Remember, it's crucial that your answer is based entirely on the given context. Do not add any external information or make assumptions beyond what is explicitly stated in the context.\n",
        "\n",
        "    \"\"\")\n",
        "])"
      ],
      "metadata": {
        "id": "Tm9FNK8-kjSs"
      },
      "execution_count": null,
      "outputs": []
    },
    {
      "cell_type": "code",
      "source": [
        "from langchain_core.output_parsers import StrOutputParser\n",
        "\n",
        "def create_answer_chain(llm):\n",
        "  return prompt_template_answer | llm | StrOutputParser()"
      ],
      "metadata": {
        "id": "frqClD28mdUY"
      },
      "execution_count": null,
      "outputs": []
    },
    {
      "cell_type": "code",
      "source": [
        "def get_generate_amswer(llm_chain):\n",
        "    def generate_amswer(context, query):\n",
        "        llm_response = llm_chain.invoke({\n",
        "                    \"context\": context,\n",
        "                    \"query\": query\n",
        "                })\n",
        "        return llm_response.content if hasattr(llm_response, 'content') else llm_response\n",
        "    return generate_amswer"
      ],
      "metadata": {
        "id": "YdW27_pDecbO"
      },
      "execution_count": null,
      "outputs": []
    },
    {
      "cell_type": "markdown",
      "source": [
        "# **Creating Answer Generation chain**"
      ],
      "metadata": {
        "id": "5RlINAwndQ5S"
      }
    },
    {
      "cell_type": "code",
      "source": [
        "answer_chain = create_answer_chain(llm)"
      ],
      "metadata": {
        "id": "EtVlepj-dbj2"
      },
      "execution_count": null,
      "outputs": []
    },
    {
      "cell_type": "code",
      "source": [
        "embedding_index_contextual= pc.Index(EMBEDDING_INDEX_CONTEXTUAL)\n",
        "embedding_index_regular= pc.Index(EMBEDDING_INDEX_REGULAR)\n"
      ],
      "metadata": {
        "id": "XGn-lZrwx1zQ"
      },
      "execution_count": null,
      "outputs": []
    },
    {
      "cell_type": "markdown",
      "source": [
        "# **Running the RAG**"
      ],
      "metadata": {
        "id": "X4qO6IqYa-fs"
      }
    },
    {
      "cell_type": "code",
      "execution_count": null,
      "metadata": {
        "id": "LHONc1uFeFlX",
        "colab": {
          "base_uri": "https://localhost:8080/",
          "height": 1000,
          "referenced_widgets": [
            "9d2d762666e8455aa745662e37e6fb13",
            "b3fba9cabff34b259390c99bd81f57d0",
            "36b915db1cd6486b817dca2018738917",
            "c0385fe9ba6e4a0baf48bc0101e5c268",
            "d7afe9bb31e6419e9a44a717ec928bce",
            "b40cb65f10af4f749eeeced6cd7eda6a",
            "4aede14e91644466ade0f2ed74f5d4b4",
            "556b3857771545798c8c9e51ad116e08",
            "454f878f5f07424582a85feddc0ac176",
            "a89d4db9262949b9b8f6463535994008",
            "95432d8bbdee4357864e786a64212e21",
            "a524717524cb40588741309a151f15a2",
            "1dbc8f0e08a14ca28ec7f0c76c0ef92b",
            "6aff0f1bcb094bdd89f6dbb9ef149b5d",
            "387090f0bae44210802485e2c2f83ff7",
            "794724be394245278b6a49a8f0f00632",
            "22c80ce37e94471db4b3ca97b8cc9685",
            "b301df80d16a4191a7bc14edd37ffeae",
            "f1002a9ee15a4c8394c8a73f042ca458",
            "2b7d901f062247a3a8f68bae00445ce9",
            "6be9a20d48bd48989590ab75c84d9f9b",
            "0485a29e915a4b6a8d1c4ba98aa8e486",
            "c70c23858e7e4fbcb99e6ba6de05663a",
            "f909c16d627341feb87961ca7b9300b3",
            "a2d4ee478f3a4b308df5b9f8201dab6b",
            "e1938e393cda4315a41a12d6fd6daa0d",
            "2f09e96d89894b4d99f138bea74c5ef6",
            "1206e94502754fd1a30aa0418136c1fe",
            "51b071ebfda24ce4bf6b5aa99560d7f0",
            "23144d6a2524479490ff99a602f680d7",
            "0c33cdbeeed946e4893352cf3fa05570",
            "05b52aec5073422591feced61356a767",
            "73812b0b00644f64bd2e28a062d572ac",
            "c46635cbc5cd47c29c513204eb9d1714",
            "b104b88853fc41b1bd084dfa809f80db",
            "4eaba82b0b8e4fa6b35ec1485cdcdab6",
            "7b0cdcf31ac742209a28c38317dced58",
            "6f4b117746ca433bb4214c0201384c51",
            "937de16ce70d4fe2a52727d21c70cb8d",
            "a22c85810a0940d59ae313e753d38efb",
            "1a84eca0939e4d69aa5c0216d2ce7162",
            "9f60db89c52c43f19fe3742d6d2b2f11",
            "af58d14fb0fc4c01bea997766498449f",
            "1db569ba1cf44785b10907acb5ac6724"
          ]
        },
        "outputId": "30945111-5e22-42f9-8238-2cb7637d17a9"
      },
      "outputs": [
        {
          "output_type": "stream",
          "name": "stderr",
          "text": [
            "\rEvaluating Questions:   0%|          | 0/65 [00:00<?, ?it/s]"
          ]
        },
        {
          "output_type": "stream",
          "name": "stdout",
          "text": [
            "reranker scores tensor([ 3.2947, -4.1678, -5.7306, -4.7582, -4.7453])\n"
          ]
        },
        {
          "output_type": "stream",
          "name": "stderr",
          "text": [
            "\rEvaluating Questions:   2%|▏         | 1/65 [00:47<51:04, 47.89s/it]"
          ]
        },
        {
          "output_type": "stream",
          "name": "stdout",
          "text": [
            "reranker scores tensor([ 4.5449, -2.0492,  3.9803,  3.9422, -1.0219])\n"
          ]
        },
        {
          "output_type": "stream",
          "name": "stderr",
          "text": [
            "\rEvaluating Questions:   3%|▎         | 2/65 [01:13<36:47, 35.05s/it]"
          ]
        },
        {
          "output_type": "stream",
          "name": "stdout",
          "text": [
            "reranker scores tensor([ 8.1462, -1.4348,  5.0518,  4.0138, -1.3025])\n"
          ]
        },
        {
          "output_type": "stream",
          "name": "stderr",
          "text": [
            "\rEvaluating Questions:   5%|▍         | 3/65 [01:40<32:00, 30.97s/it]"
          ]
        },
        {
          "output_type": "stream",
          "name": "stdout",
          "text": [
            "reranker scores tensor([ 2.9537, -2.0018, -1.2429, -5.2027, -1.9673])\n"
          ]
        },
        {
          "output_type": "stream",
          "name": "stderr",
          "text": [
            "\rEvaluating Questions:   6%|▌         | 4/65 [02:08<30:30, 30.01s/it]"
          ]
        },
        {
          "output_type": "stream",
          "name": "stdout",
          "text": [
            "reranker scores tensor([-1.6382,  3.4650,  1.9038, -1.7770,  0.5200])\n"
          ]
        },
        {
          "output_type": "stream",
          "name": "stderr",
          "text": [
            "\rEvaluating Questions:   8%|▊         | 5/65 [02:31<27:23, 27.39s/it]"
          ]
        },
        {
          "output_type": "stream",
          "name": "stdout",
          "text": [
            "reranker scores tensor([ 3.5001,  5.1691, -1.2828,  3.9763,  4.9151])\n"
          ]
        },
        {
          "output_type": "stream",
          "name": "stderr",
          "text": [
            "\rEvaluating Questions:   9%|▉         | 6/65 [02:57<26:35, 27.04s/it]"
          ]
        },
        {
          "output_type": "stream",
          "name": "stdout",
          "text": [
            "reranker scores tensor([3.9755, 2.2574, 6.3320, 3.3863, 1.5552])\n"
          ]
        },
        {
          "output_type": "stream",
          "name": "stderr",
          "text": [
            "\rEvaluating Questions:  11%|█         | 7/65 [03:21<25:08, 26.01s/it]"
          ]
        },
        {
          "output_type": "stream",
          "name": "stdout",
          "text": [
            "reranker scores tensor([ 5.8145, -5.1175, -4.8767, -6.7308, -5.4132])\n"
          ]
        },
        {
          "output_type": "stream",
          "name": "stderr",
          "text": [
            "\rEvaluating Questions:  12%|█▏        | 8/65 [03:44<23:50, 25.10s/it]"
          ]
        },
        {
          "output_type": "stream",
          "name": "stdout",
          "text": [
            "reranker scores tensor([ 3.1282,  3.6903,  4.3359, -8.7427, -4.7243])\n"
          ]
        },
        {
          "output_type": "stream",
          "name": "stderr",
          "text": [
            "\rEvaluating Questions:  14%|█▍        | 9/65 [04:10<23:35, 25.28s/it]"
          ]
        },
        {
          "output_type": "stream",
          "name": "stdout",
          "text": [
            "reranker scores tensor([0.7509, 2.7520, 3.8213, 3.6605, 1.3921])\n"
          ]
        },
        {
          "output_type": "stream",
          "name": "stderr",
          "text": [
            "\rEvaluating Questions:  15%|█▌        | 10/65 [04:35<23:14, 25.36s/it]"
          ]
        },
        {
          "output_type": "stream",
          "name": "stdout",
          "text": [
            "reranker scores tensor([ 1.3760,  4.1676, -0.6410, -2.9358, -1.6644])\n"
          ]
        },
        {
          "output_type": "stream",
          "name": "stderr",
          "text": [
            "\rEvaluating Questions:  17%|█▋        | 11/65 [05:07<24:30, 27.22s/it]"
          ]
        },
        {
          "output_type": "stream",
          "name": "stdout",
          "text": [
            "reranker scores tensor([ 0.5942,  7.4159, -1.8807, -0.1606, -3.0416])\n"
          ]
        },
        {
          "output_type": "stream",
          "name": "stderr",
          "text": [
            "\rEvaluating Questions:  18%|█▊        | 12/65 [05:34<24:02, 27.22s/it]"
          ]
        },
        {
          "output_type": "stream",
          "name": "stdout",
          "text": [
            "reranker scores tensor([ 4.9564,  4.6006, -5.9175, -5.9913, -6.6784])\n"
          ]
        },
        {
          "output_type": "stream",
          "name": "stderr",
          "text": [
            "\rEvaluating Questions:  20%|██        | 13/65 [06:06<24:49, 28.65s/it]"
          ]
        },
        {
          "output_type": "stream",
          "name": "stdout",
          "text": [
            "reranker scores tensor([ 4.0804, -1.0410, -0.7429, -3.0632, -1.5684])\n"
          ]
        },
        {
          "output_type": "stream",
          "name": "stderr",
          "text": [
            "\rEvaluating Questions:  22%|██▏       | 14/65 [06:44<26:49, 31.56s/it]"
          ]
        },
        {
          "output_type": "stream",
          "name": "stdout",
          "text": [
            "reranker scores tensor([ 6.1241, -2.8542, -1.5503, -2.8726,  0.1683])\n"
          ]
        },
        {
          "output_type": "stream",
          "name": "stderr",
          "text": [
            "\rEvaluating Questions:  23%|██▎       | 15/65 [07:16<26:26, 31.72s/it]"
          ]
        },
        {
          "output_type": "stream",
          "name": "stdout",
          "text": [
            "reranker scores tensor([ 6.8717, -2.6592,  5.7423, -2.2167,  5.4679])\n"
          ]
        },
        {
          "output_type": "stream",
          "name": "stderr",
          "text": [
            "\rEvaluating Questions:  25%|██▍       | 16/65 [07:40<23:49, 29.17s/it]"
          ]
        },
        {
          "output_type": "stream",
          "name": "stdout",
          "text": [
            "reranker scores tensor([ 8.6546,  5.0416, -4.6468,  5.4177, -1.2369])\n"
          ]
        },
        {
          "output_type": "stream",
          "name": "stderr",
          "text": [
            "\rEvaluating Questions:  26%|██▌       | 17/65 [08:08<23:01, 28.79s/it]"
          ]
        },
        {
          "output_type": "stream",
          "name": "stdout",
          "text": [
            "reranker scores tensor([ 7.4106, -0.8569,  3.1309, -5.0056, -1.8641])\n"
          ]
        },
        {
          "output_type": "stream",
          "name": "stderr",
          "text": [
            "\rEvaluating Questions:  28%|██▊       | 18/65 [08:32<21:27, 27.40s/it]"
          ]
        },
        {
          "output_type": "stream",
          "name": "stdout",
          "text": [
            "reranker scores tensor([7.4339, 6.1562, 6.3702, 6.6820, 1.6788])\n"
          ]
        },
        {
          "output_type": "stream",
          "name": "stderr",
          "text": [
            "\rEvaluating Questions:  29%|██▉       | 19/65 [08:53<19:41, 25.68s/it]"
          ]
        },
        {
          "output_type": "stream",
          "name": "stdout",
          "text": [
            "reranker scores tensor([-0.8899,  3.3095,  0.7873,  0.4989,  1.7449])\n"
          ]
        },
        {
          "output_type": "stream",
          "name": "stderr",
          "text": [
            "\rEvaluating Questions:  31%|███       | 20/65 [09:14<18:01, 24.04s/it]"
          ]
        },
        {
          "output_type": "stream",
          "name": "stdout",
          "text": [
            "reranker scores tensor([0.6326, 2.6334, 0.9305, 2.5065, 2.4303])\n"
          ]
        },
        {
          "output_type": "stream",
          "name": "stderr",
          "text": [
            "\rEvaluating Questions:  32%|███▏      | 21/65 [09:45<19:18, 26.34s/it]"
          ]
        },
        {
          "output_type": "stream",
          "name": "stdout",
          "text": [
            "reranker scores tensor([9.0500, 4.0033, 5.3480, 2.3889, 2.2549])\n"
          ]
        },
        {
          "output_type": "stream",
          "name": "stderr",
          "text": [
            "\rEvaluating Questions:  34%|███▍      | 22/65 [10:05<17:24, 24.29s/it]"
          ]
        },
        {
          "output_type": "stream",
          "name": "stdout",
          "text": [
            "reranker scores tensor([ 0.2700,  4.9920, -1.2023, -2.7696, -0.0685])\n"
          ]
        },
        {
          "output_type": "stream",
          "name": "stderr",
          "text": [
            "\rEvaluating Questions:  35%|███▌      | 23/65 [10:34<17:58, 25.68s/it]"
          ]
        },
        {
          "output_type": "stream",
          "name": "stdout",
          "text": [
            "reranker scores tensor([3.4947, 2.5867, 1.2560, 2.2972, 2.2781])\n"
          ]
        },
        {
          "output_type": "stream",
          "name": "stderr",
          "text": [
            "\rEvaluating Questions:  37%|███▋      | 24/65 [11:04<18:28, 27.03s/it]"
          ]
        },
        {
          "output_type": "stream",
          "name": "stdout",
          "text": [
            "reranker scores tensor([ 5.0976, -6.1883, -7.1799, -4.7912, -8.6384])\n"
          ]
        },
        {
          "output_type": "stream",
          "name": "stderr",
          "text": [
            "\rEvaluating Questions:  38%|███▊      | 25/65 [11:32<18:19, 27.48s/it]"
          ]
        },
        {
          "output_type": "stream",
          "name": "stdout",
          "text": [
            "reranker scores tensor([ 7.3270,  5.2208, -1.9764, -0.7069, -1.6172])\n"
          ]
        },
        {
          "output_type": "stream",
          "name": "stderr",
          "text": [
            "\rEvaluating Questions:  40%|████      | 26/65 [12:03<18:26, 28.37s/it]"
          ]
        },
        {
          "output_type": "stream",
          "name": "stdout",
          "text": [
            "reranker scores tensor([-1.1310,  7.3773, -0.0136,  1.3645,  0.8603])\n"
          ]
        },
        {
          "output_type": "stream",
          "name": "stderr",
          "text": [
            "\rEvaluating Questions:  42%|████▏     | 27/65 [12:25<16:45, 26.46s/it]"
          ]
        },
        {
          "output_type": "stream",
          "name": "stdout",
          "text": [
            "reranker scores tensor([5.3818, 3.3214, 1.2301, 0.7854, 1.0049])\n"
          ]
        },
        {
          "output_type": "stream",
          "name": "stderr",
          "text": [
            "\rEvaluating Questions:  43%|████▎     | 28/65 [12:47<15:26, 25.05s/it]"
          ]
        },
        {
          "output_type": "stream",
          "name": "stdout",
          "text": [
            "reranker scores tensor([ 5.9007, -3.1439, -4.0525, -2.7127, -4.0725])\n"
          ]
        },
        {
          "output_type": "stream",
          "name": "stderr",
          "text": [
            "\rEvaluating Questions:  45%|████▍     | 29/65 [13:14<15:27, 25.75s/it]"
          ]
        },
        {
          "output_type": "stream",
          "name": "stdout",
          "text": [
            "reranker scores tensor([2.0888, 4.1100, 5.8868, 3.1112, 3.2345])\n"
          ]
        },
        {
          "output_type": "stream",
          "name": "stderr",
          "text": [
            "\rEvaluating Questions:  46%|████▌     | 30/65 [13:42<15:18, 26.26s/it]"
          ]
        },
        {
          "output_type": "stream",
          "name": "stdout",
          "text": [
            "reranker scores tensor([ 6.5890,  0.2177, -1.3391,  1.9598, -1.8994])\n"
          ]
        },
        {
          "output_type": "stream",
          "name": "stderr",
          "text": [
            "\rEvaluating Questions:  48%|████▊     | 31/65 [14:06<14:38, 25.85s/it]"
          ]
        },
        {
          "output_type": "stream",
          "name": "stdout",
          "text": [
            "reranker scores tensor([ 6.2560,  2.1232, -3.2643, -4.2042, -3.7255])\n"
          ]
        },
        {
          "output_type": "stream",
          "name": "stderr",
          "text": [
            "\rEvaluating Questions:  49%|████▉     | 32/65 [14:31<14:03, 25.57s/it]"
          ]
        },
        {
          "output_type": "stream",
          "name": "stdout",
          "text": [
            "reranker scores tensor([4.5717, 6.2303, 6.8011, 1.5353, 2.6713])\n"
          ]
        },
        {
          "output_type": "stream",
          "name": "stderr",
          "text": [
            "\rEvaluating Questions:  51%|█████     | 33/65 [14:54<13:05, 24.56s/it]"
          ]
        },
        {
          "output_type": "stream",
          "name": "stdout",
          "text": [
            "reranker scores tensor([ 0.1040, -2.0827, -1.4520,  2.7723,  7.1941])\n"
          ]
        },
        {
          "output_type": "stream",
          "name": "stderr",
          "text": [
            "\rEvaluating Questions:  52%|█████▏    | 34/65 [15:22<13:13, 25.59s/it]"
          ]
        },
        {
          "output_type": "stream",
          "name": "stdout",
          "text": [
            "reranker scores tensor([ 1.7551,  4.4276,  2.4644, -7.6544, -9.1075])\n"
          ]
        },
        {
          "output_type": "stream",
          "name": "stderr",
          "text": [
            "\rEvaluating Questions:  54%|█████▍    | 35/65 [15:45<12:29, 24.97s/it]"
          ]
        },
        {
          "output_type": "stream",
          "name": "stdout",
          "text": [
            "reranker scores tensor([ 3.6149, -4.4647, -0.2754, -4.5644, -4.8733])\n"
          ]
        },
        {
          "output_type": "stream",
          "name": "stderr",
          "text": [
            "\rEvaluating Questions:  55%|█████▌    | 36/65 [16:04<11:13, 23.24s/it]"
          ]
        },
        {
          "output_type": "stream",
          "name": "stdout",
          "text": [
            "reranker scores tensor([ 3.7300, -1.1607, -3.6497, -0.9713, -1.5348])\n"
          ]
        },
        {
          "output_type": "stream",
          "name": "stderr",
          "text": [
            "\rEvaluating Questions:  57%|█████▋    | 37/65 [16:29<10:59, 23.55s/it]"
          ]
        },
        {
          "output_type": "stream",
          "name": "stdout",
          "text": [
            "reranker scores tensor([ 1.2416, -5.9809, -1.4098,  6.0595, -2.4375])\n"
          ]
        },
        {
          "output_type": "stream",
          "name": "stderr",
          "text": [
            "\rEvaluating Questions:  58%|█████▊    | 38/65 [16:49<10:13, 22.74s/it]"
          ]
        },
        {
          "output_type": "stream",
          "name": "stdout",
          "text": [
            "reranker scores tensor([ 4.0979, -1.5743,  5.5200,  3.9252, -4.3536])\n"
          ]
        },
        {
          "output_type": "stream",
          "name": "stderr",
          "text": [
            "\rEvaluating Questions:  60%|██████    | 39/65 [17:09<09:28, 21.88s/it]"
          ]
        },
        {
          "output_type": "stream",
          "name": "stdout",
          "text": [
            "reranker scores tensor([ 3.8057,  4.9112,  1.4130,  1.2264, -5.4745])\n"
          ]
        },
        {
          "output_type": "stream",
          "name": "stderr",
          "text": [
            "\rEvaluating Questions:  62%|██████▏   | 40/65 [17:41<10:21, 24.87s/it]"
          ]
        },
        {
          "output_type": "stream",
          "name": "stdout",
          "text": [
            "reranker scores tensor([ 4.4469, -5.0831, -1.5405, -0.2182, -0.3345])\n"
          ]
        },
        {
          "output_type": "stream",
          "name": "stderr",
          "text": [
            "\rEvaluating Questions:  63%|██████▎   | 41/65 [18:13<10:44, 26.84s/it]"
          ]
        },
        {
          "output_type": "stream",
          "name": "stdout",
          "text": [
            "reranker scores tensor([ 8.1554,  7.5591,  5.2526,  1.3296, -2.7935])\n"
          ]
        },
        {
          "output_type": "stream",
          "name": "stderr",
          "text": [
            "\rEvaluating Questions:  65%|██████▍   | 42/65 [18:33<09:33, 24.95s/it]"
          ]
        },
        {
          "output_type": "stream",
          "name": "stdout",
          "text": [
            "reranker scores tensor([1.4797, 6.4731, 2.9162, 2.3378, 2.5005])\n"
          ]
        },
        {
          "output_type": "stream",
          "name": "stderr",
          "text": [
            "\rEvaluating Questions:  66%|██████▌   | 43/65 [18:55<08:49, 24.08s/it]"
          ]
        },
        {
          "output_type": "stream",
          "name": "stdout",
          "text": [
            "reranker scores tensor([ 0.0934, -3.1555,  6.4146, -2.2320, -2.4773])\n"
          ]
        },
        {
          "output_type": "stream",
          "name": "stderr",
          "text": [
            "\rEvaluating Questions:  68%|██████▊   | 44/65 [19:19<08:27, 24.15s/it]"
          ]
        },
        {
          "output_type": "stream",
          "name": "stdout",
          "text": [
            "reranker scores tensor([ 7.8359, -2.8806,  1.4763,  5.0722,  2.0737])\n"
          ]
        },
        {
          "output_type": "stream",
          "name": "stderr",
          "text": [
            "\rEvaluating Questions:  69%|██████▉   | 45/65 [19:42<07:53, 23.68s/it]"
          ]
        },
        {
          "output_type": "stream",
          "name": "stdout",
          "text": [
            "reranker scores tensor([ 4.3205, -2.2609, -1.1471,  3.8639,  2.2797])\n"
          ]
        },
        {
          "output_type": "stream",
          "name": "stderr",
          "text": [
            "\rEvaluating Questions:  71%|███████   | 46/65 [20:01<07:01, 22.19s/it]"
          ]
        },
        {
          "output_type": "stream",
          "name": "stdout",
          "text": [
            "reranker scores tensor([5.7138, 5.1053, 9.3639, 8.8894, 7.5529])\n"
          ]
        },
        {
          "output_type": "stream",
          "name": "stderr",
          "text": [
            "\rEvaluating Questions:  72%|███████▏  | 47/65 [20:27<06:59, 23.31s/it]"
          ]
        },
        {
          "output_type": "stream",
          "name": "stdout",
          "text": [
            "reranker scores tensor([-1.6745,  1.8748, -1.3716,  1.2088,  7.9106])\n"
          ]
        },
        {
          "output_type": "stream",
          "name": "stderr",
          "text": [
            "\rEvaluating Questions:  74%|███████▍  | 48/65 [20:50<06:33, 23.17s/it]"
          ]
        },
        {
          "output_type": "stream",
          "name": "stdout",
          "text": [
            "reranker scores tensor([ 3.8535,  0.5656,  2.4055, -7.7704,  0.3007])\n"
          ]
        },
        {
          "output_type": "stream",
          "name": "stderr",
          "text": [
            "\rEvaluating Questions:  75%|███████▌  | 49/65 [21:14<06:18, 23.66s/it]"
          ]
        },
        {
          "output_type": "stream",
          "name": "stdout",
          "text": [
            "reranker scores tensor([-2.3001, -0.1576, -2.6984, -2.2668,  5.0509])\n"
          ]
        },
        {
          "output_type": "stream",
          "name": "stderr",
          "text": [
            "\rEvaluating Questions:  77%|███████▋  | 50/65 [21:36<05:43, 22.93s/it]"
          ]
        },
        {
          "output_type": "stream",
          "name": "stdout",
          "text": [
            "reranker scores tensor([3.3301, 4.5957, 5.8164, 5.3366, 2.8161])\n"
          ]
        },
        {
          "output_type": "stream",
          "name": "stderr",
          "text": [
            "\rEvaluating Questions:  78%|███████▊  | 51/65 [21:58<05:20, 22.91s/it]"
          ]
        },
        {
          "output_type": "stream",
          "name": "stdout",
          "text": [
            "reranker scores tensor([6.9082, 8.7994, 6.8497, 4.5128, 4.7229])\n"
          ]
        },
        {
          "output_type": "stream",
          "name": "stderr",
          "text": [
            "\rEvaluating Questions:  80%|████████  | 52/65 [22:18<04:43, 21.84s/it]"
          ]
        },
        {
          "output_type": "stream",
          "name": "stdout",
          "text": [
            "reranker scores tensor([ 8.1570,  4.0232, -2.2718, -0.2254, -0.2649])\n"
          ]
        },
        {
          "output_type": "stream",
          "name": "stderr",
          "text": [
            "\rEvaluating Questions:  82%|████████▏ | 53/65 [22:41<04:25, 22.13s/it]"
          ]
        },
        {
          "output_type": "stream",
          "name": "stdout",
          "text": [
            "reranker scores tensor([-0.4954,  6.9857, -0.2664, -3.2433, -1.3760])\n"
          ]
        },
        {
          "output_type": "stream",
          "name": "stderr",
          "text": [
            "\rEvaluating Questions:  83%|████████▎ | 54/65 [23:02<04:01, 21.94s/it]"
          ]
        },
        {
          "output_type": "stream",
          "name": "stdout",
          "text": [
            "reranker scores tensor([ 4.2398,  0.5022, -0.2347,  1.1030,  0.2055])\n"
          ]
        },
        {
          "output_type": "stream",
          "name": "stderr",
          "text": [
            "\rEvaluating Questions:  85%|████████▍ | 55/65 [23:29<03:54, 23.45s/it]"
          ]
        },
        {
          "output_type": "stream",
          "name": "stdout",
          "text": [
            "reranker scores tensor([-0.0876,  4.4731,  6.9442,  3.6836, -5.5952])\n"
          ]
        },
        {
          "output_type": "stream",
          "name": "stderr",
          "text": [
            "\rEvaluating Questions:  86%|████████▌ | 56/65 [23:50<03:25, 22.82s/it]"
          ]
        },
        {
          "output_type": "stream",
          "name": "stdout",
          "text": [
            "reranker scores tensor([-1.1986,  0.0376,  5.9193,  0.0643, -2.4231])\n"
          ]
        },
        {
          "output_type": "stream",
          "name": "stderr",
          "text": [
            "\rEvaluating Questions:  88%|████████▊ | 57/65 [24:10<02:55, 21.96s/it]"
          ]
        },
        {
          "output_type": "stream",
          "name": "stdout",
          "text": [
            "reranker scores tensor([ 5.9613,  3.2824, -1.3034, -0.3894,  2.1373])\n"
          ]
        },
        {
          "output_type": "stream",
          "name": "stderr",
          "text": [
            "\rEvaluating Questions:  89%|████████▉ | 58/65 [24:36<02:40, 23.00s/it]"
          ]
        },
        {
          "output_type": "stream",
          "name": "stdout",
          "text": [
            "reranker scores tensor([ 7.4632,  7.0215,  4.7847, -2.2080, -0.0931])\n"
          ]
        },
        {
          "output_type": "stream",
          "name": "stderr",
          "text": [
            "\rEvaluating Questions:  91%|█████████ | 59/65 [25:08<02:33, 25.66s/it]"
          ]
        },
        {
          "output_type": "stream",
          "name": "stdout",
          "text": [
            "reranker scores tensor([ 4.6328,  0.6588,  0.0410, -6.6763, -1.2851])\n"
          ]
        },
        {
          "output_type": "stream",
          "name": "stderr",
          "text": [
            "\rEvaluating Questions:  92%|█████████▏| 60/65 [25:33<02:08, 25.61s/it]"
          ]
        },
        {
          "output_type": "stream",
          "name": "stdout",
          "text": [
            "reranker scores tensor([ 5.0420,  3.2016,  0.8710, -3.7610,  1.4800])\n"
          ]
        },
        {
          "output_type": "stream",
          "name": "stderr",
          "text": [
            "\rEvaluating Questions:  94%|█████████▍| 61/65 [25:58<01:41, 25.39s/it]"
          ]
        },
        {
          "output_type": "stream",
          "name": "stdout",
          "text": [
            "reranker scores tensor([-2.0495,  4.7316,  0.5603, -0.1759, -3.6877])\n"
          ]
        },
        {
          "output_type": "stream",
          "name": "stderr",
          "text": [
            "\rEvaluating Questions:  95%|█████████▌| 62/65 [26:24<01:16, 25.49s/it]"
          ]
        },
        {
          "output_type": "stream",
          "name": "stdout",
          "text": [
            "reranker scores tensor([-0.0333,  0.3380,  3.1896,  5.8760,  8.5084])\n"
          ]
        },
        {
          "output_type": "stream",
          "name": "stderr",
          "text": [
            "\rEvaluating Questions:  97%|█████████▋| 63/65 [26:45<00:48, 24.21s/it]"
          ]
        },
        {
          "output_type": "stream",
          "name": "stdout",
          "text": [
            "reranker scores tensor([ 6.4787,  3.4857, -3.3779, -5.0493, -4.3915])\n"
          ]
        },
        {
          "output_type": "stream",
          "name": "stderr",
          "text": [
            "\rEvaluating Questions:  98%|█████████▊| 64/65 [27:16<00:26, 26.13s/it]"
          ]
        },
        {
          "output_type": "stream",
          "name": "stdout",
          "text": [
            "reranker scores tensor([ 4.2652, -2.9037, -2.0893, -2.5695, -2.1155])\n"
          ]
        },
        {
          "output_type": "stream",
          "name": "stderr",
          "text": [
            "Evaluating Questions: 100%|██████████| 65/65 [27:38<00:00, 25.51s/it]\n",
            "Some weights of RobertaModel were not initialized from the model checkpoint at roberta-large and are newly initialized: ['roberta.pooler.dense.bias', 'roberta.pooler.dense.weight']\n",
            "You should probably TRAIN this model on a down-stream task to be able to use it for predictions and inference.\n"
          ]
        },
        {
          "output_type": "stream",
          "name": "stdout",
          "text": [
            "calculating scores...\n",
            "computing bert embedding.\n"
          ]
        },
        {
          "output_type": "display_data",
          "data": {
            "text/plain": [
              "  0%|          | 0/3 [00:00<?, ?it/s]"
            ],
            "application/vnd.jupyter.widget-view+json": {
              "version_major": 2,
              "version_minor": 0,
              "model_id": "9d2d762666e8455aa745662e37e6fb13"
            }
          },
          "metadata": {}
        },
        {
          "output_type": "stream",
          "name": "stdout",
          "text": [
            "computing greedy matching.\n"
          ]
        },
        {
          "output_type": "display_data",
          "data": {
            "text/plain": [
              "  0%|          | 0/2 [00:00<?, ?it/s]"
            ],
            "application/vnd.jupyter.widget-view+json": {
              "version_major": 2,
              "version_minor": 0,
              "model_id": "a524717524cb40588741309a151f15a2"
            }
          },
          "metadata": {}
        },
        {
          "output_type": "stream",
          "name": "stdout",
          "text": [
            "done in 153.76 seconds, 0.42 sentences/sec\n",
            "\n",
            "Average Scores:\n",
            "Average BERTScore Precision: 0.8333\n",
            "Average BERTScore Recall: 0.8992\n",
            "Average BERTScore F1: 0.8647\n",
            "\n",
            "Detailed Results Sample (first 3):\n",
            "\n",
            "Question: What architecture is the `tokenizers-linux-x64-musl` binary designed for?\n",
            "\n",
            "Reference Answer: x86_64-unknown-linux-musl\n",
            "Generated Answer: The `tokenizers-linux-x64-musl` binary is designed for the x86_64 architecture running the musl C library on Linux systems.\n",
            "BERTScore Precision: 0.8575\n",
            "BERTScore Recall: 0.9092\n",
            "BERTScore F1: 0.8826\n",
            "\n",
            "Question: What is the purpose of the BLIP-Diffusion model?\n",
            "\n",
            "Reference Answer: The BLIP-Diffusion model is designed for controllable text-to-image generation and editing.\n",
            "Generated Answer: The purpose of the BLIP-Diffusion model is to enable zero-shot subject-driven generation, efficient fine-tuning for customized subjects with significant speedup, and flexible integration with other techniques like ControlNet and prompt-to-prompt for novel subject-driven generation and editing applications.\n",
            "BERTScore Precision: 0.8714\n",
            "BERTScore Recall: 0.9170\n",
            "BERTScore F1: 0.8936\n",
            "\n",
            "Question: How can a user claim authorship of a paper on the Hugging Face Hub?\n",
            "\n",
            "Reference Answer: By clicking their name on the corresponding Paper page and clicking \"claim authorship\", then confirming the request in paper settings for admin team validation.\n",
            "Generated Answer: \"In order to claim authorship of a paper on the Hugging Face Hub, a user can manually do so by following these steps: Click on their name on the corresponding Paper page and click 'claim authorship'. This action will redirect them to their paper settings where they can confirm the request. Once validated by the admin team, the Paper page will be marked as verified.\"\n",
            "BERTScore Precision: 0.8782\n",
            "BERTScore Recall: 0.9288\n",
            "BERTScore F1: 0.9028\n"
          ]
        },
        {
          "output_type": "stream",
          "name": "stderr",
          "text": [
            "\rEvaluating Questions:   0%|          | 0/65 [00:00<?, ?it/s]"
          ]
        },
        {
          "output_type": "stream",
          "name": "stdout",
          "text": [
            "reranker scores tensor([-0.0975, -6.3564, -4.5948, -5.1581, -3.7810])\n"
          ]
        },
        {
          "output_type": "stream",
          "name": "stderr",
          "text": [
            "\rEvaluating Questions:   2%|▏         | 1/65 [00:18<19:54, 18.66s/it]"
          ]
        },
        {
          "output_type": "stream",
          "name": "stdout",
          "text": [
            "reranker scores tensor([ 3.4297, -2.2105,  2.8743,  2.6945, -4.3215])\n"
          ]
        },
        {
          "output_type": "stream",
          "name": "stderr",
          "text": [
            "\rEvaluating Questions:   3%|▎         | 2/65 [00:33<17:31, 16.69s/it]"
          ]
        },
        {
          "output_type": "stream",
          "name": "stdout",
          "text": [
            "reranker scores tensor([ 6.5623,  2.9059, -3.2001, -2.4640, -2.2643])\n"
          ]
        },
        {
          "output_type": "stream",
          "name": "stderr",
          "text": [
            "\rEvaluating Questions:   5%|▍         | 3/65 [00:51<17:30, 16.95s/it]"
          ]
        },
        {
          "output_type": "stream",
          "name": "stdout",
          "text": [
            "reranker scores tensor([ 2.0401, -3.7839, -2.7268, -4.4994, -4.1350])\n"
          ]
        },
        {
          "output_type": "stream",
          "name": "stderr",
          "text": [
            "\rEvaluating Questions:   6%|▌         | 4/65 [01:09<17:53, 17.60s/it]"
          ]
        },
        {
          "output_type": "stream",
          "name": "stdout",
          "text": [
            "reranker scores tensor([ 1.8963, -5.4715, -4.6364,  1.0930, -3.5772])\n"
          ]
        },
        {
          "output_type": "stream",
          "name": "stderr",
          "text": [
            "\rEvaluating Questions:   8%|▊         | 5/65 [01:24<16:21, 16.36s/it]"
          ]
        },
        {
          "output_type": "stream",
          "name": "stdout",
          "text": [
            "reranker scores tensor([ 1.2419,  3.1147, -5.2025, -2.4262, -4.8682])\n"
          ]
        },
        {
          "output_type": "stream",
          "name": "stderr",
          "text": [
            "\rEvaluating Questions:   9%|▉         | 6/65 [01:41<16:21, 16.64s/it]"
          ]
        },
        {
          "output_type": "stream",
          "name": "stdout",
          "text": [
            "reranker scores tensor([-0.8382,  2.8632,  3.6946,  3.4186, -1.9124])\n"
          ]
        },
        {
          "output_type": "stream",
          "name": "stderr",
          "text": [
            "\rEvaluating Questions:  11%|█         | 7/65 [01:55<15:17, 15.82s/it]"
          ]
        },
        {
          "output_type": "stream",
          "name": "stdout",
          "text": [
            "reranker scores tensor([ 4.4513, -3.3830, -4.1559, -5.1120, -8.2432])\n"
          ]
        },
        {
          "output_type": "stream",
          "name": "stderr",
          "text": [
            "\rEvaluating Questions:  12%|█▏        | 8/65 [02:11<15:11, 15.99s/it]"
          ]
        },
        {
          "output_type": "stream",
          "name": "stdout",
          "text": [
            "reranker scores tensor([-2.9268,  3.5240,  3.7388, -5.5660, -6.9073])\n"
          ]
        },
        {
          "output_type": "stream",
          "name": "stderr",
          "text": [
            "\rEvaluating Questions:  14%|█▍        | 9/65 [02:26<14:30, 15.54s/it]"
          ]
        },
        {
          "output_type": "stream",
          "name": "stdout",
          "text": [
            "reranker scores tensor([ 0.2792, -1.5358, -2.8743,  1.7282, -1.4531])\n"
          ]
        },
        {
          "output_type": "stream",
          "name": "stderr",
          "text": [
            "\rEvaluating Questions:  15%|█▌        | 10/65 [02:41<14:13, 15.52s/it]"
          ]
        },
        {
          "output_type": "stream",
          "name": "stdout",
          "text": [
            "reranker scores tensor([-0.4806, -2.4827,  3.2070, -2.9757, -4.2340])\n"
          ]
        },
        {
          "output_type": "stream",
          "name": "stderr",
          "text": [
            "\rEvaluating Questions:  17%|█▋        | 11/65 [02:54<13:18, 14.80s/it]"
          ]
        },
        {
          "output_type": "stream",
          "name": "stdout",
          "text": [
            "reranker scores tensor([ 1.6791, -3.2713, -2.3957, -2.1248, -7.0844])\n"
          ]
        },
        {
          "output_type": "stream",
          "name": "stderr",
          "text": [
            "\rEvaluating Questions:  18%|█▊        | 12/65 [03:08<12:40, 14.35s/it]"
          ]
        },
        {
          "output_type": "stream",
          "name": "stdout",
          "text": [
            "reranker scores tensor([ 4.7448,  1.7750, -6.5426, -6.9455, -1.6210])\n"
          ]
        },
        {
          "output_type": "stream",
          "name": "stderr",
          "text": [
            "\rEvaluating Questions:  20%|██        | 13/65 [03:24<13:02, 15.04s/it]"
          ]
        },
        {
          "output_type": "stream",
          "name": "stdout",
          "text": [
            "reranker scores tensor([ 1.9247, -3.0056, -2.5142, -4.2347, -3.9286])\n"
          ]
        },
        {
          "output_type": "stream",
          "name": "stderr",
          "text": [
            "\rEvaluating Questions:  22%|██▏       | 14/65 [03:43<13:50, 16.29s/it]"
          ]
        },
        {
          "output_type": "stream",
          "name": "stdout",
          "text": [
            "reranker scores tensor([ 5.8978, -1.3245, -3.4286, -3.4764,  0.4409])\n"
          ]
        },
        {
          "output_type": "stream",
          "name": "stderr",
          "text": [
            "\rEvaluating Questions:  23%|██▎       | 15/65 [03:59<13:28, 16.17s/it]"
          ]
        },
        {
          "output_type": "stream",
          "name": "stdout",
          "text": [
            "reranker scores tensor([ 6.1905,  5.9614,  6.0756, -1.4657,  5.8957])\n"
          ]
        },
        {
          "output_type": "stream",
          "name": "stderr",
          "text": [
            "\rEvaluating Questions:  25%|██▍       | 16/65 [04:16<13:19, 16.32s/it]"
          ]
        },
        {
          "output_type": "stream",
          "name": "stdout",
          "text": [
            "reranker scores tensor([ 8.9758,  1.6818, -3.7320, -2.1758, -2.2851])\n"
          ]
        },
        {
          "output_type": "stream",
          "name": "stderr",
          "text": [
            "\rEvaluating Questions:  26%|██▌       | 17/65 [04:32<12:59, 16.24s/it]"
          ]
        },
        {
          "output_type": "stream",
          "name": "stdout",
          "text": [
            "reranker scores tensor([ 8.3589, -1.3373, -4.3627, -5.7805, -4.9901])\n"
          ]
        },
        {
          "output_type": "stream",
          "name": "stderr",
          "text": [
            "\rEvaluating Questions:  28%|██▊       | 18/65 [04:50<13:01, 16.64s/it]"
          ]
        },
        {
          "output_type": "stream",
          "name": "stdout",
          "text": [
            "reranker scores tensor([ 6.4006,  0.8499,  5.2096,  6.1357, -1.0957])\n"
          ]
        },
        {
          "output_type": "stream",
          "name": "stderr",
          "text": [
            "\rEvaluating Questions:  29%|██▉       | 19/65 [05:04<12:09, 15.85s/it]"
          ]
        },
        {
          "output_type": "stream",
          "name": "stdout",
          "text": [
            "reranker scores tensor([ 2.0471,  2.8803, -0.3007, -1.3363,  1.1296])\n"
          ]
        },
        {
          "output_type": "stream",
          "name": "stderr",
          "text": [
            "\rEvaluating Questions:  31%|███       | 20/65 [05:18<11:30, 15.34s/it]"
          ]
        },
        {
          "output_type": "stream",
          "name": "stdout",
          "text": [
            "reranker scores tensor([-0.6728,  2.7260,  0.1546, -1.9745, -0.0966])\n"
          ]
        },
        {
          "output_type": "stream",
          "name": "stderr",
          "text": [
            "\rEvaluating Questions:  32%|███▏      | 21/65 [05:33<11:13, 15.30s/it]"
          ]
        },
        {
          "output_type": "stream",
          "name": "stdout",
          "text": [
            "reranker scores tensor([ 8.7993,  2.4031,  1.6643,  4.5939, -5.0112])\n"
          ]
        },
        {
          "output_type": "stream",
          "name": "stderr",
          "text": [
            "\rEvaluating Questions:  34%|███▍      | 22/65 [05:47<10:42, 14.95s/it]"
          ]
        },
        {
          "output_type": "stream",
          "name": "stdout",
          "text": [
            "reranker scores tensor([ 0.5841,  0.6170,  0.6761,  5.6354, -2.9294])\n"
          ]
        },
        {
          "output_type": "stream",
          "name": "stderr",
          "text": [
            "\rEvaluating Questions:  35%|███▌      | 23/65 [06:02<10:27, 14.93s/it]"
          ]
        },
        {
          "output_type": "stream",
          "name": "stdout",
          "text": [
            "reranker scores tensor([-0.5403, -1.3392, -0.2995,  2.0727,  1.0047])\n"
          ]
        },
        {
          "output_type": "stream",
          "name": "stderr",
          "text": [
            "\rEvaluating Questions:  37%|███▋      | 24/65 [06:15<09:53, 14.47s/it]"
          ]
        },
        {
          "output_type": "stream",
          "name": "stdout",
          "text": [
            "reranker scores tensor([ 1.7084, -4.7162, -6.0092, -4.6533, -5.6003])\n"
          ]
        },
        {
          "output_type": "stream",
          "name": "stderr",
          "text": [
            "\rEvaluating Questions:  38%|███▊      | 25/65 [06:30<09:44, 14.61s/it]"
          ]
        },
        {
          "output_type": "stream",
          "name": "stdout",
          "text": [
            "reranker scores tensor([ 1.1643,  7.7047, -0.9098, -2.0704, -3.1253])\n"
          ]
        },
        {
          "output_type": "stream",
          "name": "stderr",
          "text": [
            "\rEvaluating Questions:  40%|████      | 26/65 [06:49<10:13, 15.73s/it]"
          ]
        },
        {
          "output_type": "stream",
          "name": "stdout",
          "text": [
            "reranker scores tensor([ 6.7533, -0.5283, -4.1844,  0.4355,  0.7316])\n"
          ]
        },
        {
          "output_type": "stream",
          "name": "stderr",
          "text": [
            "\rEvaluating Questions:  42%|████▏     | 27/65 [07:05<09:58, 15.75s/it]"
          ]
        },
        {
          "output_type": "stream",
          "name": "stdout",
          "text": [
            "reranker scores tensor([ 4.8964, -0.2188, -2.7166,  2.2591,  0.2771])\n"
          ]
        },
        {
          "output_type": "stream",
          "name": "stderr",
          "text": [
            "\rEvaluating Questions:  43%|████▎     | 28/65 [07:19<09:27, 15.34s/it]"
          ]
        },
        {
          "output_type": "stream",
          "name": "stdout",
          "text": [
            "reranker scores tensor([-3.6832,  5.7830, -4.5459, -5.1222, -6.1220])\n"
          ]
        },
        {
          "output_type": "stream",
          "name": "stderr",
          "text": [
            "\rEvaluating Questions:  45%|████▍     | 29/65 [07:37<09:44, 16.25s/it]"
          ]
        },
        {
          "output_type": "stream",
          "name": "stdout",
          "text": [
            "reranker scores tensor([ 6.3269, -0.3132, -4.4263, -2.9286, -0.9173])\n"
          ]
        },
        {
          "output_type": "stream",
          "name": "stderr",
          "text": [
            "\rEvaluating Questions:  46%|████▌     | 30/65 [07:57<10:04, 17.26s/it]"
          ]
        },
        {
          "output_type": "stream",
          "name": "stdout",
          "text": [
            "reranker scores tensor([ 6.5965,  2.2167,  2.1022, -8.6201, -1.9056])\n"
          ]
        },
        {
          "output_type": "stream",
          "name": "stderr",
          "text": [
            "\rEvaluating Questions:  48%|████▊     | 31/65 [08:20<10:46, 19.00s/it]"
          ]
        },
        {
          "output_type": "stream",
          "name": "stdout",
          "text": [
            "reranker scores tensor([ 6.2620, -3.4897,  2.7733, -3.8350, -3.3581])\n"
          ]
        },
        {
          "output_type": "stream",
          "name": "stderr",
          "text": [
            "\rEvaluating Questions:  49%|████▉     | 32/65 [08:39<10:25, 18.96s/it]"
          ]
        },
        {
          "output_type": "stream",
          "name": "stdout",
          "text": [
            "reranker scores tensor([-0.6433,  6.2262,  6.1459,  0.5934,  1.4126])\n"
          ]
        },
        {
          "output_type": "stream",
          "name": "stderr",
          "text": [
            "\rEvaluating Questions:  51%|█████     | 33/65 [08:55<09:40, 18.15s/it]"
          ]
        },
        {
          "output_type": "stream",
          "name": "stdout",
          "text": [
            "reranker scores tensor([-2.2685, -2.5321,  7.9299,  3.1590, -0.8881])\n"
          ]
        },
        {
          "output_type": "stream",
          "name": "stderr",
          "text": [
            "\rEvaluating Questions:  52%|█████▏    | 34/65 [09:11<09:02, 17.51s/it]"
          ]
        },
        {
          "output_type": "stream",
          "name": "stdout",
          "text": [
            "reranker scores tensor([-2.4710,  2.4014, -7.5392, -4.4463,  1.8312])\n"
          ]
        },
        {
          "output_type": "stream",
          "name": "stderr",
          "text": [
            "\rEvaluating Questions:  54%|█████▍    | 35/65 [09:26<08:24, 16.81s/it]"
          ]
        },
        {
          "output_type": "stream",
          "name": "stdout",
          "text": [
            "reranker scores tensor([-5.1953,  2.8681, -3.9645, -3.2926, -1.3767])\n"
          ]
        },
        {
          "output_type": "stream",
          "name": "stderr",
          "text": [
            "\rEvaluating Questions:  55%|█████▌    | 36/65 [09:43<08:03, 16.69s/it]"
          ]
        },
        {
          "output_type": "stream",
          "name": "stdout",
          "text": [
            "reranker scores tensor([ 3.7992, -1.9283, -5.3503, -4.7399, -2.3484])\n"
          ]
        },
        {
          "output_type": "stream",
          "name": "stderr",
          "text": [
            "\rEvaluating Questions:  57%|█████▋    | 37/65 [09:57<07:23, 15.83s/it]"
          ]
        },
        {
          "output_type": "stream",
          "name": "stdout",
          "text": [
            "reranker scores tensor([ 1.1428, -1.0238, -5.3305,  5.8448, -4.0503])\n"
          ]
        },
        {
          "output_type": "stream",
          "name": "stderr",
          "text": [
            "\rEvaluating Questions:  58%|█████▊    | 38/65 [10:10<06:50, 15.21s/it]"
          ]
        },
        {
          "output_type": "stream",
          "name": "stdout",
          "text": [
            "reranker scores tensor([ 5.3625, -2.3481, -0.6100,  0.6122, -1.6651])\n"
          ]
        },
        {
          "output_type": "stream",
          "name": "stderr",
          "text": [
            "\rEvaluating Questions:  60%|██████    | 39/65 [10:25<06:30, 15.04s/it]"
          ]
        },
        {
          "output_type": "stream",
          "name": "stdout",
          "text": [
            "reranker scores tensor([ 6.4832, -0.2593, -6.2382,  0.4576, -6.1799])\n"
          ]
        },
        {
          "output_type": "stream",
          "name": "stderr",
          "text": [
            "\rEvaluating Questions:  62%|██████▏   | 40/65 [10:55<08:08, 19.54s/it]"
          ]
        },
        {
          "output_type": "stream",
          "name": "stdout",
          "text": [
            "reranker scores tensor([ 4.9001, -2.9329, -1.1031, -6.8901,  0.9401])\n"
          ]
        },
        {
          "output_type": "stream",
          "name": "stderr",
          "text": [
            "\rEvaluating Questions:  63%|██████▎   | 41/65 [11:12<07:33, 18.92s/it]"
          ]
        },
        {
          "output_type": "stream",
          "name": "stdout",
          "text": [
            "reranker scores tensor([ 7.6968,  2.0876, -4.4786, -2.9489, -4.4540])\n"
          ]
        },
        {
          "output_type": "stream",
          "name": "stderr",
          "text": [
            "\rEvaluating Questions:  65%|██████▍   | 42/65 [11:27<06:44, 17.58s/it]"
          ]
        },
        {
          "output_type": "stream",
          "name": "stdout",
          "text": [
            "reranker scores tensor([-0.9519, -0.9396, -0.9047,  5.6769, -4.8963])\n"
          ]
        },
        {
          "output_type": "stream",
          "name": "stderr",
          "text": [
            "\rEvaluating Questions:  66%|██████▌   | 43/65 [11:40<05:58, 16.31s/it]"
          ]
        },
        {
          "output_type": "stream",
          "name": "stdout",
          "text": [
            "reranker scores tensor([-0.0792, -2.4704, -2.0089,  0.4394,  0.3865])\n"
          ]
        },
        {
          "output_type": "stream",
          "name": "stderr",
          "text": [
            "\rEvaluating Questions:  68%|██████▊   | 44/65 [11:55<05:34, 15.92s/it]"
          ]
        },
        {
          "output_type": "stream",
          "name": "stdout",
          "text": [
            "reranker scores tensor([ 7.7939, -5.5647, -5.1627, -4.9770, -3.7951])\n"
          ]
        },
        {
          "output_type": "stream",
          "name": "stderr",
          "text": [
            "\rEvaluating Questions:  69%|██████▉   | 45/65 [12:13<05:26, 16.33s/it]"
          ]
        },
        {
          "output_type": "stream",
          "name": "stdout",
          "text": [
            "reranker scores tensor([-1.0837,  3.7487, -4.0896, -2.3001, -2.6880])\n"
          ]
        },
        {
          "output_type": "stream",
          "name": "stderr",
          "text": [
            "\rEvaluating Questions:  71%|███████   | 46/65 [12:26<04:55, 15.55s/it]"
          ]
        },
        {
          "output_type": "stream",
          "name": "stdout",
          "text": [
            "reranker scores tensor([1.3300, 0.4098, 2.7961, 9.4248, 3.4745])\n"
          ]
        },
        {
          "output_type": "stream",
          "name": "stderr",
          "text": [
            "\rEvaluating Questions:  72%|███████▏  | 47/65 [12:40<04:31, 15.09s/it]"
          ]
        },
        {
          "output_type": "stream",
          "name": "stdout",
          "text": [
            "reranker scores tensor([-1.9916,  0.2212,  1.2629,  1.4247,  0.1682])\n"
          ]
        },
        {
          "output_type": "stream",
          "name": "stderr",
          "text": [
            "\rEvaluating Questions:  74%|███████▍  | 48/65 [12:54<04:07, 14.58s/it]"
          ]
        },
        {
          "output_type": "stream",
          "name": "stdout",
          "text": [
            "reranker scores tensor([-1.6113,  4.7644,  1.5893, -8.4916, -2.0674])\n"
          ]
        },
        {
          "output_type": "stream",
          "name": "stderr",
          "text": [
            "\rEvaluating Questions:  75%|███████▌  | 49/65 [13:08<03:50, 14.42s/it]"
          ]
        },
        {
          "output_type": "stream",
          "name": "stdout",
          "text": [
            "reranker scores tensor([-4.6798, -3.3296, -4.0762, -1.4349,  4.6343])\n"
          ]
        },
        {
          "output_type": "stream",
          "name": "stderr",
          "text": [
            "\rEvaluating Questions:  77%|███████▋  | 50/65 [13:22<03:33, 14.26s/it]"
          ]
        },
        {
          "output_type": "stream",
          "name": "stdout",
          "text": [
            "reranker scores tensor([4.6856, 4.5155, 4.9303, 1.3537, 4.8081])\n"
          ]
        },
        {
          "output_type": "stream",
          "name": "stderr",
          "text": [
            "\rEvaluating Questions:  78%|███████▊  | 51/65 [13:36<03:21, 14.41s/it]"
          ]
        },
        {
          "output_type": "stream",
          "name": "stdout",
          "text": [
            "reranker scores tensor([ 3.9927,  7.5712,  5.0269, -4.9118,  4.4877])\n"
          ]
        },
        {
          "output_type": "stream",
          "name": "stderr",
          "text": [
            "\rEvaluating Questions:  80%|████████  | 52/65 [13:50<03:05, 14.24s/it]"
          ]
        },
        {
          "output_type": "stream",
          "name": "stdout",
          "text": [
            "reranker scores tensor([ 5.9152, -0.0605, -2.8783, -1.0502, -0.1432])\n"
          ]
        },
        {
          "output_type": "stream",
          "name": "stderr",
          "text": [
            "\rEvaluating Questions:  82%|████████▏ | 53/65 [14:07<03:01, 15.15s/it]"
          ]
        },
        {
          "output_type": "stream",
          "name": "stdout",
          "text": [
            "reranker scores tensor([ 8.0749, -0.6297, -5.5100, -3.2688, -4.6858])\n"
          ]
        },
        {
          "output_type": "stream",
          "name": "stderr",
          "text": [
            "\rEvaluating Questions:  83%|████████▎ | 54/65 [14:21<02:42, 14.77s/it]"
          ]
        },
        {
          "output_type": "stream",
          "name": "stdout",
          "text": [
            "reranker scores tensor([-0.0583, -1.9725, -2.4026, -4.8658, -1.9562])\n"
          ]
        },
        {
          "output_type": "stream",
          "name": "stderr",
          "text": [
            "\rEvaluating Questions:  85%|████████▍ | 55/65 [14:40<02:38, 15.88s/it]"
          ]
        },
        {
          "output_type": "stream",
          "name": "stdout",
          "text": [
            "reranker scores tensor([ 0.3965,  3.8920,  0.2530,  3.5213, -5.7825])\n"
          ]
        },
        {
          "output_type": "stream",
          "name": "stderr",
          "text": [
            "\rEvaluating Questions:  86%|████████▌ | 56/65 [14:56<02:23, 15.90s/it]"
          ]
        },
        {
          "output_type": "stream",
          "name": "stdout",
          "text": [
            "reranker scores tensor([-1.7371,  5.5844, -1.1629, -2.3108, -4.6233])\n"
          ]
        },
        {
          "output_type": "stream",
          "name": "stderr",
          "text": [
            "\rEvaluating Questions:  88%|████████▊ | 57/65 [15:09<02:00, 15.06s/it]"
          ]
        },
        {
          "output_type": "stream",
          "name": "stdout",
          "text": [
            "reranker scores tensor([ 1.8174, -1.5201, -3.1118,  0.3169,  5.6359])\n"
          ]
        },
        {
          "output_type": "stream",
          "name": "stderr",
          "text": [
            "\rEvaluating Questions:  89%|████████▉ | 58/65 [15:26<01:49, 15.70s/it]"
          ]
        },
        {
          "output_type": "stream",
          "name": "stdout",
          "text": [
            "reranker scores tensor([ 6.7703,  3.3869,  3.7943, -3.7126,  0.6219])\n"
          ]
        },
        {
          "output_type": "stream",
          "name": "stderr",
          "text": [
            "\rEvaluating Questions:  91%|█████████ | 59/65 [15:44<01:37, 16.26s/it]"
          ]
        },
        {
          "output_type": "stream",
          "name": "stdout",
          "text": [
            "reranker scores tensor([ 4.9622, -2.3637, -4.1200,  0.8756, -4.1086])\n"
          ]
        },
        {
          "output_type": "stream",
          "name": "stderr",
          "text": [
            "\rEvaluating Questions:  92%|█████████▏| 60/65 [16:03<01:25, 17.07s/it]"
          ]
        },
        {
          "output_type": "stream",
          "name": "stdout",
          "text": [
            "reranker scores tensor([ 4.7445, -3.8610, -3.9538, -4.7304, -3.6378])\n"
          ]
        },
        {
          "output_type": "stream",
          "name": "stderr",
          "text": [
            "\rEvaluating Questions:  94%|█████████▍| 61/65 [16:20<01:08, 17.10s/it]"
          ]
        },
        {
          "output_type": "stream",
          "name": "stdout",
          "text": [
            "reranker scores tensor([  6.5327,  -7.2215,  -3.5552,  -5.5280, -10.4522])\n"
          ]
        },
        {
          "output_type": "stream",
          "name": "stderr",
          "text": [
            "\rEvaluating Questions:  95%|█████████▌| 62/65 [16:35<00:49, 16.59s/it]"
          ]
        },
        {
          "output_type": "stream",
          "name": "stdout",
          "text": [
            "reranker scores tensor([ 0.4283, -0.4101,  2.9424,  2.4638,  1.2620])\n"
          ]
        },
        {
          "output_type": "stream",
          "name": "stderr",
          "text": [
            "\rEvaluating Questions:  97%|█████████▋| 63/65 [16:49<00:31, 15.87s/it]"
          ]
        },
        {
          "output_type": "stream",
          "name": "stdout",
          "text": [
            "reranker scores tensor([-5.5925,  2.3130, -5.3778, -5.7646, -7.3190])\n"
          ]
        },
        {
          "output_type": "stream",
          "name": "stderr",
          "text": [
            "\rEvaluating Questions:  98%|█████████▊| 64/65 [17:09<00:16, 16.93s/it]"
          ]
        },
        {
          "output_type": "stream",
          "name": "stdout",
          "text": [
            "reranker scores tensor([ 4.4911, -2.7243, -7.2381, -2.1894, -2.2541])\n"
          ]
        },
        {
          "output_type": "stream",
          "name": "stderr",
          "text": [
            "Evaluating Questions: 100%|██████████| 65/65 [17:25<00:00, 16.09s/it]\n",
            "Some weights of RobertaModel were not initialized from the model checkpoint at roberta-large and are newly initialized: ['roberta.pooler.dense.bias', 'roberta.pooler.dense.weight']\n",
            "You should probably TRAIN this model on a down-stream task to be able to use it for predictions and inference.\n"
          ]
        },
        {
          "output_type": "stream",
          "name": "stdout",
          "text": [
            "calculating scores...\n",
            "computing bert embedding.\n"
          ]
        },
        {
          "output_type": "display_data",
          "data": {
            "text/plain": [
              "  0%|          | 0/3 [00:00<?, ?it/s]"
            ],
            "application/vnd.jupyter.widget-view+json": {
              "version_major": 2,
              "version_minor": 0,
              "model_id": "c70c23858e7e4fbcb99e6ba6de05663a"
            }
          },
          "metadata": {}
        },
        {
          "output_type": "stream",
          "name": "stdout",
          "text": [
            "computing greedy matching.\n"
          ]
        },
        {
          "output_type": "display_data",
          "data": {
            "text/plain": [
              "  0%|          | 0/2 [00:00<?, ?it/s]"
            ],
            "application/vnd.jupyter.widget-view+json": {
              "version_major": 2,
              "version_minor": 0,
              "model_id": "c46635cbc5cd47c29c513204eb9d1714"
            }
          },
          "metadata": {}
        },
        {
          "output_type": "stream",
          "name": "stdout",
          "text": [
            "done in 115.65 seconds, 0.56 sentences/sec\n",
            "\n",
            "Average Scores:\n",
            "Average BERTScore Precision: 0.8332\n",
            "Average BERTScore Recall: 0.8977\n",
            "Average BERTScore F1: 0.8640\n",
            "\n",
            "Detailed Results Sample (first 3):\n",
            "\n",
            "Question: What architecture is the `tokenizers-linux-x64-musl` binary designed for?\n",
            "\n",
            "Reference Answer: x86_64-unknown-linux-musl\n",
            "Generated Answer: The provided context does not contain specific information regarding the architecture for which the `tokenizers-linux-x64-musl` binary is designed. Therefore, the answer based on the given context is: \"I do not have enough information to answer this question based on the provided context.\"\n",
            "BERTScore Precision: 0.8254\n",
            "BERTScore Recall: 0.8858\n",
            "BERTScore F1: 0.8545\n",
            "\n",
            "Question: What is the purpose of the BLIP-Diffusion model?\n",
            "\n",
            "Reference Answer: The BLIP-Diffusion model is designed for controllable text-to-image generation and editing.\n",
            "Generated Answer: The purpose of the BLIP-Diffusion model is to enable zero-shot subject-driven generation and control-guided zero-shot generation in the context of text-to-image generation. It aims to overcome limitations such as lengthy fine-tuning and difficulties in preserving subject fidelity by introducing a new subject-driven image generation model that supports multimodal control through subject images and text prompts.\n",
            "BERTScore Precision: 0.8698\n",
            "BERTScore Recall: 0.9222\n",
            "BERTScore F1: 0.8952\n",
            "\n",
            "Question: How can a user claim authorship of a paper on the Hugging Face Hub?\n",
            "\n",
            "Reference Answer: By clicking their name on the corresponding Paper page and clicking \"claim authorship\", then confirming the request in paper settings for admin team validation.\n",
            "Generated Answer: To claim authorship of a paper on the Hugging Face Hub, a user can follow these steps as mentioned in the provided context:\n",
            "\n",
            "\"If your paper is not linked to your account, you can click in your name in the corresponding Paper page and click 'claim authorship'. This will automatically re-direct to your paper settings where you can confirm the request. The admin team will validate your request soon. Once confirmed, the Paper page will show as verified.\"\n",
            "\n",
            "Therefore, to claim authorship of a paper on the Hugging Face Hub, a user needs to click on their name on the relevant Paper page and select the option to \"claim authorship.\" This action will initiate a request process that, upon validation by the admin team, will verify the Paper page with the user as an author.\n",
            "BERTScore Precision: 0.8483\n",
            "BERTScore Recall: 0.9080\n",
            "BERTScore F1: 0.8771\n",
            "| Metric              |   Contextual |   Regular |   Difference |   Difference % |\n",
            "|:--------------------|-------------:|----------:|-------------:|---------------:|\n",
            "| BERTScore Precision |       0.8333 |    0.8332 |       0.0001 |           0.01 |\n",
            "| BERTScore Recall    |       0.8992 |    0.8977 |       0.0015 |           0.17 |\n",
            "| BERTScore F1        |       0.8647 |    0.864  |       0.0007 |           0.08 |\n"
          ]
        }
      ],
      "source": [
        "set1_params = {\n",
        "    'embedding_index': embedding_index_contextual,\n",
        "    'chunks': chunks_with_context,\n",
        "    'bm25': bm25_contextual,\n",
        "    'embedding_model': embedding_model  # Add your embedding model here\n",
        "}\n",
        "\n",
        "set2_params = {\n",
        "    'embedding_index': embedding_index_regular,\n",
        "    'chunks': chunks_regular,\n",
        "    'bm25': bm25_regular,\n",
        "    'embedding_model': embedding_model  # Add your embedding model here\n",
        "}\n",
        "\n",
        "# Run comparison\n",
        "comparison_results,results1_df, results2_df = compare_rag_evaluations(\n",
        "    best_answers_df=best_answers_df,\n",
        "    weight_sparse=0.3, #alpha\n",
        "    set1_params=set1_params,\n",
        "    set2_params=set2_params,\n",
        "    generate_amswer=get_generate_amswer(answer_chain),\n",
        "    n_samples=None  # Set to a number if you want to limit samples\n",
        ")\n",
        "\n",
        "# Display results as markdown table\n",
        "print(comparison_results.to_markdown(index=False))\n",
        "# Save DataFrame to CSV"
      ]
    },
    {
      "cell_type": "markdown",
      "source": [
        "# **Saving Results to files**"
      ],
      "metadata": {
        "id": "wUaxtGEyzTfk"
      }
    },
    {
      "cell_type": "code",
      "source": [
        "comparison_results_file = create_filename_timestamp(filename='comparison_results', extension=\"csv\")\n",
        "comparison_results.to_csv(comparison_results_file, index=False)\n",
        "results1_df_file = create_filename_timestamp(filename='contextual_rag_results', extension=\"csv\")\n",
        "results1_df.to_csv(results1_df_file, index=False)\n",
        "results2_df_file = create_filename_timestamp(filename='regular_rag_results', extension=\"csv\")\n",
        "results2_df.to_csv(results2_df_file, index=False)"
      ],
      "metadata": {
        "id": "YGsc9C3ZzS6W"
      },
      "execution_count": null,
      "outputs": []
    },
    {
      "cell_type": "code",
      "source": [
        "files.download(comparison_results_file)\n",
        "files.download(results1_df_file)\n",
        "files.download(results2_df_file)"
      ],
      "metadata": {
        "colab": {
          "base_uri": "https://localhost:8080/",
          "height": 17
        },
        "id": "QaBFTHI_zqKz",
        "outputId": "2a962ee0-cea0-4594-9388-309f06181a6c"
      },
      "execution_count": null,
      "outputs": [
        {
          "output_type": "display_data",
          "data": {
            "text/plain": [
              "<IPython.core.display.Javascript object>"
            ],
            "application/javascript": [
              "\n",
              "    async function download(id, filename, size) {\n",
              "      if (!google.colab.kernel.accessAllowed) {\n",
              "        return;\n",
              "      }\n",
              "      const div = document.createElement('div');\n",
              "      const label = document.createElement('label');\n",
              "      label.textContent = `Downloading \"${filename}\": `;\n",
              "      div.appendChild(label);\n",
              "      const progress = document.createElement('progress');\n",
              "      progress.max = size;\n",
              "      div.appendChild(progress);\n",
              "      document.body.appendChild(div);\n",
              "\n",
              "      const buffers = [];\n",
              "      let downloaded = 0;\n",
              "\n",
              "      const channel = await google.colab.kernel.comms.open(id);\n",
              "      // Send a message to notify the kernel that we're ready.\n",
              "      channel.send({})\n",
              "\n",
              "      for await (const message of channel.messages) {\n",
              "        // Send a message to notify the kernel that we're ready.\n",
              "        channel.send({})\n",
              "        if (message.buffers) {\n",
              "          for (const buffer of message.buffers) {\n",
              "            buffers.push(buffer);\n",
              "            downloaded += buffer.byteLength;\n",
              "            progress.value = downloaded;\n",
              "          }\n",
              "        }\n",
              "      }\n",
              "      const blob = new Blob(buffers, {type: 'application/binary'});\n",
              "      const a = document.createElement('a');\n",
              "      a.href = window.URL.createObjectURL(blob);\n",
              "      a.download = filename;\n",
              "      div.appendChild(a);\n",
              "      a.click();\n",
              "      div.remove();\n",
              "    }\n",
              "  "
            ]
          },
          "metadata": {}
        },
        {
          "output_type": "display_data",
          "data": {
            "text/plain": [
              "<IPython.core.display.Javascript object>"
            ],
            "application/javascript": [
              "download(\"download_60af77df-c1e9-432c-aca1-1496022099b2\", \"comparison_results_20241210_095654.csv\", 177)"
            ]
          },
          "metadata": {}
        },
        {
          "output_type": "display_data",
          "data": {
            "text/plain": [
              "<IPython.core.display.Javascript object>"
            ],
            "application/javascript": [
              "\n",
              "    async function download(id, filename, size) {\n",
              "      if (!google.colab.kernel.accessAllowed) {\n",
              "        return;\n",
              "      }\n",
              "      const div = document.createElement('div');\n",
              "      const label = document.createElement('label');\n",
              "      label.textContent = `Downloading \"${filename}\": `;\n",
              "      div.appendChild(label);\n",
              "      const progress = document.createElement('progress');\n",
              "      progress.max = size;\n",
              "      div.appendChild(progress);\n",
              "      document.body.appendChild(div);\n",
              "\n",
              "      const buffers = [];\n",
              "      let downloaded = 0;\n",
              "\n",
              "      const channel = await google.colab.kernel.comms.open(id);\n",
              "      // Send a message to notify the kernel that we're ready.\n",
              "      channel.send({})\n",
              "\n",
              "      for await (const message of channel.messages) {\n",
              "        // Send a message to notify the kernel that we're ready.\n",
              "        channel.send({})\n",
              "        if (message.buffers) {\n",
              "          for (const buffer of message.buffers) {\n",
              "            buffers.push(buffer);\n",
              "            downloaded += buffer.byteLength;\n",
              "            progress.value = downloaded;\n",
              "          }\n",
              "        }\n",
              "      }\n",
              "      const blob = new Blob(buffers, {type: 'application/binary'});\n",
              "      const a = document.createElement('a');\n",
              "      a.href = window.URL.createObjectURL(blob);\n",
              "      a.download = filename;\n",
              "      div.appendChild(a);\n",
              "      a.click();\n",
              "      div.remove();\n",
              "    }\n",
              "  "
            ]
          },
          "metadata": {}
        },
        {
          "output_type": "display_data",
          "data": {
            "text/plain": [
              "<IPython.core.display.Javascript object>"
            ],
            "application/javascript": [
              "download(\"download_f793d7e4-cb4f-4d12-bb5b-f381b4276d1a\", \"contextual_rag_results_20241210_095654.csv\", 401036)"
            ]
          },
          "metadata": {}
        },
        {
          "output_type": "display_data",
          "data": {
            "text/plain": [
              "<IPython.core.display.Javascript object>"
            ],
            "application/javascript": [
              "\n",
              "    async function download(id, filename, size) {\n",
              "      if (!google.colab.kernel.accessAllowed) {\n",
              "        return;\n",
              "      }\n",
              "      const div = document.createElement('div');\n",
              "      const label = document.createElement('label');\n",
              "      label.textContent = `Downloading \"${filename}\": `;\n",
              "      div.appendChild(label);\n",
              "      const progress = document.createElement('progress');\n",
              "      progress.max = size;\n",
              "      div.appendChild(progress);\n",
              "      document.body.appendChild(div);\n",
              "\n",
              "      const buffers = [];\n",
              "      let downloaded = 0;\n",
              "\n",
              "      const channel = await google.colab.kernel.comms.open(id);\n",
              "      // Send a message to notify the kernel that we're ready.\n",
              "      channel.send({})\n",
              "\n",
              "      for await (const message of channel.messages) {\n",
              "        // Send a message to notify the kernel that we're ready.\n",
              "        channel.send({})\n",
              "        if (message.buffers) {\n",
              "          for (const buffer of message.buffers) {\n",
              "            buffers.push(buffer);\n",
              "            downloaded += buffer.byteLength;\n",
              "            progress.value = downloaded;\n",
              "          }\n",
              "        }\n",
              "      }\n",
              "      const blob = new Blob(buffers, {type: 'application/binary'});\n",
              "      const a = document.createElement('a');\n",
              "      a.href = window.URL.createObjectURL(blob);\n",
              "      a.download = filename;\n",
              "      div.appendChild(a);\n",
              "      a.click();\n",
              "      div.remove();\n",
              "    }\n",
              "  "
            ]
          },
          "metadata": {}
        },
        {
          "output_type": "display_data",
          "data": {
            "text/plain": [
              "<IPython.core.display.Javascript object>"
            ],
            "application/javascript": [
              "download(\"download_c8ab7a8b-3a03-4272-a132-80a0214f48a0\", \"regular_rag_results_20241210_095654.csv\", 234522)"
            ]
          },
          "metadata": {}
        }
      ]
    }
  ],
  "metadata": {
    "colab": {
      "provenance": [],
      "collapsed_sections": [
        "IMTkBRPrB2ce"
      ],
      "toc_visible": true
    },
    "kernelspec": {
      "display_name": "Python 3",
      "name": "python3"
    },
    "language_info": {
      "codemirror_mode": {
        "name": "ipython",
        "version": 3
      },
      "file_extension": ".py",
      "mimetype": "text/x-python",
      "name": "python",
      "nbconvert_exporter": "python",
      "pygments_lexer": "ipython3",
      "version": "3.11.0"
    },
    "widgets": {
      "application/vnd.jupyter.widget-state+json": {
        "7610eb823dcb447b83c1f07d4e922c9b": {
          "model_module": "@jupyter-widgets/controls",
          "model_name": "HBoxModel",
          "model_module_version": "1.5.0",
          "state": {
            "_dom_classes": [],
            "_model_module": "@jupyter-widgets/controls",
            "_model_module_version": "1.5.0",
            "_model_name": "HBoxModel",
            "_view_count": null,
            "_view_module": "@jupyter-widgets/controls",
            "_view_module_version": "1.5.0",
            "_view_name": "HBoxView",
            "box_style": "",
            "children": [
              "IPY_MODEL_95ea3550d20f45b7a2402f59fd581e34",
              "IPY_MODEL_ee9778ad21a14bfa92223cb6de4741b5",
              "IPY_MODEL_b81a5e87e001431a926539b99bfab218"
            ],
            "layout": "IPY_MODEL_df87fa25688b4ad0b72118ce661eac05"
          }
        },
        "95ea3550d20f45b7a2402f59fd581e34": {
          "model_module": "@jupyter-widgets/controls",
          "model_name": "HTMLModel",
          "model_module_version": "1.5.0",
          "state": {
            "_dom_classes": [],
            "_model_module": "@jupyter-widgets/controls",
            "_model_module_version": "1.5.0",
            "_model_name": "HTMLModel",
            "_view_count": null,
            "_view_module": "@jupyter-widgets/controls",
            "_view_module_version": "1.5.0",
            "_view_name": "HTMLView",
            "description": "",
            "description_tooltip": null,
            "layout": "IPY_MODEL_76a99c20f17841fab64199faa2002154",
            "placeholder": "​",
            "style": "IPY_MODEL_bb4c39c9a41c496498865e7f68924b77",
            "value": "model.safetensors: 100%"
          }
        },
        "ee9778ad21a14bfa92223cb6de4741b5": {
          "model_module": "@jupyter-widgets/controls",
          "model_name": "FloatProgressModel",
          "model_module_version": "1.5.0",
          "state": {
            "_dom_classes": [],
            "_model_module": "@jupyter-widgets/controls",
            "_model_module_version": "1.5.0",
            "_model_name": "FloatProgressModel",
            "_view_count": null,
            "_view_module": "@jupyter-widgets/controls",
            "_view_module_version": "1.5.0",
            "_view_name": "ProgressView",
            "bar_style": "success",
            "description": "",
            "description_tooltip": null,
            "layout": "IPY_MODEL_fee0a3d7436d4e7190213edbdb9c897f",
            "max": 90868376,
            "min": 0,
            "orientation": "horizontal",
            "style": "IPY_MODEL_ed39c1c722d64fec8d89adadc72f6567",
            "value": 90868376
          }
        },
        "b81a5e87e001431a926539b99bfab218": {
          "model_module": "@jupyter-widgets/controls",
          "model_name": "HTMLModel",
          "model_module_version": "1.5.0",
          "state": {
            "_dom_classes": [],
            "_model_module": "@jupyter-widgets/controls",
            "_model_module_version": "1.5.0",
            "_model_name": "HTMLModel",
            "_view_count": null,
            "_view_module": "@jupyter-widgets/controls",
            "_view_module_version": "1.5.0",
            "_view_name": "HTMLView",
            "description": "",
            "description_tooltip": null,
            "layout": "IPY_MODEL_50fd9a4eea954b5d9c75ed91ad4a89d6",
            "placeholder": "​",
            "style": "IPY_MODEL_70584dbd70df495cb79be133338b14ba",
            "value": " 90.9M/90.9M [00:01&lt;00:00, 90.1MB/s]"
          }
        },
        "df87fa25688b4ad0b72118ce661eac05": {
          "model_module": "@jupyter-widgets/base",
          "model_name": "LayoutModel",
          "model_module_version": "1.2.0",
          "state": {
            "_model_module": "@jupyter-widgets/base",
            "_model_module_version": "1.2.0",
            "_model_name": "LayoutModel",
            "_view_count": null,
            "_view_module": "@jupyter-widgets/base",
            "_view_module_version": "1.2.0",
            "_view_name": "LayoutView",
            "align_content": null,
            "align_items": null,
            "align_self": null,
            "border": null,
            "bottom": null,
            "display": null,
            "flex": null,
            "flex_flow": null,
            "grid_area": null,
            "grid_auto_columns": null,
            "grid_auto_flow": null,
            "grid_auto_rows": null,
            "grid_column": null,
            "grid_gap": null,
            "grid_row": null,
            "grid_template_areas": null,
            "grid_template_columns": null,
            "grid_template_rows": null,
            "height": null,
            "justify_content": null,
            "justify_items": null,
            "left": null,
            "margin": null,
            "max_height": null,
            "max_width": null,
            "min_height": null,
            "min_width": null,
            "object_fit": null,
            "object_position": null,
            "order": null,
            "overflow": null,
            "overflow_x": null,
            "overflow_y": null,
            "padding": null,
            "right": null,
            "top": null,
            "visibility": null,
            "width": null
          }
        },
        "76a99c20f17841fab64199faa2002154": {
          "model_module": "@jupyter-widgets/base",
          "model_name": "LayoutModel",
          "model_module_version": "1.2.0",
          "state": {
            "_model_module": "@jupyter-widgets/base",
            "_model_module_version": "1.2.0",
            "_model_name": "LayoutModel",
            "_view_count": null,
            "_view_module": "@jupyter-widgets/base",
            "_view_module_version": "1.2.0",
            "_view_name": "LayoutView",
            "align_content": null,
            "align_items": null,
            "align_self": null,
            "border": null,
            "bottom": null,
            "display": null,
            "flex": null,
            "flex_flow": null,
            "grid_area": null,
            "grid_auto_columns": null,
            "grid_auto_flow": null,
            "grid_auto_rows": null,
            "grid_column": null,
            "grid_gap": null,
            "grid_row": null,
            "grid_template_areas": null,
            "grid_template_columns": null,
            "grid_template_rows": null,
            "height": null,
            "justify_content": null,
            "justify_items": null,
            "left": null,
            "margin": null,
            "max_height": null,
            "max_width": null,
            "min_height": null,
            "min_width": null,
            "object_fit": null,
            "object_position": null,
            "order": null,
            "overflow": null,
            "overflow_x": null,
            "overflow_y": null,
            "padding": null,
            "right": null,
            "top": null,
            "visibility": null,
            "width": null
          }
        },
        "bb4c39c9a41c496498865e7f68924b77": {
          "model_module": "@jupyter-widgets/controls",
          "model_name": "DescriptionStyleModel",
          "model_module_version": "1.5.0",
          "state": {
            "_model_module": "@jupyter-widgets/controls",
            "_model_module_version": "1.5.0",
            "_model_name": "DescriptionStyleModel",
            "_view_count": null,
            "_view_module": "@jupyter-widgets/base",
            "_view_module_version": "1.2.0",
            "_view_name": "StyleView",
            "description_width": ""
          }
        },
        "fee0a3d7436d4e7190213edbdb9c897f": {
          "model_module": "@jupyter-widgets/base",
          "model_name": "LayoutModel",
          "model_module_version": "1.2.0",
          "state": {
            "_model_module": "@jupyter-widgets/base",
            "_model_module_version": "1.2.0",
            "_model_name": "LayoutModel",
            "_view_count": null,
            "_view_module": "@jupyter-widgets/base",
            "_view_module_version": "1.2.0",
            "_view_name": "LayoutView",
            "align_content": null,
            "align_items": null,
            "align_self": null,
            "border": null,
            "bottom": null,
            "display": null,
            "flex": null,
            "flex_flow": null,
            "grid_area": null,
            "grid_auto_columns": null,
            "grid_auto_flow": null,
            "grid_auto_rows": null,
            "grid_column": null,
            "grid_gap": null,
            "grid_row": null,
            "grid_template_areas": null,
            "grid_template_columns": null,
            "grid_template_rows": null,
            "height": null,
            "justify_content": null,
            "justify_items": null,
            "left": null,
            "margin": null,
            "max_height": null,
            "max_width": null,
            "min_height": null,
            "min_width": null,
            "object_fit": null,
            "object_position": null,
            "order": null,
            "overflow": null,
            "overflow_x": null,
            "overflow_y": null,
            "padding": null,
            "right": null,
            "top": null,
            "visibility": null,
            "width": null
          }
        },
        "ed39c1c722d64fec8d89adadc72f6567": {
          "model_module": "@jupyter-widgets/controls",
          "model_name": "ProgressStyleModel",
          "model_module_version": "1.5.0",
          "state": {
            "_model_module": "@jupyter-widgets/controls",
            "_model_module_version": "1.5.0",
            "_model_name": "ProgressStyleModel",
            "_view_count": null,
            "_view_module": "@jupyter-widgets/base",
            "_view_module_version": "1.2.0",
            "_view_name": "StyleView",
            "bar_color": null,
            "description_width": ""
          }
        },
        "50fd9a4eea954b5d9c75ed91ad4a89d6": {
          "model_module": "@jupyter-widgets/base",
          "model_name": "LayoutModel",
          "model_module_version": "1.2.0",
          "state": {
            "_model_module": "@jupyter-widgets/base",
            "_model_module_version": "1.2.0",
            "_model_name": "LayoutModel",
            "_view_count": null,
            "_view_module": "@jupyter-widgets/base",
            "_view_module_version": "1.2.0",
            "_view_name": "LayoutView",
            "align_content": null,
            "align_items": null,
            "align_self": null,
            "border": null,
            "bottom": null,
            "display": null,
            "flex": null,
            "flex_flow": null,
            "grid_area": null,
            "grid_auto_columns": null,
            "grid_auto_flow": null,
            "grid_auto_rows": null,
            "grid_column": null,
            "grid_gap": null,
            "grid_row": null,
            "grid_template_areas": null,
            "grid_template_columns": null,
            "grid_template_rows": null,
            "height": null,
            "justify_content": null,
            "justify_items": null,
            "left": null,
            "margin": null,
            "max_height": null,
            "max_width": null,
            "min_height": null,
            "min_width": null,
            "object_fit": null,
            "object_position": null,
            "order": null,
            "overflow": null,
            "overflow_x": null,
            "overflow_y": null,
            "padding": null,
            "right": null,
            "top": null,
            "visibility": null,
            "width": null
          }
        },
        "70584dbd70df495cb79be133338b14ba": {
          "model_module": "@jupyter-widgets/controls",
          "model_name": "DescriptionStyleModel",
          "model_module_version": "1.5.0",
          "state": {
            "_model_module": "@jupyter-widgets/controls",
            "_model_module_version": "1.5.0",
            "_model_name": "DescriptionStyleModel",
            "_view_count": null,
            "_view_module": "@jupyter-widgets/base",
            "_view_module_version": "1.2.0",
            "_view_name": "StyleView",
            "description_width": ""
          }
        },
        "9241444d88c844e2a97676d935765b49": {
          "model_module": "@jupyter-widgets/controls",
          "model_name": "HBoxModel",
          "model_module_version": "1.5.0",
          "state": {
            "_dom_classes": [],
            "_model_module": "@jupyter-widgets/controls",
            "_model_module_version": "1.5.0",
            "_model_name": "HBoxModel",
            "_view_count": null,
            "_view_module": "@jupyter-widgets/controls",
            "_view_module_version": "1.5.0",
            "_view_name": "HBoxView",
            "box_style": "",
            "children": [
              "IPY_MODEL_14071b0512b94c3181e53db7b3a35202",
              "IPY_MODEL_88582e22f86944e8a9d2e7dc853faf04",
              "IPY_MODEL_a12cc0c4e5884849b2e444a6d0b4406b"
            ],
            "layout": "IPY_MODEL_bf8c9017c3184fb2866cc648214ed5ca"
          }
        },
        "14071b0512b94c3181e53db7b3a35202": {
          "model_module": "@jupyter-widgets/controls",
          "model_name": "HTMLModel",
          "model_module_version": "1.5.0",
          "state": {
            "_dom_classes": [],
            "_model_module": "@jupyter-widgets/controls",
            "_model_module_version": "1.5.0",
            "_model_name": "HTMLModel",
            "_view_count": null,
            "_view_module": "@jupyter-widgets/controls",
            "_view_module_version": "1.5.0",
            "_view_name": "HTMLView",
            "description": "",
            "description_tooltip": null,
            "layout": "IPY_MODEL_af9fc53cbd414753a7fa4043889b70d9",
            "placeholder": "​",
            "style": "IPY_MODEL_54f70b15dbef48ee965499b73b3ab6e6",
            "value": "Uploading the dataset shards: 100%"
          }
        },
        "88582e22f86944e8a9d2e7dc853faf04": {
          "model_module": "@jupyter-widgets/controls",
          "model_name": "FloatProgressModel",
          "model_module_version": "1.5.0",
          "state": {
            "_dom_classes": [],
            "_model_module": "@jupyter-widgets/controls",
            "_model_module_version": "1.5.0",
            "_model_name": "FloatProgressModel",
            "_view_count": null,
            "_view_module": "@jupyter-widgets/controls",
            "_view_module_version": "1.5.0",
            "_view_name": "ProgressView",
            "bar_style": "success",
            "description": "",
            "description_tooltip": null,
            "layout": "IPY_MODEL_1a17c06c44aa47968f7a53b27c6629c3",
            "max": 1,
            "min": 0,
            "orientation": "horizontal",
            "style": "IPY_MODEL_e8c018602232414f8b11f582f0f521d6",
            "value": 1
          }
        },
        "a12cc0c4e5884849b2e444a6d0b4406b": {
          "model_module": "@jupyter-widgets/controls",
          "model_name": "HTMLModel",
          "model_module_version": "1.5.0",
          "state": {
            "_dom_classes": [],
            "_model_module": "@jupyter-widgets/controls",
            "_model_module_version": "1.5.0",
            "_model_name": "HTMLModel",
            "_view_count": null,
            "_view_module": "@jupyter-widgets/controls",
            "_view_module_version": "1.5.0",
            "_view_name": "HTMLView",
            "description": "",
            "description_tooltip": null,
            "layout": "IPY_MODEL_9a81a45162774028a2f354c7dc01db9c",
            "placeholder": "​",
            "style": "IPY_MODEL_591704ad35224966b086db29df777f07",
            "value": " 1/1 [00:00&lt;00:00,  1.78it/s]"
          }
        },
        "bf8c9017c3184fb2866cc648214ed5ca": {
          "model_module": "@jupyter-widgets/base",
          "model_name": "LayoutModel",
          "model_module_version": "1.2.0",
          "state": {
            "_model_module": "@jupyter-widgets/base",
            "_model_module_version": "1.2.0",
            "_model_name": "LayoutModel",
            "_view_count": null,
            "_view_module": "@jupyter-widgets/base",
            "_view_module_version": "1.2.0",
            "_view_name": "LayoutView",
            "align_content": null,
            "align_items": null,
            "align_self": null,
            "border": null,
            "bottom": null,
            "display": null,
            "flex": null,
            "flex_flow": null,
            "grid_area": null,
            "grid_auto_columns": null,
            "grid_auto_flow": null,
            "grid_auto_rows": null,
            "grid_column": null,
            "grid_gap": null,
            "grid_row": null,
            "grid_template_areas": null,
            "grid_template_columns": null,
            "grid_template_rows": null,
            "height": null,
            "justify_content": null,
            "justify_items": null,
            "left": null,
            "margin": null,
            "max_height": null,
            "max_width": null,
            "min_height": null,
            "min_width": null,
            "object_fit": null,
            "object_position": null,
            "order": null,
            "overflow": null,
            "overflow_x": null,
            "overflow_y": null,
            "padding": null,
            "right": null,
            "top": null,
            "visibility": null,
            "width": null
          }
        },
        "af9fc53cbd414753a7fa4043889b70d9": {
          "model_module": "@jupyter-widgets/base",
          "model_name": "LayoutModel",
          "model_module_version": "1.2.0",
          "state": {
            "_model_module": "@jupyter-widgets/base",
            "_model_module_version": "1.2.0",
            "_model_name": "LayoutModel",
            "_view_count": null,
            "_view_module": "@jupyter-widgets/base",
            "_view_module_version": "1.2.0",
            "_view_name": "LayoutView",
            "align_content": null,
            "align_items": null,
            "align_self": null,
            "border": null,
            "bottom": null,
            "display": null,
            "flex": null,
            "flex_flow": null,
            "grid_area": null,
            "grid_auto_columns": null,
            "grid_auto_flow": null,
            "grid_auto_rows": null,
            "grid_column": null,
            "grid_gap": null,
            "grid_row": null,
            "grid_template_areas": null,
            "grid_template_columns": null,
            "grid_template_rows": null,
            "height": null,
            "justify_content": null,
            "justify_items": null,
            "left": null,
            "margin": null,
            "max_height": null,
            "max_width": null,
            "min_height": null,
            "min_width": null,
            "object_fit": null,
            "object_position": null,
            "order": null,
            "overflow": null,
            "overflow_x": null,
            "overflow_y": null,
            "padding": null,
            "right": null,
            "top": null,
            "visibility": null,
            "width": null
          }
        },
        "54f70b15dbef48ee965499b73b3ab6e6": {
          "model_module": "@jupyter-widgets/controls",
          "model_name": "DescriptionStyleModel",
          "model_module_version": "1.5.0",
          "state": {
            "_model_module": "@jupyter-widgets/controls",
            "_model_module_version": "1.5.0",
            "_model_name": "DescriptionStyleModel",
            "_view_count": null,
            "_view_module": "@jupyter-widgets/base",
            "_view_module_version": "1.2.0",
            "_view_name": "StyleView",
            "description_width": ""
          }
        },
        "1a17c06c44aa47968f7a53b27c6629c3": {
          "model_module": "@jupyter-widgets/base",
          "model_name": "LayoutModel",
          "model_module_version": "1.2.0",
          "state": {
            "_model_module": "@jupyter-widgets/base",
            "_model_module_version": "1.2.0",
            "_model_name": "LayoutModel",
            "_view_count": null,
            "_view_module": "@jupyter-widgets/base",
            "_view_module_version": "1.2.0",
            "_view_name": "LayoutView",
            "align_content": null,
            "align_items": null,
            "align_self": null,
            "border": null,
            "bottom": null,
            "display": null,
            "flex": null,
            "flex_flow": null,
            "grid_area": null,
            "grid_auto_columns": null,
            "grid_auto_flow": null,
            "grid_auto_rows": null,
            "grid_column": null,
            "grid_gap": null,
            "grid_row": null,
            "grid_template_areas": null,
            "grid_template_columns": null,
            "grid_template_rows": null,
            "height": null,
            "justify_content": null,
            "justify_items": null,
            "left": null,
            "margin": null,
            "max_height": null,
            "max_width": null,
            "min_height": null,
            "min_width": null,
            "object_fit": null,
            "object_position": null,
            "order": null,
            "overflow": null,
            "overflow_x": null,
            "overflow_y": null,
            "padding": null,
            "right": null,
            "top": null,
            "visibility": null,
            "width": null
          }
        },
        "e8c018602232414f8b11f582f0f521d6": {
          "model_module": "@jupyter-widgets/controls",
          "model_name": "ProgressStyleModel",
          "model_module_version": "1.5.0",
          "state": {
            "_model_module": "@jupyter-widgets/controls",
            "_model_module_version": "1.5.0",
            "_model_name": "ProgressStyleModel",
            "_view_count": null,
            "_view_module": "@jupyter-widgets/base",
            "_view_module_version": "1.2.0",
            "_view_name": "StyleView",
            "bar_color": null,
            "description_width": ""
          }
        },
        "9a81a45162774028a2f354c7dc01db9c": {
          "model_module": "@jupyter-widgets/base",
          "model_name": "LayoutModel",
          "model_module_version": "1.2.0",
          "state": {
            "_model_module": "@jupyter-widgets/base",
            "_model_module_version": "1.2.0",
            "_model_name": "LayoutModel",
            "_view_count": null,
            "_view_module": "@jupyter-widgets/base",
            "_view_module_version": "1.2.0",
            "_view_name": "LayoutView",
            "align_content": null,
            "align_items": null,
            "align_self": null,
            "border": null,
            "bottom": null,
            "display": null,
            "flex": null,
            "flex_flow": null,
            "grid_area": null,
            "grid_auto_columns": null,
            "grid_auto_flow": null,
            "grid_auto_rows": null,
            "grid_column": null,
            "grid_gap": null,
            "grid_row": null,
            "grid_template_areas": null,
            "grid_template_columns": null,
            "grid_template_rows": null,
            "height": null,
            "justify_content": null,
            "justify_items": null,
            "left": null,
            "margin": null,
            "max_height": null,
            "max_width": null,
            "min_height": null,
            "min_width": null,
            "object_fit": null,
            "object_position": null,
            "order": null,
            "overflow": null,
            "overflow_x": null,
            "overflow_y": null,
            "padding": null,
            "right": null,
            "top": null,
            "visibility": null,
            "width": null
          }
        },
        "591704ad35224966b086db29df777f07": {
          "model_module": "@jupyter-widgets/controls",
          "model_name": "DescriptionStyleModel",
          "model_module_version": "1.5.0",
          "state": {
            "_model_module": "@jupyter-widgets/controls",
            "_model_module_version": "1.5.0",
            "_model_name": "DescriptionStyleModel",
            "_view_count": null,
            "_view_module": "@jupyter-widgets/base",
            "_view_module_version": "1.2.0",
            "_view_name": "StyleView",
            "description_width": ""
          }
        },
        "0bbfc32869ed4774a7f6ccc10b27c5cc": {
          "model_module": "@jupyter-widgets/controls",
          "model_name": "HBoxModel",
          "model_module_version": "1.5.0",
          "state": {
            "_dom_classes": [],
            "_model_module": "@jupyter-widgets/controls",
            "_model_module_version": "1.5.0",
            "_model_name": "HBoxModel",
            "_view_count": null,
            "_view_module": "@jupyter-widgets/controls",
            "_view_module_version": "1.5.0",
            "_view_name": "HBoxView",
            "box_style": "",
            "children": [
              "IPY_MODEL_f38a0ff551b24dfc8ebc98ec9b0666eb",
              "IPY_MODEL_81773f9406fa4975ad238e82357e1b89",
              "IPY_MODEL_86ddfc36ed5b4999a8c908eee6096754"
            ],
            "layout": "IPY_MODEL_3e5a5f41c3144d36853ed4d1b68544c5"
          }
        },
        "f38a0ff551b24dfc8ebc98ec9b0666eb": {
          "model_module": "@jupyter-widgets/controls",
          "model_name": "HTMLModel",
          "model_module_version": "1.5.0",
          "state": {
            "_dom_classes": [],
            "_model_module": "@jupyter-widgets/controls",
            "_model_module_version": "1.5.0",
            "_model_name": "HTMLModel",
            "_view_count": null,
            "_view_module": "@jupyter-widgets/controls",
            "_view_module_version": "1.5.0",
            "_view_name": "HTMLView",
            "description": "",
            "description_tooltip": null,
            "layout": "IPY_MODEL_6ed6f3b38503478e9cf614c8a17702c5",
            "placeholder": "​",
            "style": "IPY_MODEL_1cbb00e355c94d5a976b27a138cba919",
            "value": "Creating parquet from Arrow format: 100%"
          }
        },
        "81773f9406fa4975ad238e82357e1b89": {
          "model_module": "@jupyter-widgets/controls",
          "model_name": "FloatProgressModel",
          "model_module_version": "1.5.0",
          "state": {
            "_dom_classes": [],
            "_model_module": "@jupyter-widgets/controls",
            "_model_module_version": "1.5.0",
            "_model_name": "FloatProgressModel",
            "_view_count": null,
            "_view_module": "@jupyter-widgets/controls",
            "_view_module_version": "1.5.0",
            "_view_name": "ProgressView",
            "bar_style": "success",
            "description": "",
            "description_tooltip": null,
            "layout": "IPY_MODEL_dd3b0e6739024d639b47428237c7db24",
            "max": 1,
            "min": 0,
            "orientation": "horizontal",
            "style": "IPY_MODEL_788b2295dbe540728fa17fd58b6725dc",
            "value": 1
          }
        },
        "86ddfc36ed5b4999a8c908eee6096754": {
          "model_module": "@jupyter-widgets/controls",
          "model_name": "HTMLModel",
          "model_module_version": "1.5.0",
          "state": {
            "_dom_classes": [],
            "_model_module": "@jupyter-widgets/controls",
            "_model_module_version": "1.5.0",
            "_model_name": "HTMLModel",
            "_view_count": null,
            "_view_module": "@jupyter-widgets/controls",
            "_view_module_version": "1.5.0",
            "_view_name": "HTMLView",
            "description": "",
            "description_tooltip": null,
            "layout": "IPY_MODEL_cad2f57aab3c456f8e83ca4a7c619787",
            "placeholder": "​",
            "style": "IPY_MODEL_e4d679ad02d9456badd82efe18b50f57",
            "value": " 1/1 [00:00&lt;00:00, 20.14ba/s]"
          }
        },
        "3e5a5f41c3144d36853ed4d1b68544c5": {
          "model_module": "@jupyter-widgets/base",
          "model_name": "LayoutModel",
          "model_module_version": "1.2.0",
          "state": {
            "_model_module": "@jupyter-widgets/base",
            "_model_module_version": "1.2.0",
            "_model_name": "LayoutModel",
            "_view_count": null,
            "_view_module": "@jupyter-widgets/base",
            "_view_module_version": "1.2.0",
            "_view_name": "LayoutView",
            "align_content": null,
            "align_items": null,
            "align_self": null,
            "border": null,
            "bottom": null,
            "display": null,
            "flex": null,
            "flex_flow": null,
            "grid_area": null,
            "grid_auto_columns": null,
            "grid_auto_flow": null,
            "grid_auto_rows": null,
            "grid_column": null,
            "grid_gap": null,
            "grid_row": null,
            "grid_template_areas": null,
            "grid_template_columns": null,
            "grid_template_rows": null,
            "height": null,
            "justify_content": null,
            "justify_items": null,
            "left": null,
            "margin": null,
            "max_height": null,
            "max_width": null,
            "min_height": null,
            "min_width": null,
            "object_fit": null,
            "object_position": null,
            "order": null,
            "overflow": null,
            "overflow_x": null,
            "overflow_y": null,
            "padding": null,
            "right": null,
            "top": null,
            "visibility": null,
            "width": null
          }
        },
        "6ed6f3b38503478e9cf614c8a17702c5": {
          "model_module": "@jupyter-widgets/base",
          "model_name": "LayoutModel",
          "model_module_version": "1.2.0",
          "state": {
            "_model_module": "@jupyter-widgets/base",
            "_model_module_version": "1.2.0",
            "_model_name": "LayoutModel",
            "_view_count": null,
            "_view_module": "@jupyter-widgets/base",
            "_view_module_version": "1.2.0",
            "_view_name": "LayoutView",
            "align_content": null,
            "align_items": null,
            "align_self": null,
            "border": null,
            "bottom": null,
            "display": null,
            "flex": null,
            "flex_flow": null,
            "grid_area": null,
            "grid_auto_columns": null,
            "grid_auto_flow": null,
            "grid_auto_rows": null,
            "grid_column": null,
            "grid_gap": null,
            "grid_row": null,
            "grid_template_areas": null,
            "grid_template_columns": null,
            "grid_template_rows": null,
            "height": null,
            "justify_content": null,
            "justify_items": null,
            "left": null,
            "margin": null,
            "max_height": null,
            "max_width": null,
            "min_height": null,
            "min_width": null,
            "object_fit": null,
            "object_position": null,
            "order": null,
            "overflow": null,
            "overflow_x": null,
            "overflow_y": null,
            "padding": null,
            "right": null,
            "top": null,
            "visibility": null,
            "width": null
          }
        },
        "1cbb00e355c94d5a976b27a138cba919": {
          "model_module": "@jupyter-widgets/controls",
          "model_name": "DescriptionStyleModel",
          "model_module_version": "1.5.0",
          "state": {
            "_model_module": "@jupyter-widgets/controls",
            "_model_module_version": "1.5.0",
            "_model_name": "DescriptionStyleModel",
            "_view_count": null,
            "_view_module": "@jupyter-widgets/base",
            "_view_module_version": "1.2.0",
            "_view_name": "StyleView",
            "description_width": ""
          }
        },
        "dd3b0e6739024d639b47428237c7db24": {
          "model_module": "@jupyter-widgets/base",
          "model_name": "LayoutModel",
          "model_module_version": "1.2.0",
          "state": {
            "_model_module": "@jupyter-widgets/base",
            "_model_module_version": "1.2.0",
            "_model_name": "LayoutModel",
            "_view_count": null,
            "_view_module": "@jupyter-widgets/base",
            "_view_module_version": "1.2.0",
            "_view_name": "LayoutView",
            "align_content": null,
            "align_items": null,
            "align_self": null,
            "border": null,
            "bottom": null,
            "display": null,
            "flex": null,
            "flex_flow": null,
            "grid_area": null,
            "grid_auto_columns": null,
            "grid_auto_flow": null,
            "grid_auto_rows": null,
            "grid_column": null,
            "grid_gap": null,
            "grid_row": null,
            "grid_template_areas": null,
            "grid_template_columns": null,
            "grid_template_rows": null,
            "height": null,
            "justify_content": null,
            "justify_items": null,
            "left": null,
            "margin": null,
            "max_height": null,
            "max_width": null,
            "min_height": null,
            "min_width": null,
            "object_fit": null,
            "object_position": null,
            "order": null,
            "overflow": null,
            "overflow_x": null,
            "overflow_y": null,
            "padding": null,
            "right": null,
            "top": null,
            "visibility": null,
            "width": null
          }
        },
        "788b2295dbe540728fa17fd58b6725dc": {
          "model_module": "@jupyter-widgets/controls",
          "model_name": "ProgressStyleModel",
          "model_module_version": "1.5.0",
          "state": {
            "_model_module": "@jupyter-widgets/controls",
            "_model_module_version": "1.5.0",
            "_model_name": "ProgressStyleModel",
            "_view_count": null,
            "_view_module": "@jupyter-widgets/base",
            "_view_module_version": "1.2.0",
            "_view_name": "StyleView",
            "bar_color": null,
            "description_width": ""
          }
        },
        "cad2f57aab3c456f8e83ca4a7c619787": {
          "model_module": "@jupyter-widgets/base",
          "model_name": "LayoutModel",
          "model_module_version": "1.2.0",
          "state": {
            "_model_module": "@jupyter-widgets/base",
            "_model_module_version": "1.2.0",
            "_model_name": "LayoutModel",
            "_view_count": null,
            "_view_module": "@jupyter-widgets/base",
            "_view_module_version": "1.2.0",
            "_view_name": "LayoutView",
            "align_content": null,
            "align_items": null,
            "align_self": null,
            "border": null,
            "bottom": null,
            "display": null,
            "flex": null,
            "flex_flow": null,
            "grid_area": null,
            "grid_auto_columns": null,
            "grid_auto_flow": null,
            "grid_auto_rows": null,
            "grid_column": null,
            "grid_gap": null,
            "grid_row": null,
            "grid_template_areas": null,
            "grid_template_columns": null,
            "grid_template_rows": null,
            "height": null,
            "justify_content": null,
            "justify_items": null,
            "left": null,
            "margin": null,
            "max_height": null,
            "max_width": null,
            "min_height": null,
            "min_width": null,
            "object_fit": null,
            "object_position": null,
            "order": null,
            "overflow": null,
            "overflow_x": null,
            "overflow_y": null,
            "padding": null,
            "right": null,
            "top": null,
            "visibility": null,
            "width": null
          }
        },
        "e4d679ad02d9456badd82efe18b50f57": {
          "model_module": "@jupyter-widgets/controls",
          "model_name": "DescriptionStyleModel",
          "model_module_version": "1.5.0",
          "state": {
            "_model_module": "@jupyter-widgets/controls",
            "_model_module_version": "1.5.0",
            "_model_name": "DescriptionStyleModel",
            "_view_count": null,
            "_view_module": "@jupyter-widgets/base",
            "_view_module_version": "1.2.0",
            "_view_name": "StyleView",
            "description_width": ""
          }
        },
        "4bed86cdb7d5472aaac502f799aa6cd3": {
          "model_module": "@jupyter-widgets/controls",
          "model_name": "HBoxModel",
          "model_module_version": "1.5.0",
          "state": {
            "_dom_classes": [],
            "_model_module": "@jupyter-widgets/controls",
            "_model_module_version": "1.5.0",
            "_model_name": "HBoxModel",
            "_view_count": null,
            "_view_module": "@jupyter-widgets/controls",
            "_view_module_version": "1.5.0",
            "_view_name": "HBoxView",
            "box_style": "",
            "children": [
              "IPY_MODEL_af900ec4302a4fa0b7c5df176a5ce012",
              "IPY_MODEL_0640f5ba066544e7a2d9eadf9f344f63",
              "IPY_MODEL_ae3010bb60214a5babd9b403f2d80140"
            ],
            "layout": "IPY_MODEL_be652c18fc8d4342a1f37dafad4fdec8"
          }
        },
        "af900ec4302a4fa0b7c5df176a5ce012": {
          "model_module": "@jupyter-widgets/controls",
          "model_name": "HTMLModel",
          "model_module_version": "1.5.0",
          "state": {
            "_dom_classes": [],
            "_model_module": "@jupyter-widgets/controls",
            "_model_module_version": "1.5.0",
            "_model_name": "HTMLModel",
            "_view_count": null,
            "_view_module": "@jupyter-widgets/controls",
            "_view_module_version": "1.5.0",
            "_view_name": "HTMLView",
            "description": "",
            "description_tooltip": null,
            "layout": "IPY_MODEL_33dab7937de345f4bbc1d5234ca4f850",
            "placeholder": "​",
            "style": "IPY_MODEL_4ec24f366bb9406696b7964a4d2a011f",
            "value": "Uploading the dataset shards: 100%"
          }
        },
        "0640f5ba066544e7a2d9eadf9f344f63": {
          "model_module": "@jupyter-widgets/controls",
          "model_name": "FloatProgressModel",
          "model_module_version": "1.5.0",
          "state": {
            "_dom_classes": [],
            "_model_module": "@jupyter-widgets/controls",
            "_model_module_version": "1.5.0",
            "_model_name": "FloatProgressModel",
            "_view_count": null,
            "_view_module": "@jupyter-widgets/controls",
            "_view_module_version": "1.5.0",
            "_view_name": "ProgressView",
            "bar_style": "success",
            "description": "",
            "description_tooltip": null,
            "layout": "IPY_MODEL_b5b0c2635ca54f9485fec54257d47f3f",
            "max": 1,
            "min": 0,
            "orientation": "horizontal",
            "style": "IPY_MODEL_a514fe466b08401e9191a252893e1272",
            "value": 1
          }
        },
        "ae3010bb60214a5babd9b403f2d80140": {
          "model_module": "@jupyter-widgets/controls",
          "model_name": "HTMLModel",
          "model_module_version": "1.5.0",
          "state": {
            "_dom_classes": [],
            "_model_module": "@jupyter-widgets/controls",
            "_model_module_version": "1.5.0",
            "_model_name": "HTMLModel",
            "_view_count": null,
            "_view_module": "@jupyter-widgets/controls",
            "_view_module_version": "1.5.0",
            "_view_name": "HTMLView",
            "description": "",
            "description_tooltip": null,
            "layout": "IPY_MODEL_b1d692b51eba4e6dbd696991a06bb708",
            "placeholder": "​",
            "style": "IPY_MODEL_7bb8ee628e424a6aaaad27eaa57696d6",
            "value": " 1/1 [00:00&lt;00:00,  1.10it/s]"
          }
        },
        "be652c18fc8d4342a1f37dafad4fdec8": {
          "model_module": "@jupyter-widgets/base",
          "model_name": "LayoutModel",
          "model_module_version": "1.2.0",
          "state": {
            "_model_module": "@jupyter-widgets/base",
            "_model_module_version": "1.2.0",
            "_model_name": "LayoutModel",
            "_view_count": null,
            "_view_module": "@jupyter-widgets/base",
            "_view_module_version": "1.2.0",
            "_view_name": "LayoutView",
            "align_content": null,
            "align_items": null,
            "align_self": null,
            "border": null,
            "bottom": null,
            "display": null,
            "flex": null,
            "flex_flow": null,
            "grid_area": null,
            "grid_auto_columns": null,
            "grid_auto_flow": null,
            "grid_auto_rows": null,
            "grid_column": null,
            "grid_gap": null,
            "grid_row": null,
            "grid_template_areas": null,
            "grid_template_columns": null,
            "grid_template_rows": null,
            "height": null,
            "justify_content": null,
            "justify_items": null,
            "left": null,
            "margin": null,
            "max_height": null,
            "max_width": null,
            "min_height": null,
            "min_width": null,
            "object_fit": null,
            "object_position": null,
            "order": null,
            "overflow": null,
            "overflow_x": null,
            "overflow_y": null,
            "padding": null,
            "right": null,
            "top": null,
            "visibility": null,
            "width": null
          }
        },
        "33dab7937de345f4bbc1d5234ca4f850": {
          "model_module": "@jupyter-widgets/base",
          "model_name": "LayoutModel",
          "model_module_version": "1.2.0",
          "state": {
            "_model_module": "@jupyter-widgets/base",
            "_model_module_version": "1.2.0",
            "_model_name": "LayoutModel",
            "_view_count": null,
            "_view_module": "@jupyter-widgets/base",
            "_view_module_version": "1.2.0",
            "_view_name": "LayoutView",
            "align_content": null,
            "align_items": null,
            "align_self": null,
            "border": null,
            "bottom": null,
            "display": null,
            "flex": null,
            "flex_flow": null,
            "grid_area": null,
            "grid_auto_columns": null,
            "grid_auto_flow": null,
            "grid_auto_rows": null,
            "grid_column": null,
            "grid_gap": null,
            "grid_row": null,
            "grid_template_areas": null,
            "grid_template_columns": null,
            "grid_template_rows": null,
            "height": null,
            "justify_content": null,
            "justify_items": null,
            "left": null,
            "margin": null,
            "max_height": null,
            "max_width": null,
            "min_height": null,
            "min_width": null,
            "object_fit": null,
            "object_position": null,
            "order": null,
            "overflow": null,
            "overflow_x": null,
            "overflow_y": null,
            "padding": null,
            "right": null,
            "top": null,
            "visibility": null,
            "width": null
          }
        },
        "4ec24f366bb9406696b7964a4d2a011f": {
          "model_module": "@jupyter-widgets/controls",
          "model_name": "DescriptionStyleModel",
          "model_module_version": "1.5.0",
          "state": {
            "_model_module": "@jupyter-widgets/controls",
            "_model_module_version": "1.5.0",
            "_model_name": "DescriptionStyleModel",
            "_view_count": null,
            "_view_module": "@jupyter-widgets/base",
            "_view_module_version": "1.2.0",
            "_view_name": "StyleView",
            "description_width": ""
          }
        },
        "b5b0c2635ca54f9485fec54257d47f3f": {
          "model_module": "@jupyter-widgets/base",
          "model_name": "LayoutModel",
          "model_module_version": "1.2.0",
          "state": {
            "_model_module": "@jupyter-widgets/base",
            "_model_module_version": "1.2.0",
            "_model_name": "LayoutModel",
            "_view_count": null,
            "_view_module": "@jupyter-widgets/base",
            "_view_module_version": "1.2.0",
            "_view_name": "LayoutView",
            "align_content": null,
            "align_items": null,
            "align_self": null,
            "border": null,
            "bottom": null,
            "display": null,
            "flex": null,
            "flex_flow": null,
            "grid_area": null,
            "grid_auto_columns": null,
            "grid_auto_flow": null,
            "grid_auto_rows": null,
            "grid_column": null,
            "grid_gap": null,
            "grid_row": null,
            "grid_template_areas": null,
            "grid_template_columns": null,
            "grid_template_rows": null,
            "height": null,
            "justify_content": null,
            "justify_items": null,
            "left": null,
            "margin": null,
            "max_height": null,
            "max_width": null,
            "min_height": null,
            "min_width": null,
            "object_fit": null,
            "object_position": null,
            "order": null,
            "overflow": null,
            "overflow_x": null,
            "overflow_y": null,
            "padding": null,
            "right": null,
            "top": null,
            "visibility": null,
            "width": null
          }
        },
        "a514fe466b08401e9191a252893e1272": {
          "model_module": "@jupyter-widgets/controls",
          "model_name": "ProgressStyleModel",
          "model_module_version": "1.5.0",
          "state": {
            "_model_module": "@jupyter-widgets/controls",
            "_model_module_version": "1.5.0",
            "_model_name": "ProgressStyleModel",
            "_view_count": null,
            "_view_module": "@jupyter-widgets/base",
            "_view_module_version": "1.2.0",
            "_view_name": "StyleView",
            "bar_color": null,
            "description_width": ""
          }
        },
        "b1d692b51eba4e6dbd696991a06bb708": {
          "model_module": "@jupyter-widgets/base",
          "model_name": "LayoutModel",
          "model_module_version": "1.2.0",
          "state": {
            "_model_module": "@jupyter-widgets/base",
            "_model_module_version": "1.2.0",
            "_model_name": "LayoutModel",
            "_view_count": null,
            "_view_module": "@jupyter-widgets/base",
            "_view_module_version": "1.2.0",
            "_view_name": "LayoutView",
            "align_content": null,
            "align_items": null,
            "align_self": null,
            "border": null,
            "bottom": null,
            "display": null,
            "flex": null,
            "flex_flow": null,
            "grid_area": null,
            "grid_auto_columns": null,
            "grid_auto_flow": null,
            "grid_auto_rows": null,
            "grid_column": null,
            "grid_gap": null,
            "grid_row": null,
            "grid_template_areas": null,
            "grid_template_columns": null,
            "grid_template_rows": null,
            "height": null,
            "justify_content": null,
            "justify_items": null,
            "left": null,
            "margin": null,
            "max_height": null,
            "max_width": null,
            "min_height": null,
            "min_width": null,
            "object_fit": null,
            "object_position": null,
            "order": null,
            "overflow": null,
            "overflow_x": null,
            "overflow_y": null,
            "padding": null,
            "right": null,
            "top": null,
            "visibility": null,
            "width": null
          }
        },
        "7bb8ee628e424a6aaaad27eaa57696d6": {
          "model_module": "@jupyter-widgets/controls",
          "model_name": "DescriptionStyleModel",
          "model_module_version": "1.5.0",
          "state": {
            "_model_module": "@jupyter-widgets/controls",
            "_model_module_version": "1.5.0",
            "_model_name": "DescriptionStyleModel",
            "_view_count": null,
            "_view_module": "@jupyter-widgets/base",
            "_view_module_version": "1.2.0",
            "_view_name": "StyleView",
            "description_width": ""
          }
        },
        "7af2284726d4446b946442d6f6294d55": {
          "model_module": "@jupyter-widgets/controls",
          "model_name": "HBoxModel",
          "model_module_version": "1.5.0",
          "state": {
            "_dom_classes": [],
            "_model_module": "@jupyter-widgets/controls",
            "_model_module_version": "1.5.0",
            "_model_name": "HBoxModel",
            "_view_count": null,
            "_view_module": "@jupyter-widgets/controls",
            "_view_module_version": "1.5.0",
            "_view_name": "HBoxView",
            "box_style": "",
            "children": [
              "IPY_MODEL_c1c514e1dc5a41a29cd941f27b5d775f",
              "IPY_MODEL_84d7d7862a8845038d05dc1f33154991",
              "IPY_MODEL_d61cc03947204dcfb6928e728cac90d8"
            ],
            "layout": "IPY_MODEL_6f35d8aab090499c8f0cd1343c9f8a09"
          }
        },
        "c1c514e1dc5a41a29cd941f27b5d775f": {
          "model_module": "@jupyter-widgets/controls",
          "model_name": "HTMLModel",
          "model_module_version": "1.5.0",
          "state": {
            "_dom_classes": [],
            "_model_module": "@jupyter-widgets/controls",
            "_model_module_version": "1.5.0",
            "_model_name": "HTMLModel",
            "_view_count": null,
            "_view_module": "@jupyter-widgets/controls",
            "_view_module_version": "1.5.0",
            "_view_name": "HTMLView",
            "description": "",
            "description_tooltip": null,
            "layout": "IPY_MODEL_3c07cba66d55496f9acc9fe0feea38ba",
            "placeholder": "​",
            "style": "IPY_MODEL_249e66c034d446b2adff4d309a536793",
            "value": "Creating parquet from Arrow format: 100%"
          }
        },
        "84d7d7862a8845038d05dc1f33154991": {
          "model_module": "@jupyter-widgets/controls",
          "model_name": "FloatProgressModel",
          "model_module_version": "1.5.0",
          "state": {
            "_dom_classes": [],
            "_model_module": "@jupyter-widgets/controls",
            "_model_module_version": "1.5.0",
            "_model_name": "FloatProgressModel",
            "_view_count": null,
            "_view_module": "@jupyter-widgets/controls",
            "_view_module_version": "1.5.0",
            "_view_name": "ProgressView",
            "bar_style": "success",
            "description": "",
            "description_tooltip": null,
            "layout": "IPY_MODEL_81bf54c7da914afbb681cb50fe4c8b73",
            "max": 1,
            "min": 0,
            "orientation": "horizontal",
            "style": "IPY_MODEL_0a2dea7158d74cf3986f14e6e1a46849",
            "value": 1
          }
        },
        "d61cc03947204dcfb6928e728cac90d8": {
          "model_module": "@jupyter-widgets/controls",
          "model_name": "HTMLModel",
          "model_module_version": "1.5.0",
          "state": {
            "_dom_classes": [],
            "_model_module": "@jupyter-widgets/controls",
            "_model_module_version": "1.5.0",
            "_model_name": "HTMLModel",
            "_view_count": null,
            "_view_module": "@jupyter-widgets/controls",
            "_view_module_version": "1.5.0",
            "_view_name": "HTMLView",
            "description": "",
            "description_tooltip": null,
            "layout": "IPY_MODEL_9a97849bd90d44038073578fd36740e7",
            "placeholder": "​",
            "style": "IPY_MODEL_aa8de2907ee240b39c3b738932cf14cd",
            "value": " 1/1 [00:00&lt;00:00, 13.75ba/s]"
          }
        },
        "6f35d8aab090499c8f0cd1343c9f8a09": {
          "model_module": "@jupyter-widgets/base",
          "model_name": "LayoutModel",
          "model_module_version": "1.2.0",
          "state": {
            "_model_module": "@jupyter-widgets/base",
            "_model_module_version": "1.2.0",
            "_model_name": "LayoutModel",
            "_view_count": null,
            "_view_module": "@jupyter-widgets/base",
            "_view_module_version": "1.2.0",
            "_view_name": "LayoutView",
            "align_content": null,
            "align_items": null,
            "align_self": null,
            "border": null,
            "bottom": null,
            "display": null,
            "flex": null,
            "flex_flow": null,
            "grid_area": null,
            "grid_auto_columns": null,
            "grid_auto_flow": null,
            "grid_auto_rows": null,
            "grid_column": null,
            "grid_gap": null,
            "grid_row": null,
            "grid_template_areas": null,
            "grid_template_columns": null,
            "grid_template_rows": null,
            "height": null,
            "justify_content": null,
            "justify_items": null,
            "left": null,
            "margin": null,
            "max_height": null,
            "max_width": null,
            "min_height": null,
            "min_width": null,
            "object_fit": null,
            "object_position": null,
            "order": null,
            "overflow": null,
            "overflow_x": null,
            "overflow_y": null,
            "padding": null,
            "right": null,
            "top": null,
            "visibility": null,
            "width": null
          }
        },
        "3c07cba66d55496f9acc9fe0feea38ba": {
          "model_module": "@jupyter-widgets/base",
          "model_name": "LayoutModel",
          "model_module_version": "1.2.0",
          "state": {
            "_model_module": "@jupyter-widgets/base",
            "_model_module_version": "1.2.0",
            "_model_name": "LayoutModel",
            "_view_count": null,
            "_view_module": "@jupyter-widgets/base",
            "_view_module_version": "1.2.0",
            "_view_name": "LayoutView",
            "align_content": null,
            "align_items": null,
            "align_self": null,
            "border": null,
            "bottom": null,
            "display": null,
            "flex": null,
            "flex_flow": null,
            "grid_area": null,
            "grid_auto_columns": null,
            "grid_auto_flow": null,
            "grid_auto_rows": null,
            "grid_column": null,
            "grid_gap": null,
            "grid_row": null,
            "grid_template_areas": null,
            "grid_template_columns": null,
            "grid_template_rows": null,
            "height": null,
            "justify_content": null,
            "justify_items": null,
            "left": null,
            "margin": null,
            "max_height": null,
            "max_width": null,
            "min_height": null,
            "min_width": null,
            "object_fit": null,
            "object_position": null,
            "order": null,
            "overflow": null,
            "overflow_x": null,
            "overflow_y": null,
            "padding": null,
            "right": null,
            "top": null,
            "visibility": null,
            "width": null
          }
        },
        "249e66c034d446b2adff4d309a536793": {
          "model_module": "@jupyter-widgets/controls",
          "model_name": "DescriptionStyleModel",
          "model_module_version": "1.5.0",
          "state": {
            "_model_module": "@jupyter-widgets/controls",
            "_model_module_version": "1.5.0",
            "_model_name": "DescriptionStyleModel",
            "_view_count": null,
            "_view_module": "@jupyter-widgets/base",
            "_view_module_version": "1.2.0",
            "_view_name": "StyleView",
            "description_width": ""
          }
        },
        "81bf54c7da914afbb681cb50fe4c8b73": {
          "model_module": "@jupyter-widgets/base",
          "model_name": "LayoutModel",
          "model_module_version": "1.2.0",
          "state": {
            "_model_module": "@jupyter-widgets/base",
            "_model_module_version": "1.2.0",
            "_model_name": "LayoutModel",
            "_view_count": null,
            "_view_module": "@jupyter-widgets/base",
            "_view_module_version": "1.2.0",
            "_view_name": "LayoutView",
            "align_content": null,
            "align_items": null,
            "align_self": null,
            "border": null,
            "bottom": null,
            "display": null,
            "flex": null,
            "flex_flow": null,
            "grid_area": null,
            "grid_auto_columns": null,
            "grid_auto_flow": null,
            "grid_auto_rows": null,
            "grid_column": null,
            "grid_gap": null,
            "grid_row": null,
            "grid_template_areas": null,
            "grid_template_columns": null,
            "grid_template_rows": null,
            "height": null,
            "justify_content": null,
            "justify_items": null,
            "left": null,
            "margin": null,
            "max_height": null,
            "max_width": null,
            "min_height": null,
            "min_width": null,
            "object_fit": null,
            "object_position": null,
            "order": null,
            "overflow": null,
            "overflow_x": null,
            "overflow_y": null,
            "padding": null,
            "right": null,
            "top": null,
            "visibility": null,
            "width": null
          }
        },
        "0a2dea7158d74cf3986f14e6e1a46849": {
          "model_module": "@jupyter-widgets/controls",
          "model_name": "ProgressStyleModel",
          "model_module_version": "1.5.0",
          "state": {
            "_model_module": "@jupyter-widgets/controls",
            "_model_module_version": "1.5.0",
            "_model_name": "ProgressStyleModel",
            "_view_count": null,
            "_view_module": "@jupyter-widgets/base",
            "_view_module_version": "1.2.0",
            "_view_name": "StyleView",
            "bar_color": null,
            "description_width": ""
          }
        },
        "9a97849bd90d44038073578fd36740e7": {
          "model_module": "@jupyter-widgets/base",
          "model_name": "LayoutModel",
          "model_module_version": "1.2.0",
          "state": {
            "_model_module": "@jupyter-widgets/base",
            "_model_module_version": "1.2.0",
            "_model_name": "LayoutModel",
            "_view_count": null,
            "_view_module": "@jupyter-widgets/base",
            "_view_module_version": "1.2.0",
            "_view_name": "LayoutView",
            "align_content": null,
            "align_items": null,
            "align_self": null,
            "border": null,
            "bottom": null,
            "display": null,
            "flex": null,
            "flex_flow": null,
            "grid_area": null,
            "grid_auto_columns": null,
            "grid_auto_flow": null,
            "grid_auto_rows": null,
            "grid_column": null,
            "grid_gap": null,
            "grid_row": null,
            "grid_template_areas": null,
            "grid_template_columns": null,
            "grid_template_rows": null,
            "height": null,
            "justify_content": null,
            "justify_items": null,
            "left": null,
            "margin": null,
            "max_height": null,
            "max_width": null,
            "min_height": null,
            "min_width": null,
            "object_fit": null,
            "object_position": null,
            "order": null,
            "overflow": null,
            "overflow_x": null,
            "overflow_y": null,
            "padding": null,
            "right": null,
            "top": null,
            "visibility": null,
            "width": null
          }
        },
        "aa8de2907ee240b39c3b738932cf14cd": {
          "model_module": "@jupyter-widgets/controls",
          "model_name": "DescriptionStyleModel",
          "model_module_version": "1.5.0",
          "state": {
            "_model_module": "@jupyter-widgets/controls",
            "_model_module_version": "1.5.0",
            "_model_name": "DescriptionStyleModel",
            "_view_count": null,
            "_view_module": "@jupyter-widgets/base",
            "_view_module_version": "1.2.0",
            "_view_name": "StyleView",
            "description_width": ""
          }
        },
        "8cb05c43dec247989256d80de1b20cf9": {
          "model_module": "@jupyter-widgets/controls",
          "model_name": "HBoxModel",
          "model_module_version": "1.5.0",
          "state": {
            "_dom_classes": [],
            "_model_module": "@jupyter-widgets/controls",
            "_model_module_version": "1.5.0",
            "_model_name": "HBoxModel",
            "_view_count": null,
            "_view_module": "@jupyter-widgets/controls",
            "_view_module_version": "1.5.0",
            "_view_name": "HBoxView",
            "box_style": "",
            "children": [
              "IPY_MODEL_dfac5b3e39a040a0afc987eee1bd76bb",
              "IPY_MODEL_c1403f041ed9464695ea2a5c92c14a26",
              "IPY_MODEL_bc5769492b184bc393a38e5d4e95e0b1"
            ],
            "layout": "IPY_MODEL_1e19050869734ff0981abfbf6b8018b7"
          }
        },
        "dfac5b3e39a040a0afc987eee1bd76bb": {
          "model_module": "@jupyter-widgets/controls",
          "model_name": "HTMLModel",
          "model_module_version": "1.5.0",
          "state": {
            "_dom_classes": [],
            "_model_module": "@jupyter-widgets/controls",
            "_model_module_version": "1.5.0",
            "_model_name": "HTMLModel",
            "_view_count": null,
            "_view_module": "@jupyter-widgets/controls",
            "_view_module_version": "1.5.0",
            "_view_name": "HTMLView",
            "description": "",
            "description_tooltip": null,
            "layout": "IPY_MODEL_ab44deaed41e4f44bfb7450289bd16de",
            "placeholder": "​",
            "style": "IPY_MODEL_e63f4908452b48b98db1cd66bfd33fed",
            "value": "README.md: 100%"
          }
        },
        "c1403f041ed9464695ea2a5c92c14a26": {
          "model_module": "@jupyter-widgets/controls",
          "model_name": "FloatProgressModel",
          "model_module_version": "1.5.0",
          "state": {
            "_dom_classes": [],
            "_model_module": "@jupyter-widgets/controls",
            "_model_module_version": "1.5.0",
            "_model_name": "FloatProgressModel",
            "_view_count": null,
            "_view_module": "@jupyter-widgets/controls",
            "_view_module_version": "1.5.0",
            "_view_name": "ProgressView",
            "bar_style": "success",
            "description": "",
            "description_tooltip": null,
            "layout": "IPY_MODEL_efb6e2346c134848abe6013edd4e1ffa",
            "max": 348,
            "min": 0,
            "orientation": "horizontal",
            "style": "IPY_MODEL_cf38b2163c954d9497ace04a18435425",
            "value": 348
          }
        },
        "bc5769492b184bc393a38e5d4e95e0b1": {
          "model_module": "@jupyter-widgets/controls",
          "model_name": "HTMLModel",
          "model_module_version": "1.5.0",
          "state": {
            "_dom_classes": [],
            "_model_module": "@jupyter-widgets/controls",
            "_model_module_version": "1.5.0",
            "_model_name": "HTMLModel",
            "_view_count": null,
            "_view_module": "@jupyter-widgets/controls",
            "_view_module_version": "1.5.0",
            "_view_name": "HTMLView",
            "description": "",
            "description_tooltip": null,
            "layout": "IPY_MODEL_94171c36255a446eaa6d3ab071bcea3e",
            "placeholder": "​",
            "style": "IPY_MODEL_3a32d6a4bcb84df28272785ffc885a86",
            "value": " 348/348 [00:00&lt;00:00, 14.7kB/s]"
          }
        },
        "1e19050869734ff0981abfbf6b8018b7": {
          "model_module": "@jupyter-widgets/base",
          "model_name": "LayoutModel",
          "model_module_version": "1.2.0",
          "state": {
            "_model_module": "@jupyter-widgets/base",
            "_model_module_version": "1.2.0",
            "_model_name": "LayoutModel",
            "_view_count": null,
            "_view_module": "@jupyter-widgets/base",
            "_view_module_version": "1.2.0",
            "_view_name": "LayoutView",
            "align_content": null,
            "align_items": null,
            "align_self": null,
            "border": null,
            "bottom": null,
            "display": null,
            "flex": null,
            "flex_flow": null,
            "grid_area": null,
            "grid_auto_columns": null,
            "grid_auto_flow": null,
            "grid_auto_rows": null,
            "grid_column": null,
            "grid_gap": null,
            "grid_row": null,
            "grid_template_areas": null,
            "grid_template_columns": null,
            "grid_template_rows": null,
            "height": null,
            "justify_content": null,
            "justify_items": null,
            "left": null,
            "margin": null,
            "max_height": null,
            "max_width": null,
            "min_height": null,
            "min_width": null,
            "object_fit": null,
            "object_position": null,
            "order": null,
            "overflow": null,
            "overflow_x": null,
            "overflow_y": null,
            "padding": null,
            "right": null,
            "top": null,
            "visibility": null,
            "width": null
          }
        },
        "ab44deaed41e4f44bfb7450289bd16de": {
          "model_module": "@jupyter-widgets/base",
          "model_name": "LayoutModel",
          "model_module_version": "1.2.0",
          "state": {
            "_model_module": "@jupyter-widgets/base",
            "_model_module_version": "1.2.0",
            "_model_name": "LayoutModel",
            "_view_count": null,
            "_view_module": "@jupyter-widgets/base",
            "_view_module_version": "1.2.0",
            "_view_name": "LayoutView",
            "align_content": null,
            "align_items": null,
            "align_self": null,
            "border": null,
            "bottom": null,
            "display": null,
            "flex": null,
            "flex_flow": null,
            "grid_area": null,
            "grid_auto_columns": null,
            "grid_auto_flow": null,
            "grid_auto_rows": null,
            "grid_column": null,
            "grid_gap": null,
            "grid_row": null,
            "grid_template_areas": null,
            "grid_template_columns": null,
            "grid_template_rows": null,
            "height": null,
            "justify_content": null,
            "justify_items": null,
            "left": null,
            "margin": null,
            "max_height": null,
            "max_width": null,
            "min_height": null,
            "min_width": null,
            "object_fit": null,
            "object_position": null,
            "order": null,
            "overflow": null,
            "overflow_x": null,
            "overflow_y": null,
            "padding": null,
            "right": null,
            "top": null,
            "visibility": null,
            "width": null
          }
        },
        "e63f4908452b48b98db1cd66bfd33fed": {
          "model_module": "@jupyter-widgets/controls",
          "model_name": "DescriptionStyleModel",
          "model_module_version": "1.5.0",
          "state": {
            "_model_module": "@jupyter-widgets/controls",
            "_model_module_version": "1.5.0",
            "_model_name": "DescriptionStyleModel",
            "_view_count": null,
            "_view_module": "@jupyter-widgets/base",
            "_view_module_version": "1.2.0",
            "_view_name": "StyleView",
            "description_width": ""
          }
        },
        "efb6e2346c134848abe6013edd4e1ffa": {
          "model_module": "@jupyter-widgets/base",
          "model_name": "LayoutModel",
          "model_module_version": "1.2.0",
          "state": {
            "_model_module": "@jupyter-widgets/base",
            "_model_module_version": "1.2.0",
            "_model_name": "LayoutModel",
            "_view_count": null,
            "_view_module": "@jupyter-widgets/base",
            "_view_module_version": "1.2.0",
            "_view_name": "LayoutView",
            "align_content": null,
            "align_items": null,
            "align_self": null,
            "border": null,
            "bottom": null,
            "display": null,
            "flex": null,
            "flex_flow": null,
            "grid_area": null,
            "grid_auto_columns": null,
            "grid_auto_flow": null,
            "grid_auto_rows": null,
            "grid_column": null,
            "grid_gap": null,
            "grid_row": null,
            "grid_template_areas": null,
            "grid_template_columns": null,
            "grid_template_rows": null,
            "height": null,
            "justify_content": null,
            "justify_items": null,
            "left": null,
            "margin": null,
            "max_height": null,
            "max_width": null,
            "min_height": null,
            "min_width": null,
            "object_fit": null,
            "object_position": null,
            "order": null,
            "overflow": null,
            "overflow_x": null,
            "overflow_y": null,
            "padding": null,
            "right": null,
            "top": null,
            "visibility": null,
            "width": null
          }
        },
        "cf38b2163c954d9497ace04a18435425": {
          "model_module": "@jupyter-widgets/controls",
          "model_name": "ProgressStyleModel",
          "model_module_version": "1.5.0",
          "state": {
            "_model_module": "@jupyter-widgets/controls",
            "_model_module_version": "1.5.0",
            "_model_name": "ProgressStyleModel",
            "_view_count": null,
            "_view_module": "@jupyter-widgets/base",
            "_view_module_version": "1.2.0",
            "_view_name": "StyleView",
            "bar_color": null,
            "description_width": ""
          }
        },
        "94171c36255a446eaa6d3ab071bcea3e": {
          "model_module": "@jupyter-widgets/base",
          "model_name": "LayoutModel",
          "model_module_version": "1.2.0",
          "state": {
            "_model_module": "@jupyter-widgets/base",
            "_model_module_version": "1.2.0",
            "_model_name": "LayoutModel",
            "_view_count": null,
            "_view_module": "@jupyter-widgets/base",
            "_view_module_version": "1.2.0",
            "_view_name": "LayoutView",
            "align_content": null,
            "align_items": null,
            "align_self": null,
            "border": null,
            "bottom": null,
            "display": null,
            "flex": null,
            "flex_flow": null,
            "grid_area": null,
            "grid_auto_columns": null,
            "grid_auto_flow": null,
            "grid_auto_rows": null,
            "grid_column": null,
            "grid_gap": null,
            "grid_row": null,
            "grid_template_areas": null,
            "grid_template_columns": null,
            "grid_template_rows": null,
            "height": null,
            "justify_content": null,
            "justify_items": null,
            "left": null,
            "margin": null,
            "max_height": null,
            "max_width": null,
            "min_height": null,
            "min_width": null,
            "object_fit": null,
            "object_position": null,
            "order": null,
            "overflow": null,
            "overflow_x": null,
            "overflow_y": null,
            "padding": null,
            "right": null,
            "top": null,
            "visibility": null,
            "width": null
          }
        },
        "3a32d6a4bcb84df28272785ffc885a86": {
          "model_module": "@jupyter-widgets/controls",
          "model_name": "DescriptionStyleModel",
          "model_module_version": "1.5.0",
          "state": {
            "_model_module": "@jupyter-widgets/controls",
            "_model_module_version": "1.5.0",
            "_model_name": "DescriptionStyleModel",
            "_view_count": null,
            "_view_module": "@jupyter-widgets/base",
            "_view_module_version": "1.2.0",
            "_view_name": "StyleView",
            "description_width": ""
          }
        },
        "a56992c198ca494387647c351dd9e07d": {
          "model_module": "@jupyter-widgets/controls",
          "model_name": "HBoxModel",
          "model_module_version": "1.5.0",
          "state": {
            "_dom_classes": [],
            "_model_module": "@jupyter-widgets/controls",
            "_model_module_version": "1.5.0",
            "_model_name": "HBoxModel",
            "_view_count": null,
            "_view_module": "@jupyter-widgets/controls",
            "_view_module_version": "1.5.0",
            "_view_name": "HBoxView",
            "box_style": "",
            "children": [
              "IPY_MODEL_5226990d08924e2e95f0c5485ed8b43a",
              "IPY_MODEL_a621e826dd8c4d36932a56ef856b0e09",
              "IPY_MODEL_50a2a239e65349ebb2ea1f56bc023235"
            ],
            "layout": "IPY_MODEL_4c3e807d6ba843a7b6883b576f38dd71"
          }
        },
        "5226990d08924e2e95f0c5485ed8b43a": {
          "model_module": "@jupyter-widgets/controls",
          "model_name": "HTMLModel",
          "model_module_version": "1.5.0",
          "state": {
            "_dom_classes": [],
            "_model_module": "@jupyter-widgets/controls",
            "_model_module_version": "1.5.0",
            "_model_name": "HTMLModel",
            "_view_count": null,
            "_view_module": "@jupyter-widgets/controls",
            "_view_module_version": "1.5.0",
            "_view_name": "HTMLView",
            "description": "",
            "description_tooltip": null,
            "layout": "IPY_MODEL_37b3343fb68d4f4caf2c4a93142e1e32",
            "placeholder": "​",
            "style": "IPY_MODEL_b0161cbe87de422b92154a133ed041ff",
            "value": "train-00000-of-00001.parquet: 100%"
          }
        },
        "a621e826dd8c4d36932a56ef856b0e09": {
          "model_module": "@jupyter-widgets/controls",
          "model_name": "FloatProgressModel",
          "model_module_version": "1.5.0",
          "state": {
            "_dom_classes": [],
            "_model_module": "@jupyter-widgets/controls",
            "_model_module_version": "1.5.0",
            "_model_name": "FloatProgressModel",
            "_view_count": null,
            "_view_module": "@jupyter-widgets/controls",
            "_view_module_version": "1.5.0",
            "_view_name": "ProgressView",
            "bar_style": "success",
            "description": "",
            "description_tooltip": null,
            "layout": "IPY_MODEL_ffef61b6f88c41c3bf965d2d815e556e",
            "max": 658578,
            "min": 0,
            "orientation": "horizontal",
            "style": "IPY_MODEL_5e202d3571fa4a2fbfa0f3fbdf0369d5",
            "value": 658578
          }
        },
        "50a2a239e65349ebb2ea1f56bc023235": {
          "model_module": "@jupyter-widgets/controls",
          "model_name": "HTMLModel",
          "model_module_version": "1.5.0",
          "state": {
            "_dom_classes": [],
            "_model_module": "@jupyter-widgets/controls",
            "_model_module_version": "1.5.0",
            "_model_name": "HTMLModel",
            "_view_count": null,
            "_view_module": "@jupyter-widgets/controls",
            "_view_module_version": "1.5.0",
            "_view_name": "HTMLView",
            "description": "",
            "description_tooltip": null,
            "layout": "IPY_MODEL_5f92f3162d4342429b50e48e7f2dd05b",
            "placeholder": "​",
            "style": "IPY_MODEL_0145667470cc4bcd923fb8d759b3ad3f",
            "value": " 659k/659k [00:00&lt;00:00, 4.64MB/s]"
          }
        },
        "4c3e807d6ba843a7b6883b576f38dd71": {
          "model_module": "@jupyter-widgets/base",
          "model_name": "LayoutModel",
          "model_module_version": "1.2.0",
          "state": {
            "_model_module": "@jupyter-widgets/base",
            "_model_module_version": "1.2.0",
            "_model_name": "LayoutModel",
            "_view_count": null,
            "_view_module": "@jupyter-widgets/base",
            "_view_module_version": "1.2.0",
            "_view_name": "LayoutView",
            "align_content": null,
            "align_items": null,
            "align_self": null,
            "border": null,
            "bottom": null,
            "display": null,
            "flex": null,
            "flex_flow": null,
            "grid_area": null,
            "grid_auto_columns": null,
            "grid_auto_flow": null,
            "grid_auto_rows": null,
            "grid_column": null,
            "grid_gap": null,
            "grid_row": null,
            "grid_template_areas": null,
            "grid_template_columns": null,
            "grid_template_rows": null,
            "height": null,
            "justify_content": null,
            "justify_items": null,
            "left": null,
            "margin": null,
            "max_height": null,
            "max_width": null,
            "min_height": null,
            "min_width": null,
            "object_fit": null,
            "object_position": null,
            "order": null,
            "overflow": null,
            "overflow_x": null,
            "overflow_y": null,
            "padding": null,
            "right": null,
            "top": null,
            "visibility": null,
            "width": null
          }
        },
        "37b3343fb68d4f4caf2c4a93142e1e32": {
          "model_module": "@jupyter-widgets/base",
          "model_name": "LayoutModel",
          "model_module_version": "1.2.0",
          "state": {
            "_model_module": "@jupyter-widgets/base",
            "_model_module_version": "1.2.0",
            "_model_name": "LayoutModel",
            "_view_count": null,
            "_view_module": "@jupyter-widgets/base",
            "_view_module_version": "1.2.0",
            "_view_name": "LayoutView",
            "align_content": null,
            "align_items": null,
            "align_self": null,
            "border": null,
            "bottom": null,
            "display": null,
            "flex": null,
            "flex_flow": null,
            "grid_area": null,
            "grid_auto_columns": null,
            "grid_auto_flow": null,
            "grid_auto_rows": null,
            "grid_column": null,
            "grid_gap": null,
            "grid_row": null,
            "grid_template_areas": null,
            "grid_template_columns": null,
            "grid_template_rows": null,
            "height": null,
            "justify_content": null,
            "justify_items": null,
            "left": null,
            "margin": null,
            "max_height": null,
            "max_width": null,
            "min_height": null,
            "min_width": null,
            "object_fit": null,
            "object_position": null,
            "order": null,
            "overflow": null,
            "overflow_x": null,
            "overflow_y": null,
            "padding": null,
            "right": null,
            "top": null,
            "visibility": null,
            "width": null
          }
        },
        "b0161cbe87de422b92154a133ed041ff": {
          "model_module": "@jupyter-widgets/controls",
          "model_name": "DescriptionStyleModel",
          "model_module_version": "1.5.0",
          "state": {
            "_model_module": "@jupyter-widgets/controls",
            "_model_module_version": "1.5.0",
            "_model_name": "DescriptionStyleModel",
            "_view_count": null,
            "_view_module": "@jupyter-widgets/base",
            "_view_module_version": "1.2.0",
            "_view_name": "StyleView",
            "description_width": ""
          }
        },
        "ffef61b6f88c41c3bf965d2d815e556e": {
          "model_module": "@jupyter-widgets/base",
          "model_name": "LayoutModel",
          "model_module_version": "1.2.0",
          "state": {
            "_model_module": "@jupyter-widgets/base",
            "_model_module_version": "1.2.0",
            "_model_name": "LayoutModel",
            "_view_count": null,
            "_view_module": "@jupyter-widgets/base",
            "_view_module_version": "1.2.0",
            "_view_name": "LayoutView",
            "align_content": null,
            "align_items": null,
            "align_self": null,
            "border": null,
            "bottom": null,
            "display": null,
            "flex": null,
            "flex_flow": null,
            "grid_area": null,
            "grid_auto_columns": null,
            "grid_auto_flow": null,
            "grid_auto_rows": null,
            "grid_column": null,
            "grid_gap": null,
            "grid_row": null,
            "grid_template_areas": null,
            "grid_template_columns": null,
            "grid_template_rows": null,
            "height": null,
            "justify_content": null,
            "justify_items": null,
            "left": null,
            "margin": null,
            "max_height": null,
            "max_width": null,
            "min_height": null,
            "min_width": null,
            "object_fit": null,
            "object_position": null,
            "order": null,
            "overflow": null,
            "overflow_x": null,
            "overflow_y": null,
            "padding": null,
            "right": null,
            "top": null,
            "visibility": null,
            "width": null
          }
        },
        "5e202d3571fa4a2fbfa0f3fbdf0369d5": {
          "model_module": "@jupyter-widgets/controls",
          "model_name": "ProgressStyleModel",
          "model_module_version": "1.5.0",
          "state": {
            "_model_module": "@jupyter-widgets/controls",
            "_model_module_version": "1.5.0",
            "_model_name": "ProgressStyleModel",
            "_view_count": null,
            "_view_module": "@jupyter-widgets/base",
            "_view_module_version": "1.2.0",
            "_view_name": "StyleView",
            "bar_color": null,
            "description_width": ""
          }
        },
        "5f92f3162d4342429b50e48e7f2dd05b": {
          "model_module": "@jupyter-widgets/base",
          "model_name": "LayoutModel",
          "model_module_version": "1.2.0",
          "state": {
            "_model_module": "@jupyter-widgets/base",
            "_model_module_version": "1.2.0",
            "_model_name": "LayoutModel",
            "_view_count": null,
            "_view_module": "@jupyter-widgets/base",
            "_view_module_version": "1.2.0",
            "_view_name": "LayoutView",
            "align_content": null,
            "align_items": null,
            "align_self": null,
            "border": null,
            "bottom": null,
            "display": null,
            "flex": null,
            "flex_flow": null,
            "grid_area": null,
            "grid_auto_columns": null,
            "grid_auto_flow": null,
            "grid_auto_rows": null,
            "grid_column": null,
            "grid_gap": null,
            "grid_row": null,
            "grid_template_areas": null,
            "grid_template_columns": null,
            "grid_template_rows": null,
            "height": null,
            "justify_content": null,
            "justify_items": null,
            "left": null,
            "margin": null,
            "max_height": null,
            "max_width": null,
            "min_height": null,
            "min_width": null,
            "object_fit": null,
            "object_position": null,
            "order": null,
            "overflow": null,
            "overflow_x": null,
            "overflow_y": null,
            "padding": null,
            "right": null,
            "top": null,
            "visibility": null,
            "width": null
          }
        },
        "0145667470cc4bcd923fb8d759b3ad3f": {
          "model_module": "@jupyter-widgets/controls",
          "model_name": "DescriptionStyleModel",
          "model_module_version": "1.5.0",
          "state": {
            "_model_module": "@jupyter-widgets/controls",
            "_model_module_version": "1.5.0",
            "_model_name": "DescriptionStyleModel",
            "_view_count": null,
            "_view_module": "@jupyter-widgets/base",
            "_view_module_version": "1.2.0",
            "_view_name": "StyleView",
            "description_width": ""
          }
        },
        "f6a807c7d59d43188ca1c4d85aad4987": {
          "model_module": "@jupyter-widgets/controls",
          "model_name": "HBoxModel",
          "model_module_version": "1.5.0",
          "state": {
            "_dom_classes": [],
            "_model_module": "@jupyter-widgets/controls",
            "_model_module_version": "1.5.0",
            "_model_name": "HBoxModel",
            "_view_count": null,
            "_view_module": "@jupyter-widgets/controls",
            "_view_module_version": "1.5.0",
            "_view_name": "HBoxView",
            "box_style": "",
            "children": [
              "IPY_MODEL_ccaf2066d080444c83ea6344240ef95c",
              "IPY_MODEL_b1a1a38c95054afb9f7b0d1595fa59fa",
              "IPY_MODEL_0e4b2def61724743910f4369c5a72449"
            ],
            "layout": "IPY_MODEL_e925604d85c6487aa69faff5778fdb45"
          }
        },
        "ccaf2066d080444c83ea6344240ef95c": {
          "model_module": "@jupyter-widgets/controls",
          "model_name": "HTMLModel",
          "model_module_version": "1.5.0",
          "state": {
            "_dom_classes": [],
            "_model_module": "@jupyter-widgets/controls",
            "_model_module_version": "1.5.0",
            "_model_name": "HTMLModel",
            "_view_count": null,
            "_view_module": "@jupyter-widgets/controls",
            "_view_module_version": "1.5.0",
            "_view_name": "HTMLView",
            "description": "",
            "description_tooltip": null,
            "layout": "IPY_MODEL_8784affef9d244c88607a1734784e7d2",
            "placeholder": "​",
            "style": "IPY_MODEL_7f24b430635c4863b99593b976c43f1a",
            "value": "Generating train split: 100%"
          }
        },
        "b1a1a38c95054afb9f7b0d1595fa59fa": {
          "model_module": "@jupyter-widgets/controls",
          "model_name": "FloatProgressModel",
          "model_module_version": "1.5.0",
          "state": {
            "_dom_classes": [],
            "_model_module": "@jupyter-widgets/controls",
            "_model_module_version": "1.5.0",
            "_model_name": "FloatProgressModel",
            "_view_count": null,
            "_view_module": "@jupyter-widgets/controls",
            "_view_module_version": "1.5.0",
            "_view_name": "ProgressView",
            "bar_style": "success",
            "description": "",
            "description_tooltip": null,
            "layout": "IPY_MODEL_d426cbd37f64433882e522fb12d949b4",
            "max": 882,
            "min": 0,
            "orientation": "horizontal",
            "style": "IPY_MODEL_799a65142f06494bb5489296ffcd5c62",
            "value": 882
          }
        },
        "0e4b2def61724743910f4369c5a72449": {
          "model_module": "@jupyter-widgets/controls",
          "model_name": "HTMLModel",
          "model_module_version": "1.5.0",
          "state": {
            "_dom_classes": [],
            "_model_module": "@jupyter-widgets/controls",
            "_model_module_version": "1.5.0",
            "_model_name": "HTMLModel",
            "_view_count": null,
            "_view_module": "@jupyter-widgets/controls",
            "_view_module_version": "1.5.0",
            "_view_name": "HTMLView",
            "description": "",
            "description_tooltip": null,
            "layout": "IPY_MODEL_0c565325d6144786af1ab24758f0adbb",
            "placeholder": "​",
            "style": "IPY_MODEL_a0635ddc4ed64c368901ebc14abcc8c3",
            "value": " 882/882 [00:00&lt;00:00, 6876.01 examples/s]"
          }
        },
        "e925604d85c6487aa69faff5778fdb45": {
          "model_module": "@jupyter-widgets/base",
          "model_name": "LayoutModel",
          "model_module_version": "1.2.0",
          "state": {
            "_model_module": "@jupyter-widgets/base",
            "_model_module_version": "1.2.0",
            "_model_name": "LayoutModel",
            "_view_count": null,
            "_view_module": "@jupyter-widgets/base",
            "_view_module_version": "1.2.0",
            "_view_name": "LayoutView",
            "align_content": null,
            "align_items": null,
            "align_self": null,
            "border": null,
            "bottom": null,
            "display": null,
            "flex": null,
            "flex_flow": null,
            "grid_area": null,
            "grid_auto_columns": null,
            "grid_auto_flow": null,
            "grid_auto_rows": null,
            "grid_column": null,
            "grid_gap": null,
            "grid_row": null,
            "grid_template_areas": null,
            "grid_template_columns": null,
            "grid_template_rows": null,
            "height": null,
            "justify_content": null,
            "justify_items": null,
            "left": null,
            "margin": null,
            "max_height": null,
            "max_width": null,
            "min_height": null,
            "min_width": null,
            "object_fit": null,
            "object_position": null,
            "order": null,
            "overflow": null,
            "overflow_x": null,
            "overflow_y": null,
            "padding": null,
            "right": null,
            "top": null,
            "visibility": null,
            "width": null
          }
        },
        "8784affef9d244c88607a1734784e7d2": {
          "model_module": "@jupyter-widgets/base",
          "model_name": "LayoutModel",
          "model_module_version": "1.2.0",
          "state": {
            "_model_module": "@jupyter-widgets/base",
            "_model_module_version": "1.2.0",
            "_model_name": "LayoutModel",
            "_view_count": null,
            "_view_module": "@jupyter-widgets/base",
            "_view_module_version": "1.2.0",
            "_view_name": "LayoutView",
            "align_content": null,
            "align_items": null,
            "align_self": null,
            "border": null,
            "bottom": null,
            "display": null,
            "flex": null,
            "flex_flow": null,
            "grid_area": null,
            "grid_auto_columns": null,
            "grid_auto_flow": null,
            "grid_auto_rows": null,
            "grid_column": null,
            "grid_gap": null,
            "grid_row": null,
            "grid_template_areas": null,
            "grid_template_columns": null,
            "grid_template_rows": null,
            "height": null,
            "justify_content": null,
            "justify_items": null,
            "left": null,
            "margin": null,
            "max_height": null,
            "max_width": null,
            "min_height": null,
            "min_width": null,
            "object_fit": null,
            "object_position": null,
            "order": null,
            "overflow": null,
            "overflow_x": null,
            "overflow_y": null,
            "padding": null,
            "right": null,
            "top": null,
            "visibility": null,
            "width": null
          }
        },
        "7f24b430635c4863b99593b976c43f1a": {
          "model_module": "@jupyter-widgets/controls",
          "model_name": "DescriptionStyleModel",
          "model_module_version": "1.5.0",
          "state": {
            "_model_module": "@jupyter-widgets/controls",
            "_model_module_version": "1.5.0",
            "_model_name": "DescriptionStyleModel",
            "_view_count": null,
            "_view_module": "@jupyter-widgets/base",
            "_view_module_version": "1.2.0",
            "_view_name": "StyleView",
            "description_width": ""
          }
        },
        "d426cbd37f64433882e522fb12d949b4": {
          "model_module": "@jupyter-widgets/base",
          "model_name": "LayoutModel",
          "model_module_version": "1.2.0",
          "state": {
            "_model_module": "@jupyter-widgets/base",
            "_model_module_version": "1.2.0",
            "_model_name": "LayoutModel",
            "_view_count": null,
            "_view_module": "@jupyter-widgets/base",
            "_view_module_version": "1.2.0",
            "_view_name": "LayoutView",
            "align_content": null,
            "align_items": null,
            "align_self": null,
            "border": null,
            "bottom": null,
            "display": null,
            "flex": null,
            "flex_flow": null,
            "grid_area": null,
            "grid_auto_columns": null,
            "grid_auto_flow": null,
            "grid_auto_rows": null,
            "grid_column": null,
            "grid_gap": null,
            "grid_row": null,
            "grid_template_areas": null,
            "grid_template_columns": null,
            "grid_template_rows": null,
            "height": null,
            "justify_content": null,
            "justify_items": null,
            "left": null,
            "margin": null,
            "max_height": null,
            "max_width": null,
            "min_height": null,
            "min_width": null,
            "object_fit": null,
            "object_position": null,
            "order": null,
            "overflow": null,
            "overflow_x": null,
            "overflow_y": null,
            "padding": null,
            "right": null,
            "top": null,
            "visibility": null,
            "width": null
          }
        },
        "799a65142f06494bb5489296ffcd5c62": {
          "model_module": "@jupyter-widgets/controls",
          "model_name": "ProgressStyleModel",
          "model_module_version": "1.5.0",
          "state": {
            "_model_module": "@jupyter-widgets/controls",
            "_model_module_version": "1.5.0",
            "_model_name": "ProgressStyleModel",
            "_view_count": null,
            "_view_module": "@jupyter-widgets/base",
            "_view_module_version": "1.2.0",
            "_view_name": "StyleView",
            "bar_color": null,
            "description_width": ""
          }
        },
        "0c565325d6144786af1ab24758f0adbb": {
          "model_module": "@jupyter-widgets/base",
          "model_name": "LayoutModel",
          "model_module_version": "1.2.0",
          "state": {
            "_model_module": "@jupyter-widgets/base",
            "_model_module_version": "1.2.0",
            "_model_name": "LayoutModel",
            "_view_count": null,
            "_view_module": "@jupyter-widgets/base",
            "_view_module_version": "1.2.0",
            "_view_name": "LayoutView",
            "align_content": null,
            "align_items": null,
            "align_self": null,
            "border": null,
            "bottom": null,
            "display": null,
            "flex": null,
            "flex_flow": null,
            "grid_area": null,
            "grid_auto_columns": null,
            "grid_auto_flow": null,
            "grid_auto_rows": null,
            "grid_column": null,
            "grid_gap": null,
            "grid_row": null,
            "grid_template_areas": null,
            "grid_template_columns": null,
            "grid_template_rows": null,
            "height": null,
            "justify_content": null,
            "justify_items": null,
            "left": null,
            "margin": null,
            "max_height": null,
            "max_width": null,
            "min_height": null,
            "min_width": null,
            "object_fit": null,
            "object_position": null,
            "order": null,
            "overflow": null,
            "overflow_x": null,
            "overflow_y": null,
            "padding": null,
            "right": null,
            "top": null,
            "visibility": null,
            "width": null
          }
        },
        "a0635ddc4ed64c368901ebc14abcc8c3": {
          "model_module": "@jupyter-widgets/controls",
          "model_name": "DescriptionStyleModel",
          "model_module_version": "1.5.0",
          "state": {
            "_model_module": "@jupyter-widgets/controls",
            "_model_module_version": "1.5.0",
            "_model_name": "DescriptionStyleModel",
            "_view_count": null,
            "_view_module": "@jupyter-widgets/base",
            "_view_module_version": "1.2.0",
            "_view_name": "StyleView",
            "description_width": ""
          }
        },
        "112bbc08710f49cbbc4899fc4b1d2437": {
          "model_module": "@jupyter-widgets/controls",
          "model_name": "HBoxModel",
          "model_module_version": "1.5.0",
          "state": {
            "_dom_classes": [],
            "_model_module": "@jupyter-widgets/controls",
            "_model_module_version": "1.5.0",
            "_model_name": "HBoxModel",
            "_view_count": null,
            "_view_module": "@jupyter-widgets/controls",
            "_view_module_version": "1.5.0",
            "_view_name": "HBoxView",
            "box_style": "",
            "children": [
              "IPY_MODEL_f351ed8e2a684d52839cd06312998248",
              "IPY_MODEL_e5cfcee7977f484f88557cf22e48e44f",
              "IPY_MODEL_e2d5f9d33cfc4d3c8e40f1fd7eedc7cc"
            ],
            "layout": "IPY_MODEL_3a043f18cc86483da2942786e687dcbb"
          }
        },
        "f351ed8e2a684d52839cd06312998248": {
          "model_module": "@jupyter-widgets/controls",
          "model_name": "HTMLModel",
          "model_module_version": "1.5.0",
          "state": {
            "_dom_classes": [],
            "_model_module": "@jupyter-widgets/controls",
            "_model_module_version": "1.5.0",
            "_model_name": "HTMLModel",
            "_view_count": null,
            "_view_module": "@jupyter-widgets/controls",
            "_view_module_version": "1.5.0",
            "_view_name": "HTMLView",
            "description": "",
            "description_tooltip": null,
            "layout": "IPY_MODEL_9dd5ff88c8374dc2b5e3b0f7032c7576",
            "placeholder": "​",
            "style": "IPY_MODEL_fef14292d1f3448593d3662b90b7844a",
            "value": "README.md: 100%"
          }
        },
        "e5cfcee7977f484f88557cf22e48e44f": {
          "model_module": "@jupyter-widgets/controls",
          "model_name": "FloatProgressModel",
          "model_module_version": "1.5.0",
          "state": {
            "_dom_classes": [],
            "_model_module": "@jupyter-widgets/controls",
            "_model_module_version": "1.5.0",
            "_model_name": "FloatProgressModel",
            "_view_count": null,
            "_view_module": "@jupyter-widgets/controls",
            "_view_module_version": "1.5.0",
            "_view_name": "ProgressView",
            "bar_style": "success",
            "description": "",
            "description_tooltip": null,
            "layout": "IPY_MODEL_0215210269e94ced96efe8de7b4cad75",
            "max": 647,
            "min": 0,
            "orientation": "horizontal",
            "style": "IPY_MODEL_02692e587a5d4c9dbb3e4fec9a5d1909",
            "value": 647
          }
        },
        "e2d5f9d33cfc4d3c8e40f1fd7eedc7cc": {
          "model_module": "@jupyter-widgets/controls",
          "model_name": "HTMLModel",
          "model_module_version": "1.5.0",
          "state": {
            "_dom_classes": [],
            "_model_module": "@jupyter-widgets/controls",
            "_model_module_version": "1.5.0",
            "_model_name": "HTMLModel",
            "_view_count": null,
            "_view_module": "@jupyter-widgets/controls",
            "_view_module_version": "1.5.0",
            "_view_name": "HTMLView",
            "description": "",
            "description_tooltip": null,
            "layout": "IPY_MODEL_158bfc7c1a59411d824629d974683865",
            "placeholder": "​",
            "style": "IPY_MODEL_ff9b5534495e466eb39d82815433dd38",
            "value": " 647/647 [00:00&lt;00:00, 36.8kB/s]"
          }
        },
        "3a043f18cc86483da2942786e687dcbb": {
          "model_module": "@jupyter-widgets/base",
          "model_name": "LayoutModel",
          "model_module_version": "1.2.0",
          "state": {
            "_model_module": "@jupyter-widgets/base",
            "_model_module_version": "1.2.0",
            "_model_name": "LayoutModel",
            "_view_count": null,
            "_view_module": "@jupyter-widgets/base",
            "_view_module_version": "1.2.0",
            "_view_name": "LayoutView",
            "align_content": null,
            "align_items": null,
            "align_self": null,
            "border": null,
            "bottom": null,
            "display": null,
            "flex": null,
            "flex_flow": null,
            "grid_area": null,
            "grid_auto_columns": null,
            "grid_auto_flow": null,
            "grid_auto_rows": null,
            "grid_column": null,
            "grid_gap": null,
            "grid_row": null,
            "grid_template_areas": null,
            "grid_template_columns": null,
            "grid_template_rows": null,
            "height": null,
            "justify_content": null,
            "justify_items": null,
            "left": null,
            "margin": null,
            "max_height": null,
            "max_width": null,
            "min_height": null,
            "min_width": null,
            "object_fit": null,
            "object_position": null,
            "order": null,
            "overflow": null,
            "overflow_x": null,
            "overflow_y": null,
            "padding": null,
            "right": null,
            "top": null,
            "visibility": null,
            "width": null
          }
        },
        "9dd5ff88c8374dc2b5e3b0f7032c7576": {
          "model_module": "@jupyter-widgets/base",
          "model_name": "LayoutModel",
          "model_module_version": "1.2.0",
          "state": {
            "_model_module": "@jupyter-widgets/base",
            "_model_module_version": "1.2.0",
            "_model_name": "LayoutModel",
            "_view_count": null,
            "_view_module": "@jupyter-widgets/base",
            "_view_module_version": "1.2.0",
            "_view_name": "LayoutView",
            "align_content": null,
            "align_items": null,
            "align_self": null,
            "border": null,
            "bottom": null,
            "display": null,
            "flex": null,
            "flex_flow": null,
            "grid_area": null,
            "grid_auto_columns": null,
            "grid_auto_flow": null,
            "grid_auto_rows": null,
            "grid_column": null,
            "grid_gap": null,
            "grid_row": null,
            "grid_template_areas": null,
            "grid_template_columns": null,
            "grid_template_rows": null,
            "height": null,
            "justify_content": null,
            "justify_items": null,
            "left": null,
            "margin": null,
            "max_height": null,
            "max_width": null,
            "min_height": null,
            "min_width": null,
            "object_fit": null,
            "object_position": null,
            "order": null,
            "overflow": null,
            "overflow_x": null,
            "overflow_y": null,
            "padding": null,
            "right": null,
            "top": null,
            "visibility": null,
            "width": null
          }
        },
        "fef14292d1f3448593d3662b90b7844a": {
          "model_module": "@jupyter-widgets/controls",
          "model_name": "DescriptionStyleModel",
          "model_module_version": "1.5.0",
          "state": {
            "_model_module": "@jupyter-widgets/controls",
            "_model_module_version": "1.5.0",
            "_model_name": "DescriptionStyleModel",
            "_view_count": null,
            "_view_module": "@jupyter-widgets/base",
            "_view_module_version": "1.2.0",
            "_view_name": "StyleView",
            "description_width": ""
          }
        },
        "0215210269e94ced96efe8de7b4cad75": {
          "model_module": "@jupyter-widgets/base",
          "model_name": "LayoutModel",
          "model_module_version": "1.2.0",
          "state": {
            "_model_module": "@jupyter-widgets/base",
            "_model_module_version": "1.2.0",
            "_model_name": "LayoutModel",
            "_view_count": null,
            "_view_module": "@jupyter-widgets/base",
            "_view_module_version": "1.2.0",
            "_view_name": "LayoutView",
            "align_content": null,
            "align_items": null,
            "align_self": null,
            "border": null,
            "bottom": null,
            "display": null,
            "flex": null,
            "flex_flow": null,
            "grid_area": null,
            "grid_auto_columns": null,
            "grid_auto_flow": null,
            "grid_auto_rows": null,
            "grid_column": null,
            "grid_gap": null,
            "grid_row": null,
            "grid_template_areas": null,
            "grid_template_columns": null,
            "grid_template_rows": null,
            "height": null,
            "justify_content": null,
            "justify_items": null,
            "left": null,
            "margin": null,
            "max_height": null,
            "max_width": null,
            "min_height": null,
            "min_width": null,
            "object_fit": null,
            "object_position": null,
            "order": null,
            "overflow": null,
            "overflow_x": null,
            "overflow_y": null,
            "padding": null,
            "right": null,
            "top": null,
            "visibility": null,
            "width": null
          }
        },
        "02692e587a5d4c9dbb3e4fec9a5d1909": {
          "model_module": "@jupyter-widgets/controls",
          "model_name": "ProgressStyleModel",
          "model_module_version": "1.5.0",
          "state": {
            "_model_module": "@jupyter-widgets/controls",
            "_model_module_version": "1.5.0",
            "_model_name": "ProgressStyleModel",
            "_view_count": null,
            "_view_module": "@jupyter-widgets/base",
            "_view_module_version": "1.2.0",
            "_view_name": "StyleView",
            "bar_color": null,
            "description_width": ""
          }
        },
        "158bfc7c1a59411d824629d974683865": {
          "model_module": "@jupyter-widgets/base",
          "model_name": "LayoutModel",
          "model_module_version": "1.2.0",
          "state": {
            "_model_module": "@jupyter-widgets/base",
            "_model_module_version": "1.2.0",
            "_model_name": "LayoutModel",
            "_view_count": null,
            "_view_module": "@jupyter-widgets/base",
            "_view_module_version": "1.2.0",
            "_view_name": "LayoutView",
            "align_content": null,
            "align_items": null,
            "align_self": null,
            "border": null,
            "bottom": null,
            "display": null,
            "flex": null,
            "flex_flow": null,
            "grid_area": null,
            "grid_auto_columns": null,
            "grid_auto_flow": null,
            "grid_auto_rows": null,
            "grid_column": null,
            "grid_gap": null,
            "grid_row": null,
            "grid_template_areas": null,
            "grid_template_columns": null,
            "grid_template_rows": null,
            "height": null,
            "justify_content": null,
            "justify_items": null,
            "left": null,
            "margin": null,
            "max_height": null,
            "max_width": null,
            "min_height": null,
            "min_width": null,
            "object_fit": null,
            "object_position": null,
            "order": null,
            "overflow": null,
            "overflow_x": null,
            "overflow_y": null,
            "padding": null,
            "right": null,
            "top": null,
            "visibility": null,
            "width": null
          }
        },
        "ff9b5534495e466eb39d82815433dd38": {
          "model_module": "@jupyter-widgets/controls",
          "model_name": "DescriptionStyleModel",
          "model_module_version": "1.5.0",
          "state": {
            "_model_module": "@jupyter-widgets/controls",
            "_model_module_version": "1.5.0",
            "_model_name": "DescriptionStyleModel",
            "_view_count": null,
            "_view_module": "@jupyter-widgets/base",
            "_view_module_version": "1.2.0",
            "_view_name": "StyleView",
            "description_width": ""
          }
        },
        "12ff3c6a586a41f7b3333b98b3045a05": {
          "model_module": "@jupyter-widgets/controls",
          "model_name": "HBoxModel",
          "model_module_version": "1.5.0",
          "state": {
            "_dom_classes": [],
            "_model_module": "@jupyter-widgets/controls",
            "_model_module_version": "1.5.0",
            "_model_name": "HBoxModel",
            "_view_count": null,
            "_view_module": "@jupyter-widgets/controls",
            "_view_module_version": "1.5.0",
            "_view_name": "HBoxView",
            "box_style": "",
            "children": [
              "IPY_MODEL_ae1d6cf53b8c446fa802b58456fcaeee",
              "IPY_MODEL_92586f223081433881fcb65ed66c27e2",
              "IPY_MODEL_6264535a3153415ca5e49227a115d457"
            ],
            "layout": "IPY_MODEL_47d86f1c5fa34dac8823208b5a04e017"
          }
        },
        "ae1d6cf53b8c446fa802b58456fcaeee": {
          "model_module": "@jupyter-widgets/controls",
          "model_name": "HTMLModel",
          "model_module_version": "1.5.0",
          "state": {
            "_dom_classes": [],
            "_model_module": "@jupyter-widgets/controls",
            "_model_module_version": "1.5.0",
            "_model_name": "HTMLModel",
            "_view_count": null,
            "_view_module": "@jupyter-widgets/controls",
            "_view_module_version": "1.5.0",
            "_view_name": "HTMLView",
            "description": "",
            "description_tooltip": null,
            "layout": "IPY_MODEL_cb5338ecc720460a915421e734578732",
            "placeholder": "​",
            "style": "IPY_MODEL_19e625a711174495876f01dde0aa3565",
            "value": "train-00000-of-00001.parquet: 100%"
          }
        },
        "92586f223081433881fcb65ed66c27e2": {
          "model_module": "@jupyter-widgets/controls",
          "model_name": "FloatProgressModel",
          "model_module_version": "1.5.0",
          "state": {
            "_dom_classes": [],
            "_model_module": "@jupyter-widgets/controls",
            "_model_module_version": "1.5.0",
            "_model_name": "FloatProgressModel",
            "_view_count": null,
            "_view_module": "@jupyter-widgets/controls",
            "_view_module_version": "1.5.0",
            "_view_name": "ProgressView",
            "bar_style": "success",
            "description": "",
            "description_tooltip": null,
            "layout": "IPY_MODEL_cee7ddc7a11646aa91041baf11639de2",
            "max": 289016,
            "min": 0,
            "orientation": "horizontal",
            "style": "IPY_MODEL_9a0a14a110ab4b008c164388e58dfc64",
            "value": 289016
          }
        },
        "6264535a3153415ca5e49227a115d457": {
          "model_module": "@jupyter-widgets/controls",
          "model_name": "HTMLModel",
          "model_module_version": "1.5.0",
          "state": {
            "_dom_classes": [],
            "_model_module": "@jupyter-widgets/controls",
            "_model_module_version": "1.5.0",
            "_model_name": "HTMLModel",
            "_view_count": null,
            "_view_module": "@jupyter-widgets/controls",
            "_view_module_version": "1.5.0",
            "_view_name": "HTMLView",
            "description": "",
            "description_tooltip": null,
            "layout": "IPY_MODEL_539082d4c1764b68ab768a8ee2e195a9",
            "placeholder": "​",
            "style": "IPY_MODEL_f8d6e24a36ad44a6a6313800971c3092",
            "value": " 289k/289k [00:00&lt;00:00, 10.5MB/s]"
          }
        },
        "47d86f1c5fa34dac8823208b5a04e017": {
          "model_module": "@jupyter-widgets/base",
          "model_name": "LayoutModel",
          "model_module_version": "1.2.0",
          "state": {
            "_model_module": "@jupyter-widgets/base",
            "_model_module_version": "1.2.0",
            "_model_name": "LayoutModel",
            "_view_count": null,
            "_view_module": "@jupyter-widgets/base",
            "_view_module_version": "1.2.0",
            "_view_name": "LayoutView",
            "align_content": null,
            "align_items": null,
            "align_self": null,
            "border": null,
            "bottom": null,
            "display": null,
            "flex": null,
            "flex_flow": null,
            "grid_area": null,
            "grid_auto_columns": null,
            "grid_auto_flow": null,
            "grid_auto_rows": null,
            "grid_column": null,
            "grid_gap": null,
            "grid_row": null,
            "grid_template_areas": null,
            "grid_template_columns": null,
            "grid_template_rows": null,
            "height": null,
            "justify_content": null,
            "justify_items": null,
            "left": null,
            "margin": null,
            "max_height": null,
            "max_width": null,
            "min_height": null,
            "min_width": null,
            "object_fit": null,
            "object_position": null,
            "order": null,
            "overflow": null,
            "overflow_x": null,
            "overflow_y": null,
            "padding": null,
            "right": null,
            "top": null,
            "visibility": null,
            "width": null
          }
        },
        "cb5338ecc720460a915421e734578732": {
          "model_module": "@jupyter-widgets/base",
          "model_name": "LayoutModel",
          "model_module_version": "1.2.0",
          "state": {
            "_model_module": "@jupyter-widgets/base",
            "_model_module_version": "1.2.0",
            "_model_name": "LayoutModel",
            "_view_count": null,
            "_view_module": "@jupyter-widgets/base",
            "_view_module_version": "1.2.0",
            "_view_name": "LayoutView",
            "align_content": null,
            "align_items": null,
            "align_self": null,
            "border": null,
            "bottom": null,
            "display": null,
            "flex": null,
            "flex_flow": null,
            "grid_area": null,
            "grid_auto_columns": null,
            "grid_auto_flow": null,
            "grid_auto_rows": null,
            "grid_column": null,
            "grid_gap": null,
            "grid_row": null,
            "grid_template_areas": null,
            "grid_template_columns": null,
            "grid_template_rows": null,
            "height": null,
            "justify_content": null,
            "justify_items": null,
            "left": null,
            "margin": null,
            "max_height": null,
            "max_width": null,
            "min_height": null,
            "min_width": null,
            "object_fit": null,
            "object_position": null,
            "order": null,
            "overflow": null,
            "overflow_x": null,
            "overflow_y": null,
            "padding": null,
            "right": null,
            "top": null,
            "visibility": null,
            "width": null
          }
        },
        "19e625a711174495876f01dde0aa3565": {
          "model_module": "@jupyter-widgets/controls",
          "model_name": "DescriptionStyleModel",
          "model_module_version": "1.5.0",
          "state": {
            "_model_module": "@jupyter-widgets/controls",
            "_model_module_version": "1.5.0",
            "_model_name": "DescriptionStyleModel",
            "_view_count": null,
            "_view_module": "@jupyter-widgets/base",
            "_view_module_version": "1.2.0",
            "_view_name": "StyleView",
            "description_width": ""
          }
        },
        "cee7ddc7a11646aa91041baf11639de2": {
          "model_module": "@jupyter-widgets/base",
          "model_name": "LayoutModel",
          "model_module_version": "1.2.0",
          "state": {
            "_model_module": "@jupyter-widgets/base",
            "_model_module_version": "1.2.0",
            "_model_name": "LayoutModel",
            "_view_count": null,
            "_view_module": "@jupyter-widgets/base",
            "_view_module_version": "1.2.0",
            "_view_name": "LayoutView",
            "align_content": null,
            "align_items": null,
            "align_self": null,
            "border": null,
            "bottom": null,
            "display": null,
            "flex": null,
            "flex_flow": null,
            "grid_area": null,
            "grid_auto_columns": null,
            "grid_auto_flow": null,
            "grid_auto_rows": null,
            "grid_column": null,
            "grid_gap": null,
            "grid_row": null,
            "grid_template_areas": null,
            "grid_template_columns": null,
            "grid_template_rows": null,
            "height": null,
            "justify_content": null,
            "justify_items": null,
            "left": null,
            "margin": null,
            "max_height": null,
            "max_width": null,
            "min_height": null,
            "min_width": null,
            "object_fit": null,
            "object_position": null,
            "order": null,
            "overflow": null,
            "overflow_x": null,
            "overflow_y": null,
            "padding": null,
            "right": null,
            "top": null,
            "visibility": null,
            "width": null
          }
        },
        "9a0a14a110ab4b008c164388e58dfc64": {
          "model_module": "@jupyter-widgets/controls",
          "model_name": "ProgressStyleModel",
          "model_module_version": "1.5.0",
          "state": {
            "_model_module": "@jupyter-widgets/controls",
            "_model_module_version": "1.5.0",
            "_model_name": "ProgressStyleModel",
            "_view_count": null,
            "_view_module": "@jupyter-widgets/base",
            "_view_module_version": "1.2.0",
            "_view_name": "StyleView",
            "bar_color": null,
            "description_width": ""
          }
        },
        "539082d4c1764b68ab768a8ee2e195a9": {
          "model_module": "@jupyter-widgets/base",
          "model_name": "LayoutModel",
          "model_module_version": "1.2.0",
          "state": {
            "_model_module": "@jupyter-widgets/base",
            "_model_module_version": "1.2.0",
            "_model_name": "LayoutModel",
            "_view_count": null,
            "_view_module": "@jupyter-widgets/base",
            "_view_module_version": "1.2.0",
            "_view_name": "LayoutView",
            "align_content": null,
            "align_items": null,
            "align_self": null,
            "border": null,
            "bottom": null,
            "display": null,
            "flex": null,
            "flex_flow": null,
            "grid_area": null,
            "grid_auto_columns": null,
            "grid_auto_flow": null,
            "grid_auto_rows": null,
            "grid_column": null,
            "grid_gap": null,
            "grid_row": null,
            "grid_template_areas": null,
            "grid_template_columns": null,
            "grid_template_rows": null,
            "height": null,
            "justify_content": null,
            "justify_items": null,
            "left": null,
            "margin": null,
            "max_height": null,
            "max_width": null,
            "min_height": null,
            "min_width": null,
            "object_fit": null,
            "object_position": null,
            "order": null,
            "overflow": null,
            "overflow_x": null,
            "overflow_y": null,
            "padding": null,
            "right": null,
            "top": null,
            "visibility": null,
            "width": null
          }
        },
        "f8d6e24a36ad44a6a6313800971c3092": {
          "model_module": "@jupyter-widgets/controls",
          "model_name": "DescriptionStyleModel",
          "model_module_version": "1.5.0",
          "state": {
            "_model_module": "@jupyter-widgets/controls",
            "_model_module_version": "1.5.0",
            "_model_name": "DescriptionStyleModel",
            "_view_count": null,
            "_view_module": "@jupyter-widgets/base",
            "_view_module_version": "1.2.0",
            "_view_name": "StyleView",
            "description_width": ""
          }
        },
        "c01f3472bbed4402b7897a80bfc3e733": {
          "model_module": "@jupyter-widgets/controls",
          "model_name": "HBoxModel",
          "model_module_version": "1.5.0",
          "state": {
            "_dom_classes": [],
            "_model_module": "@jupyter-widgets/controls",
            "_model_module_version": "1.5.0",
            "_model_name": "HBoxModel",
            "_view_count": null,
            "_view_module": "@jupyter-widgets/controls",
            "_view_module_version": "1.5.0",
            "_view_name": "HBoxView",
            "box_style": "",
            "children": [
              "IPY_MODEL_e85db085f7ef4727b015cb36bd296b42",
              "IPY_MODEL_4e7c57c2c70e4469b895fd3aebc3c100",
              "IPY_MODEL_f70a928ffe174cc49e52293e13722776"
            ],
            "layout": "IPY_MODEL_7baaea4551a8404da11a455d6766aa5c"
          }
        },
        "e85db085f7ef4727b015cb36bd296b42": {
          "model_module": "@jupyter-widgets/controls",
          "model_name": "HTMLModel",
          "model_module_version": "1.5.0",
          "state": {
            "_dom_classes": [],
            "_model_module": "@jupyter-widgets/controls",
            "_model_module_version": "1.5.0",
            "_model_name": "HTMLModel",
            "_view_count": null,
            "_view_module": "@jupyter-widgets/controls",
            "_view_module_version": "1.5.0",
            "_view_name": "HTMLView",
            "description": "",
            "description_tooltip": null,
            "layout": "IPY_MODEL_15789ce7878d43d2a8b71ea35f26ce1f",
            "placeholder": "​",
            "style": "IPY_MODEL_6a9d7726c2244483b19c8fdfcad6c8d5",
            "value": "Generating train split: 100%"
          }
        },
        "4e7c57c2c70e4469b895fd3aebc3c100": {
          "model_module": "@jupyter-widgets/controls",
          "model_name": "FloatProgressModel",
          "model_module_version": "1.5.0",
          "state": {
            "_dom_classes": [],
            "_model_module": "@jupyter-widgets/controls",
            "_model_module_version": "1.5.0",
            "_model_name": "FloatProgressModel",
            "_view_count": null,
            "_view_module": "@jupyter-widgets/controls",
            "_view_module_version": "1.5.0",
            "_view_name": "ProgressView",
            "bar_style": "success",
            "description": "",
            "description_tooltip": null,
            "layout": "IPY_MODEL_8b98b0d7eb87405fa9b8d5b05dc33103",
            "max": 65,
            "min": 0,
            "orientation": "horizontal",
            "style": "IPY_MODEL_55d9df8a02da489ead2fb7ee35edc005",
            "value": 65
          }
        },
        "f70a928ffe174cc49e52293e13722776": {
          "model_module": "@jupyter-widgets/controls",
          "model_name": "HTMLModel",
          "model_module_version": "1.5.0",
          "state": {
            "_dom_classes": [],
            "_model_module": "@jupyter-widgets/controls",
            "_model_module_version": "1.5.0",
            "_model_name": "HTMLModel",
            "_view_count": null,
            "_view_module": "@jupyter-widgets/controls",
            "_view_module_version": "1.5.0",
            "_view_name": "HTMLView",
            "description": "",
            "description_tooltip": null,
            "layout": "IPY_MODEL_3d7d4874940249ce9dd9fea093c4c639",
            "placeholder": "​",
            "style": "IPY_MODEL_98c461a8dfc34143b766aceb9e4a2fdf",
            "value": " 65/65 [00:00&lt;00:00, 1499.55 examples/s]"
          }
        },
        "7baaea4551a8404da11a455d6766aa5c": {
          "model_module": "@jupyter-widgets/base",
          "model_name": "LayoutModel",
          "model_module_version": "1.2.0",
          "state": {
            "_model_module": "@jupyter-widgets/base",
            "_model_module_version": "1.2.0",
            "_model_name": "LayoutModel",
            "_view_count": null,
            "_view_module": "@jupyter-widgets/base",
            "_view_module_version": "1.2.0",
            "_view_name": "LayoutView",
            "align_content": null,
            "align_items": null,
            "align_self": null,
            "border": null,
            "bottom": null,
            "display": null,
            "flex": null,
            "flex_flow": null,
            "grid_area": null,
            "grid_auto_columns": null,
            "grid_auto_flow": null,
            "grid_auto_rows": null,
            "grid_column": null,
            "grid_gap": null,
            "grid_row": null,
            "grid_template_areas": null,
            "grid_template_columns": null,
            "grid_template_rows": null,
            "height": null,
            "justify_content": null,
            "justify_items": null,
            "left": null,
            "margin": null,
            "max_height": null,
            "max_width": null,
            "min_height": null,
            "min_width": null,
            "object_fit": null,
            "object_position": null,
            "order": null,
            "overflow": null,
            "overflow_x": null,
            "overflow_y": null,
            "padding": null,
            "right": null,
            "top": null,
            "visibility": null,
            "width": null
          }
        },
        "15789ce7878d43d2a8b71ea35f26ce1f": {
          "model_module": "@jupyter-widgets/base",
          "model_name": "LayoutModel",
          "model_module_version": "1.2.0",
          "state": {
            "_model_module": "@jupyter-widgets/base",
            "_model_module_version": "1.2.0",
            "_model_name": "LayoutModel",
            "_view_count": null,
            "_view_module": "@jupyter-widgets/base",
            "_view_module_version": "1.2.0",
            "_view_name": "LayoutView",
            "align_content": null,
            "align_items": null,
            "align_self": null,
            "border": null,
            "bottom": null,
            "display": null,
            "flex": null,
            "flex_flow": null,
            "grid_area": null,
            "grid_auto_columns": null,
            "grid_auto_flow": null,
            "grid_auto_rows": null,
            "grid_column": null,
            "grid_gap": null,
            "grid_row": null,
            "grid_template_areas": null,
            "grid_template_columns": null,
            "grid_template_rows": null,
            "height": null,
            "justify_content": null,
            "justify_items": null,
            "left": null,
            "margin": null,
            "max_height": null,
            "max_width": null,
            "min_height": null,
            "min_width": null,
            "object_fit": null,
            "object_position": null,
            "order": null,
            "overflow": null,
            "overflow_x": null,
            "overflow_y": null,
            "padding": null,
            "right": null,
            "top": null,
            "visibility": null,
            "width": null
          }
        },
        "6a9d7726c2244483b19c8fdfcad6c8d5": {
          "model_module": "@jupyter-widgets/controls",
          "model_name": "DescriptionStyleModel",
          "model_module_version": "1.5.0",
          "state": {
            "_model_module": "@jupyter-widgets/controls",
            "_model_module_version": "1.5.0",
            "_model_name": "DescriptionStyleModel",
            "_view_count": null,
            "_view_module": "@jupyter-widgets/base",
            "_view_module_version": "1.2.0",
            "_view_name": "StyleView",
            "description_width": ""
          }
        },
        "8b98b0d7eb87405fa9b8d5b05dc33103": {
          "model_module": "@jupyter-widgets/base",
          "model_name": "LayoutModel",
          "model_module_version": "1.2.0",
          "state": {
            "_model_module": "@jupyter-widgets/base",
            "_model_module_version": "1.2.0",
            "_model_name": "LayoutModel",
            "_view_count": null,
            "_view_module": "@jupyter-widgets/base",
            "_view_module_version": "1.2.0",
            "_view_name": "LayoutView",
            "align_content": null,
            "align_items": null,
            "align_self": null,
            "border": null,
            "bottom": null,
            "display": null,
            "flex": null,
            "flex_flow": null,
            "grid_area": null,
            "grid_auto_columns": null,
            "grid_auto_flow": null,
            "grid_auto_rows": null,
            "grid_column": null,
            "grid_gap": null,
            "grid_row": null,
            "grid_template_areas": null,
            "grid_template_columns": null,
            "grid_template_rows": null,
            "height": null,
            "justify_content": null,
            "justify_items": null,
            "left": null,
            "margin": null,
            "max_height": null,
            "max_width": null,
            "min_height": null,
            "min_width": null,
            "object_fit": null,
            "object_position": null,
            "order": null,
            "overflow": null,
            "overflow_x": null,
            "overflow_y": null,
            "padding": null,
            "right": null,
            "top": null,
            "visibility": null,
            "width": null
          }
        },
        "55d9df8a02da489ead2fb7ee35edc005": {
          "model_module": "@jupyter-widgets/controls",
          "model_name": "ProgressStyleModel",
          "model_module_version": "1.5.0",
          "state": {
            "_model_module": "@jupyter-widgets/controls",
            "_model_module_version": "1.5.0",
            "_model_name": "ProgressStyleModel",
            "_view_count": null,
            "_view_module": "@jupyter-widgets/base",
            "_view_module_version": "1.2.0",
            "_view_name": "StyleView",
            "bar_color": null,
            "description_width": ""
          }
        },
        "3d7d4874940249ce9dd9fea093c4c639": {
          "model_module": "@jupyter-widgets/base",
          "model_name": "LayoutModel",
          "model_module_version": "1.2.0",
          "state": {
            "_model_module": "@jupyter-widgets/base",
            "_model_module_version": "1.2.0",
            "_model_name": "LayoutModel",
            "_view_count": null,
            "_view_module": "@jupyter-widgets/base",
            "_view_module_version": "1.2.0",
            "_view_name": "LayoutView",
            "align_content": null,
            "align_items": null,
            "align_self": null,
            "border": null,
            "bottom": null,
            "display": null,
            "flex": null,
            "flex_flow": null,
            "grid_area": null,
            "grid_auto_columns": null,
            "grid_auto_flow": null,
            "grid_auto_rows": null,
            "grid_column": null,
            "grid_gap": null,
            "grid_row": null,
            "grid_template_areas": null,
            "grid_template_columns": null,
            "grid_template_rows": null,
            "height": null,
            "justify_content": null,
            "justify_items": null,
            "left": null,
            "margin": null,
            "max_height": null,
            "max_width": null,
            "min_height": null,
            "min_width": null,
            "object_fit": null,
            "object_position": null,
            "order": null,
            "overflow": null,
            "overflow_x": null,
            "overflow_y": null,
            "padding": null,
            "right": null,
            "top": null,
            "visibility": null,
            "width": null
          }
        },
        "98c461a8dfc34143b766aceb9e4a2fdf": {
          "model_module": "@jupyter-widgets/controls",
          "model_name": "DescriptionStyleModel",
          "model_module_version": "1.5.0",
          "state": {
            "_model_module": "@jupyter-widgets/controls",
            "_model_module_version": "1.5.0",
            "_model_name": "DescriptionStyleModel",
            "_view_count": null,
            "_view_module": "@jupyter-widgets/base",
            "_view_module_version": "1.2.0",
            "_view_name": "StyleView",
            "description_width": ""
          }
        },
        "671dc41e297b4c3c898b1775cadd21d8": {
          "model_module": "@jupyter-widgets/controls",
          "model_name": "HBoxModel",
          "model_module_version": "1.5.0",
          "state": {
            "_dom_classes": [],
            "_model_module": "@jupyter-widgets/controls",
            "_model_module_version": "1.5.0",
            "_model_name": "HBoxModel",
            "_view_count": null,
            "_view_module": "@jupyter-widgets/controls",
            "_view_module_version": "1.5.0",
            "_view_name": "HBoxView",
            "box_style": "",
            "children": [
              "IPY_MODEL_214a4a4749c94cd08206ca92dda2fa88",
              "IPY_MODEL_7326edfe7f174edd868074501036216a",
              "IPY_MODEL_04df7f685be04b0a89b6d2452a793281"
            ],
            "layout": "IPY_MODEL_e9f5c979ef0540d4b27a855929c64839"
          }
        },
        "214a4a4749c94cd08206ca92dda2fa88": {
          "model_module": "@jupyter-widgets/controls",
          "model_name": "HTMLModel",
          "model_module_version": "1.5.0",
          "state": {
            "_dom_classes": [],
            "_model_module": "@jupyter-widgets/controls",
            "_model_module_version": "1.5.0",
            "_model_name": "HTMLModel",
            "_view_count": null,
            "_view_module": "@jupyter-widgets/controls",
            "_view_module_version": "1.5.0",
            "_view_name": "HTMLView",
            "description": "",
            "description_tooltip": null,
            "layout": "IPY_MODEL_6337f6af97864d758ae8a20d56f8cca5",
            "placeholder": "​",
            "style": "IPY_MODEL_e9418b18a02a4bb8ac7303b11c1bf979",
            "value": ""
          }
        },
        "7326edfe7f174edd868074501036216a": {
          "model_module": "@jupyter-widgets/controls",
          "model_name": "FloatProgressModel",
          "model_module_version": "1.5.0",
          "state": {
            "_dom_classes": [],
            "_model_module": "@jupyter-widgets/controls",
            "_model_module_version": "1.5.0",
            "_model_name": "FloatProgressModel",
            "_view_count": null,
            "_view_module": "@jupyter-widgets/controls",
            "_view_module_version": "1.5.0",
            "_view_name": "ProgressView",
            "bar_style": "success",
            "description": "",
            "description_tooltip": null,
            "layout": "IPY_MODEL_776513e806ed4b6b95ff1b3b49de2199",
            "max": 1,
            "min": 0,
            "orientation": "horizontal",
            "style": "IPY_MODEL_b8cbc6ab9fe644ffa2bb77c9e4b23644",
            "value": 0
          }
        },
        "04df7f685be04b0a89b6d2452a793281": {
          "model_module": "@jupyter-widgets/controls",
          "model_name": "HTMLModel",
          "model_module_version": "1.5.0",
          "state": {
            "_dom_classes": [],
            "_model_module": "@jupyter-widgets/controls",
            "_model_module_version": "1.5.0",
            "_model_name": "HTMLModel",
            "_view_count": null,
            "_view_module": "@jupyter-widgets/controls",
            "_view_module_version": "1.5.0",
            "_view_name": "HTMLView",
            "description": "",
            "description_tooltip": null,
            "layout": "IPY_MODEL_a5e14b34af84411482851c315464d6fe",
            "placeholder": "​",
            "style": "IPY_MODEL_8226e07d36db4e9ea4c702f679d75db4",
            "value": " 0/0 [00:00&lt;?, ?it/s]"
          }
        },
        "e9f5c979ef0540d4b27a855929c64839": {
          "model_module": "@jupyter-widgets/base",
          "model_name": "LayoutModel",
          "model_module_version": "1.2.0",
          "state": {
            "_model_module": "@jupyter-widgets/base",
            "_model_module_version": "1.2.0",
            "_model_name": "LayoutModel",
            "_view_count": null,
            "_view_module": "@jupyter-widgets/base",
            "_view_module_version": "1.2.0",
            "_view_name": "LayoutView",
            "align_content": null,
            "align_items": null,
            "align_self": null,
            "border": null,
            "bottom": null,
            "display": null,
            "flex": null,
            "flex_flow": null,
            "grid_area": null,
            "grid_auto_columns": null,
            "grid_auto_flow": null,
            "grid_auto_rows": null,
            "grid_column": null,
            "grid_gap": null,
            "grid_row": null,
            "grid_template_areas": null,
            "grid_template_columns": null,
            "grid_template_rows": null,
            "height": null,
            "justify_content": null,
            "justify_items": null,
            "left": null,
            "margin": null,
            "max_height": null,
            "max_width": null,
            "min_height": null,
            "min_width": null,
            "object_fit": null,
            "object_position": null,
            "order": null,
            "overflow": null,
            "overflow_x": null,
            "overflow_y": null,
            "padding": null,
            "right": null,
            "top": null,
            "visibility": null,
            "width": null
          }
        },
        "6337f6af97864d758ae8a20d56f8cca5": {
          "model_module": "@jupyter-widgets/base",
          "model_name": "LayoutModel",
          "model_module_version": "1.2.0",
          "state": {
            "_model_module": "@jupyter-widgets/base",
            "_model_module_version": "1.2.0",
            "_model_name": "LayoutModel",
            "_view_count": null,
            "_view_module": "@jupyter-widgets/base",
            "_view_module_version": "1.2.0",
            "_view_name": "LayoutView",
            "align_content": null,
            "align_items": null,
            "align_self": null,
            "border": null,
            "bottom": null,
            "display": null,
            "flex": null,
            "flex_flow": null,
            "grid_area": null,
            "grid_auto_columns": null,
            "grid_auto_flow": null,
            "grid_auto_rows": null,
            "grid_column": null,
            "grid_gap": null,
            "grid_row": null,
            "grid_template_areas": null,
            "grid_template_columns": null,
            "grid_template_rows": null,
            "height": null,
            "justify_content": null,
            "justify_items": null,
            "left": null,
            "margin": null,
            "max_height": null,
            "max_width": null,
            "min_height": null,
            "min_width": null,
            "object_fit": null,
            "object_position": null,
            "order": null,
            "overflow": null,
            "overflow_x": null,
            "overflow_y": null,
            "padding": null,
            "right": null,
            "top": null,
            "visibility": null,
            "width": null
          }
        },
        "e9418b18a02a4bb8ac7303b11c1bf979": {
          "model_module": "@jupyter-widgets/controls",
          "model_name": "DescriptionStyleModel",
          "model_module_version": "1.5.0",
          "state": {
            "_model_module": "@jupyter-widgets/controls",
            "_model_module_version": "1.5.0",
            "_model_name": "DescriptionStyleModel",
            "_view_count": null,
            "_view_module": "@jupyter-widgets/base",
            "_view_module_version": "1.2.0",
            "_view_name": "StyleView",
            "description_width": ""
          }
        },
        "776513e806ed4b6b95ff1b3b49de2199": {
          "model_module": "@jupyter-widgets/base",
          "model_name": "LayoutModel",
          "model_module_version": "1.2.0",
          "state": {
            "_model_module": "@jupyter-widgets/base",
            "_model_module_version": "1.2.0",
            "_model_name": "LayoutModel",
            "_view_count": null,
            "_view_module": "@jupyter-widgets/base",
            "_view_module_version": "1.2.0",
            "_view_name": "LayoutView",
            "align_content": null,
            "align_items": null,
            "align_self": null,
            "border": null,
            "bottom": null,
            "display": null,
            "flex": null,
            "flex_flow": null,
            "grid_area": null,
            "grid_auto_columns": null,
            "grid_auto_flow": null,
            "grid_auto_rows": null,
            "grid_column": null,
            "grid_gap": null,
            "grid_row": null,
            "grid_template_areas": null,
            "grid_template_columns": null,
            "grid_template_rows": null,
            "height": null,
            "justify_content": null,
            "justify_items": null,
            "left": null,
            "margin": null,
            "max_height": null,
            "max_width": null,
            "min_height": null,
            "min_width": null,
            "object_fit": null,
            "object_position": null,
            "order": null,
            "overflow": null,
            "overflow_x": null,
            "overflow_y": null,
            "padding": null,
            "right": null,
            "top": null,
            "visibility": null,
            "width": "20px"
          }
        },
        "b8cbc6ab9fe644ffa2bb77c9e4b23644": {
          "model_module": "@jupyter-widgets/controls",
          "model_name": "ProgressStyleModel",
          "model_module_version": "1.5.0",
          "state": {
            "_model_module": "@jupyter-widgets/controls",
            "_model_module_version": "1.5.0",
            "_model_name": "ProgressStyleModel",
            "_view_count": null,
            "_view_module": "@jupyter-widgets/base",
            "_view_module_version": "1.2.0",
            "_view_name": "StyleView",
            "bar_color": null,
            "description_width": ""
          }
        },
        "a5e14b34af84411482851c315464d6fe": {
          "model_module": "@jupyter-widgets/base",
          "model_name": "LayoutModel",
          "model_module_version": "1.2.0",
          "state": {
            "_model_module": "@jupyter-widgets/base",
            "_model_module_version": "1.2.0",
            "_model_name": "LayoutModel",
            "_view_count": null,
            "_view_module": "@jupyter-widgets/base",
            "_view_module_version": "1.2.0",
            "_view_name": "LayoutView",
            "align_content": null,
            "align_items": null,
            "align_self": null,
            "border": null,
            "bottom": null,
            "display": null,
            "flex": null,
            "flex_flow": null,
            "grid_area": null,
            "grid_auto_columns": null,
            "grid_auto_flow": null,
            "grid_auto_rows": null,
            "grid_column": null,
            "grid_gap": null,
            "grid_row": null,
            "grid_template_areas": null,
            "grid_template_columns": null,
            "grid_template_rows": null,
            "height": null,
            "justify_content": null,
            "justify_items": null,
            "left": null,
            "margin": null,
            "max_height": null,
            "max_width": null,
            "min_height": null,
            "min_width": null,
            "object_fit": null,
            "object_position": null,
            "order": null,
            "overflow": null,
            "overflow_x": null,
            "overflow_y": null,
            "padding": null,
            "right": null,
            "top": null,
            "visibility": null,
            "width": null
          }
        },
        "8226e07d36db4e9ea4c702f679d75db4": {
          "model_module": "@jupyter-widgets/controls",
          "model_name": "DescriptionStyleModel",
          "model_module_version": "1.5.0",
          "state": {
            "_model_module": "@jupyter-widgets/controls",
            "_model_module_version": "1.5.0",
            "_model_name": "DescriptionStyleModel",
            "_view_count": null,
            "_view_module": "@jupyter-widgets/base",
            "_view_module_version": "1.2.0",
            "_view_name": "StyleView",
            "description_width": ""
          }
        },
        "862b503405aa47d29e689925dbd2a69f": {
          "model_module": "@jupyter-widgets/controls",
          "model_name": "HBoxModel",
          "model_module_version": "1.5.0",
          "state": {
            "_dom_classes": [],
            "_model_module": "@jupyter-widgets/controls",
            "_model_module_version": "1.5.0",
            "_model_name": "HBoxModel",
            "_view_count": null,
            "_view_module": "@jupyter-widgets/controls",
            "_view_module_version": "1.5.0",
            "_view_name": "HBoxView",
            "box_style": "",
            "children": [
              "IPY_MODEL_7ff6cdfbd0c14a40a972920ffa6d778b",
              "IPY_MODEL_6e033e4f29aa48d589a3bf99c7bc82ef",
              "IPY_MODEL_15897e9d3308408aa68a1ddb4a3143ad"
            ],
            "layout": "IPY_MODEL_af7cb7eb977a45609644c9ecb98ca987"
          }
        },
        "7ff6cdfbd0c14a40a972920ffa6d778b": {
          "model_module": "@jupyter-widgets/controls",
          "model_name": "HTMLModel",
          "model_module_version": "1.5.0",
          "state": {
            "_dom_classes": [],
            "_model_module": "@jupyter-widgets/controls",
            "_model_module_version": "1.5.0",
            "_model_name": "HTMLModel",
            "_view_count": null,
            "_view_module": "@jupyter-widgets/controls",
            "_view_module_version": "1.5.0",
            "_view_name": "HTMLView",
            "description": "",
            "description_tooltip": null,
            "layout": "IPY_MODEL_c85f0e2fa0da45c88b66f3599b6c3413",
            "placeholder": "​",
            "style": "IPY_MODEL_896ade8424414afd8661707ad7887b9f",
            "value": "tokenizer_config.json: 100%"
          }
        },
        "6e033e4f29aa48d589a3bf99c7bc82ef": {
          "model_module": "@jupyter-widgets/controls",
          "model_name": "FloatProgressModel",
          "model_module_version": "1.5.0",
          "state": {
            "_dom_classes": [],
            "_model_module": "@jupyter-widgets/controls",
            "_model_module_version": "1.5.0",
            "_model_name": "FloatProgressModel",
            "_view_count": null,
            "_view_module": "@jupyter-widgets/controls",
            "_view_module_version": "1.5.0",
            "_view_name": "ProgressView",
            "bar_style": "success",
            "description": "",
            "description_tooltip": null,
            "layout": "IPY_MODEL_5ced8d3195a34bb0ade9fea6204ec556",
            "max": 1173,
            "min": 0,
            "orientation": "horizontal",
            "style": "IPY_MODEL_2a11cf872b3c4d07938da26ee1911bd9",
            "value": 1173
          }
        },
        "15897e9d3308408aa68a1ddb4a3143ad": {
          "model_module": "@jupyter-widgets/controls",
          "model_name": "HTMLModel",
          "model_module_version": "1.5.0",
          "state": {
            "_dom_classes": [],
            "_model_module": "@jupyter-widgets/controls",
            "_model_module_version": "1.5.0",
            "_model_name": "HTMLModel",
            "_view_count": null,
            "_view_module": "@jupyter-widgets/controls",
            "_view_module_version": "1.5.0",
            "_view_name": "HTMLView",
            "description": "",
            "description_tooltip": null,
            "layout": "IPY_MODEL_068ce9ec768649cf870cdc238ce02464",
            "placeholder": "​",
            "style": "IPY_MODEL_fbbe0f71920b4d7e9a96bebb3c48acb8",
            "value": " 1.17k/1.17k [00:00&lt;00:00, 19.0kB/s]"
          }
        },
        "af7cb7eb977a45609644c9ecb98ca987": {
          "model_module": "@jupyter-widgets/base",
          "model_name": "LayoutModel",
          "model_module_version": "1.2.0",
          "state": {
            "_model_module": "@jupyter-widgets/base",
            "_model_module_version": "1.2.0",
            "_model_name": "LayoutModel",
            "_view_count": null,
            "_view_module": "@jupyter-widgets/base",
            "_view_module_version": "1.2.0",
            "_view_name": "LayoutView",
            "align_content": null,
            "align_items": null,
            "align_self": null,
            "border": null,
            "bottom": null,
            "display": null,
            "flex": null,
            "flex_flow": null,
            "grid_area": null,
            "grid_auto_columns": null,
            "grid_auto_flow": null,
            "grid_auto_rows": null,
            "grid_column": null,
            "grid_gap": null,
            "grid_row": null,
            "grid_template_areas": null,
            "grid_template_columns": null,
            "grid_template_rows": null,
            "height": null,
            "justify_content": null,
            "justify_items": null,
            "left": null,
            "margin": null,
            "max_height": null,
            "max_width": null,
            "min_height": null,
            "min_width": null,
            "object_fit": null,
            "object_position": null,
            "order": null,
            "overflow": null,
            "overflow_x": null,
            "overflow_y": null,
            "padding": null,
            "right": null,
            "top": null,
            "visibility": null,
            "width": null
          }
        },
        "c85f0e2fa0da45c88b66f3599b6c3413": {
          "model_module": "@jupyter-widgets/base",
          "model_name": "LayoutModel",
          "model_module_version": "1.2.0",
          "state": {
            "_model_module": "@jupyter-widgets/base",
            "_model_module_version": "1.2.0",
            "_model_name": "LayoutModel",
            "_view_count": null,
            "_view_module": "@jupyter-widgets/base",
            "_view_module_version": "1.2.0",
            "_view_name": "LayoutView",
            "align_content": null,
            "align_items": null,
            "align_self": null,
            "border": null,
            "bottom": null,
            "display": null,
            "flex": null,
            "flex_flow": null,
            "grid_area": null,
            "grid_auto_columns": null,
            "grid_auto_flow": null,
            "grid_auto_rows": null,
            "grid_column": null,
            "grid_gap": null,
            "grid_row": null,
            "grid_template_areas": null,
            "grid_template_columns": null,
            "grid_template_rows": null,
            "height": null,
            "justify_content": null,
            "justify_items": null,
            "left": null,
            "margin": null,
            "max_height": null,
            "max_width": null,
            "min_height": null,
            "min_width": null,
            "object_fit": null,
            "object_position": null,
            "order": null,
            "overflow": null,
            "overflow_x": null,
            "overflow_y": null,
            "padding": null,
            "right": null,
            "top": null,
            "visibility": null,
            "width": null
          }
        },
        "896ade8424414afd8661707ad7887b9f": {
          "model_module": "@jupyter-widgets/controls",
          "model_name": "DescriptionStyleModel",
          "model_module_version": "1.5.0",
          "state": {
            "_model_module": "@jupyter-widgets/controls",
            "_model_module_version": "1.5.0",
            "_model_name": "DescriptionStyleModel",
            "_view_count": null,
            "_view_module": "@jupyter-widgets/base",
            "_view_module_version": "1.2.0",
            "_view_name": "StyleView",
            "description_width": ""
          }
        },
        "5ced8d3195a34bb0ade9fea6204ec556": {
          "model_module": "@jupyter-widgets/base",
          "model_name": "LayoutModel",
          "model_module_version": "1.2.0",
          "state": {
            "_model_module": "@jupyter-widgets/base",
            "_model_module_version": "1.2.0",
            "_model_name": "LayoutModel",
            "_view_count": null,
            "_view_module": "@jupyter-widgets/base",
            "_view_module_version": "1.2.0",
            "_view_name": "LayoutView",
            "align_content": null,
            "align_items": null,
            "align_self": null,
            "border": null,
            "bottom": null,
            "display": null,
            "flex": null,
            "flex_flow": null,
            "grid_area": null,
            "grid_auto_columns": null,
            "grid_auto_flow": null,
            "grid_auto_rows": null,
            "grid_column": null,
            "grid_gap": null,
            "grid_row": null,
            "grid_template_areas": null,
            "grid_template_columns": null,
            "grid_template_rows": null,
            "height": null,
            "justify_content": null,
            "justify_items": null,
            "left": null,
            "margin": null,
            "max_height": null,
            "max_width": null,
            "min_height": null,
            "min_width": null,
            "object_fit": null,
            "object_position": null,
            "order": null,
            "overflow": null,
            "overflow_x": null,
            "overflow_y": null,
            "padding": null,
            "right": null,
            "top": null,
            "visibility": null,
            "width": null
          }
        },
        "2a11cf872b3c4d07938da26ee1911bd9": {
          "model_module": "@jupyter-widgets/controls",
          "model_name": "ProgressStyleModel",
          "model_module_version": "1.5.0",
          "state": {
            "_model_module": "@jupyter-widgets/controls",
            "_model_module_version": "1.5.0",
            "_model_name": "ProgressStyleModel",
            "_view_count": null,
            "_view_module": "@jupyter-widgets/base",
            "_view_module_version": "1.2.0",
            "_view_name": "StyleView",
            "bar_color": null,
            "description_width": ""
          }
        },
        "068ce9ec768649cf870cdc238ce02464": {
          "model_module": "@jupyter-widgets/base",
          "model_name": "LayoutModel",
          "model_module_version": "1.2.0",
          "state": {
            "_model_module": "@jupyter-widgets/base",
            "_model_module_version": "1.2.0",
            "_model_name": "LayoutModel",
            "_view_count": null,
            "_view_module": "@jupyter-widgets/base",
            "_view_module_version": "1.2.0",
            "_view_name": "LayoutView",
            "align_content": null,
            "align_items": null,
            "align_self": null,
            "border": null,
            "bottom": null,
            "display": null,
            "flex": null,
            "flex_flow": null,
            "grid_area": null,
            "grid_auto_columns": null,
            "grid_auto_flow": null,
            "grid_auto_rows": null,
            "grid_column": null,
            "grid_gap": null,
            "grid_row": null,
            "grid_template_areas": null,
            "grid_template_columns": null,
            "grid_template_rows": null,
            "height": null,
            "justify_content": null,
            "justify_items": null,
            "left": null,
            "margin": null,
            "max_height": null,
            "max_width": null,
            "min_height": null,
            "min_width": null,
            "object_fit": null,
            "object_position": null,
            "order": null,
            "overflow": null,
            "overflow_x": null,
            "overflow_y": null,
            "padding": null,
            "right": null,
            "top": null,
            "visibility": null,
            "width": null
          }
        },
        "fbbe0f71920b4d7e9a96bebb3c48acb8": {
          "model_module": "@jupyter-widgets/controls",
          "model_name": "DescriptionStyleModel",
          "model_module_version": "1.5.0",
          "state": {
            "_model_module": "@jupyter-widgets/controls",
            "_model_module_version": "1.5.0",
            "_model_name": "DescriptionStyleModel",
            "_view_count": null,
            "_view_module": "@jupyter-widgets/base",
            "_view_module_version": "1.2.0",
            "_view_name": "StyleView",
            "description_width": ""
          }
        },
        "f0dbe83e48aa45749bf15250da5b3a7e": {
          "model_module": "@jupyter-widgets/controls",
          "model_name": "HBoxModel",
          "model_module_version": "1.5.0",
          "state": {
            "_dom_classes": [],
            "_model_module": "@jupyter-widgets/controls",
            "_model_module_version": "1.5.0",
            "_model_name": "HBoxModel",
            "_view_count": null,
            "_view_module": "@jupyter-widgets/controls",
            "_view_module_version": "1.5.0",
            "_view_name": "HBoxView",
            "box_style": "",
            "children": [
              "IPY_MODEL_248dd87d4557490a802aaa3b37b964cc",
              "IPY_MODEL_5590414364444d75a89a194404aae08c",
              "IPY_MODEL_4e74c14873204bfa8c621bc45bd0bb51"
            ],
            "layout": "IPY_MODEL_5d1e74683d9a4707a20096f50a51c881"
          }
        },
        "248dd87d4557490a802aaa3b37b964cc": {
          "model_module": "@jupyter-widgets/controls",
          "model_name": "HTMLModel",
          "model_module_version": "1.5.0",
          "state": {
            "_dom_classes": [],
            "_model_module": "@jupyter-widgets/controls",
            "_model_module_version": "1.5.0",
            "_model_name": "HTMLModel",
            "_view_count": null,
            "_view_module": "@jupyter-widgets/controls",
            "_view_module_version": "1.5.0",
            "_view_name": "HTMLView",
            "description": "",
            "description_tooltip": null,
            "layout": "IPY_MODEL_120efc43f4a04d7ba961b414c84fe2e2",
            "placeholder": "​",
            "style": "IPY_MODEL_3704b892cae94f1a8eba6292257eb024",
            "value": "sentencepiece.bpe.model: 100%"
          }
        },
        "5590414364444d75a89a194404aae08c": {
          "model_module": "@jupyter-widgets/controls",
          "model_name": "FloatProgressModel",
          "model_module_version": "1.5.0",
          "state": {
            "_dom_classes": [],
            "_model_module": "@jupyter-widgets/controls",
            "_model_module_version": "1.5.0",
            "_model_name": "FloatProgressModel",
            "_view_count": null,
            "_view_module": "@jupyter-widgets/controls",
            "_view_module_version": "1.5.0",
            "_view_name": "ProgressView",
            "bar_style": "success",
            "description": "",
            "description_tooltip": null,
            "layout": "IPY_MODEL_6c6ed2974aac492aa85e5052d93e91d7",
            "max": 5069051,
            "min": 0,
            "orientation": "horizontal",
            "style": "IPY_MODEL_3d33b2a7940c4f06aeaf11c08027b0bf",
            "value": 5069051
          }
        },
        "4e74c14873204bfa8c621bc45bd0bb51": {
          "model_module": "@jupyter-widgets/controls",
          "model_name": "HTMLModel",
          "model_module_version": "1.5.0",
          "state": {
            "_dom_classes": [],
            "_model_module": "@jupyter-widgets/controls",
            "_model_module_version": "1.5.0",
            "_model_name": "HTMLModel",
            "_view_count": null,
            "_view_module": "@jupyter-widgets/controls",
            "_view_module_version": "1.5.0",
            "_view_name": "HTMLView",
            "description": "",
            "description_tooltip": null,
            "layout": "IPY_MODEL_2c4b110e7b364304b64d1990919de03b",
            "placeholder": "​",
            "style": "IPY_MODEL_aea486a5371e4d148903b1c9e1137a1a",
            "value": " 5.07M/5.07M [00:00&lt;00:00, 12.3MB/s]"
          }
        },
        "5d1e74683d9a4707a20096f50a51c881": {
          "model_module": "@jupyter-widgets/base",
          "model_name": "LayoutModel",
          "model_module_version": "1.2.0",
          "state": {
            "_model_module": "@jupyter-widgets/base",
            "_model_module_version": "1.2.0",
            "_model_name": "LayoutModel",
            "_view_count": null,
            "_view_module": "@jupyter-widgets/base",
            "_view_module_version": "1.2.0",
            "_view_name": "LayoutView",
            "align_content": null,
            "align_items": null,
            "align_self": null,
            "border": null,
            "bottom": null,
            "display": null,
            "flex": null,
            "flex_flow": null,
            "grid_area": null,
            "grid_auto_columns": null,
            "grid_auto_flow": null,
            "grid_auto_rows": null,
            "grid_column": null,
            "grid_gap": null,
            "grid_row": null,
            "grid_template_areas": null,
            "grid_template_columns": null,
            "grid_template_rows": null,
            "height": null,
            "justify_content": null,
            "justify_items": null,
            "left": null,
            "margin": null,
            "max_height": null,
            "max_width": null,
            "min_height": null,
            "min_width": null,
            "object_fit": null,
            "object_position": null,
            "order": null,
            "overflow": null,
            "overflow_x": null,
            "overflow_y": null,
            "padding": null,
            "right": null,
            "top": null,
            "visibility": null,
            "width": null
          }
        },
        "120efc43f4a04d7ba961b414c84fe2e2": {
          "model_module": "@jupyter-widgets/base",
          "model_name": "LayoutModel",
          "model_module_version": "1.2.0",
          "state": {
            "_model_module": "@jupyter-widgets/base",
            "_model_module_version": "1.2.0",
            "_model_name": "LayoutModel",
            "_view_count": null,
            "_view_module": "@jupyter-widgets/base",
            "_view_module_version": "1.2.0",
            "_view_name": "LayoutView",
            "align_content": null,
            "align_items": null,
            "align_self": null,
            "border": null,
            "bottom": null,
            "display": null,
            "flex": null,
            "flex_flow": null,
            "grid_area": null,
            "grid_auto_columns": null,
            "grid_auto_flow": null,
            "grid_auto_rows": null,
            "grid_column": null,
            "grid_gap": null,
            "grid_row": null,
            "grid_template_areas": null,
            "grid_template_columns": null,
            "grid_template_rows": null,
            "height": null,
            "justify_content": null,
            "justify_items": null,
            "left": null,
            "margin": null,
            "max_height": null,
            "max_width": null,
            "min_height": null,
            "min_width": null,
            "object_fit": null,
            "object_position": null,
            "order": null,
            "overflow": null,
            "overflow_x": null,
            "overflow_y": null,
            "padding": null,
            "right": null,
            "top": null,
            "visibility": null,
            "width": null
          }
        },
        "3704b892cae94f1a8eba6292257eb024": {
          "model_module": "@jupyter-widgets/controls",
          "model_name": "DescriptionStyleModel",
          "model_module_version": "1.5.0",
          "state": {
            "_model_module": "@jupyter-widgets/controls",
            "_model_module_version": "1.5.0",
            "_model_name": "DescriptionStyleModel",
            "_view_count": null,
            "_view_module": "@jupyter-widgets/base",
            "_view_module_version": "1.2.0",
            "_view_name": "StyleView",
            "description_width": ""
          }
        },
        "6c6ed2974aac492aa85e5052d93e91d7": {
          "model_module": "@jupyter-widgets/base",
          "model_name": "LayoutModel",
          "model_module_version": "1.2.0",
          "state": {
            "_model_module": "@jupyter-widgets/base",
            "_model_module_version": "1.2.0",
            "_model_name": "LayoutModel",
            "_view_count": null,
            "_view_module": "@jupyter-widgets/base",
            "_view_module_version": "1.2.0",
            "_view_name": "LayoutView",
            "align_content": null,
            "align_items": null,
            "align_self": null,
            "border": null,
            "bottom": null,
            "display": null,
            "flex": null,
            "flex_flow": null,
            "grid_area": null,
            "grid_auto_columns": null,
            "grid_auto_flow": null,
            "grid_auto_rows": null,
            "grid_column": null,
            "grid_gap": null,
            "grid_row": null,
            "grid_template_areas": null,
            "grid_template_columns": null,
            "grid_template_rows": null,
            "height": null,
            "justify_content": null,
            "justify_items": null,
            "left": null,
            "margin": null,
            "max_height": null,
            "max_width": null,
            "min_height": null,
            "min_width": null,
            "object_fit": null,
            "object_position": null,
            "order": null,
            "overflow": null,
            "overflow_x": null,
            "overflow_y": null,
            "padding": null,
            "right": null,
            "top": null,
            "visibility": null,
            "width": null
          }
        },
        "3d33b2a7940c4f06aeaf11c08027b0bf": {
          "model_module": "@jupyter-widgets/controls",
          "model_name": "ProgressStyleModel",
          "model_module_version": "1.5.0",
          "state": {
            "_model_module": "@jupyter-widgets/controls",
            "_model_module_version": "1.5.0",
            "_model_name": "ProgressStyleModel",
            "_view_count": null,
            "_view_module": "@jupyter-widgets/base",
            "_view_module_version": "1.2.0",
            "_view_name": "StyleView",
            "bar_color": null,
            "description_width": ""
          }
        },
        "2c4b110e7b364304b64d1990919de03b": {
          "model_module": "@jupyter-widgets/base",
          "model_name": "LayoutModel",
          "model_module_version": "1.2.0",
          "state": {
            "_model_module": "@jupyter-widgets/base",
            "_model_module_version": "1.2.0",
            "_model_name": "LayoutModel",
            "_view_count": null,
            "_view_module": "@jupyter-widgets/base",
            "_view_module_version": "1.2.0",
            "_view_name": "LayoutView",
            "align_content": null,
            "align_items": null,
            "align_self": null,
            "border": null,
            "bottom": null,
            "display": null,
            "flex": null,
            "flex_flow": null,
            "grid_area": null,
            "grid_auto_columns": null,
            "grid_auto_flow": null,
            "grid_auto_rows": null,
            "grid_column": null,
            "grid_gap": null,
            "grid_row": null,
            "grid_template_areas": null,
            "grid_template_columns": null,
            "grid_template_rows": null,
            "height": null,
            "justify_content": null,
            "justify_items": null,
            "left": null,
            "margin": null,
            "max_height": null,
            "max_width": null,
            "min_height": null,
            "min_width": null,
            "object_fit": null,
            "object_position": null,
            "order": null,
            "overflow": null,
            "overflow_x": null,
            "overflow_y": null,
            "padding": null,
            "right": null,
            "top": null,
            "visibility": null,
            "width": null
          }
        },
        "aea486a5371e4d148903b1c9e1137a1a": {
          "model_module": "@jupyter-widgets/controls",
          "model_name": "DescriptionStyleModel",
          "model_module_version": "1.5.0",
          "state": {
            "_model_module": "@jupyter-widgets/controls",
            "_model_module_version": "1.5.0",
            "_model_name": "DescriptionStyleModel",
            "_view_count": null,
            "_view_module": "@jupyter-widgets/base",
            "_view_module_version": "1.2.0",
            "_view_name": "StyleView",
            "description_width": ""
          }
        },
        "53cb7b3bb111473ea08faf798b5f5947": {
          "model_module": "@jupyter-widgets/controls",
          "model_name": "HBoxModel",
          "model_module_version": "1.5.0",
          "state": {
            "_dom_classes": [],
            "_model_module": "@jupyter-widgets/controls",
            "_model_module_version": "1.5.0",
            "_model_name": "HBoxModel",
            "_view_count": null,
            "_view_module": "@jupyter-widgets/controls",
            "_view_module_version": "1.5.0",
            "_view_name": "HBoxView",
            "box_style": "",
            "children": [
              "IPY_MODEL_c3dd38b4ef784abead03b925a1fcd94c",
              "IPY_MODEL_36607e4e4ae14c8da5a2cb41d54ae4c0",
              "IPY_MODEL_c7dd9fdb2d744583aa5858ba9ec55c65"
            ],
            "layout": "IPY_MODEL_30b39e70031b4afda70eaff6e6285039"
          }
        },
        "c3dd38b4ef784abead03b925a1fcd94c": {
          "model_module": "@jupyter-widgets/controls",
          "model_name": "HTMLModel",
          "model_module_version": "1.5.0",
          "state": {
            "_dom_classes": [],
            "_model_module": "@jupyter-widgets/controls",
            "_model_module_version": "1.5.0",
            "_model_name": "HTMLModel",
            "_view_count": null,
            "_view_module": "@jupyter-widgets/controls",
            "_view_module_version": "1.5.0",
            "_view_name": "HTMLView",
            "description": "",
            "description_tooltip": null,
            "layout": "IPY_MODEL_f2f870de72ae4ef5b6dcf2f5ef32cd2a",
            "placeholder": "​",
            "style": "IPY_MODEL_ce729aa40ee64983b5c2ada12f357a1c",
            "value": "tokenizer.json: 100%"
          }
        },
        "36607e4e4ae14c8da5a2cb41d54ae4c0": {
          "model_module": "@jupyter-widgets/controls",
          "model_name": "FloatProgressModel",
          "model_module_version": "1.5.0",
          "state": {
            "_dom_classes": [],
            "_model_module": "@jupyter-widgets/controls",
            "_model_module_version": "1.5.0",
            "_model_name": "FloatProgressModel",
            "_view_count": null,
            "_view_module": "@jupyter-widgets/controls",
            "_view_module_version": "1.5.0",
            "_view_name": "ProgressView",
            "bar_style": "success",
            "description": "",
            "description_tooltip": null,
            "layout": "IPY_MODEL_aefe077629444dc3bd83e2507b9083d1",
            "max": 17098273,
            "min": 0,
            "orientation": "horizontal",
            "style": "IPY_MODEL_78036dac050942b7b52e5f67cf2273cd",
            "value": 17098273
          }
        },
        "c7dd9fdb2d744583aa5858ba9ec55c65": {
          "model_module": "@jupyter-widgets/controls",
          "model_name": "HTMLModel",
          "model_module_version": "1.5.0",
          "state": {
            "_dom_classes": [],
            "_model_module": "@jupyter-widgets/controls",
            "_model_module_version": "1.5.0",
            "_model_name": "HTMLModel",
            "_view_count": null,
            "_view_module": "@jupyter-widgets/controls",
            "_view_module_version": "1.5.0",
            "_view_name": "HTMLView",
            "description": "",
            "description_tooltip": null,
            "layout": "IPY_MODEL_fa6ad4e999a241aa9f4103a15821f024",
            "placeholder": "​",
            "style": "IPY_MODEL_f790c8d993c74fd18edbf7c0281ac6f0",
            "value": " 17.1M/17.1M [00:00&lt;00:00, 37.6MB/s]"
          }
        },
        "30b39e70031b4afda70eaff6e6285039": {
          "model_module": "@jupyter-widgets/base",
          "model_name": "LayoutModel",
          "model_module_version": "1.2.0",
          "state": {
            "_model_module": "@jupyter-widgets/base",
            "_model_module_version": "1.2.0",
            "_model_name": "LayoutModel",
            "_view_count": null,
            "_view_module": "@jupyter-widgets/base",
            "_view_module_version": "1.2.0",
            "_view_name": "LayoutView",
            "align_content": null,
            "align_items": null,
            "align_self": null,
            "border": null,
            "bottom": null,
            "display": null,
            "flex": null,
            "flex_flow": null,
            "grid_area": null,
            "grid_auto_columns": null,
            "grid_auto_flow": null,
            "grid_auto_rows": null,
            "grid_column": null,
            "grid_gap": null,
            "grid_row": null,
            "grid_template_areas": null,
            "grid_template_columns": null,
            "grid_template_rows": null,
            "height": null,
            "justify_content": null,
            "justify_items": null,
            "left": null,
            "margin": null,
            "max_height": null,
            "max_width": null,
            "min_height": null,
            "min_width": null,
            "object_fit": null,
            "object_position": null,
            "order": null,
            "overflow": null,
            "overflow_x": null,
            "overflow_y": null,
            "padding": null,
            "right": null,
            "top": null,
            "visibility": null,
            "width": null
          }
        },
        "f2f870de72ae4ef5b6dcf2f5ef32cd2a": {
          "model_module": "@jupyter-widgets/base",
          "model_name": "LayoutModel",
          "model_module_version": "1.2.0",
          "state": {
            "_model_module": "@jupyter-widgets/base",
            "_model_module_version": "1.2.0",
            "_model_name": "LayoutModel",
            "_view_count": null,
            "_view_module": "@jupyter-widgets/base",
            "_view_module_version": "1.2.0",
            "_view_name": "LayoutView",
            "align_content": null,
            "align_items": null,
            "align_self": null,
            "border": null,
            "bottom": null,
            "display": null,
            "flex": null,
            "flex_flow": null,
            "grid_area": null,
            "grid_auto_columns": null,
            "grid_auto_flow": null,
            "grid_auto_rows": null,
            "grid_column": null,
            "grid_gap": null,
            "grid_row": null,
            "grid_template_areas": null,
            "grid_template_columns": null,
            "grid_template_rows": null,
            "height": null,
            "justify_content": null,
            "justify_items": null,
            "left": null,
            "margin": null,
            "max_height": null,
            "max_width": null,
            "min_height": null,
            "min_width": null,
            "object_fit": null,
            "object_position": null,
            "order": null,
            "overflow": null,
            "overflow_x": null,
            "overflow_y": null,
            "padding": null,
            "right": null,
            "top": null,
            "visibility": null,
            "width": null
          }
        },
        "ce729aa40ee64983b5c2ada12f357a1c": {
          "model_module": "@jupyter-widgets/controls",
          "model_name": "DescriptionStyleModel",
          "model_module_version": "1.5.0",
          "state": {
            "_model_module": "@jupyter-widgets/controls",
            "_model_module_version": "1.5.0",
            "_model_name": "DescriptionStyleModel",
            "_view_count": null,
            "_view_module": "@jupyter-widgets/base",
            "_view_module_version": "1.2.0",
            "_view_name": "StyleView",
            "description_width": ""
          }
        },
        "aefe077629444dc3bd83e2507b9083d1": {
          "model_module": "@jupyter-widgets/base",
          "model_name": "LayoutModel",
          "model_module_version": "1.2.0",
          "state": {
            "_model_module": "@jupyter-widgets/base",
            "_model_module_version": "1.2.0",
            "_model_name": "LayoutModel",
            "_view_count": null,
            "_view_module": "@jupyter-widgets/base",
            "_view_module_version": "1.2.0",
            "_view_name": "LayoutView",
            "align_content": null,
            "align_items": null,
            "align_self": null,
            "border": null,
            "bottom": null,
            "display": null,
            "flex": null,
            "flex_flow": null,
            "grid_area": null,
            "grid_auto_columns": null,
            "grid_auto_flow": null,
            "grid_auto_rows": null,
            "grid_column": null,
            "grid_gap": null,
            "grid_row": null,
            "grid_template_areas": null,
            "grid_template_columns": null,
            "grid_template_rows": null,
            "height": null,
            "justify_content": null,
            "justify_items": null,
            "left": null,
            "margin": null,
            "max_height": null,
            "max_width": null,
            "min_height": null,
            "min_width": null,
            "object_fit": null,
            "object_position": null,
            "order": null,
            "overflow": null,
            "overflow_x": null,
            "overflow_y": null,
            "padding": null,
            "right": null,
            "top": null,
            "visibility": null,
            "width": null
          }
        },
        "78036dac050942b7b52e5f67cf2273cd": {
          "model_module": "@jupyter-widgets/controls",
          "model_name": "ProgressStyleModel",
          "model_module_version": "1.5.0",
          "state": {
            "_model_module": "@jupyter-widgets/controls",
            "_model_module_version": "1.5.0",
            "_model_name": "ProgressStyleModel",
            "_view_count": null,
            "_view_module": "@jupyter-widgets/base",
            "_view_module_version": "1.2.0",
            "_view_name": "StyleView",
            "bar_color": null,
            "description_width": ""
          }
        },
        "fa6ad4e999a241aa9f4103a15821f024": {
          "model_module": "@jupyter-widgets/base",
          "model_name": "LayoutModel",
          "model_module_version": "1.2.0",
          "state": {
            "_model_module": "@jupyter-widgets/base",
            "_model_module_version": "1.2.0",
            "_model_name": "LayoutModel",
            "_view_count": null,
            "_view_module": "@jupyter-widgets/base",
            "_view_module_version": "1.2.0",
            "_view_name": "LayoutView",
            "align_content": null,
            "align_items": null,
            "align_self": null,
            "border": null,
            "bottom": null,
            "display": null,
            "flex": null,
            "flex_flow": null,
            "grid_area": null,
            "grid_auto_columns": null,
            "grid_auto_flow": null,
            "grid_auto_rows": null,
            "grid_column": null,
            "grid_gap": null,
            "grid_row": null,
            "grid_template_areas": null,
            "grid_template_columns": null,
            "grid_template_rows": null,
            "height": null,
            "justify_content": null,
            "justify_items": null,
            "left": null,
            "margin": null,
            "max_height": null,
            "max_width": null,
            "min_height": null,
            "min_width": null,
            "object_fit": null,
            "object_position": null,
            "order": null,
            "overflow": null,
            "overflow_x": null,
            "overflow_y": null,
            "padding": null,
            "right": null,
            "top": null,
            "visibility": null,
            "width": null
          }
        },
        "f790c8d993c74fd18edbf7c0281ac6f0": {
          "model_module": "@jupyter-widgets/controls",
          "model_name": "DescriptionStyleModel",
          "model_module_version": "1.5.0",
          "state": {
            "_model_module": "@jupyter-widgets/controls",
            "_model_module_version": "1.5.0",
            "_model_name": "DescriptionStyleModel",
            "_view_count": null,
            "_view_module": "@jupyter-widgets/base",
            "_view_module_version": "1.2.0",
            "_view_name": "StyleView",
            "description_width": ""
          }
        },
        "4697c4749e50439089bb931f061e08be": {
          "model_module": "@jupyter-widgets/controls",
          "model_name": "HBoxModel",
          "model_module_version": "1.5.0",
          "state": {
            "_dom_classes": [],
            "_model_module": "@jupyter-widgets/controls",
            "_model_module_version": "1.5.0",
            "_model_name": "HBoxModel",
            "_view_count": null,
            "_view_module": "@jupyter-widgets/controls",
            "_view_module_version": "1.5.0",
            "_view_name": "HBoxView",
            "box_style": "",
            "children": [
              "IPY_MODEL_390ca10fbaf7445e971e668ab4a4e6e9",
              "IPY_MODEL_91a08e6a623e44cd92deea06ac9d8192",
              "IPY_MODEL_53da9a9f793e449e88fc5abdbaa65c7e"
            ],
            "layout": "IPY_MODEL_25af318cf7244b1a915c2ea2dd620f2b"
          }
        },
        "390ca10fbaf7445e971e668ab4a4e6e9": {
          "model_module": "@jupyter-widgets/controls",
          "model_name": "HTMLModel",
          "model_module_version": "1.5.0",
          "state": {
            "_dom_classes": [],
            "_model_module": "@jupyter-widgets/controls",
            "_model_module_version": "1.5.0",
            "_model_name": "HTMLModel",
            "_view_count": null,
            "_view_module": "@jupyter-widgets/controls",
            "_view_module_version": "1.5.0",
            "_view_name": "HTMLView",
            "description": "",
            "description_tooltip": null,
            "layout": "IPY_MODEL_bd69eb8577df46c099bfbfb6cbc3dc6e",
            "placeholder": "​",
            "style": "IPY_MODEL_aa0e6918e319443d94da913e8fd2ff9c",
            "value": "special_tokens_map.json: 100%"
          }
        },
        "91a08e6a623e44cd92deea06ac9d8192": {
          "model_module": "@jupyter-widgets/controls",
          "model_name": "FloatProgressModel",
          "model_module_version": "1.5.0",
          "state": {
            "_dom_classes": [],
            "_model_module": "@jupyter-widgets/controls",
            "_model_module_version": "1.5.0",
            "_model_name": "FloatProgressModel",
            "_view_count": null,
            "_view_module": "@jupyter-widgets/controls",
            "_view_module_version": "1.5.0",
            "_view_name": "ProgressView",
            "bar_style": "success",
            "description": "",
            "description_tooltip": null,
            "layout": "IPY_MODEL_71ef1caa016346a9be3292b98499117f",
            "max": 964,
            "min": 0,
            "orientation": "horizontal",
            "style": "IPY_MODEL_b1560b3db05245f6847aef9900162c67",
            "value": 964
          }
        },
        "53da9a9f793e449e88fc5abdbaa65c7e": {
          "model_module": "@jupyter-widgets/controls",
          "model_name": "HTMLModel",
          "model_module_version": "1.5.0",
          "state": {
            "_dom_classes": [],
            "_model_module": "@jupyter-widgets/controls",
            "_model_module_version": "1.5.0",
            "_model_name": "HTMLModel",
            "_view_count": null,
            "_view_module": "@jupyter-widgets/controls",
            "_view_module_version": "1.5.0",
            "_view_name": "HTMLView",
            "description": "",
            "description_tooltip": null,
            "layout": "IPY_MODEL_297306cf1d96460895d4a42949b4ffa9",
            "placeholder": "​",
            "style": "IPY_MODEL_24b47832e6d64e94beaf8b8481589c8a",
            "value": " 964/964 [00:00&lt;00:00, 49.3kB/s]"
          }
        },
        "25af318cf7244b1a915c2ea2dd620f2b": {
          "model_module": "@jupyter-widgets/base",
          "model_name": "LayoutModel",
          "model_module_version": "1.2.0",
          "state": {
            "_model_module": "@jupyter-widgets/base",
            "_model_module_version": "1.2.0",
            "_model_name": "LayoutModel",
            "_view_count": null,
            "_view_module": "@jupyter-widgets/base",
            "_view_module_version": "1.2.0",
            "_view_name": "LayoutView",
            "align_content": null,
            "align_items": null,
            "align_self": null,
            "border": null,
            "bottom": null,
            "display": null,
            "flex": null,
            "flex_flow": null,
            "grid_area": null,
            "grid_auto_columns": null,
            "grid_auto_flow": null,
            "grid_auto_rows": null,
            "grid_column": null,
            "grid_gap": null,
            "grid_row": null,
            "grid_template_areas": null,
            "grid_template_columns": null,
            "grid_template_rows": null,
            "height": null,
            "justify_content": null,
            "justify_items": null,
            "left": null,
            "margin": null,
            "max_height": null,
            "max_width": null,
            "min_height": null,
            "min_width": null,
            "object_fit": null,
            "object_position": null,
            "order": null,
            "overflow": null,
            "overflow_x": null,
            "overflow_y": null,
            "padding": null,
            "right": null,
            "top": null,
            "visibility": null,
            "width": null
          }
        },
        "bd69eb8577df46c099bfbfb6cbc3dc6e": {
          "model_module": "@jupyter-widgets/base",
          "model_name": "LayoutModel",
          "model_module_version": "1.2.0",
          "state": {
            "_model_module": "@jupyter-widgets/base",
            "_model_module_version": "1.2.0",
            "_model_name": "LayoutModel",
            "_view_count": null,
            "_view_module": "@jupyter-widgets/base",
            "_view_module_version": "1.2.0",
            "_view_name": "LayoutView",
            "align_content": null,
            "align_items": null,
            "align_self": null,
            "border": null,
            "bottom": null,
            "display": null,
            "flex": null,
            "flex_flow": null,
            "grid_area": null,
            "grid_auto_columns": null,
            "grid_auto_flow": null,
            "grid_auto_rows": null,
            "grid_column": null,
            "grid_gap": null,
            "grid_row": null,
            "grid_template_areas": null,
            "grid_template_columns": null,
            "grid_template_rows": null,
            "height": null,
            "justify_content": null,
            "justify_items": null,
            "left": null,
            "margin": null,
            "max_height": null,
            "max_width": null,
            "min_height": null,
            "min_width": null,
            "object_fit": null,
            "object_position": null,
            "order": null,
            "overflow": null,
            "overflow_x": null,
            "overflow_y": null,
            "padding": null,
            "right": null,
            "top": null,
            "visibility": null,
            "width": null
          }
        },
        "aa0e6918e319443d94da913e8fd2ff9c": {
          "model_module": "@jupyter-widgets/controls",
          "model_name": "DescriptionStyleModel",
          "model_module_version": "1.5.0",
          "state": {
            "_model_module": "@jupyter-widgets/controls",
            "_model_module_version": "1.5.0",
            "_model_name": "DescriptionStyleModel",
            "_view_count": null,
            "_view_module": "@jupyter-widgets/base",
            "_view_module_version": "1.2.0",
            "_view_name": "StyleView",
            "description_width": ""
          }
        },
        "71ef1caa016346a9be3292b98499117f": {
          "model_module": "@jupyter-widgets/base",
          "model_name": "LayoutModel",
          "model_module_version": "1.2.0",
          "state": {
            "_model_module": "@jupyter-widgets/base",
            "_model_module_version": "1.2.0",
            "_model_name": "LayoutModel",
            "_view_count": null,
            "_view_module": "@jupyter-widgets/base",
            "_view_module_version": "1.2.0",
            "_view_name": "LayoutView",
            "align_content": null,
            "align_items": null,
            "align_self": null,
            "border": null,
            "bottom": null,
            "display": null,
            "flex": null,
            "flex_flow": null,
            "grid_area": null,
            "grid_auto_columns": null,
            "grid_auto_flow": null,
            "grid_auto_rows": null,
            "grid_column": null,
            "grid_gap": null,
            "grid_row": null,
            "grid_template_areas": null,
            "grid_template_columns": null,
            "grid_template_rows": null,
            "height": null,
            "justify_content": null,
            "justify_items": null,
            "left": null,
            "margin": null,
            "max_height": null,
            "max_width": null,
            "min_height": null,
            "min_width": null,
            "object_fit": null,
            "object_position": null,
            "order": null,
            "overflow": null,
            "overflow_x": null,
            "overflow_y": null,
            "padding": null,
            "right": null,
            "top": null,
            "visibility": null,
            "width": null
          }
        },
        "b1560b3db05245f6847aef9900162c67": {
          "model_module": "@jupyter-widgets/controls",
          "model_name": "ProgressStyleModel",
          "model_module_version": "1.5.0",
          "state": {
            "_model_module": "@jupyter-widgets/controls",
            "_model_module_version": "1.5.0",
            "_model_name": "ProgressStyleModel",
            "_view_count": null,
            "_view_module": "@jupyter-widgets/base",
            "_view_module_version": "1.2.0",
            "_view_name": "StyleView",
            "bar_color": null,
            "description_width": ""
          }
        },
        "297306cf1d96460895d4a42949b4ffa9": {
          "model_module": "@jupyter-widgets/base",
          "model_name": "LayoutModel",
          "model_module_version": "1.2.0",
          "state": {
            "_model_module": "@jupyter-widgets/base",
            "_model_module_version": "1.2.0",
            "_model_name": "LayoutModel",
            "_view_count": null,
            "_view_module": "@jupyter-widgets/base",
            "_view_module_version": "1.2.0",
            "_view_name": "LayoutView",
            "align_content": null,
            "align_items": null,
            "align_self": null,
            "border": null,
            "bottom": null,
            "display": null,
            "flex": null,
            "flex_flow": null,
            "grid_area": null,
            "grid_auto_columns": null,
            "grid_auto_flow": null,
            "grid_auto_rows": null,
            "grid_column": null,
            "grid_gap": null,
            "grid_row": null,
            "grid_template_areas": null,
            "grid_template_columns": null,
            "grid_template_rows": null,
            "height": null,
            "justify_content": null,
            "justify_items": null,
            "left": null,
            "margin": null,
            "max_height": null,
            "max_width": null,
            "min_height": null,
            "min_width": null,
            "object_fit": null,
            "object_position": null,
            "order": null,
            "overflow": null,
            "overflow_x": null,
            "overflow_y": null,
            "padding": null,
            "right": null,
            "top": null,
            "visibility": null,
            "width": null
          }
        },
        "24b47832e6d64e94beaf8b8481589c8a": {
          "model_module": "@jupyter-widgets/controls",
          "model_name": "DescriptionStyleModel",
          "model_module_version": "1.5.0",
          "state": {
            "_model_module": "@jupyter-widgets/controls",
            "_model_module_version": "1.5.0",
            "_model_name": "DescriptionStyleModel",
            "_view_count": null,
            "_view_module": "@jupyter-widgets/base",
            "_view_module_version": "1.2.0",
            "_view_name": "StyleView",
            "description_width": ""
          }
        },
        "95527806fd7d4ec6a9072ae0b3aea855": {
          "model_module": "@jupyter-widgets/controls",
          "model_name": "HBoxModel",
          "model_module_version": "1.5.0",
          "state": {
            "_dom_classes": [],
            "_model_module": "@jupyter-widgets/controls",
            "_model_module_version": "1.5.0",
            "_model_name": "HBoxModel",
            "_view_count": null,
            "_view_module": "@jupyter-widgets/controls",
            "_view_module_version": "1.5.0",
            "_view_name": "HBoxView",
            "box_style": "",
            "children": [
              "IPY_MODEL_263f2b231eb64a598a66f9f15de7a26d",
              "IPY_MODEL_2a555dcbc72949889c9191d02ac83bfc",
              "IPY_MODEL_22f757b9f4c64047b9f501a45d4844c1"
            ],
            "layout": "IPY_MODEL_773a8db8ac2249899c5ba462f18b3374"
          }
        },
        "263f2b231eb64a598a66f9f15de7a26d": {
          "model_module": "@jupyter-widgets/controls",
          "model_name": "HTMLModel",
          "model_module_version": "1.5.0",
          "state": {
            "_dom_classes": [],
            "_model_module": "@jupyter-widgets/controls",
            "_model_module_version": "1.5.0",
            "_model_name": "HTMLModel",
            "_view_count": null,
            "_view_module": "@jupyter-widgets/controls",
            "_view_module_version": "1.5.0",
            "_view_name": "HTMLView",
            "description": "",
            "description_tooltip": null,
            "layout": "IPY_MODEL_dd1f694a308844a8a5470125995d8f5b",
            "placeholder": "​",
            "style": "IPY_MODEL_5c5d20efa52b4cd8a4b8b355e4f9b087",
            "value": "config.json: 100%"
          }
        },
        "2a555dcbc72949889c9191d02ac83bfc": {
          "model_module": "@jupyter-widgets/controls",
          "model_name": "FloatProgressModel",
          "model_module_version": "1.5.0",
          "state": {
            "_dom_classes": [],
            "_model_module": "@jupyter-widgets/controls",
            "_model_module_version": "1.5.0",
            "_model_name": "FloatProgressModel",
            "_view_count": null,
            "_view_module": "@jupyter-widgets/controls",
            "_view_module_version": "1.5.0",
            "_view_name": "ProgressView",
            "bar_style": "success",
            "description": "",
            "description_tooltip": null,
            "layout": "IPY_MODEL_5a16e3e08c0148d6bf3ce15082ef6ec5",
            "max": 795,
            "min": 0,
            "orientation": "horizontal",
            "style": "IPY_MODEL_8df45839aa844f0aab579b82eddc0f4a",
            "value": 795
          }
        },
        "22f757b9f4c64047b9f501a45d4844c1": {
          "model_module": "@jupyter-widgets/controls",
          "model_name": "HTMLModel",
          "model_module_version": "1.5.0",
          "state": {
            "_dom_classes": [],
            "_model_module": "@jupyter-widgets/controls",
            "_model_module_version": "1.5.0",
            "_model_name": "HTMLModel",
            "_view_count": null,
            "_view_module": "@jupyter-widgets/controls",
            "_view_module_version": "1.5.0",
            "_view_name": "HTMLView",
            "description": "",
            "description_tooltip": null,
            "layout": "IPY_MODEL_c845a95aca5a47ffae612f3bb821137f",
            "placeholder": "​",
            "style": "IPY_MODEL_94dc57e5f1ee4656a8edfba095f2bde4",
            "value": " 795/795 [00:00&lt;00:00, 22.7kB/s]"
          }
        },
        "773a8db8ac2249899c5ba462f18b3374": {
          "model_module": "@jupyter-widgets/base",
          "model_name": "LayoutModel",
          "model_module_version": "1.2.0",
          "state": {
            "_model_module": "@jupyter-widgets/base",
            "_model_module_version": "1.2.0",
            "_model_name": "LayoutModel",
            "_view_count": null,
            "_view_module": "@jupyter-widgets/base",
            "_view_module_version": "1.2.0",
            "_view_name": "LayoutView",
            "align_content": null,
            "align_items": null,
            "align_self": null,
            "border": null,
            "bottom": null,
            "display": null,
            "flex": null,
            "flex_flow": null,
            "grid_area": null,
            "grid_auto_columns": null,
            "grid_auto_flow": null,
            "grid_auto_rows": null,
            "grid_column": null,
            "grid_gap": null,
            "grid_row": null,
            "grid_template_areas": null,
            "grid_template_columns": null,
            "grid_template_rows": null,
            "height": null,
            "justify_content": null,
            "justify_items": null,
            "left": null,
            "margin": null,
            "max_height": null,
            "max_width": null,
            "min_height": null,
            "min_width": null,
            "object_fit": null,
            "object_position": null,
            "order": null,
            "overflow": null,
            "overflow_x": null,
            "overflow_y": null,
            "padding": null,
            "right": null,
            "top": null,
            "visibility": null,
            "width": null
          }
        },
        "dd1f694a308844a8a5470125995d8f5b": {
          "model_module": "@jupyter-widgets/base",
          "model_name": "LayoutModel",
          "model_module_version": "1.2.0",
          "state": {
            "_model_module": "@jupyter-widgets/base",
            "_model_module_version": "1.2.0",
            "_model_name": "LayoutModel",
            "_view_count": null,
            "_view_module": "@jupyter-widgets/base",
            "_view_module_version": "1.2.0",
            "_view_name": "LayoutView",
            "align_content": null,
            "align_items": null,
            "align_self": null,
            "border": null,
            "bottom": null,
            "display": null,
            "flex": null,
            "flex_flow": null,
            "grid_area": null,
            "grid_auto_columns": null,
            "grid_auto_flow": null,
            "grid_auto_rows": null,
            "grid_column": null,
            "grid_gap": null,
            "grid_row": null,
            "grid_template_areas": null,
            "grid_template_columns": null,
            "grid_template_rows": null,
            "height": null,
            "justify_content": null,
            "justify_items": null,
            "left": null,
            "margin": null,
            "max_height": null,
            "max_width": null,
            "min_height": null,
            "min_width": null,
            "object_fit": null,
            "object_position": null,
            "order": null,
            "overflow": null,
            "overflow_x": null,
            "overflow_y": null,
            "padding": null,
            "right": null,
            "top": null,
            "visibility": null,
            "width": null
          }
        },
        "5c5d20efa52b4cd8a4b8b355e4f9b087": {
          "model_module": "@jupyter-widgets/controls",
          "model_name": "DescriptionStyleModel",
          "model_module_version": "1.5.0",
          "state": {
            "_model_module": "@jupyter-widgets/controls",
            "_model_module_version": "1.5.0",
            "_model_name": "DescriptionStyleModel",
            "_view_count": null,
            "_view_module": "@jupyter-widgets/base",
            "_view_module_version": "1.2.0",
            "_view_name": "StyleView",
            "description_width": ""
          }
        },
        "5a16e3e08c0148d6bf3ce15082ef6ec5": {
          "model_module": "@jupyter-widgets/base",
          "model_name": "LayoutModel",
          "model_module_version": "1.2.0",
          "state": {
            "_model_module": "@jupyter-widgets/base",
            "_model_module_version": "1.2.0",
            "_model_name": "LayoutModel",
            "_view_count": null,
            "_view_module": "@jupyter-widgets/base",
            "_view_module_version": "1.2.0",
            "_view_name": "LayoutView",
            "align_content": null,
            "align_items": null,
            "align_self": null,
            "border": null,
            "bottom": null,
            "display": null,
            "flex": null,
            "flex_flow": null,
            "grid_area": null,
            "grid_auto_columns": null,
            "grid_auto_flow": null,
            "grid_auto_rows": null,
            "grid_column": null,
            "grid_gap": null,
            "grid_row": null,
            "grid_template_areas": null,
            "grid_template_columns": null,
            "grid_template_rows": null,
            "height": null,
            "justify_content": null,
            "justify_items": null,
            "left": null,
            "margin": null,
            "max_height": null,
            "max_width": null,
            "min_height": null,
            "min_width": null,
            "object_fit": null,
            "object_position": null,
            "order": null,
            "overflow": null,
            "overflow_x": null,
            "overflow_y": null,
            "padding": null,
            "right": null,
            "top": null,
            "visibility": null,
            "width": null
          }
        },
        "8df45839aa844f0aab579b82eddc0f4a": {
          "model_module": "@jupyter-widgets/controls",
          "model_name": "ProgressStyleModel",
          "model_module_version": "1.5.0",
          "state": {
            "_model_module": "@jupyter-widgets/controls",
            "_model_module_version": "1.5.0",
            "_model_name": "ProgressStyleModel",
            "_view_count": null,
            "_view_module": "@jupyter-widgets/base",
            "_view_module_version": "1.2.0",
            "_view_name": "StyleView",
            "bar_color": null,
            "description_width": ""
          }
        },
        "c845a95aca5a47ffae612f3bb821137f": {
          "model_module": "@jupyter-widgets/base",
          "model_name": "LayoutModel",
          "model_module_version": "1.2.0",
          "state": {
            "_model_module": "@jupyter-widgets/base",
            "_model_module_version": "1.2.0",
            "_model_name": "LayoutModel",
            "_view_count": null,
            "_view_module": "@jupyter-widgets/base",
            "_view_module_version": "1.2.0",
            "_view_name": "LayoutView",
            "align_content": null,
            "align_items": null,
            "align_self": null,
            "border": null,
            "bottom": null,
            "display": null,
            "flex": null,
            "flex_flow": null,
            "grid_area": null,
            "grid_auto_columns": null,
            "grid_auto_flow": null,
            "grid_auto_rows": null,
            "grid_column": null,
            "grid_gap": null,
            "grid_row": null,
            "grid_template_areas": null,
            "grid_template_columns": null,
            "grid_template_rows": null,
            "height": null,
            "justify_content": null,
            "justify_items": null,
            "left": null,
            "margin": null,
            "max_height": null,
            "max_width": null,
            "min_height": null,
            "min_width": null,
            "object_fit": null,
            "object_position": null,
            "order": null,
            "overflow": null,
            "overflow_x": null,
            "overflow_y": null,
            "padding": null,
            "right": null,
            "top": null,
            "visibility": null,
            "width": null
          }
        },
        "94dc57e5f1ee4656a8edfba095f2bde4": {
          "model_module": "@jupyter-widgets/controls",
          "model_name": "DescriptionStyleModel",
          "model_module_version": "1.5.0",
          "state": {
            "_model_module": "@jupyter-widgets/controls",
            "_model_module_version": "1.5.0",
            "_model_name": "DescriptionStyleModel",
            "_view_count": null,
            "_view_module": "@jupyter-widgets/base",
            "_view_module_version": "1.2.0",
            "_view_name": "StyleView",
            "description_width": ""
          }
        },
        "19dd913296d6479b83161badd63dff2b": {
          "model_module": "@jupyter-widgets/controls",
          "model_name": "HBoxModel",
          "model_module_version": "1.5.0",
          "state": {
            "_dom_classes": [],
            "_model_module": "@jupyter-widgets/controls",
            "_model_module_version": "1.5.0",
            "_model_name": "HBoxModel",
            "_view_count": null,
            "_view_module": "@jupyter-widgets/controls",
            "_view_module_version": "1.5.0",
            "_view_name": "HBoxView",
            "box_style": "",
            "children": [
              "IPY_MODEL_7635ee6ca698496096bf468f753d3f78",
              "IPY_MODEL_88b8cc6396c944b6bc70ce4bf5a5de98",
              "IPY_MODEL_2ab3b1fd79b54612a396989dc5b035fd"
            ],
            "layout": "IPY_MODEL_41eab9682b71482ab22df2760790a26b"
          }
        },
        "7635ee6ca698496096bf468f753d3f78": {
          "model_module": "@jupyter-widgets/controls",
          "model_name": "HTMLModel",
          "model_module_version": "1.5.0",
          "state": {
            "_dom_classes": [],
            "_model_module": "@jupyter-widgets/controls",
            "_model_module_version": "1.5.0",
            "_model_name": "HTMLModel",
            "_view_count": null,
            "_view_module": "@jupyter-widgets/controls",
            "_view_module_version": "1.5.0",
            "_view_name": "HTMLView",
            "description": "",
            "description_tooltip": null,
            "layout": "IPY_MODEL_5d0b0f3fc2c6429080063a29eeae1dc6",
            "placeholder": "​",
            "style": "IPY_MODEL_6c5c6c0d064c4aada321dccdbe3051fc",
            "value": "model.safetensors: 100%"
          }
        },
        "88b8cc6396c944b6bc70ce4bf5a5de98": {
          "model_module": "@jupyter-widgets/controls",
          "model_name": "FloatProgressModel",
          "model_module_version": "1.5.0",
          "state": {
            "_dom_classes": [],
            "_model_module": "@jupyter-widgets/controls",
            "_model_module_version": "1.5.0",
            "_model_name": "FloatProgressModel",
            "_view_count": null,
            "_view_module": "@jupyter-widgets/controls",
            "_view_module_version": "1.5.0",
            "_view_name": "ProgressView",
            "bar_style": "success",
            "description": "",
            "description_tooltip": null,
            "layout": "IPY_MODEL_22bf3fee84a3409f9019140279bb6ee2",
            "max": 2271071852,
            "min": 0,
            "orientation": "horizontal",
            "style": "IPY_MODEL_3ac3eec627944ac8adb8117f15e1ac03",
            "value": 2271071852
          }
        },
        "2ab3b1fd79b54612a396989dc5b035fd": {
          "model_module": "@jupyter-widgets/controls",
          "model_name": "HTMLModel",
          "model_module_version": "1.5.0",
          "state": {
            "_dom_classes": [],
            "_model_module": "@jupyter-widgets/controls",
            "_model_module_version": "1.5.0",
            "_model_name": "HTMLModel",
            "_view_count": null,
            "_view_module": "@jupyter-widgets/controls",
            "_view_module_version": "1.5.0",
            "_view_name": "HTMLView",
            "description": "",
            "description_tooltip": null,
            "layout": "IPY_MODEL_bbd1b77dd1104570a44c41bd46fc93e9",
            "placeholder": "​",
            "style": "IPY_MODEL_b00bb5e3e0f948a6aa9a0b65f61a951c",
            "value": " 2.27G/2.27G [00:54&lt;00:00, 43.5MB/s]"
          }
        },
        "41eab9682b71482ab22df2760790a26b": {
          "model_module": "@jupyter-widgets/base",
          "model_name": "LayoutModel",
          "model_module_version": "1.2.0",
          "state": {
            "_model_module": "@jupyter-widgets/base",
            "_model_module_version": "1.2.0",
            "_model_name": "LayoutModel",
            "_view_count": null,
            "_view_module": "@jupyter-widgets/base",
            "_view_module_version": "1.2.0",
            "_view_name": "LayoutView",
            "align_content": null,
            "align_items": null,
            "align_self": null,
            "border": null,
            "bottom": null,
            "display": null,
            "flex": null,
            "flex_flow": null,
            "grid_area": null,
            "grid_auto_columns": null,
            "grid_auto_flow": null,
            "grid_auto_rows": null,
            "grid_column": null,
            "grid_gap": null,
            "grid_row": null,
            "grid_template_areas": null,
            "grid_template_columns": null,
            "grid_template_rows": null,
            "height": null,
            "justify_content": null,
            "justify_items": null,
            "left": null,
            "margin": null,
            "max_height": null,
            "max_width": null,
            "min_height": null,
            "min_width": null,
            "object_fit": null,
            "object_position": null,
            "order": null,
            "overflow": null,
            "overflow_x": null,
            "overflow_y": null,
            "padding": null,
            "right": null,
            "top": null,
            "visibility": null,
            "width": null
          }
        },
        "5d0b0f3fc2c6429080063a29eeae1dc6": {
          "model_module": "@jupyter-widgets/base",
          "model_name": "LayoutModel",
          "model_module_version": "1.2.0",
          "state": {
            "_model_module": "@jupyter-widgets/base",
            "_model_module_version": "1.2.0",
            "_model_name": "LayoutModel",
            "_view_count": null,
            "_view_module": "@jupyter-widgets/base",
            "_view_module_version": "1.2.0",
            "_view_name": "LayoutView",
            "align_content": null,
            "align_items": null,
            "align_self": null,
            "border": null,
            "bottom": null,
            "display": null,
            "flex": null,
            "flex_flow": null,
            "grid_area": null,
            "grid_auto_columns": null,
            "grid_auto_flow": null,
            "grid_auto_rows": null,
            "grid_column": null,
            "grid_gap": null,
            "grid_row": null,
            "grid_template_areas": null,
            "grid_template_columns": null,
            "grid_template_rows": null,
            "height": null,
            "justify_content": null,
            "justify_items": null,
            "left": null,
            "margin": null,
            "max_height": null,
            "max_width": null,
            "min_height": null,
            "min_width": null,
            "object_fit": null,
            "object_position": null,
            "order": null,
            "overflow": null,
            "overflow_x": null,
            "overflow_y": null,
            "padding": null,
            "right": null,
            "top": null,
            "visibility": null,
            "width": null
          }
        },
        "6c5c6c0d064c4aada321dccdbe3051fc": {
          "model_module": "@jupyter-widgets/controls",
          "model_name": "DescriptionStyleModel",
          "model_module_version": "1.5.0",
          "state": {
            "_model_module": "@jupyter-widgets/controls",
            "_model_module_version": "1.5.0",
            "_model_name": "DescriptionStyleModel",
            "_view_count": null,
            "_view_module": "@jupyter-widgets/base",
            "_view_module_version": "1.2.0",
            "_view_name": "StyleView",
            "description_width": ""
          }
        },
        "22bf3fee84a3409f9019140279bb6ee2": {
          "model_module": "@jupyter-widgets/base",
          "model_name": "LayoutModel",
          "model_module_version": "1.2.0",
          "state": {
            "_model_module": "@jupyter-widgets/base",
            "_model_module_version": "1.2.0",
            "_model_name": "LayoutModel",
            "_view_count": null,
            "_view_module": "@jupyter-widgets/base",
            "_view_module_version": "1.2.0",
            "_view_name": "LayoutView",
            "align_content": null,
            "align_items": null,
            "align_self": null,
            "border": null,
            "bottom": null,
            "display": null,
            "flex": null,
            "flex_flow": null,
            "grid_area": null,
            "grid_auto_columns": null,
            "grid_auto_flow": null,
            "grid_auto_rows": null,
            "grid_column": null,
            "grid_gap": null,
            "grid_row": null,
            "grid_template_areas": null,
            "grid_template_columns": null,
            "grid_template_rows": null,
            "height": null,
            "justify_content": null,
            "justify_items": null,
            "left": null,
            "margin": null,
            "max_height": null,
            "max_width": null,
            "min_height": null,
            "min_width": null,
            "object_fit": null,
            "object_position": null,
            "order": null,
            "overflow": null,
            "overflow_x": null,
            "overflow_y": null,
            "padding": null,
            "right": null,
            "top": null,
            "visibility": null,
            "width": null
          }
        },
        "3ac3eec627944ac8adb8117f15e1ac03": {
          "model_module": "@jupyter-widgets/controls",
          "model_name": "ProgressStyleModel",
          "model_module_version": "1.5.0",
          "state": {
            "_model_module": "@jupyter-widgets/controls",
            "_model_module_version": "1.5.0",
            "_model_name": "ProgressStyleModel",
            "_view_count": null,
            "_view_module": "@jupyter-widgets/base",
            "_view_module_version": "1.2.0",
            "_view_name": "StyleView",
            "bar_color": null,
            "description_width": ""
          }
        },
        "bbd1b77dd1104570a44c41bd46fc93e9": {
          "model_module": "@jupyter-widgets/base",
          "model_name": "LayoutModel",
          "model_module_version": "1.2.0",
          "state": {
            "_model_module": "@jupyter-widgets/base",
            "_model_module_version": "1.2.0",
            "_model_name": "LayoutModel",
            "_view_count": null,
            "_view_module": "@jupyter-widgets/base",
            "_view_module_version": "1.2.0",
            "_view_name": "LayoutView",
            "align_content": null,
            "align_items": null,
            "align_self": null,
            "border": null,
            "bottom": null,
            "display": null,
            "flex": null,
            "flex_flow": null,
            "grid_area": null,
            "grid_auto_columns": null,
            "grid_auto_flow": null,
            "grid_auto_rows": null,
            "grid_column": null,
            "grid_gap": null,
            "grid_row": null,
            "grid_template_areas": null,
            "grid_template_columns": null,
            "grid_template_rows": null,
            "height": null,
            "justify_content": null,
            "justify_items": null,
            "left": null,
            "margin": null,
            "max_height": null,
            "max_width": null,
            "min_height": null,
            "min_width": null,
            "object_fit": null,
            "object_position": null,
            "order": null,
            "overflow": null,
            "overflow_x": null,
            "overflow_y": null,
            "padding": null,
            "right": null,
            "top": null,
            "visibility": null,
            "width": null
          }
        },
        "b00bb5e3e0f948a6aa9a0b65f61a951c": {
          "model_module": "@jupyter-widgets/controls",
          "model_name": "DescriptionStyleModel",
          "model_module_version": "1.5.0",
          "state": {
            "_model_module": "@jupyter-widgets/controls",
            "_model_module_version": "1.5.0",
            "_model_name": "DescriptionStyleModel",
            "_view_count": null,
            "_view_module": "@jupyter-widgets/base",
            "_view_module_version": "1.2.0",
            "_view_name": "StyleView",
            "description_width": ""
          }
        },
        "9d2d762666e8455aa745662e37e6fb13": {
          "model_module": "@jupyter-widgets/controls",
          "model_name": "HBoxModel",
          "model_module_version": "1.5.0",
          "state": {
            "_dom_classes": [],
            "_model_module": "@jupyter-widgets/controls",
            "_model_module_version": "1.5.0",
            "_model_name": "HBoxModel",
            "_view_count": null,
            "_view_module": "@jupyter-widgets/controls",
            "_view_module_version": "1.5.0",
            "_view_name": "HBoxView",
            "box_style": "",
            "children": [
              "IPY_MODEL_b3fba9cabff34b259390c99bd81f57d0",
              "IPY_MODEL_36b915db1cd6486b817dca2018738917",
              "IPY_MODEL_c0385fe9ba6e4a0baf48bc0101e5c268"
            ],
            "layout": "IPY_MODEL_d7afe9bb31e6419e9a44a717ec928bce"
          }
        },
        "b3fba9cabff34b259390c99bd81f57d0": {
          "model_module": "@jupyter-widgets/controls",
          "model_name": "HTMLModel",
          "model_module_version": "1.5.0",
          "state": {
            "_dom_classes": [],
            "_model_module": "@jupyter-widgets/controls",
            "_model_module_version": "1.5.0",
            "_model_name": "HTMLModel",
            "_view_count": null,
            "_view_module": "@jupyter-widgets/controls",
            "_view_module_version": "1.5.0",
            "_view_name": "HTMLView",
            "description": "",
            "description_tooltip": null,
            "layout": "IPY_MODEL_b40cb65f10af4f749eeeced6cd7eda6a",
            "placeholder": "​",
            "style": "IPY_MODEL_4aede14e91644466ade0f2ed74f5d4b4",
            "value": "100%"
          }
        },
        "36b915db1cd6486b817dca2018738917": {
          "model_module": "@jupyter-widgets/controls",
          "model_name": "FloatProgressModel",
          "model_module_version": "1.5.0",
          "state": {
            "_dom_classes": [],
            "_model_module": "@jupyter-widgets/controls",
            "_model_module_version": "1.5.0",
            "_model_name": "FloatProgressModel",
            "_view_count": null,
            "_view_module": "@jupyter-widgets/controls",
            "_view_module_version": "1.5.0",
            "_view_name": "ProgressView",
            "bar_style": "success",
            "description": "",
            "description_tooltip": null,
            "layout": "IPY_MODEL_556b3857771545798c8c9e51ad116e08",
            "max": 3,
            "min": 0,
            "orientation": "horizontal",
            "style": "IPY_MODEL_454f878f5f07424582a85feddc0ac176",
            "value": 3
          }
        },
        "c0385fe9ba6e4a0baf48bc0101e5c268": {
          "model_module": "@jupyter-widgets/controls",
          "model_name": "HTMLModel",
          "model_module_version": "1.5.0",
          "state": {
            "_dom_classes": [],
            "_model_module": "@jupyter-widgets/controls",
            "_model_module_version": "1.5.0",
            "_model_name": "HTMLModel",
            "_view_count": null,
            "_view_module": "@jupyter-widgets/controls",
            "_view_module_version": "1.5.0",
            "_view_name": "HTMLView",
            "description": "",
            "description_tooltip": null,
            "layout": "IPY_MODEL_a89d4db9262949b9b8f6463535994008",
            "placeholder": "​",
            "style": "IPY_MODEL_95432d8bbdee4357864e786a64212e21",
            "value": " 3/3 [02:33&lt;00:00, 35.94s/it]"
          }
        },
        "d7afe9bb31e6419e9a44a717ec928bce": {
          "model_module": "@jupyter-widgets/base",
          "model_name": "LayoutModel",
          "model_module_version": "1.2.0",
          "state": {
            "_model_module": "@jupyter-widgets/base",
            "_model_module_version": "1.2.0",
            "_model_name": "LayoutModel",
            "_view_count": null,
            "_view_module": "@jupyter-widgets/base",
            "_view_module_version": "1.2.0",
            "_view_name": "LayoutView",
            "align_content": null,
            "align_items": null,
            "align_self": null,
            "border": null,
            "bottom": null,
            "display": null,
            "flex": null,
            "flex_flow": null,
            "grid_area": null,
            "grid_auto_columns": null,
            "grid_auto_flow": null,
            "grid_auto_rows": null,
            "grid_column": null,
            "grid_gap": null,
            "grid_row": null,
            "grid_template_areas": null,
            "grid_template_columns": null,
            "grid_template_rows": null,
            "height": null,
            "justify_content": null,
            "justify_items": null,
            "left": null,
            "margin": null,
            "max_height": null,
            "max_width": null,
            "min_height": null,
            "min_width": null,
            "object_fit": null,
            "object_position": null,
            "order": null,
            "overflow": null,
            "overflow_x": null,
            "overflow_y": null,
            "padding": null,
            "right": null,
            "top": null,
            "visibility": null,
            "width": null
          }
        },
        "b40cb65f10af4f749eeeced6cd7eda6a": {
          "model_module": "@jupyter-widgets/base",
          "model_name": "LayoutModel",
          "model_module_version": "1.2.0",
          "state": {
            "_model_module": "@jupyter-widgets/base",
            "_model_module_version": "1.2.0",
            "_model_name": "LayoutModel",
            "_view_count": null,
            "_view_module": "@jupyter-widgets/base",
            "_view_module_version": "1.2.0",
            "_view_name": "LayoutView",
            "align_content": null,
            "align_items": null,
            "align_self": null,
            "border": null,
            "bottom": null,
            "display": null,
            "flex": null,
            "flex_flow": null,
            "grid_area": null,
            "grid_auto_columns": null,
            "grid_auto_flow": null,
            "grid_auto_rows": null,
            "grid_column": null,
            "grid_gap": null,
            "grid_row": null,
            "grid_template_areas": null,
            "grid_template_columns": null,
            "grid_template_rows": null,
            "height": null,
            "justify_content": null,
            "justify_items": null,
            "left": null,
            "margin": null,
            "max_height": null,
            "max_width": null,
            "min_height": null,
            "min_width": null,
            "object_fit": null,
            "object_position": null,
            "order": null,
            "overflow": null,
            "overflow_x": null,
            "overflow_y": null,
            "padding": null,
            "right": null,
            "top": null,
            "visibility": null,
            "width": null
          }
        },
        "4aede14e91644466ade0f2ed74f5d4b4": {
          "model_module": "@jupyter-widgets/controls",
          "model_name": "DescriptionStyleModel",
          "model_module_version": "1.5.0",
          "state": {
            "_model_module": "@jupyter-widgets/controls",
            "_model_module_version": "1.5.0",
            "_model_name": "DescriptionStyleModel",
            "_view_count": null,
            "_view_module": "@jupyter-widgets/base",
            "_view_module_version": "1.2.0",
            "_view_name": "StyleView",
            "description_width": ""
          }
        },
        "556b3857771545798c8c9e51ad116e08": {
          "model_module": "@jupyter-widgets/base",
          "model_name": "LayoutModel",
          "model_module_version": "1.2.0",
          "state": {
            "_model_module": "@jupyter-widgets/base",
            "_model_module_version": "1.2.0",
            "_model_name": "LayoutModel",
            "_view_count": null,
            "_view_module": "@jupyter-widgets/base",
            "_view_module_version": "1.2.0",
            "_view_name": "LayoutView",
            "align_content": null,
            "align_items": null,
            "align_self": null,
            "border": null,
            "bottom": null,
            "display": null,
            "flex": null,
            "flex_flow": null,
            "grid_area": null,
            "grid_auto_columns": null,
            "grid_auto_flow": null,
            "grid_auto_rows": null,
            "grid_column": null,
            "grid_gap": null,
            "grid_row": null,
            "grid_template_areas": null,
            "grid_template_columns": null,
            "grid_template_rows": null,
            "height": null,
            "justify_content": null,
            "justify_items": null,
            "left": null,
            "margin": null,
            "max_height": null,
            "max_width": null,
            "min_height": null,
            "min_width": null,
            "object_fit": null,
            "object_position": null,
            "order": null,
            "overflow": null,
            "overflow_x": null,
            "overflow_y": null,
            "padding": null,
            "right": null,
            "top": null,
            "visibility": null,
            "width": null
          }
        },
        "454f878f5f07424582a85feddc0ac176": {
          "model_module": "@jupyter-widgets/controls",
          "model_name": "ProgressStyleModel",
          "model_module_version": "1.5.0",
          "state": {
            "_model_module": "@jupyter-widgets/controls",
            "_model_module_version": "1.5.0",
            "_model_name": "ProgressStyleModel",
            "_view_count": null,
            "_view_module": "@jupyter-widgets/base",
            "_view_module_version": "1.2.0",
            "_view_name": "StyleView",
            "bar_color": null,
            "description_width": ""
          }
        },
        "a89d4db9262949b9b8f6463535994008": {
          "model_module": "@jupyter-widgets/base",
          "model_name": "LayoutModel",
          "model_module_version": "1.2.0",
          "state": {
            "_model_module": "@jupyter-widgets/base",
            "_model_module_version": "1.2.0",
            "_model_name": "LayoutModel",
            "_view_count": null,
            "_view_module": "@jupyter-widgets/base",
            "_view_module_version": "1.2.0",
            "_view_name": "LayoutView",
            "align_content": null,
            "align_items": null,
            "align_self": null,
            "border": null,
            "bottom": null,
            "display": null,
            "flex": null,
            "flex_flow": null,
            "grid_area": null,
            "grid_auto_columns": null,
            "grid_auto_flow": null,
            "grid_auto_rows": null,
            "grid_column": null,
            "grid_gap": null,
            "grid_row": null,
            "grid_template_areas": null,
            "grid_template_columns": null,
            "grid_template_rows": null,
            "height": null,
            "justify_content": null,
            "justify_items": null,
            "left": null,
            "margin": null,
            "max_height": null,
            "max_width": null,
            "min_height": null,
            "min_width": null,
            "object_fit": null,
            "object_position": null,
            "order": null,
            "overflow": null,
            "overflow_x": null,
            "overflow_y": null,
            "padding": null,
            "right": null,
            "top": null,
            "visibility": null,
            "width": null
          }
        },
        "95432d8bbdee4357864e786a64212e21": {
          "model_module": "@jupyter-widgets/controls",
          "model_name": "DescriptionStyleModel",
          "model_module_version": "1.5.0",
          "state": {
            "_model_module": "@jupyter-widgets/controls",
            "_model_module_version": "1.5.0",
            "_model_name": "DescriptionStyleModel",
            "_view_count": null,
            "_view_module": "@jupyter-widgets/base",
            "_view_module_version": "1.2.0",
            "_view_name": "StyleView",
            "description_width": ""
          }
        },
        "a524717524cb40588741309a151f15a2": {
          "model_module": "@jupyter-widgets/controls",
          "model_name": "HBoxModel",
          "model_module_version": "1.5.0",
          "state": {
            "_dom_classes": [],
            "_model_module": "@jupyter-widgets/controls",
            "_model_module_version": "1.5.0",
            "_model_name": "HBoxModel",
            "_view_count": null,
            "_view_module": "@jupyter-widgets/controls",
            "_view_module_version": "1.5.0",
            "_view_name": "HBoxView",
            "box_style": "",
            "children": [
              "IPY_MODEL_1dbc8f0e08a14ca28ec7f0c76c0ef92b",
              "IPY_MODEL_6aff0f1bcb094bdd89f6dbb9ef149b5d",
              "IPY_MODEL_387090f0bae44210802485e2c2f83ff7"
            ],
            "layout": "IPY_MODEL_794724be394245278b6a49a8f0f00632"
          }
        },
        "1dbc8f0e08a14ca28ec7f0c76c0ef92b": {
          "model_module": "@jupyter-widgets/controls",
          "model_name": "HTMLModel",
          "model_module_version": "1.5.0",
          "state": {
            "_dom_classes": [],
            "_model_module": "@jupyter-widgets/controls",
            "_model_module_version": "1.5.0",
            "_model_name": "HTMLModel",
            "_view_count": null,
            "_view_module": "@jupyter-widgets/controls",
            "_view_module_version": "1.5.0",
            "_view_name": "HTMLView",
            "description": "",
            "description_tooltip": null,
            "layout": "IPY_MODEL_22c80ce37e94471db4b3ca97b8cc9685",
            "placeholder": "​",
            "style": "IPY_MODEL_b301df80d16a4191a7bc14edd37ffeae",
            "value": "100%"
          }
        },
        "6aff0f1bcb094bdd89f6dbb9ef149b5d": {
          "model_module": "@jupyter-widgets/controls",
          "model_name": "FloatProgressModel",
          "model_module_version": "1.5.0",
          "state": {
            "_dom_classes": [],
            "_model_module": "@jupyter-widgets/controls",
            "_model_module_version": "1.5.0",
            "_model_name": "FloatProgressModel",
            "_view_count": null,
            "_view_module": "@jupyter-widgets/controls",
            "_view_module_version": "1.5.0",
            "_view_name": "ProgressView",
            "bar_style": "success",
            "description": "",
            "description_tooltip": null,
            "layout": "IPY_MODEL_f1002a9ee15a4c8394c8a73f042ca458",
            "max": 2,
            "min": 0,
            "orientation": "horizontal",
            "style": "IPY_MODEL_2b7d901f062247a3a8f68bae00445ce9",
            "value": 2
          }
        },
        "387090f0bae44210802485e2c2f83ff7": {
          "model_module": "@jupyter-widgets/controls",
          "model_name": "HTMLModel",
          "model_module_version": "1.5.0",
          "state": {
            "_dom_classes": [],
            "_model_module": "@jupyter-widgets/controls",
            "_model_module_version": "1.5.0",
            "_model_name": "HTMLModel",
            "_view_count": null,
            "_view_module": "@jupyter-widgets/controls",
            "_view_module_version": "1.5.0",
            "_view_name": "HTMLView",
            "description": "",
            "description_tooltip": null,
            "layout": "IPY_MODEL_6be9a20d48bd48989590ab75c84d9f9b",
            "placeholder": "​",
            "style": "IPY_MODEL_0485a29e915a4b6a8d1c4ba98aa8e486",
            "value": " 2/2 [00:00&lt;00:00,  5.47it/s]"
          }
        },
        "794724be394245278b6a49a8f0f00632": {
          "model_module": "@jupyter-widgets/base",
          "model_name": "LayoutModel",
          "model_module_version": "1.2.0",
          "state": {
            "_model_module": "@jupyter-widgets/base",
            "_model_module_version": "1.2.0",
            "_model_name": "LayoutModel",
            "_view_count": null,
            "_view_module": "@jupyter-widgets/base",
            "_view_module_version": "1.2.0",
            "_view_name": "LayoutView",
            "align_content": null,
            "align_items": null,
            "align_self": null,
            "border": null,
            "bottom": null,
            "display": null,
            "flex": null,
            "flex_flow": null,
            "grid_area": null,
            "grid_auto_columns": null,
            "grid_auto_flow": null,
            "grid_auto_rows": null,
            "grid_column": null,
            "grid_gap": null,
            "grid_row": null,
            "grid_template_areas": null,
            "grid_template_columns": null,
            "grid_template_rows": null,
            "height": null,
            "justify_content": null,
            "justify_items": null,
            "left": null,
            "margin": null,
            "max_height": null,
            "max_width": null,
            "min_height": null,
            "min_width": null,
            "object_fit": null,
            "object_position": null,
            "order": null,
            "overflow": null,
            "overflow_x": null,
            "overflow_y": null,
            "padding": null,
            "right": null,
            "top": null,
            "visibility": null,
            "width": null
          }
        },
        "22c80ce37e94471db4b3ca97b8cc9685": {
          "model_module": "@jupyter-widgets/base",
          "model_name": "LayoutModel",
          "model_module_version": "1.2.0",
          "state": {
            "_model_module": "@jupyter-widgets/base",
            "_model_module_version": "1.2.0",
            "_model_name": "LayoutModel",
            "_view_count": null,
            "_view_module": "@jupyter-widgets/base",
            "_view_module_version": "1.2.0",
            "_view_name": "LayoutView",
            "align_content": null,
            "align_items": null,
            "align_self": null,
            "border": null,
            "bottom": null,
            "display": null,
            "flex": null,
            "flex_flow": null,
            "grid_area": null,
            "grid_auto_columns": null,
            "grid_auto_flow": null,
            "grid_auto_rows": null,
            "grid_column": null,
            "grid_gap": null,
            "grid_row": null,
            "grid_template_areas": null,
            "grid_template_columns": null,
            "grid_template_rows": null,
            "height": null,
            "justify_content": null,
            "justify_items": null,
            "left": null,
            "margin": null,
            "max_height": null,
            "max_width": null,
            "min_height": null,
            "min_width": null,
            "object_fit": null,
            "object_position": null,
            "order": null,
            "overflow": null,
            "overflow_x": null,
            "overflow_y": null,
            "padding": null,
            "right": null,
            "top": null,
            "visibility": null,
            "width": null
          }
        },
        "b301df80d16a4191a7bc14edd37ffeae": {
          "model_module": "@jupyter-widgets/controls",
          "model_name": "DescriptionStyleModel",
          "model_module_version": "1.5.0",
          "state": {
            "_model_module": "@jupyter-widgets/controls",
            "_model_module_version": "1.5.0",
            "_model_name": "DescriptionStyleModel",
            "_view_count": null,
            "_view_module": "@jupyter-widgets/base",
            "_view_module_version": "1.2.0",
            "_view_name": "StyleView",
            "description_width": ""
          }
        },
        "f1002a9ee15a4c8394c8a73f042ca458": {
          "model_module": "@jupyter-widgets/base",
          "model_name": "LayoutModel",
          "model_module_version": "1.2.0",
          "state": {
            "_model_module": "@jupyter-widgets/base",
            "_model_module_version": "1.2.0",
            "_model_name": "LayoutModel",
            "_view_count": null,
            "_view_module": "@jupyter-widgets/base",
            "_view_module_version": "1.2.0",
            "_view_name": "LayoutView",
            "align_content": null,
            "align_items": null,
            "align_self": null,
            "border": null,
            "bottom": null,
            "display": null,
            "flex": null,
            "flex_flow": null,
            "grid_area": null,
            "grid_auto_columns": null,
            "grid_auto_flow": null,
            "grid_auto_rows": null,
            "grid_column": null,
            "grid_gap": null,
            "grid_row": null,
            "grid_template_areas": null,
            "grid_template_columns": null,
            "grid_template_rows": null,
            "height": null,
            "justify_content": null,
            "justify_items": null,
            "left": null,
            "margin": null,
            "max_height": null,
            "max_width": null,
            "min_height": null,
            "min_width": null,
            "object_fit": null,
            "object_position": null,
            "order": null,
            "overflow": null,
            "overflow_x": null,
            "overflow_y": null,
            "padding": null,
            "right": null,
            "top": null,
            "visibility": null,
            "width": null
          }
        },
        "2b7d901f062247a3a8f68bae00445ce9": {
          "model_module": "@jupyter-widgets/controls",
          "model_name": "ProgressStyleModel",
          "model_module_version": "1.5.0",
          "state": {
            "_model_module": "@jupyter-widgets/controls",
            "_model_module_version": "1.5.0",
            "_model_name": "ProgressStyleModel",
            "_view_count": null,
            "_view_module": "@jupyter-widgets/base",
            "_view_module_version": "1.2.0",
            "_view_name": "StyleView",
            "bar_color": null,
            "description_width": ""
          }
        },
        "6be9a20d48bd48989590ab75c84d9f9b": {
          "model_module": "@jupyter-widgets/base",
          "model_name": "LayoutModel",
          "model_module_version": "1.2.0",
          "state": {
            "_model_module": "@jupyter-widgets/base",
            "_model_module_version": "1.2.0",
            "_model_name": "LayoutModel",
            "_view_count": null,
            "_view_module": "@jupyter-widgets/base",
            "_view_module_version": "1.2.0",
            "_view_name": "LayoutView",
            "align_content": null,
            "align_items": null,
            "align_self": null,
            "border": null,
            "bottom": null,
            "display": null,
            "flex": null,
            "flex_flow": null,
            "grid_area": null,
            "grid_auto_columns": null,
            "grid_auto_flow": null,
            "grid_auto_rows": null,
            "grid_column": null,
            "grid_gap": null,
            "grid_row": null,
            "grid_template_areas": null,
            "grid_template_columns": null,
            "grid_template_rows": null,
            "height": null,
            "justify_content": null,
            "justify_items": null,
            "left": null,
            "margin": null,
            "max_height": null,
            "max_width": null,
            "min_height": null,
            "min_width": null,
            "object_fit": null,
            "object_position": null,
            "order": null,
            "overflow": null,
            "overflow_x": null,
            "overflow_y": null,
            "padding": null,
            "right": null,
            "top": null,
            "visibility": null,
            "width": null
          }
        },
        "0485a29e915a4b6a8d1c4ba98aa8e486": {
          "model_module": "@jupyter-widgets/controls",
          "model_name": "DescriptionStyleModel",
          "model_module_version": "1.5.0",
          "state": {
            "_model_module": "@jupyter-widgets/controls",
            "_model_module_version": "1.5.0",
            "_model_name": "DescriptionStyleModel",
            "_view_count": null,
            "_view_module": "@jupyter-widgets/base",
            "_view_module_version": "1.2.0",
            "_view_name": "StyleView",
            "description_width": ""
          }
        },
        "c70c23858e7e4fbcb99e6ba6de05663a": {
          "model_module": "@jupyter-widgets/controls",
          "model_name": "HBoxModel",
          "model_module_version": "1.5.0",
          "state": {
            "_dom_classes": [],
            "_model_module": "@jupyter-widgets/controls",
            "_model_module_version": "1.5.0",
            "_model_name": "HBoxModel",
            "_view_count": null,
            "_view_module": "@jupyter-widgets/controls",
            "_view_module_version": "1.5.0",
            "_view_name": "HBoxView",
            "box_style": "",
            "children": [
              "IPY_MODEL_f909c16d627341feb87961ca7b9300b3",
              "IPY_MODEL_a2d4ee478f3a4b308df5b9f8201dab6b",
              "IPY_MODEL_e1938e393cda4315a41a12d6fd6daa0d"
            ],
            "layout": "IPY_MODEL_2f09e96d89894b4d99f138bea74c5ef6"
          }
        },
        "f909c16d627341feb87961ca7b9300b3": {
          "model_module": "@jupyter-widgets/controls",
          "model_name": "HTMLModel",
          "model_module_version": "1.5.0",
          "state": {
            "_dom_classes": [],
            "_model_module": "@jupyter-widgets/controls",
            "_model_module_version": "1.5.0",
            "_model_name": "HTMLModel",
            "_view_count": null,
            "_view_module": "@jupyter-widgets/controls",
            "_view_module_version": "1.5.0",
            "_view_name": "HTMLView",
            "description": "",
            "description_tooltip": null,
            "layout": "IPY_MODEL_1206e94502754fd1a30aa0418136c1fe",
            "placeholder": "​",
            "style": "IPY_MODEL_51b071ebfda24ce4bf6b5aa99560d7f0",
            "value": "100%"
          }
        },
        "a2d4ee478f3a4b308df5b9f8201dab6b": {
          "model_module": "@jupyter-widgets/controls",
          "model_name": "FloatProgressModel",
          "model_module_version": "1.5.0",
          "state": {
            "_dom_classes": [],
            "_model_module": "@jupyter-widgets/controls",
            "_model_module_version": "1.5.0",
            "_model_name": "FloatProgressModel",
            "_view_count": null,
            "_view_module": "@jupyter-widgets/controls",
            "_view_module_version": "1.5.0",
            "_view_name": "ProgressView",
            "bar_style": "success",
            "description": "",
            "description_tooltip": null,
            "layout": "IPY_MODEL_23144d6a2524479490ff99a602f680d7",
            "max": 3,
            "min": 0,
            "orientation": "horizontal",
            "style": "IPY_MODEL_0c33cdbeeed946e4893352cf3fa05570",
            "value": 3
          }
        },
        "e1938e393cda4315a41a12d6fd6daa0d": {
          "model_module": "@jupyter-widgets/controls",
          "model_name": "HTMLModel",
          "model_module_version": "1.5.0",
          "state": {
            "_dom_classes": [],
            "_model_module": "@jupyter-widgets/controls",
            "_model_module_version": "1.5.0",
            "_model_name": "HTMLModel",
            "_view_count": null,
            "_view_module": "@jupyter-widgets/controls",
            "_view_module_version": "1.5.0",
            "_view_name": "HTMLView",
            "description": "",
            "description_tooltip": null,
            "layout": "IPY_MODEL_05b52aec5073422591feced61356a767",
            "placeholder": "​",
            "style": "IPY_MODEL_73812b0b00644f64bd2e28a062d572ac",
            "value": " 3/3 [01:55&lt;00:00, 27.47s/it]"
          }
        },
        "2f09e96d89894b4d99f138bea74c5ef6": {
          "model_module": "@jupyter-widgets/base",
          "model_name": "LayoutModel",
          "model_module_version": "1.2.0",
          "state": {
            "_model_module": "@jupyter-widgets/base",
            "_model_module_version": "1.2.0",
            "_model_name": "LayoutModel",
            "_view_count": null,
            "_view_module": "@jupyter-widgets/base",
            "_view_module_version": "1.2.0",
            "_view_name": "LayoutView",
            "align_content": null,
            "align_items": null,
            "align_self": null,
            "border": null,
            "bottom": null,
            "display": null,
            "flex": null,
            "flex_flow": null,
            "grid_area": null,
            "grid_auto_columns": null,
            "grid_auto_flow": null,
            "grid_auto_rows": null,
            "grid_column": null,
            "grid_gap": null,
            "grid_row": null,
            "grid_template_areas": null,
            "grid_template_columns": null,
            "grid_template_rows": null,
            "height": null,
            "justify_content": null,
            "justify_items": null,
            "left": null,
            "margin": null,
            "max_height": null,
            "max_width": null,
            "min_height": null,
            "min_width": null,
            "object_fit": null,
            "object_position": null,
            "order": null,
            "overflow": null,
            "overflow_x": null,
            "overflow_y": null,
            "padding": null,
            "right": null,
            "top": null,
            "visibility": null,
            "width": null
          }
        },
        "1206e94502754fd1a30aa0418136c1fe": {
          "model_module": "@jupyter-widgets/base",
          "model_name": "LayoutModel",
          "model_module_version": "1.2.0",
          "state": {
            "_model_module": "@jupyter-widgets/base",
            "_model_module_version": "1.2.0",
            "_model_name": "LayoutModel",
            "_view_count": null,
            "_view_module": "@jupyter-widgets/base",
            "_view_module_version": "1.2.0",
            "_view_name": "LayoutView",
            "align_content": null,
            "align_items": null,
            "align_self": null,
            "border": null,
            "bottom": null,
            "display": null,
            "flex": null,
            "flex_flow": null,
            "grid_area": null,
            "grid_auto_columns": null,
            "grid_auto_flow": null,
            "grid_auto_rows": null,
            "grid_column": null,
            "grid_gap": null,
            "grid_row": null,
            "grid_template_areas": null,
            "grid_template_columns": null,
            "grid_template_rows": null,
            "height": null,
            "justify_content": null,
            "justify_items": null,
            "left": null,
            "margin": null,
            "max_height": null,
            "max_width": null,
            "min_height": null,
            "min_width": null,
            "object_fit": null,
            "object_position": null,
            "order": null,
            "overflow": null,
            "overflow_x": null,
            "overflow_y": null,
            "padding": null,
            "right": null,
            "top": null,
            "visibility": null,
            "width": null
          }
        },
        "51b071ebfda24ce4bf6b5aa99560d7f0": {
          "model_module": "@jupyter-widgets/controls",
          "model_name": "DescriptionStyleModel",
          "model_module_version": "1.5.0",
          "state": {
            "_model_module": "@jupyter-widgets/controls",
            "_model_module_version": "1.5.0",
            "_model_name": "DescriptionStyleModel",
            "_view_count": null,
            "_view_module": "@jupyter-widgets/base",
            "_view_module_version": "1.2.0",
            "_view_name": "StyleView",
            "description_width": ""
          }
        },
        "23144d6a2524479490ff99a602f680d7": {
          "model_module": "@jupyter-widgets/base",
          "model_name": "LayoutModel",
          "model_module_version": "1.2.0",
          "state": {
            "_model_module": "@jupyter-widgets/base",
            "_model_module_version": "1.2.0",
            "_model_name": "LayoutModel",
            "_view_count": null,
            "_view_module": "@jupyter-widgets/base",
            "_view_module_version": "1.2.0",
            "_view_name": "LayoutView",
            "align_content": null,
            "align_items": null,
            "align_self": null,
            "border": null,
            "bottom": null,
            "display": null,
            "flex": null,
            "flex_flow": null,
            "grid_area": null,
            "grid_auto_columns": null,
            "grid_auto_flow": null,
            "grid_auto_rows": null,
            "grid_column": null,
            "grid_gap": null,
            "grid_row": null,
            "grid_template_areas": null,
            "grid_template_columns": null,
            "grid_template_rows": null,
            "height": null,
            "justify_content": null,
            "justify_items": null,
            "left": null,
            "margin": null,
            "max_height": null,
            "max_width": null,
            "min_height": null,
            "min_width": null,
            "object_fit": null,
            "object_position": null,
            "order": null,
            "overflow": null,
            "overflow_x": null,
            "overflow_y": null,
            "padding": null,
            "right": null,
            "top": null,
            "visibility": null,
            "width": null
          }
        },
        "0c33cdbeeed946e4893352cf3fa05570": {
          "model_module": "@jupyter-widgets/controls",
          "model_name": "ProgressStyleModel",
          "model_module_version": "1.5.0",
          "state": {
            "_model_module": "@jupyter-widgets/controls",
            "_model_module_version": "1.5.0",
            "_model_name": "ProgressStyleModel",
            "_view_count": null,
            "_view_module": "@jupyter-widgets/base",
            "_view_module_version": "1.2.0",
            "_view_name": "StyleView",
            "bar_color": null,
            "description_width": ""
          }
        },
        "05b52aec5073422591feced61356a767": {
          "model_module": "@jupyter-widgets/base",
          "model_name": "LayoutModel",
          "model_module_version": "1.2.0",
          "state": {
            "_model_module": "@jupyter-widgets/base",
            "_model_module_version": "1.2.0",
            "_model_name": "LayoutModel",
            "_view_count": null,
            "_view_module": "@jupyter-widgets/base",
            "_view_module_version": "1.2.0",
            "_view_name": "LayoutView",
            "align_content": null,
            "align_items": null,
            "align_self": null,
            "border": null,
            "bottom": null,
            "display": null,
            "flex": null,
            "flex_flow": null,
            "grid_area": null,
            "grid_auto_columns": null,
            "grid_auto_flow": null,
            "grid_auto_rows": null,
            "grid_column": null,
            "grid_gap": null,
            "grid_row": null,
            "grid_template_areas": null,
            "grid_template_columns": null,
            "grid_template_rows": null,
            "height": null,
            "justify_content": null,
            "justify_items": null,
            "left": null,
            "margin": null,
            "max_height": null,
            "max_width": null,
            "min_height": null,
            "min_width": null,
            "object_fit": null,
            "object_position": null,
            "order": null,
            "overflow": null,
            "overflow_x": null,
            "overflow_y": null,
            "padding": null,
            "right": null,
            "top": null,
            "visibility": null,
            "width": null
          }
        },
        "73812b0b00644f64bd2e28a062d572ac": {
          "model_module": "@jupyter-widgets/controls",
          "model_name": "DescriptionStyleModel",
          "model_module_version": "1.5.0",
          "state": {
            "_model_module": "@jupyter-widgets/controls",
            "_model_module_version": "1.5.0",
            "_model_name": "DescriptionStyleModel",
            "_view_count": null,
            "_view_module": "@jupyter-widgets/base",
            "_view_module_version": "1.2.0",
            "_view_name": "StyleView",
            "description_width": ""
          }
        },
        "c46635cbc5cd47c29c513204eb9d1714": {
          "model_module": "@jupyter-widgets/controls",
          "model_name": "HBoxModel",
          "model_module_version": "1.5.0",
          "state": {
            "_dom_classes": [],
            "_model_module": "@jupyter-widgets/controls",
            "_model_module_version": "1.5.0",
            "_model_name": "HBoxModel",
            "_view_count": null,
            "_view_module": "@jupyter-widgets/controls",
            "_view_module_version": "1.5.0",
            "_view_name": "HBoxView",
            "box_style": "",
            "children": [
              "IPY_MODEL_b104b88853fc41b1bd084dfa809f80db",
              "IPY_MODEL_4eaba82b0b8e4fa6b35ec1485cdcdab6",
              "IPY_MODEL_7b0cdcf31ac742209a28c38317dced58"
            ],
            "layout": "IPY_MODEL_6f4b117746ca433bb4214c0201384c51"
          }
        },
        "b104b88853fc41b1bd084dfa809f80db": {
          "model_module": "@jupyter-widgets/controls",
          "model_name": "HTMLModel",
          "model_module_version": "1.5.0",
          "state": {
            "_dom_classes": [],
            "_model_module": "@jupyter-widgets/controls",
            "_model_module_version": "1.5.0",
            "_model_name": "HTMLModel",
            "_view_count": null,
            "_view_module": "@jupyter-widgets/controls",
            "_view_module_version": "1.5.0",
            "_view_name": "HTMLView",
            "description": "",
            "description_tooltip": null,
            "layout": "IPY_MODEL_937de16ce70d4fe2a52727d21c70cb8d",
            "placeholder": "​",
            "style": "IPY_MODEL_a22c85810a0940d59ae313e753d38efb",
            "value": "100%"
          }
        },
        "4eaba82b0b8e4fa6b35ec1485cdcdab6": {
          "model_module": "@jupyter-widgets/controls",
          "model_name": "FloatProgressModel",
          "model_module_version": "1.5.0",
          "state": {
            "_dom_classes": [],
            "_model_module": "@jupyter-widgets/controls",
            "_model_module_version": "1.5.0",
            "_model_name": "FloatProgressModel",
            "_view_count": null,
            "_view_module": "@jupyter-widgets/controls",
            "_view_module_version": "1.5.0",
            "_view_name": "ProgressView",
            "bar_style": "success",
            "description": "",
            "description_tooltip": null,
            "layout": "IPY_MODEL_1a84eca0939e4d69aa5c0216d2ce7162",
            "max": 2,
            "min": 0,
            "orientation": "horizontal",
            "style": "IPY_MODEL_9f60db89c52c43f19fe3742d6d2b2f11",
            "value": 2
          }
        },
        "7b0cdcf31ac742209a28c38317dced58": {
          "model_module": "@jupyter-widgets/controls",
          "model_name": "HTMLModel",
          "model_module_version": "1.5.0",
          "state": {
            "_dom_classes": [],
            "_model_module": "@jupyter-widgets/controls",
            "_model_module_version": "1.5.0",
            "_model_name": "HTMLModel",
            "_view_count": null,
            "_view_module": "@jupyter-widgets/controls",
            "_view_module_version": "1.5.0",
            "_view_name": "HTMLView",
            "description": "",
            "description_tooltip": null,
            "layout": "IPY_MODEL_af58d14fb0fc4c01bea997766498449f",
            "placeholder": "​",
            "style": "IPY_MODEL_1db569ba1cf44785b10907acb5ac6724",
            "value": " 2/2 [00:00&lt;00:00,  7.04it/s]"
          }
        },
        "6f4b117746ca433bb4214c0201384c51": {
          "model_module": "@jupyter-widgets/base",
          "model_name": "LayoutModel",
          "model_module_version": "1.2.0",
          "state": {
            "_model_module": "@jupyter-widgets/base",
            "_model_module_version": "1.2.0",
            "_model_name": "LayoutModel",
            "_view_count": null,
            "_view_module": "@jupyter-widgets/base",
            "_view_module_version": "1.2.0",
            "_view_name": "LayoutView",
            "align_content": null,
            "align_items": null,
            "align_self": null,
            "border": null,
            "bottom": null,
            "display": null,
            "flex": null,
            "flex_flow": null,
            "grid_area": null,
            "grid_auto_columns": null,
            "grid_auto_flow": null,
            "grid_auto_rows": null,
            "grid_column": null,
            "grid_gap": null,
            "grid_row": null,
            "grid_template_areas": null,
            "grid_template_columns": null,
            "grid_template_rows": null,
            "height": null,
            "justify_content": null,
            "justify_items": null,
            "left": null,
            "margin": null,
            "max_height": null,
            "max_width": null,
            "min_height": null,
            "min_width": null,
            "object_fit": null,
            "object_position": null,
            "order": null,
            "overflow": null,
            "overflow_x": null,
            "overflow_y": null,
            "padding": null,
            "right": null,
            "top": null,
            "visibility": null,
            "width": null
          }
        },
        "937de16ce70d4fe2a52727d21c70cb8d": {
          "model_module": "@jupyter-widgets/base",
          "model_name": "LayoutModel",
          "model_module_version": "1.2.0",
          "state": {
            "_model_module": "@jupyter-widgets/base",
            "_model_module_version": "1.2.0",
            "_model_name": "LayoutModel",
            "_view_count": null,
            "_view_module": "@jupyter-widgets/base",
            "_view_module_version": "1.2.0",
            "_view_name": "LayoutView",
            "align_content": null,
            "align_items": null,
            "align_self": null,
            "border": null,
            "bottom": null,
            "display": null,
            "flex": null,
            "flex_flow": null,
            "grid_area": null,
            "grid_auto_columns": null,
            "grid_auto_flow": null,
            "grid_auto_rows": null,
            "grid_column": null,
            "grid_gap": null,
            "grid_row": null,
            "grid_template_areas": null,
            "grid_template_columns": null,
            "grid_template_rows": null,
            "height": null,
            "justify_content": null,
            "justify_items": null,
            "left": null,
            "margin": null,
            "max_height": null,
            "max_width": null,
            "min_height": null,
            "min_width": null,
            "object_fit": null,
            "object_position": null,
            "order": null,
            "overflow": null,
            "overflow_x": null,
            "overflow_y": null,
            "padding": null,
            "right": null,
            "top": null,
            "visibility": null,
            "width": null
          }
        },
        "a22c85810a0940d59ae313e753d38efb": {
          "model_module": "@jupyter-widgets/controls",
          "model_name": "DescriptionStyleModel",
          "model_module_version": "1.5.0",
          "state": {
            "_model_module": "@jupyter-widgets/controls",
            "_model_module_version": "1.5.0",
            "_model_name": "DescriptionStyleModel",
            "_view_count": null,
            "_view_module": "@jupyter-widgets/base",
            "_view_module_version": "1.2.0",
            "_view_name": "StyleView",
            "description_width": ""
          }
        },
        "1a84eca0939e4d69aa5c0216d2ce7162": {
          "model_module": "@jupyter-widgets/base",
          "model_name": "LayoutModel",
          "model_module_version": "1.2.0",
          "state": {
            "_model_module": "@jupyter-widgets/base",
            "_model_module_version": "1.2.0",
            "_model_name": "LayoutModel",
            "_view_count": null,
            "_view_module": "@jupyter-widgets/base",
            "_view_module_version": "1.2.0",
            "_view_name": "LayoutView",
            "align_content": null,
            "align_items": null,
            "align_self": null,
            "border": null,
            "bottom": null,
            "display": null,
            "flex": null,
            "flex_flow": null,
            "grid_area": null,
            "grid_auto_columns": null,
            "grid_auto_flow": null,
            "grid_auto_rows": null,
            "grid_column": null,
            "grid_gap": null,
            "grid_row": null,
            "grid_template_areas": null,
            "grid_template_columns": null,
            "grid_template_rows": null,
            "height": null,
            "justify_content": null,
            "justify_items": null,
            "left": null,
            "margin": null,
            "max_height": null,
            "max_width": null,
            "min_height": null,
            "min_width": null,
            "object_fit": null,
            "object_position": null,
            "order": null,
            "overflow": null,
            "overflow_x": null,
            "overflow_y": null,
            "padding": null,
            "right": null,
            "top": null,
            "visibility": null,
            "width": null
          }
        },
        "9f60db89c52c43f19fe3742d6d2b2f11": {
          "model_module": "@jupyter-widgets/controls",
          "model_name": "ProgressStyleModel",
          "model_module_version": "1.5.0",
          "state": {
            "_model_module": "@jupyter-widgets/controls",
            "_model_module_version": "1.5.0",
            "_model_name": "ProgressStyleModel",
            "_view_count": null,
            "_view_module": "@jupyter-widgets/base",
            "_view_module_version": "1.2.0",
            "_view_name": "StyleView",
            "bar_color": null,
            "description_width": ""
          }
        },
        "af58d14fb0fc4c01bea997766498449f": {
          "model_module": "@jupyter-widgets/base",
          "model_name": "LayoutModel",
          "model_module_version": "1.2.0",
          "state": {
            "_model_module": "@jupyter-widgets/base",
            "_model_module_version": "1.2.0",
            "_model_name": "LayoutModel",
            "_view_count": null,
            "_view_module": "@jupyter-widgets/base",
            "_view_module_version": "1.2.0",
            "_view_name": "LayoutView",
            "align_content": null,
            "align_items": null,
            "align_self": null,
            "border": null,
            "bottom": null,
            "display": null,
            "flex": null,
            "flex_flow": null,
            "grid_area": null,
            "grid_auto_columns": null,
            "grid_auto_flow": null,
            "grid_auto_rows": null,
            "grid_column": null,
            "grid_gap": null,
            "grid_row": null,
            "grid_template_areas": null,
            "grid_template_columns": null,
            "grid_template_rows": null,
            "height": null,
            "justify_content": null,
            "justify_items": null,
            "left": null,
            "margin": null,
            "max_height": null,
            "max_width": null,
            "min_height": null,
            "min_width": null,
            "object_fit": null,
            "object_position": null,
            "order": null,
            "overflow": null,
            "overflow_x": null,
            "overflow_y": null,
            "padding": null,
            "right": null,
            "top": null,
            "visibility": null,
            "width": null
          }
        },
        "1db569ba1cf44785b10907acb5ac6724": {
          "model_module": "@jupyter-widgets/controls",
          "model_name": "DescriptionStyleModel",
          "model_module_version": "1.5.0",
          "state": {
            "_model_module": "@jupyter-widgets/controls",
            "_model_module_version": "1.5.0",
            "_model_name": "DescriptionStyleModel",
            "_view_count": null,
            "_view_module": "@jupyter-widgets/base",
            "_view_module_version": "1.2.0",
            "_view_name": "StyleView",
            "description_width": ""
          }
        }
      }
    }
  },
  "nbformat": 4,
  "nbformat_minor": 0
}